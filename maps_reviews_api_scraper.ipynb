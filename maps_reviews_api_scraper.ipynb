{
  "cells": [
    {
      "cell_type": "markdown",
      "metadata": {
        "id": "view-in-github",
        "colab_type": "text"
      },
      "source": [
        "<a href=\"https://colab.research.google.com/github/brusangues/maps-reviews-api-scraper/blob/master/maps_reviews_api_scraper.ipynb\" target=\"_parent\"><img src=\"https://colab.research.google.com/assets/colab-badge.svg\" alt=\"Open In Colab\"/></a>"
      ]
    },
    {
      "cell_type": "code",
      "source": [
        "!git clone https://github.com/brusangues/maps-reviews-api-scraper"
      ],
      "metadata": {
        "id": "-u7qkXtwISYD",
        "outputId": "81351b31-59b0-4cfb-d5a8-3e02da5d3e77",
        "colab": {
          "base_uri": "https://localhost:8080/"
        }
      },
      "execution_count": null,
      "outputs": [
        {
          "output_type": "stream",
          "name": "stdout",
          "text": [
            "Cloning into 'maps-reviews-api-scraper'...\n",
            "remote: Enumerating objects: 179, done.\u001b[K\n",
            "remote: Counting objects: 100% (179/179), done.\u001b[K\n",
            "remote: Compressing objects: 100% (106/106), done.\u001b[K\n",
            "remote: Total 179 (delta 98), reused 144 (delta 63), pack-reused 0\u001b[K\n",
            "Receiving objects: 100% (179/179), 147.08 KiB | 3.13 MiB/s, done.\n",
            "Resolving deltas: 100% (98/98), done.\n"
          ]
        }
      ]
    },
    {
      "cell_type": "code",
      "source": [
        "%cd maps-reviews-api-scraper"
      ],
      "metadata": {
        "id": "Zhn3B3meIVnz",
        "outputId": "41f8c005-c74d-4e87-b615-49ba77d851a6",
        "colab": {
          "base_uri": "https://localhost:8080/"
        }
      },
      "execution_count": null,
      "outputs": [
        {
          "output_type": "stream",
          "name": "stdout",
          "text": [
            "/content/maps-reviews-api-scraper\n"
          ]
        }
      ]
    },
    {
      "cell_type": "code",
      "source": [
        "!pip install -r requirements.txt"
      ],
      "metadata": {
        "id": "iuvTZhRAJC9Q"
      },
      "execution_count": null,
      "outputs": []
    },
    {
      "cell_type": "code",
      "source": [
        "!python -m app run-async --path input/test.csv"
      ],
      "metadata": {
        "id": "OyySIeEFJQrS",
        "outputId": "328f2a46-3f3e-46be-d40d-ed8b6f74f644",
        "colab": {
          "base_uri": "https://localhost:8080/"
        }
      },
      "execution_count": null,
      "outputs": [
        {
          "output_type": "stream",
          "name": "stdout",
          "text": [
            "Running async\n",
            "folder created\n",
            "folder created\n",
            "\u001b[38;20m2022-11-29 20:47:46,277 INFO    215 [scrape_place] (scraper.py:470): Scraping url: Pousada Itararé\u001b[0m\n",
            "\u001b[38;20m2022-11-29 20:47:46,278 INFO    216 [scrape_place] (scraper.py:470): Scraping url: Wish Foz do Iguaçu\u001b[0m\n",
            "\u001b[38;20m2022-11-29 20:47:46,279 INFO    215 [scrape_place] (scraper.py:474): Parsing metadata...\u001b[0m\n",
            "\u001b[38;20m2022-11-29 20:47:46,280 INFO    216 [scrape_place] (scraper.py:474): Parsing metadata...\u001b[0m\n",
            "header written\n",
            "\u001b[38;20m2022-11-29 20:47:46,669 INFO    215 [scrape_reviews] (scraper.py:379): Scraping url: Pousada Itararé\u001b[0m\n",
            "\u001b[38;20m2022-11-29 20:47:46,669 INFO    215 [scrape_reviews] (scraper.py:389): Pousada Itararé; Request:        0; review:        0\u001b[0m\n",
            "header written\n",
            "\u001b[38;20m2022-11-29 20:47:46,727 INFO    216 [scrape_reviews] (scraper.py:379): Scraping url: Wish Foz do Iguaçu\u001b[0m\n",
            "\u001b[38;20m2022-11-29 20:47:46,728 INFO    216 [scrape_reviews] (scraper.py:389): Wish Foz do Iguaçu; Request:        0; review:        0\u001b[0m\n",
            "\u001b[38;20m2022-11-29 20:47:47,666 INFO    215 [scrape_reviews] (scraper.py:389): Pousada Itararé; Request:        1; review:       10\u001b[0m\n",
            "\u001b[38;20m2022-11-29 20:47:47,702 INFO    216 [scrape_reviews] (scraper.py:389): Wish Foz do Iguaçu; Request:        1; review:       10\u001b[0m\n",
            "\u001b[38;20m2022-11-29 20:47:48,564 INFO    215 [scrape_reviews] (scraper.py:454): Done Scraping Reviews\n",
            "Requests made: 2\n",
            "Reviews parsed: 20\u001b[0m\n",
            "\u001b[38;20m2022-11-29 20:47:48,641 INFO    216 [scrape_reviews] (scraper.py:454): Done Scraping Reviews\n",
            "Requests made: 2\n",
            "Reviews parsed: 20\u001b[0m\n",
            "Finished running scraper async\n",
            "name:test pousada ita; place_name:Pousada Itararé ; n_reviews_max:   115; n_reviews_scraped:    20; n_errors:0\n",
            "name:Wish Foz do Igua; place_name:Wish Foz do Igua; n_reviews_max:  5289; n_reviews_scraped:    20; n_errors:0\n"
          ]
        }
      ]
    }
  ],
  "metadata": {
    "colab": {
      "provenance": [],
      "include_colab_link": true
    },
    "kernelspec": {
      "display_name": "Python 3",
      "name": "python3"
    }
  },
  "nbformat": 4,
  "nbformat_minor": 0
}
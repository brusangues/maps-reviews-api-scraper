{
  "cells": [
    {
      "cell_type": "markdown",
      "metadata": {
        "colab_type": "text",
        "id": "view-in-github"
      },
      "source": [
        "<a href=\"https://colab.research.google.com/github/brusangues/maps-reviews-api-scraper/blob/reorganization/1_maps_reviews_api_scraper.ipynb\" target=\"_parent\"><img src=\"https://colab.research.google.com/assets/colab-badge.svg\" alt=\"Open In Colab\"/></a>"
      ]
    },
    {
      "cell_type": "markdown",
      "metadata": {
        "id": "IBBShi00DHPl"
      },
      "source": [
        "# 1. Dados Textuais"
      ]
    },
    {
      "cell_type": "markdown",
      "metadata": {
        "id": "XNou0yqsDHPo"
      },
      "source": [
        "Utilizaremos uma ferramenta scraper para obter dados de texto de avaliações de hotéis no Google Maps.\n",
        "Depois, faremos um tratamento básico desses dados."
      ]
    },
    {
      "cell_type": "markdown",
      "metadata": {},
      "source": [
        "## 1.1. Utilizando o Scraper para extração de Dados"
      ]
    },
    {
      "cell_type": "code",
      "execution_count": 1,
      "metadata": {
        "colab": {
          "base_uri": "https://localhost:8080/"
        },
        "id": "-u7qkXtwISYD",
        "outputId": "921c786d-a7b4-4d09-b28c-4953b40ca9c1"
      },
      "outputs": [
        {
          "name": "stdout",
          "output_type": "stream",
          "text": [
            "fatal: destination path 'maps-reviews-api-scraper' already exists and is not an empty directory.\n"
          ]
        }
      ],
      "source": [
        "!git clone --branch reorganization https://github.com/brusangues/maps-reviews-api-scraper"
      ]
    },
    {
      "cell_type": "code",
      "execution_count": 2,
      "metadata": {
        "colab": {
          "base_uri": "https://localhost:8080/"
        },
        "id": "Zhn3B3meIVnz",
        "outputId": "a82ea82b-5f79-4c1d-ec03-a927e9006801"
      },
      "outputs": [
        {
          "name": "stdout",
          "output_type": "stream",
          "text": [
            "/content/maps-reviews-api-scraper\n"
          ]
        }
      ],
      "source": [
        "%cd /content/maps-reviews-api-scraper"
      ]
    },
    {
      "cell_type": "code",
      "execution_count": 3,
      "metadata": {
        "colab": {
          "base_uri": "https://localhost:8080/"
        },
        "id": "iuvTZhRAJC9Q",
        "outputId": "1e0fc392-e323-4976-c399-648fca2c76a0"
      },
      "outputs": [
        {
          "name": "stdout",
          "output_type": "stream",
          "text": [
            "Requirement already satisfied: pandas in /usr/local/lib/python3.10/dist-packages (from -r requirements.txt (line 1)) (1.5.3)\n",
            "Requirement already satisfied: beautifulsoup4 in /usr/local/lib/python3.10/dist-packages (from -r requirements.txt (line 2)) (4.11.2)\n",
            "Requirement already satisfied: lxml in /usr/local/lib/python3.10/dist-packages (from -r requirements.txt (line 3)) (4.9.3)\n",
            "Requirement already satisfied: regex in /usr/local/lib/python3.10/dist-packages (from -r requirements.txt (line 4)) (2023.6.3)\n",
            "Requirement already satisfied: requests in /usr/local/lib/python3.10/dist-packages (from -r requirements.txt (line 5)) (2.31.0)\n",
            "Requirement already satisfied: typer in /usr/local/lib/python3.10/dist-packages (from -r requirements.txt (line 6)) (0.9.0)\n",
            "Requirement already satisfied: openpyxl in /usr/local/lib/python3.10/dist-packages (from -r requirements.txt (line 7)) (3.1.2)\n",
            "Requirement already satisfied: pyarrow in /usr/local/lib/python3.10/dist-packages (from -r requirements.txt (line 8)) (9.0.0)\n",
            "Requirement already satisfied: unidecode in /usr/local/lib/python3.10/dist-packages (from -r requirements.txt (line 9)) (1.3.7)\n",
            "Requirement already satisfied: dateutils in /usr/local/lib/python3.10/dist-packages (from -r requirements.txt (line 10)) (0.6.12)\n",
            "Requirement already satisfied: plotly in /usr/local/lib/python3.10/dist-packages (from -r requirements.txt (line 11)) (5.15.0)\n",
            "Requirement already satisfied: python-dateutil>=2.8.1 in /usr/local/lib/python3.10/dist-packages (from pandas->-r requirements.txt (line 1)) (2.8.2)\n",
            "Requirement already satisfied: pytz>=2020.1 in /usr/local/lib/python3.10/dist-packages (from pandas->-r requirements.txt (line 1)) (2023.3.post1)\n",
            "Requirement already satisfied: numpy>=1.21.0 in /usr/local/lib/python3.10/dist-packages (from pandas->-r requirements.txt (line 1)) (1.23.5)\n",
            "Requirement already satisfied: soupsieve>1.2 in /usr/local/lib/python3.10/dist-packages (from beautifulsoup4->-r requirements.txt (line 2)) (2.5)\n",
            "Requirement already satisfied: charset-normalizer<4,>=2 in /usr/local/lib/python3.10/dist-packages (from requests->-r requirements.txt (line 5)) (3.3.0)\n",
            "Requirement already satisfied: idna<4,>=2.5 in /usr/local/lib/python3.10/dist-packages (from requests->-r requirements.txt (line 5)) (3.4)\n",
            "Requirement already satisfied: urllib3<3,>=1.21.1 in /usr/local/lib/python3.10/dist-packages (from requests->-r requirements.txt (line 5)) (2.0.6)\n",
            "Requirement already satisfied: certifi>=2017.4.17 in /usr/local/lib/python3.10/dist-packages (from requests->-r requirements.txt (line 5)) (2023.7.22)\n",
            "Requirement already satisfied: click<9.0.0,>=7.1.1 in /usr/local/lib/python3.10/dist-packages (from typer->-r requirements.txt (line 6)) (8.1.7)\n",
            "Requirement already satisfied: typing-extensions>=3.7.4.3 in /usr/local/lib/python3.10/dist-packages (from typer->-r requirements.txt (line 6)) (4.5.0)\n",
            "Requirement already satisfied: et-xmlfile in /usr/local/lib/python3.10/dist-packages (from openpyxl->-r requirements.txt (line 7)) (1.1.0)\n",
            "Requirement already satisfied: tenacity>=6.2.0 in /usr/local/lib/python3.10/dist-packages (from plotly->-r requirements.txt (line 11)) (8.2.3)\n",
            "Requirement already satisfied: packaging in /usr/local/lib/python3.10/dist-packages (from plotly->-r requirements.txt (line 11)) (23.2)\n",
            "Requirement already satisfied: six>=1.5 in /usr/local/lib/python3.10/dist-packages (from python-dateutil>=2.8.1->pandas->-r requirements.txt (line 1)) (1.16.0)\n"
          ]
        }
      ],
      "source": [
        "!pip install -r requirements.txt"
      ]
    },
    {
      "cell_type": "code",
      "execution_count": 4,
      "metadata": {
        "colab": {
          "base_uri": "https://localhost:8080/"
        },
        "id": "k_gfRy_DDdQH",
        "outputId": "cdc92472-daa0-4e38-d675-f02f6d9c38f5"
      },
      "outputs": [
        {
          "name": "stdout",
          "output_type": "stream",
          "text": [
            "/content/maps-reviews-api-scraper/scraper\n"
          ]
        }
      ],
      "source": [
        "%cd /content/maps-reviews-api-scraper/scraper"
      ]
    },
    {
      "cell_type": "code",
      "execution_count": 5,
      "metadata": {
        "colab": {
          "base_uri": "https://localhost:8080/"
        },
        "id": "OyySIeEFJQrS",
        "outputId": "3d59dd68-a16c-49a7-803b-be6fb4422020"
      },
      "outputs": [
        {
          "name": "stdout",
          "output_type": "stream",
          "text": [
            "\u001b[38;20m2023-10-17 14:35:27,324 INFO   1179 [    call_pools] (app.py: 46): - Running async\u001b[0m\n",
            "\u001b[38;20m2023-10-17 14:35:27,383 INFO   1201 [  call_scraper] (app.py: 84): - folder created\u001b[0m\n",
            "\u001b[38;20m2023-10-17 14:35:27,387 INFO   1202 [  call_scraper] (app.py: 84): - folder created\u001b[0m\n",
            "\u001b[38;20m2023-10-17 14:35:27,391 INFO   1202 [  scrape_place] (scraper.py:476): Wish Foz do Igua - Scraping metadata for url: Wish Foz do Iguaçu\u001b[0m\n",
            "\u001b[38;20m2023-10-17 14:35:27,392 INFO   1202 [  scrape_place] (scraper.py:480): Wish Foz do Igua - Parsing metadata...\u001b[0m\n",
            "\u001b[38;20m2023-10-17 14:35:27,395 INFO   1201 [  scrape_place] (scraper.py:476): Pousada Itararé  - Scraping metadata for url: Pousada Itararé\u001b[0m\n",
            "\u001b[38;20m2023-10-17 14:35:27,396 INFO   1201 [  scrape_place] (scraper.py:480): Pousada Itararé  - Parsing metadata...\u001b[0m\n",
            "\u001b[31;20m2023-10-17 14:35:28,132 ERROR   1201 [  _parse_place] (scraper.py:183): Pousada Itararé  - error parsing place: place_name\u001b[0m\n",
            "\u001b[31;20m2023-10-17 14:35:28,133 ERROR   1201 [  _parse_place] (scraper.py:184): Pousada Itararé  - 'NoneType' object has no attribute 'text'\u001b[0m\n",
            "Traceback (most recent call last):\n",
            "  File \"/content/maps-reviews-api-scraper/scraper/src/scraper.py\", line 181, in _parse_place\n",
            "    metadata[\"place_name\"] = response.find(True, class_=\"P5Bobd\").text\n",
            "AttributeError: 'NoneType' object has no attribute 'text'\n",
            "\u001b[31;20m2023-10-17 14:35:28,157 ERROR   1201 [  _parse_place] (scraper.py:190): Pousada Itararé  - error parsing place: address\u001b[0m\n",
            "\u001b[31;20m2023-10-17 14:35:28,158 ERROR   1201 [  _parse_place] (scraper.py:191): Pousada Itararé  - 'NoneType' object has no attribute 'text'\u001b[0m\n",
            "Traceback (most recent call last):\n",
            "  File \"/content/maps-reviews-api-scraper/scraper/src/scraper.py\", line 188, in _parse_place\n",
            "    metadata[\"address\"] = response.find(True, class_=\"T6pBCe\").text\n",
            "AttributeError: 'NoneType' object has no attribute 'text'\n",
            "\u001b[38;20m2023-10-17 14:35:28,168 INFO   1201 [  call_scraper] (app.py:120): Pousada Itararé  - header written\u001b[0m\n",
            "\u001b[38;20m2023-10-17 14:35:28,169 INFO   1201 [scrape_reviews] (scraper.py:384): Pousada Itararé  - Scraping reviews for url: Pousada Itararé\u001b[0m\n",
            "\u001b[38;20m2023-10-17 14:35:28,169 INFO   1201 [scrape_reviews] (scraper.py:394): Pousada Itararé  - Request:        0; review:        0\u001b[0m\n",
            "\u001b[31;20m2023-10-17 14:35:28,419 ERROR   1202 [  _parse_place] (scraper.py:183): Wish Foz do Igua - error parsing place: place_name\u001b[0m\n",
            "\u001b[31;20m2023-10-17 14:35:28,420 ERROR   1202 [  _parse_place] (scraper.py:184): Wish Foz do Igua - 'NoneType' object has no attribute 'text'\u001b[0m\n",
            "Traceback (most recent call last):\n",
            "  File \"/content/maps-reviews-api-scraper/scraper/src/scraper.py\", line 181, in _parse_place\n",
            "    metadata[\"place_name\"] = response.find(True, class_=\"P5Bobd\").text\n",
            "AttributeError: 'NoneType' object has no attribute 'text'\n",
            "\u001b[31;20m2023-10-17 14:35:28,465 ERROR   1202 [  _parse_place] (scraper.py:190): Wish Foz do Igua - error parsing place: address\u001b[0m\n",
            "\u001b[31;20m2023-10-17 14:35:28,465 ERROR   1202 [  _parse_place] (scraper.py:191): Wish Foz do Igua - 'NoneType' object has no attribute 'text'\u001b[0m\n",
            "Traceback (most recent call last):\n",
            "  File \"/content/maps-reviews-api-scraper/scraper/src/scraper.py\", line 188, in _parse_place\n",
            "    metadata[\"address\"] = response.find(True, class_=\"T6pBCe\").text\n",
            "AttributeError: 'NoneType' object has no attribute 'text'\n",
            "\u001b[38;20m2023-10-17 14:35:28,469 INFO   1202 [  call_scraper] (app.py:120): Wish Foz do Igua - header written\u001b[0m\n",
            "\u001b[38;20m2023-10-17 14:35:28,469 INFO   1202 [scrape_reviews] (scraper.py:384): Wish Foz do Igua - Scraping reviews for url: Wish Foz do Iguaçu\u001b[0m\n",
            "\u001b[38;20m2023-10-17 14:35:28,470 INFO   1202 [scrape_reviews] (scraper.py:394): Wish Foz do Igua - Request:        0; review:        0\u001b[0m\n",
            "\u001b[31;20m2023-10-17 14:35:29,206 ERROR   1201 [_handle_review_exception] (scraper.py:242): Pousada Itararé  - review rating: Traceback (most recent call last):   File \"/content/maps-reviews-api-scraper/scraper/src/scraper.py\", line 284, in _parse_review     rating_text = review.find(True, class_=\"Fam1ne EBe2gf\").get(\"aria-label\") AttributeError: 'NoneType' object has no attribute 'get' \u001b[0m\n",
            "\u001b[31;20m2023-10-17 14:35:29,261 ERROR   1201 [_handle_review_exception] (scraper.py:242): Pousada Itararé  - review rating: Traceback (most recent call last):   File \"/content/maps-reviews-api-scraper/scraper/src/scraper.py\", line 284, in _parse_review     rating_text = review.find(True, class_=\"Fam1ne EBe2gf\").get(\"aria-label\") AttributeError: 'NoneType' object has no attribute 'get' \u001b[0m\n",
            "\u001b[31;20m2023-10-17 14:35:29,292 ERROR   1201 [_handle_review_exception] (scraper.py:242): Pousada Itararé  - review rating: Traceback (most recent call last):   File \"/content/maps-reviews-api-scraper/scraper/src/scraper.py\", line 284, in _parse_review     rating_text = review.find(True, class_=\"Fam1ne EBe2gf\").get(\"aria-label\") AttributeError: 'NoneType' object has no attribute 'get' \u001b[0m\n",
            "\u001b[31;20m2023-10-17 14:35:29,331 ERROR   1201 [_handle_review_exception] (scraper.py:242): Pousada Itararé  - review rating: Traceback (most recent call last):   File \"/content/maps-reviews-api-scraper/scraper/src/scraper.py\", line 284, in _parse_review     rating_text = review.find(True, class_=\"Fam1ne EBe2gf\").get(\"aria-label\") AttributeError: 'NoneType' object has no attribute 'get' \u001b[0m\n",
            "\u001b[31;20m2023-10-17 14:35:29,370 ERROR   1201 [_handle_review_exception] (scraper.py:242): Pousada Itararé  - review rating: Traceback (most recent call last):   File \"/content/maps-reviews-api-scraper/scraper/src/scraper.py\", line 284, in _parse_review     rating_text = review.find(True, class_=\"Fam1ne EBe2gf\").get(\"aria-label\") AttributeError: 'NoneType' object has no attribute 'get' \u001b[0m\n",
            "\u001b[31;20m2023-10-17 14:35:29,393 ERROR   1201 [_handle_review_exception] (scraper.py:242): Pousada Itararé  - review rating: Traceback (most recent call last):   File \"/content/maps-reviews-api-scraper/scraper/src/scraper.py\", line 284, in _parse_review     rating_text = review.find(True, class_=\"Fam1ne EBe2gf\").get(\"aria-label\") AttributeError: 'NoneType' object has no attribute 'get' \u001b[0m\n",
            "\u001b[31;20m2023-10-17 14:35:29,416 ERROR   1201 [_handle_review_exception] (scraper.py:242): Pousada Itararé  - review rating: Traceback (most recent call last):   File \"/content/maps-reviews-api-scraper/scraper/src/scraper.py\", line 284, in _parse_review     rating_text = review.find(True, class_=\"Fam1ne EBe2gf\").get(\"aria-label\") AttributeError: 'NoneType' object has no attribute 'get' \u001b[0m\n",
            "\u001b[31;20m2023-10-17 14:35:29,443 ERROR   1201 [_handle_review_exception] (scraper.py:242): Pousada Itararé  - review rating: Traceback (most recent call last):   File \"/content/maps-reviews-api-scraper/scraper/src/scraper.py\", line 284, in _parse_review     rating_text = review.find(True, class_=\"Fam1ne EBe2gf\").get(\"aria-label\") AttributeError: 'NoneType' object has no attribute 'get' \u001b[0m\n",
            "\u001b[31;20m2023-10-17 14:35:29,488 ERROR   1201 [_handle_review_exception] (scraper.py:242): Pousada Itararé  - review rating: Traceback (most recent call last):   File \"/content/maps-reviews-api-scraper/scraper/src/scraper.py\", line 284, in _parse_review     rating_text = review.find(True, class_=\"Fam1ne EBe2gf\").get(\"aria-label\") AttributeError: 'NoneType' object has no attribute 'get' \u001b[0m\n",
            "\u001b[31;20m2023-10-17 14:35:29,524 ERROR   1202 [_handle_review_exception] (scraper.py:242): Wish Foz do Igua - review rating: Traceback (most recent call last):   File \"/content/maps-reviews-api-scraper/scraper/src/scraper.py\", line 284, in _parse_review     rating_text = review.find(True, class_=\"Fam1ne EBe2gf\").get(\"aria-label\") AttributeError: 'NoneType' object has no attribute 'get' \u001b[0m\n",
            "\u001b[31;20m2023-10-17 14:35:29,538 ERROR   1201 [_handle_review_exception] (scraper.py:242): Pousada Itararé  - review rating: Traceback (most recent call last):   File \"/content/maps-reviews-api-scraper/scraper/src/scraper.py\", line 284, in _parse_review     rating_text = review.find(True, class_=\"Fam1ne EBe2gf\").get(\"aria-label\") AttributeError: 'NoneType' object has no attribute 'get' \u001b[0m\n",
            "\u001b[31;20m2023-10-17 14:35:29,572 ERROR   1202 [_handle_review_exception] (scraper.py:242): Wish Foz do Igua - review rating: Traceback (most recent call last):   File \"/content/maps-reviews-api-scraper/scraper/src/scraper.py\", line 284, in _parse_review     rating_text = review.find(True, class_=\"Fam1ne EBe2gf\").get(\"aria-label\") AttributeError: 'NoneType' object has no attribute 'get' \u001b[0m\n",
            "\u001b[31;20m2023-10-17 14:35:29,603 ERROR   1202 [_handle_review_exception] (scraper.py:242): Wish Foz do Igua - review rating: Traceback (most recent call last):   File \"/content/maps-reviews-api-scraper/scraper/src/scraper.py\", line 284, in _parse_review     rating_text = review.find(True, class_=\"Fam1ne EBe2gf\").get(\"aria-label\") AttributeError: 'NoneType' object has no attribute 'get' \u001b[0m\n",
            "\u001b[31;20m2023-10-17 14:35:29,631 ERROR   1202 [_handle_review_exception] (scraper.py:242): Wish Foz do Igua - review rating: Traceback (most recent call last):   File \"/content/maps-reviews-api-scraper/scraper/src/scraper.py\", line 284, in _parse_review     rating_text = review.find(True, class_=\"Fam1ne EBe2gf\").get(\"aria-label\") AttributeError: 'NoneType' object has no attribute 'get' \u001b[0m\n",
            "\u001b[31;20m2023-10-17 14:35:29,658 ERROR   1202 [_handle_review_exception] (scraper.py:242): Wish Foz do Igua - review rating: Traceback (most recent call last):   File \"/content/maps-reviews-api-scraper/scraper/src/scraper.py\", line 284, in _parse_review     rating_text = review.find(True, class_=\"Fam1ne EBe2gf\").get(\"aria-label\") AttributeError: 'NoneType' object has no attribute 'get' \u001b[0m\n",
            "\u001b[31;20m2023-10-17 14:35:29,684 ERROR   1202 [_handle_review_exception] (scraper.py:242): Wish Foz do Igua - review rating: Traceback (most recent call last):   File \"/content/maps-reviews-api-scraper/scraper/src/scraper.py\", line 284, in _parse_review     rating_text = review.find(True, class_=\"Fam1ne EBe2gf\").get(\"aria-label\") AttributeError: 'NoneType' object has no attribute 'get' \u001b[0m\n",
            "\u001b[31;20m2023-10-17 14:35:29,717 ERROR   1202 [_handle_review_exception] (scraper.py:242): Wish Foz do Igua - review rating: Traceback (most recent call last):   File \"/content/maps-reviews-api-scraper/scraper/src/scraper.py\", line 284, in _parse_review     rating_text = review.find(True, class_=\"Fam1ne EBe2gf\").get(\"aria-label\") AttributeError: 'NoneType' object has no attribute 'get' \u001b[0m\n",
            "\u001b[31;20m2023-10-17 14:35:29,733 ERROR   1202 [_handle_review_exception] (scraper.py:242): Wish Foz do Igua - review rating: Traceback (most recent call last):   File \"/content/maps-reviews-api-scraper/scraper/src/scraper.py\", line 284, in _parse_review     rating_text = review.find(True, class_=\"Fam1ne EBe2gf\").get(\"aria-label\") AttributeError: 'NoneType' object has no attribute 'get' \u001b[0m\n",
            "\u001b[31;20m2023-10-17 14:35:29,746 ERROR   1202 [_handle_review_exception] (scraper.py:242): Wish Foz do Igua - review rating: Traceback (most recent call last):   File \"/content/maps-reviews-api-scraper/scraper/src/scraper.py\", line 284, in _parse_review     rating_text = review.find(True, class_=\"Fam1ne EBe2gf\").get(\"aria-label\") AttributeError: 'NoneType' object has no attribute 'get' \u001b[0m\n",
            "\u001b[31;20m2023-10-17 14:35:29,757 ERROR   1202 [_handle_review_exception] (scraper.py:242): Wish Foz do Igua - review rating: Traceback (most recent call last):   File \"/content/maps-reviews-api-scraper/scraper/src/scraper.py\", line 284, in _parse_review     rating_text = review.find(True, class_=\"Fam1ne EBe2gf\").get(\"aria-label\") AttributeError: 'NoneType' object has no attribute 'get' \u001b[0m\n",
            "\u001b[38;20m2023-10-17 14:35:29,767 INFO   1201 [scrape_reviews] (scraper.py:394): Pousada Itararé  - Request:        1; review:       10\u001b[0m\n",
            "\u001b[38;20m2023-10-17 14:35:29,967 INFO   1202 [scrape_reviews] (scraper.py:394): Wish Foz do Igua - Request:        1; review:       10\u001b[0m\n",
            "\u001b[31;20m2023-10-17 14:35:30,182 ERROR   1201 [_handle_review_exception] (scraper.py:242): Pousada Itararé  - review rating: Traceback (most recent call last):   File \"/content/maps-reviews-api-scraper/scraper/src/scraper.py\", line 284, in _parse_review     rating_text = review.find(True, class_=\"Fam1ne EBe2gf\").get(\"aria-label\") AttributeError: 'NoneType' object has no attribute 'get' \u001b[0m\n",
            "\u001b[31;20m2023-10-17 14:35:30,193 ERROR   1201 [_handle_review_exception] (scraper.py:242): Pousada Itararé  - review rating: Traceback (most recent call last):   File \"/content/maps-reviews-api-scraper/scraper/src/scraper.py\", line 284, in _parse_review     rating_text = review.find(True, class_=\"Fam1ne EBe2gf\").get(\"aria-label\") AttributeError: 'NoneType' object has no attribute 'get' \u001b[0m\n",
            "\u001b[31;20m2023-10-17 14:35:30,202 ERROR   1201 [_handle_review_exception] (scraper.py:242): Pousada Itararé  - review rating: Traceback (most recent call last):   File \"/content/maps-reviews-api-scraper/scraper/src/scraper.py\", line 284, in _parse_review     rating_text = review.find(True, class_=\"Fam1ne EBe2gf\").get(\"aria-label\") AttributeError: 'NoneType' object has no attribute 'get' \u001b[0m\n",
            "\u001b[31;20m2023-10-17 14:35:30,207 ERROR   1201 [_handle_review_exception] (scraper.py:242): Pousada Itararé  - review rating: Traceback (most recent call last):   File \"/content/maps-reviews-api-scraper/scraper/src/scraper.py\", line 284, in _parse_review     rating_text = review.find(True, class_=\"Fam1ne EBe2gf\").get(\"aria-label\") AttributeError: 'NoneType' object has no attribute 'get' \u001b[0m\n",
            "\u001b[31;20m2023-10-17 14:35:30,213 ERROR   1201 [_handle_review_exception] (scraper.py:242): Pousada Itararé  - review rating: Traceback (most recent call last):   File \"/content/maps-reviews-api-scraper/scraper/src/scraper.py\", line 284, in _parse_review     rating_text = review.find(True, class_=\"Fam1ne EBe2gf\").get(\"aria-label\") AttributeError: 'NoneType' object has no attribute 'get' \u001b[0m\n",
            "\u001b[31;20m2023-10-17 14:35:30,219 ERROR   1201 [_handle_review_exception] (scraper.py:242): Pousada Itararé  - review rating: Traceback (most recent call last):   File \"/content/maps-reviews-api-scraper/scraper/src/scraper.py\", line 284, in _parse_review     rating_text = review.find(True, class_=\"Fam1ne EBe2gf\").get(\"aria-label\") AttributeError: 'NoneType' object has no attribute 'get' \u001b[0m\n",
            "\u001b[31;20m2023-10-17 14:35:30,225 ERROR   1201 [_handle_review_exception] (scraper.py:242): Pousada Itararé  - review rating: Traceback (most recent call last):   File \"/content/maps-reviews-api-scraper/scraper/src/scraper.py\", line 284, in _parse_review     rating_text = review.find(True, class_=\"Fam1ne EBe2gf\").get(\"aria-label\") AttributeError: 'NoneType' object has no attribute 'get' \u001b[0m\n",
            "\u001b[31;20m2023-10-17 14:35:30,232 ERROR   1201 [_handle_review_exception] (scraper.py:242): Pousada Itararé  - review rating: Traceback (most recent call last):   File \"/content/maps-reviews-api-scraper/scraper/src/scraper.py\", line 284, in _parse_review     rating_text = review.find(True, class_=\"Fam1ne EBe2gf\").get(\"aria-label\") AttributeError: 'NoneType' object has no attribute 'get' \u001b[0m\n",
            "\u001b[31;20m2023-10-17 14:35:30,238 ERROR   1201 [_handle_review_exception] (scraper.py:242): Pousada Itararé  - review rating: Traceback (most recent call last):   File \"/content/maps-reviews-api-scraper/scraper/src/scraper.py\", line 284, in _parse_review     rating_text = review.find(True, class_=\"Fam1ne EBe2gf\").get(\"aria-label\") AttributeError: 'NoneType' object has no attribute 'get' \u001b[0m\n",
            "\u001b[31;20m2023-10-17 14:35:30,245 ERROR   1201 [_handle_review_exception] (scraper.py:242): Pousada Itararé  - review rating: Traceback (most recent call last):   File \"/content/maps-reviews-api-scraper/scraper/src/scraper.py\", line 284, in _parse_review     rating_text = review.find(True, class_=\"Fam1ne EBe2gf\").get(\"aria-label\") AttributeError: 'NoneType' object has no attribute 'get' \u001b[0m\n",
            "\u001b[38;20m2023-10-17 14:35:30,450 INFO   1201 [scrape_reviews] (scraper.py:458): Pousada Itararé  - Done Scraping Reviews. Requests made: 2; Reviews parsed: 20\u001b[0m\n",
            "\u001b[31;20m2023-10-17 14:35:30,502 ERROR   1202 [_handle_review_exception] (scraper.py:242): Wish Foz do Igua - review rating: Traceback (most recent call last):   File \"/content/maps-reviews-api-scraper/scraper/src/scraper.py\", line 284, in _parse_review     rating_text = review.find(True, class_=\"Fam1ne EBe2gf\").get(\"aria-label\") AttributeError: 'NoneType' object has no attribute 'get' \u001b[0m\n",
            "\u001b[31;20m2023-10-17 14:35:30,510 ERROR   1202 [_handle_review_exception] (scraper.py:242): Wish Foz do Igua - review rating: Traceback (most recent call last):   File \"/content/maps-reviews-api-scraper/scraper/src/scraper.py\", line 284, in _parse_review     rating_text = review.find(True, class_=\"Fam1ne EBe2gf\").get(\"aria-label\") AttributeError: 'NoneType' object has no attribute 'get' \u001b[0m\n",
            "\u001b[31;20m2023-10-17 14:35:30,517 ERROR   1202 [_handle_review_exception] (scraper.py:242): Wish Foz do Igua - review rating: Traceback (most recent call last):   File \"/content/maps-reviews-api-scraper/scraper/src/scraper.py\", line 284, in _parse_review     rating_text = review.find(True, class_=\"Fam1ne EBe2gf\").get(\"aria-label\") AttributeError: 'NoneType' object has no attribute 'get' \u001b[0m\n",
            "\u001b[31;20m2023-10-17 14:35:30,524 ERROR   1202 [_handle_review_exception] (scraper.py:242): Wish Foz do Igua - review rating: Traceback (most recent call last):   File \"/content/maps-reviews-api-scraper/scraper/src/scraper.py\", line 284, in _parse_review     rating_text = review.find(True, class_=\"Fam1ne EBe2gf\").get(\"aria-label\") AttributeError: 'NoneType' object has no attribute 'get' \u001b[0m\n",
            "\u001b[31;20m2023-10-17 14:35:30,530 ERROR   1202 [_handle_review_exception] (scraper.py:242): Wish Foz do Igua - review rating: Traceback (most recent call last):   File \"/content/maps-reviews-api-scraper/scraper/src/scraper.py\", line 284, in _parse_review     rating_text = review.find(True, class_=\"Fam1ne EBe2gf\").get(\"aria-label\") AttributeError: 'NoneType' object has no attribute 'get' \u001b[0m\n",
            "\u001b[31;20m2023-10-17 14:35:30,537 ERROR   1202 [_handle_review_exception] (scraper.py:242): Wish Foz do Igua - review rating: Traceback (most recent call last):   File \"/content/maps-reviews-api-scraper/scraper/src/scraper.py\", line 284, in _parse_review     rating_text = review.find(True, class_=\"Fam1ne EBe2gf\").get(\"aria-label\") AttributeError: 'NoneType' object has no attribute 'get' \u001b[0m\n",
            "\u001b[31;20m2023-10-17 14:35:30,545 ERROR   1202 [_handle_review_exception] (scraper.py:242): Wish Foz do Igua - review rating: Traceback (most recent call last):   File \"/content/maps-reviews-api-scraper/scraper/src/scraper.py\", line 284, in _parse_review     rating_text = review.find(True, class_=\"Fam1ne EBe2gf\").get(\"aria-label\") AttributeError: 'NoneType' object has no attribute 'get' \u001b[0m\n",
            "\u001b[31;20m2023-10-17 14:35:30,552 ERROR   1202 [_handle_review_exception] (scraper.py:242): Wish Foz do Igua - review rating: Traceback (most recent call last):   File \"/content/maps-reviews-api-scraper/scraper/src/scraper.py\", line 284, in _parse_review     rating_text = review.find(True, class_=\"Fam1ne EBe2gf\").get(\"aria-label\") AttributeError: 'NoneType' object has no attribute 'get' \u001b[0m\n",
            "\u001b[31;20m2023-10-17 14:35:30,558 ERROR   1202 [_handle_review_exception] (scraper.py:242): Wish Foz do Igua - review rating: Traceback (most recent call last):   File \"/content/maps-reviews-api-scraper/scraper/src/scraper.py\", line 284, in _parse_review     rating_text = review.find(True, class_=\"Fam1ne EBe2gf\").get(\"aria-label\") AttributeError: 'NoneType' object has no attribute 'get' \u001b[0m\n",
            "\u001b[31;20m2023-10-17 14:35:30,565 ERROR   1202 [_handle_review_exception] (scraper.py:242): Wish Foz do Igua - review rating: Traceback (most recent call last):   File \"/content/maps-reviews-api-scraper/scraper/src/scraper.py\", line 284, in _parse_review     rating_text = review.find(True, class_=\"Fam1ne EBe2gf\").get(\"aria-label\") AttributeError: 'NoneType' object has no attribute 'get' \u001b[0m\n",
            "\u001b[38;20m2023-10-17 14:35:30,770 INFO   1202 [scrape_reviews] (scraper.py:458): Wish Foz do Igua - Done Scraping Reviews. Requests made: 2; Reviews parsed: 20\u001b[0m\n",
            "\u001b[38;20m2023-10-17 14:35:30,788 INFO   1179 [    call_pools] (app.py: 57): - Finished running scraper async\u001b[0m\n",
            "\u001b[38;20m2023-10-17 14:35:30,792 INFO   1179 [   log_summary] (app.py: 70): - name:test pousada ita; place_name:                ; n_max:   148; n_input:    20; n_scraped:    20; n_errors:105600\u001b[0m\n",
            "\u001b[38;20m2023-10-17 14:35:30,795 INFO   1179 [   log_summary] (app.py: 70): - name:Wish Foz do Igua; place_name:                ; n_max:  6418; n_input:    20; n_scraped:    20; n_errors:105600\u001b[0m\n"
          ]
        }
      ],
      "source": [
        "!python -m app run-async --path ./input/test.csv"
      ]
    },
    {
      "cell_type": "markdown",
      "metadata": {},
      "source": [
        "## 1.2. Reunindo os Resultados"
      ]
    },
    {
      "cell_type": "code",
      "execution_count": 2,
      "metadata": {},
      "outputs": [],
      "source": [
        "%load_ext autoreload"
      ]
    },
    {
      "cell_type": "code",
      "execution_count": 4,
      "metadata": {},
      "outputs": [],
      "source": [
        "%autoreload 2\n",
        "import json\n",
        "import logging\n",
        "import os\n",
        "from datetime import datetime\n",
        "from pathlib import Path\n",
        "\n",
        "import pandas as pd\n",
        "import regex as re\n",
        "import typer\n",
        "from dateutils import relativedelta\n",
        "from unidecode import unidecode\n",
        "\n",
        "from analysis.src.config import *\n",
        "from analysis.src.preprocessing import map_progress, tokenizer_lemma\n",
        "from analysis.src.utils import *\n",
        "from scraper.src.custom_logger import get_logger\n",
        "\n",
        "# Removendo aviso de debug\n",
        "os.environ[\"PYDEVD_WARN_SLOW_RESOLVE_TIMEOUT\"] = \"3000\"\n",
        "# Removendo limitação de print de dfs\n",
        "# pd.set_option(\"display.max_rows\", 500)\n",
        "# pd.set_option(\"display.max_columns\", 500)\n",
        "# pd.set_option(\"display.width\", 1000)\n",
        "\n",
        "# Caminho da pasta contendo os csvs\n",
        "data_path = \"scraper/data/2023/01/19/\"\n",
        "places_file = \"scraper/data/places.csv\"\n",
        "input_file = \"scraper/input/hotels_23_01_19.csv\"\n",
        "reports_folder = Path(\"./reports\")\n",
        "Path(reports_folder).mkdir(exist_ok=True)\n",
        "data_folder = Path(\"./data\")\n",
        "Path(data_folder).mkdir(exist_ok=True)\n"
      ]
    },
    {
      "cell_type": "code",
      "execution_count": 5,
      "metadata": {},
      "outputs": [
        {
          "name": "stdout",
          "output_type": "stream",
          "text": [
            "<class 'pandas.core.frame.DataFrame'>\n",
            "RangeIndex: 50 entries, 0 to 49\n",
            "Data columns (total 10 columns):\n",
            " #   Column                   Non-Null Count  Dtype  \n",
            "---  ------                   --------------  -----  \n",
            " 0   name                     50 non-null     object \n",
            " 1   feature_id               50 non-null     object \n",
            " 2   retrieval_date_metadata  50 non-null     object \n",
            " 3   place_name               50 non-null     object \n",
            " 4   address                  50 non-null     object \n",
            " 5   overall_rating           50 non-null     float64\n",
            " 6   n_reviews                50 non-null     int64  \n",
            " 7   topics                   50 non-null     object \n",
            " 8   url                      50 non-null     object \n",
            " 9   file_name                50 non-null     object \n",
            "dtypes: float64(1), int64(1), object(8)\n",
            "memory usage: 4.0+ KB\n",
            "<class 'pandas.core.frame.DataFrame'>\n",
            "Int64Index: 270100 entries, 0 to 3416\n",
            "Data columns (total 19 columns):\n",
            " #   Column                  Non-Null Count   Dtype  \n",
            "---  ------                  --------------   -----  \n",
            " 0   token                   269870 non-null  object \n",
            " 1   review_id               270100 non-null  object \n",
            " 2   retrieval_date          270100 non-null  object \n",
            " 3   rating                  270100 non-null  float64\n",
            " 4   rating_max              270100 non-null  float64\n",
            " 5   relative_date           270100 non-null  object \n",
            " 6   likes                   270100 non-null  int64  \n",
            " 7   other_ratings           28172 non-null   object \n",
            " 8   trip_type_travel_group  22669 non-null   object \n",
            " 9   user_name               270099 non-null  object \n",
            " 10  user_is_local_guide     251814 non-null  object \n",
            " 11  user_reviews            247234 non-null  object \n",
            " 12  user_photos             157554 non-null  float64\n",
            " 13  user_url                251814 non-null  object \n",
            " 14  text                    150776 non-null  object \n",
            " 15  response_text           88945 non-null   object \n",
            " 16  response_relative_date  88945 non-null   object \n",
            " 17  errors                  270100 non-null  object \n",
            " 18  file_name               270100 non-null  object \n",
            "dtypes: float64(3), int64(1), object(15)\n",
            "memory usage: 41.2+ MB\n",
            "<class 'pandas.core.frame.DataFrame'>\n",
            "Int64Index: 270100 entries, 0 to 270099\n",
            "Data columns (total 35 columns):\n",
            " #   Column                   Non-Null Count   Dtype  \n",
            "---  ------                   --------------   -----  \n",
            " 0   name_input               270100 non-null  object \n",
            " 1   sort_by                  270100 non-null  object \n",
            " 2   hl                       270100 non-null  object \n",
            " 3   url                      270100 non-null  object \n",
            " 4   n_reviews_max            270100 non-null  int64  \n",
            " 5   state                    270100 non-null  object \n",
            " 6   region                   270100 non-null  object \n",
            " 7   stars                    270100 non-null  int64  \n",
            " 8   name                     270100 non-null  object \n",
            " 9   feature_id               270100 non-null  object \n",
            " 10  retrieval_date_metadata  270100 non-null  object \n",
            " 11  place_name               270100 non-null  object \n",
            " 12  address                  270100 non-null  object \n",
            " 13  overall_rating           270100 non-null  float64\n",
            " 14  n_reviews                270100 non-null  int64  \n",
            " 15  topics                   270100 non-null  object \n",
            " 16  file_name                270100 non-null  object \n",
            " 17  token                    269870 non-null  object \n",
            " 18  review_id                270100 non-null  object \n",
            " 19  retrieval_date           270100 non-null  object \n",
            " 20  rating                   270100 non-null  float64\n",
            " 21  rating_max               270100 non-null  float64\n",
            " 22  relative_date            270100 non-null  object \n",
            " 23  likes                    270100 non-null  int64  \n",
            " 24  other_ratings            28172 non-null   object \n",
            " 25  trip_type_travel_group   22669 non-null   object \n",
            " 26  user_name                270099 non-null  object \n",
            " 27  user_is_local_guide      251814 non-null  object \n",
            " 28  user_reviews             247234 non-null  object \n",
            " 29  user_photos              157554 non-null  float64\n",
            " 30  user_url                 251814 non-null  object \n",
            " 31  text                     150776 non-null  object \n",
            " 32  response_text            88945 non-null   object \n",
            " 33  response_relative_date   88945 non-null   object \n",
            " 34  errors                   270100 non-null  object \n",
            "dtypes: float64(4), int64(4), object(27)\n",
            "memory usage: 74.2+ MB\n"
          ]
        }
      ],
      "source": [
        "df = read_data(input_file, data_path)"
      ]
    },
    {
      "cell_type": "code",
      "execution_count": 20,
      "metadata": {},
      "outputs": [
        {
          "name": "stdout",
          "output_type": "stream",
          "text": [
            "data/df_raw_2023-10-17_11-42-29_936902.pq\n"
          ]
        }
      ],
      "source": [
        "# Saving\n",
        "save_df(df, \"data\", \"df_raw\")"
      ]
    },
    {
      "cell_type": "code",
      "execution_count": 6,
      "metadata": {},
      "outputs": [
        {
          "data": {
            "text/plain": [
              "[]    270100\n",
              "Name: errors, dtype: int64"
            ]
          },
          "execution_count": 6,
          "metadata": {},
          "output_type": "execute_result"
        }
      ],
      "source": [
        "# Checking for errors\n",
        "df.errors.value_counts()"
      ]
    },
    {
      "cell_type": "code",
      "execution_count": 7,
      "metadata": {},
      "outputs": [
        {
          "name": "stdout",
          "output_type": "stream",
          "text": [
            "df_duplicates.shape (6, 35)\n",
            "df.shape (270097, 35)\n"
          ]
        }
      ],
      "source": [
        "# Checking for duplicate reviews\n",
        "duplicate_ids = df[df.review_id.duplicated()].review_id\n",
        "df_duplicates = df[df.review_id.isin(duplicate_ids)]\n",
        "print(\"df_duplicates.shape\", df_duplicates.shape)\n",
        "# Dropping duplicate\n",
        "df = df.drop_duplicates(subset=\"review_id\").reset_index(drop=True)\n",
        "print(\"df.shape\", df.shape)"
      ]
    },
    {
      "cell_type": "code",
      "execution_count": 8,
      "metadata": {},
      "outputs": [],
      "source": [
        "# Counting actual number of reviews per hotel\n",
        "df_count = df.groupby([\"name\"]).agg(agg_dict).reset_index()\n",
        "df_count[\"n_reviews_diff\"] = df_count.n_reviews - df_count.review_id\n",
        "df_count[\"n_reviews\"] = df_count[\"n_reviews\"].astype(int)"
      ]
    },
    {
      "cell_type": "code",
      "execution_count": 9,
      "metadata": {},
      "outputs": [
        {
          "data": {
            "text/html": [
              "<div>\n",
              "<style scoped>\n",
              "    .dataframe tbody tr th:only-of-type {\n",
              "        vertical-align: middle;\n",
              "    }\n",
              "\n",
              "    .dataframe tbody tr th {\n",
              "        vertical-align: top;\n",
              "    }\n",
              "\n",
              "    .dataframe thead th {\n",
              "        text-align: right;\n",
              "    }\n",
              "</style>\n",
              "<table border=\"1\" class=\"dataframe\">\n",
              "  <thead>\n",
              "    <tr style=\"text-align: right;\">\n",
              "      <th></th>\n",
              "      <th>name</th>\n",
              "      <th>n_reviews_max</th>\n",
              "      <th>n_reviews</th>\n",
              "      <th>review_id</th>\n",
              "      <th>n_reviews_diff</th>\n",
              "    </tr>\n",
              "  </thead>\n",
              "  <tbody>\n",
              "    <tr>\n",
              "      <th>0</th>\n",
              "      <td>Acqua Lokos</td>\n",
              "      <td>8180</td>\n",
              "      <td>8542</td>\n",
              "      <td>8542</td>\n",
              "      <td>0</td>\n",
              "    </tr>\n",
              "    <tr>\n",
              "      <th>1</th>\n",
              "      <td>Aroso Paço Hotel</td>\n",
              "      <td>1105</td>\n",
              "      <td>1118</td>\n",
              "      <td>1118</td>\n",
              "      <td>0</td>\n",
              "    </tr>\n",
              "    <tr>\n",
              "      <th>2</th>\n",
              "      <td>Atlantic Hotel Copacabana</td>\n",
              "      <td>4860</td>\n",
              "      <td>4983</td>\n",
              "      <td>4983</td>\n",
              "      <td>0</td>\n",
              "    </tr>\n",
              "    <tr>\n",
              "      <th>3</th>\n",
              "      <td>Atlântico Center</td>\n",
              "      <td>1382</td>\n",
              "      <td>1397</td>\n",
              "      <td>1397</td>\n",
              "      <td>0</td>\n",
              "    </tr>\n",
              "    <tr>\n",
              "      <th>4</th>\n",
              "      <td>Atlântico Inn Apart Hotel</td>\n",
              "      <td>1429</td>\n",
              "      <td>1471</td>\n",
              "      <td>1471</td>\n",
              "      <td>0</td>\n",
              "    </tr>\n",
              "    <tr>\n",
              "      <th>5</th>\n",
              "      <td>Atrium Quinta de Pedras</td>\n",
              "      <td>1375</td>\n",
              "      <td>1392</td>\n",
              "      <td>1392</td>\n",
              "      <td>0</td>\n",
              "    </tr>\n",
              "    <tr>\n",
              "      <th>6</th>\n",
              "      <td>Blue Tree Thermas de Lins</td>\n",
              "      <td>4840</td>\n",
              "      <td>5032</td>\n",
              "      <td>5032</td>\n",
              "      <td>0</td>\n",
              "    </tr>\n",
              "    <tr>\n",
              "      <th>7</th>\n",
              "      <td>Boa Vista Eco Hotel</td>\n",
              "      <td>1132</td>\n",
              "      <td>1139</td>\n",
              "      <td>1139</td>\n",
              "      <td>0</td>\n",
              "    </tr>\n",
              "    <tr>\n",
              "      <th>8</th>\n",
              "      <td>Bourbon Cataratas do Iguaçu Thermas Eco Resort</td>\n",
              "      <td>4785</td>\n",
              "      <td>4868</td>\n",
              "      <td>4868</td>\n",
              "      <td>0</td>\n",
              "    </tr>\n",
              "    <tr>\n",
              "      <th>9</th>\n",
              "      <td>Caravelle Palace Hotel</td>\n",
              "      <td>3180</td>\n",
              "      <td>3208</td>\n",
              "      <td>3208</td>\n",
              "      <td>0</td>\n",
              "    </tr>\n",
              "    <tr>\n",
              "      <th>10</th>\n",
              "      <td>Castro's Park Hotel</td>\n",
              "      <td>3222</td>\n",
              "      <td>3252</td>\n",
              "      <td>3252</td>\n",
              "      <td>0</td>\n",
              "    </tr>\n",
              "    <tr>\n",
              "      <th>11</th>\n",
              "      <td>Copacabana Palace</td>\n",
              "      <td>21595</td>\n",
              "      <td>22215</td>\n",
              "      <td>22205</td>\n",
              "      <td>10</td>\n",
              "    </tr>\n",
              "    <tr>\n",
              "      <th>12</th>\n",
              "      <td>Costa do Sauípe - Premium Sol</td>\n",
              "      <td>23733</td>\n",
              "      <td>24164</td>\n",
              "      <td>24164</td>\n",
              "      <td>0</td>\n",
              "    </tr>\n",
              "    <tr>\n",
              "      <th>13</th>\n",
              "      <td>Costão do Santinho Resort</td>\n",
              "      <td>20742</td>\n",
              "      <td>21281</td>\n",
              "      <td>21281</td>\n",
              "      <td>0</td>\n",
              "    </tr>\n",
              "    <tr>\n",
              "      <th>14</th>\n",
              "      <td>Céu Palmas Hotel</td>\n",
              "      <td>1057</td>\n",
              "      <td>1074</td>\n",
              "      <td>1074</td>\n",
              "      <td>0</td>\n",
              "    </tr>\n",
              "    <tr>\n",
              "      <th>15</th>\n",
              "      <td>Dayrell Hotel &amp; Centro de Convenções</td>\n",
              "      <td>5962</td>\n",
              "      <td>6116</td>\n",
              "      <td>6116</td>\n",
              "      <td>0</td>\n",
              "    </tr>\n",
              "    <tr>\n",
              "      <th>16</th>\n",
              "      <td>Fast Sleep</td>\n",
              "      <td>3168</td>\n",
              "      <td>3379</td>\n",
              "      <td>3379</td>\n",
              "      <td>0</td>\n",
              "    </tr>\n",
              "    <tr>\n",
              "      <th>17</th>\n",
              "      <td>Golden Dolphin Grand Hotel - Central de Reservas</td>\n",
              "      <td>9616</td>\n",
              "      <td>9741</td>\n",
              "      <td>9741</td>\n",
              "      <td>0</td>\n",
              "    </tr>\n",
              "    <tr>\n",
              "      <th>18</th>\n",
              "      <td>Grand Palladium Imbassaí Resort &amp; Spa</td>\n",
              "      <td>18073</td>\n",
              "      <td>20518</td>\n",
              "      <td>20519</td>\n",
              "      <td>-1</td>\n",
              "    </tr>\n",
              "    <tr>\n",
              "      <th>19</th>\n",
              "      <td>Grand Park Hotel</td>\n",
              "      <td>2281</td>\n",
              "      <td>2322</td>\n",
              "      <td>2322</td>\n",
              "      <td>0</td>\n",
              "    </tr>\n",
              "    <tr>\n",
              "      <th>20</th>\n",
              "      <td>Grande Hotel Ipatinga</td>\n",
              "      <td>1269</td>\n",
              "      <td>1285</td>\n",
              "      <td>1285</td>\n",
              "      <td>0</td>\n",
              "    </tr>\n",
              "    <tr>\n",
              "      <th>21</th>\n",
              "      <td>Guarany Hotel Express</td>\n",
              "      <td>1127</td>\n",
              "      <td>1143</td>\n",
              "      <td>1143</td>\n",
              "      <td>0</td>\n",
              "    </tr>\n",
              "    <tr>\n",
              "      <th>22</th>\n",
              "      <td>Hotel Costa Norte - Ingleses</td>\n",
              "      <td>1024</td>\n",
              "      <td>1050</td>\n",
              "      <td>1050</td>\n",
              "      <td>0</td>\n",
              "    </tr>\n",
              "    <tr>\n",
              "      <th>23</th>\n",
              "      <td>Hotel Express</td>\n",
              "      <td>1233</td>\n",
              "      <td>1246</td>\n",
              "      <td>1246</td>\n",
              "      <td>0</td>\n",
              "    </tr>\n",
              "    <tr>\n",
              "      <th>24</th>\n",
              "      <td>Hotel Express Vieiralves</td>\n",
              "      <td>3023</td>\n",
              "      <td>3058</td>\n",
              "      <td>3058</td>\n",
              "      <td>0</td>\n",
              "    </tr>\n",
              "    <tr>\n",
              "      <th>25</th>\n",
              "      <td>Hotel Fazenda Mato Grosso</td>\n",
              "      <td>4912</td>\n",
              "      <td>4981</td>\n",
              "      <td>4981</td>\n",
              "      <td>0</td>\n",
              "    </tr>\n",
              "    <tr>\n",
              "      <th>26</th>\n",
              "      <td>Hotel Fioreze Quero Quero</td>\n",
              "      <td>1841</td>\n",
              "      <td>1866</td>\n",
              "      <td>1866</td>\n",
              "      <td>0</td>\n",
              "    </tr>\n",
              "    <tr>\n",
              "      <th>27</th>\n",
              "      <td>Hotel Golden Ingá</td>\n",
              "      <td>1983</td>\n",
              "      <td>2016</td>\n",
              "      <td>2015</td>\n",
              "      <td>1</td>\n",
              "    </tr>\n",
              "    <tr>\n",
              "      <th>28</th>\n",
              "      <td>Hotel Jequitimar Guarujá Resort &amp; SPA by Accor</td>\n",
              "      <td>7858</td>\n",
              "      <td>8016</td>\n",
              "      <td>8016</td>\n",
              "      <td>0</td>\n",
              "    </tr>\n",
              "    <tr>\n",
              "      <th>29</th>\n",
              "      <td>Hotel Pirâmide</td>\n",
              "      <td>2464</td>\n",
              "      <td>2510</td>\n",
              "      <td>2510</td>\n",
              "      <td>0</td>\n",
              "    </tr>\n",
              "    <tr>\n",
              "      <th>30</th>\n",
              "      <td>Hotel Privê do Atalaia</td>\n",
              "      <td>1990</td>\n",
              "      <td>2011</td>\n",
              "      <td>2011</td>\n",
              "      <td>0</td>\n",
              "    </tr>\n",
              "    <tr>\n",
              "      <th>31</th>\n",
              "      <td>Hotel Soft Inn Belém Batista Campos</td>\n",
              "      <td>2541</td>\n",
              "      <td>2590</td>\n",
              "      <td>2590</td>\n",
              "      <td>0</td>\n",
              "    </tr>\n",
              "    <tr>\n",
              "      <th>32</th>\n",
              "      <td>Hotel Stop Inn Plus Pampulha - By MHB</td>\n",
              "      <td>1744</td>\n",
              "      <td>1772</td>\n",
              "      <td>1772</td>\n",
              "      <td>0</td>\n",
              "    </tr>\n",
              "    <tr>\n",
              "      <th>33</th>\n",
              "      <td>Larison Hotéis</td>\n",
              "      <td>1475</td>\n",
              "      <td>1490</td>\n",
              "      <td>1489</td>\n",
              "      <td>1</td>\n",
              "    </tr>\n",
              "    <tr>\n",
              "      <th>34</th>\n",
              "      <td>Marina Park Hotel</td>\n",
              "      <td>7325</td>\n",
              "      <td>7444</td>\n",
              "      <td>7444</td>\n",
              "      <td>0</td>\n",
              "    </tr>\n",
              "    <tr>\n",
              "      <th>35</th>\n",
              "      <td>Posseidon Hotel</td>\n",
              "      <td>1291</td>\n",
              "      <td>1309</td>\n",
              "      <td>1309</td>\n",
              "      <td>0</td>\n",
              "    </tr>\n",
              "    <tr>\n",
              "      <th>36</th>\n",
              "      <td>Prive Riviera Park Hotel</td>\n",
              "      <td>11343</td>\n",
              "      <td>11580</td>\n",
              "      <td>11580</td>\n",
              "      <td>0</td>\n",
              "    </tr>\n",
              "    <tr>\n",
              "      <th>37</th>\n",
              "      <td>Quality Suites Natal Ponta Negra</td>\n",
              "      <td>2644</td>\n",
              "      <td>2680</td>\n",
              "      <td>2680</td>\n",
              "      <td>0</td>\n",
              "    </tr>\n",
              "    <tr>\n",
              "      <th>38</th>\n",
              "      <td>Recife Praia Hotel</td>\n",
              "      <td>7478</td>\n",
              "      <td>7657</td>\n",
              "      <td>7657</td>\n",
              "      <td>0</td>\n",
              "    </tr>\n",
              "    <tr>\n",
              "      <th>39</th>\n",
              "      <td>Resort do Lago</td>\n",
              "      <td>6124</td>\n",
              "      <td>6188</td>\n",
              "      <td>6188</td>\n",
              "      <td>0</td>\n",
              "    </tr>\n",
              "    <tr>\n",
              "      <th>40</th>\n",
              "      <td>Ritz Suites Hotel</td>\n",
              "      <td>6628</td>\n",
              "      <td>6685</td>\n",
              "      <td>6686</td>\n",
              "      <td>-1</td>\n",
              "    </tr>\n",
              "    <tr>\n",
              "      <th>41</th>\n",
              "      <td>Royal Tulip Brasília Alvorada</td>\n",
              "      <td>6050</td>\n",
              "      <td>6141</td>\n",
              "      <td>6139</td>\n",
              "      <td>2</td>\n",
              "    </tr>\n",
              "    <tr>\n",
              "      <th>42</th>\n",
              "      <td>Taj Mahal Continental Hotel</td>\n",
              "      <td>1841</td>\n",
              "      <td>1872</td>\n",
              "      <td>1872</td>\n",
              "      <td>0</td>\n",
              "    </tr>\n",
              "    <tr>\n",
              "      <th>43</th>\n",
              "      <td>Tauá Resort Caeté</td>\n",
              "      <td>8148</td>\n",
              "      <td>8528</td>\n",
              "      <td>8528</td>\n",
              "      <td>0</td>\n",
              "    </tr>\n",
              "    <tr>\n",
              "      <th>44</th>\n",
              "      <td>Vivá Porto De Galinhas Resort</td>\n",
              "      <td>5723</td>\n",
              "      <td>5845</td>\n",
              "      <td>5845</td>\n",
              "      <td>0</td>\n",
              "    </tr>\n",
              "    <tr>\n",
              "      <th>45</th>\n",
              "      <td>Wish Foz do Iguaçu</td>\n",
              "      <td>5184</td>\n",
              "      <td>5424</td>\n",
              "      <td>5424</td>\n",
              "      <td>0</td>\n",
              "    </tr>\n",
              "    <tr>\n",
              "      <th>46</th>\n",
              "      <td>Wish Hotel da Bahia</td>\n",
              "      <td>7586</td>\n",
              "      <td>7772</td>\n",
              "      <td>7772</td>\n",
              "      <td>0</td>\n",
              "    </tr>\n",
              "    <tr>\n",
              "      <th>47</th>\n",
              "      <td>Wyndham Gramado Termas Resort &amp; Spa</td>\n",
              "      <td>3307</td>\n",
              "      <td>3417</td>\n",
              "      <td>3417</td>\n",
              "      <td>0</td>\n",
              "    </tr>\n",
              "    <tr>\n",
              "      <th>48</th>\n",
              "      <td>hotel Umuarama</td>\n",
              "      <td>2474</td>\n",
              "      <td>2519</td>\n",
              "      <td>2519</td>\n",
              "      <td>0</td>\n",
              "    </tr>\n",
              "    <tr>\n",
              "      <th>49</th>\n",
              "      <td>ibis budget Manaus</td>\n",
              "      <td>2776</td>\n",
              "      <td>2802</td>\n",
              "      <td>2802</td>\n",
              "      <td>0</td>\n",
              "    </tr>\n",
              "  </tbody>\n",
              "</table>\n",
              "</div>"
            ],
            "text/plain": [
              "                                                name  n_reviews_max  \\\n",
              "0                                        Acqua Lokos           8180   \n",
              "1                                   Aroso Paço Hotel           1105   \n",
              "2                          Atlantic Hotel Copacabana           4860   \n",
              "3                                   Atlântico Center           1382   \n",
              "4                          Atlântico Inn Apart Hotel           1429   \n",
              "5                            Atrium Quinta de Pedras           1375   \n",
              "6                          Blue Tree Thermas de Lins           4840   \n",
              "7                                Boa Vista Eco Hotel           1132   \n",
              "8     Bourbon Cataratas do Iguaçu Thermas Eco Resort           4785   \n",
              "9                             Caravelle Palace Hotel           3180   \n",
              "10                               Castro's Park Hotel           3222   \n",
              "11                                 Copacabana Palace          21595   \n",
              "12                     Costa do Sauípe - Premium Sol          23733   \n",
              "13                         Costão do Santinho Resort          20742   \n",
              "14                                  Céu Palmas Hotel           1057   \n",
              "15              Dayrell Hotel & Centro de Convenções           5962   \n",
              "16                                        Fast Sleep           3168   \n",
              "17  Golden Dolphin Grand Hotel - Central de Reservas           9616   \n",
              "18             Grand Palladium Imbassaí Resort & Spa          18073   \n",
              "19                                  Grand Park Hotel           2281   \n",
              "20                             Grande Hotel Ipatinga           1269   \n",
              "21                             Guarany Hotel Express           1127   \n",
              "22                      Hotel Costa Norte - Ingleses           1024   \n",
              "23                                     Hotel Express           1233   \n",
              "24                          Hotel Express Vieiralves           3023   \n",
              "25                         Hotel Fazenda Mato Grosso           4912   \n",
              "26                         Hotel Fioreze Quero Quero           1841   \n",
              "27                                 Hotel Golden Ingá           1983   \n",
              "28    Hotel Jequitimar Guarujá Resort & SPA by Accor           7858   \n",
              "29                                    Hotel Pirâmide           2464   \n",
              "30                            Hotel Privê do Atalaia           1990   \n",
              "31               Hotel Soft Inn Belém Batista Campos           2541   \n",
              "32             Hotel Stop Inn Plus Pampulha - By MHB           1744   \n",
              "33                                    Larison Hotéis           1475   \n",
              "34                                 Marina Park Hotel           7325   \n",
              "35                                   Posseidon Hotel           1291   \n",
              "36                          Prive Riviera Park Hotel          11343   \n",
              "37                  Quality Suites Natal Ponta Negra           2644   \n",
              "38                                Recife Praia Hotel           7478   \n",
              "39                                    Resort do Lago           6124   \n",
              "40                                 Ritz Suites Hotel           6628   \n",
              "41                     Royal Tulip Brasília Alvorada           6050   \n",
              "42                       Taj Mahal Continental Hotel           1841   \n",
              "43                                 Tauá Resort Caeté           8148   \n",
              "44                     Vivá Porto De Galinhas Resort           5723   \n",
              "45                                Wish Foz do Iguaçu           5184   \n",
              "46                               Wish Hotel da Bahia           7586   \n",
              "47               Wyndham Gramado Termas Resort & Spa           3307   \n",
              "48                                    hotel Umuarama           2474   \n",
              "49                                ibis budget Manaus           2776   \n",
              "\n",
              "    n_reviews  review_id  n_reviews_diff  \n",
              "0        8542       8542               0  \n",
              "1        1118       1118               0  \n",
              "2        4983       4983               0  \n",
              "3        1397       1397               0  \n",
              "4        1471       1471               0  \n",
              "5        1392       1392               0  \n",
              "6        5032       5032               0  \n",
              "7        1139       1139               0  \n",
              "8        4868       4868               0  \n",
              "9        3208       3208               0  \n",
              "10       3252       3252               0  \n",
              "11      22215      22205              10  \n",
              "12      24164      24164               0  \n",
              "13      21281      21281               0  \n",
              "14       1074       1074               0  \n",
              "15       6116       6116               0  \n",
              "16       3379       3379               0  \n",
              "17       9741       9741               0  \n",
              "18      20518      20519              -1  \n",
              "19       2322       2322               0  \n",
              "20       1285       1285               0  \n",
              "21       1143       1143               0  \n",
              "22       1050       1050               0  \n",
              "23       1246       1246               0  \n",
              "24       3058       3058               0  \n",
              "25       4981       4981               0  \n",
              "26       1866       1866               0  \n",
              "27       2016       2015               1  \n",
              "28       8016       8016               0  \n",
              "29       2510       2510               0  \n",
              "30       2011       2011               0  \n",
              "31       2590       2590               0  \n",
              "32       1772       1772               0  \n",
              "33       1490       1489               1  \n",
              "34       7444       7444               0  \n",
              "35       1309       1309               0  \n",
              "36      11580      11580               0  \n",
              "37       2680       2680               0  \n",
              "38       7657       7657               0  \n",
              "39       6188       6188               0  \n",
              "40       6685       6686              -1  \n",
              "41       6141       6139               2  \n",
              "42       1872       1872               0  \n",
              "43       8528       8528               0  \n",
              "44       5845       5845               0  \n",
              "45       5424       5424               0  \n",
              "46       7772       7772               0  \n",
              "47       3417       3417               0  \n",
              "48       2519       2519               0  \n",
              "49       2802       2802               0  "
            ]
          },
          "execution_count": 9,
          "metadata": {},
          "output_type": "execute_result"
        }
      ],
      "source": [
        "df_count[[\"name\",\"n_reviews_max\",\"n_reviews\",\"review_id\",\"n_reviews_diff\"]]"
      ]
    },
    {
      "cell_type": "code",
      "execution_count": 12,
      "metadata": {},
      "outputs": [
        {
          "data": {
            "text/plain": [
              "text_percentage         0.54868\n",
              "text               150774.00000\n",
              "review_id          270097.00000\n",
              "dtype: float64"
            ]
          },
          "execution_count": 12,
          "metadata": {},
          "output_type": "execute_result"
        }
      ],
      "source": [
        "# Counting how many reviews have text\n",
        "df_count[\"text_percentage\"] = df_count[\"text\"] / df_count[\"review_id\"]\n",
        "df_count[[\"text_percentage\", \"text\", \"review_id\"]]\n",
        "df_count2 = df_count.agg(\n",
        "    {\"text_percentage\": \"mean\", \"text\": \"sum\", \"review_id\": \"sum\"}\n",
        ")\n",
        "df_count2"
      ]
    },
    {
      "cell_type": "markdown",
      "metadata": {},
      "source": [
        "## 1.3. Tratamento Básico"
      ]
    },
    {
      "cell_type": "code",
      "execution_count": 19,
      "metadata": {},
      "outputs": [
        {
          "name": "stdout",
          "output_type": "stream",
          "text": [
            "drop duplicates\n",
            "likes\n",
            "trip_type_travel_group\n",
            "lattitude and longitude\n",
            "relative dates\n"
          ]
        },
        {
          "name": "stderr",
          "output_type": "stream",
          "text": [
            "100%|██████████| 270097/270097 [01:14<00:00, 3616.39it/s]\n",
            "100%|██████████| 270097/270097 [00:40<00:00, 6594.14it/s] \n"
          ]
        },
        {
          "name": "stdout",
          "output_type": "stream",
          "text": [
            "Other ratings\n"
          ]
        },
        {
          "name": "stderr",
          "output_type": "stream",
          "text": [
            "100%|██████████| 270097/270097 [00:15<00:00, 17947.38it/s]\n"
          ]
        },
        {
          "name": "stdout",
          "output_type": "stream",
          "text": [
            "Topics\n"
          ]
        },
        {
          "name": "stderr",
          "output_type": "stream",
          "text": [
            "100%|██████████| 270097/270097 [01:01<00:00, 4366.67it/s]\n"
          ]
        },
        {
          "name": "stdout",
          "output_type": "stream",
          "text": [
            "User\n"
          ]
        },
        {
          "name": "stderr",
          "output_type": "stream",
          "text": [
            "100%|██████████| 270097/270097 [00:02<00:00, 97922.05it/s] \n"
          ]
        },
        {
          "name": "stdout",
          "output_type": "stream",
          "text": [
            "Text\n"
          ]
        },
        {
          "name": "stderr",
          "output_type": "stream",
          "text": [
            "100%|██████████| 270097/270097 [00:25<00:00, 10686.24it/s]\n",
            "100%|██████████| 270097/270097 [00:21<00:00, 12311.68it/s]\n"
          ]
        },
        {
          "name": "stdout",
          "output_type": "stream",
          "text": [
            "tokens\n"
          ]
        },
        {
          "name": "stderr",
          "output_type": "stream",
          "text": [
            "100%|██████████| 270097/270097 [00:24<00:00, 11252.20it/s]\n",
            "100%|██████████| 270097/270097 [00:30<00:00, 8816.38it/s] \n"
          ]
        }
      ],
      "source": [
        "%timeit\n",
        "%autoreload 2\n",
        "from analysis.src.prep import prep_complete\n",
        "df_prep = prep_complete(df)"
      ]
    },
    {
      "cell_type": "code",
      "execution_count": 21,
      "metadata": {},
      "outputs": [
        {
          "name": "stdout",
          "output_type": "stream",
          "text": [
            "data/df_prep_2023-10-17_11-42-29_936902.pq\n"
          ]
        }
      ],
      "source": [
        "# Saving\n",
        "save_df(df_prep, \"data\", \"df_prep\")"
      ]
    }
  ],
  "metadata": {
    "colab": {
      "include_colab_link": true,
      "provenance": []
    },
    "kernelspec": {
      "display_name": "Python 3",
      "name": "python3"
    },
    "language_info": {
      "codemirror_mode": {
        "name": "ipython",
        "version": 3
      },
      "file_extension": ".py",
      "mimetype": "text/x-python",
      "name": "python",
      "nbconvert_exporter": "python",
      "pygments_lexer": "ipython3",
      "version": "3.9.12"
    }
  },
  "nbformat": 4,
  "nbformat_minor": 0
}

{
  "cells": [
    {
      "cell_type": "markdown",
      "metadata": {
        "id": "view-in-github",
        "colab_type": "text"
      },
      "source": [
        "<a href=\"https://colab.research.google.com/github/brusangues/maps-reviews-api-scraper/blob/reorganization/1_maps_reviews_api_scraper.ipynb\" target=\"_parent\"><img src=\"https://colab.research.google.com/assets/colab-badge.svg\" alt=\"Open In Colab\"/></a>"
      ]
    },
    {
      "cell_type": "markdown",
      "metadata": {
        "id": "IBBShi00DHPl"
      },
      "source": [
        "# 1. Obtenção de Dados Textuais"
      ]
    },
    {
      "cell_type": "markdown",
      "metadata": {
        "id": "XNou0yqsDHPo"
      },
      "source": [
        "Utilizaremos uma ferramenta scraper para extrair dados do Google Maps."
      ]
    },
    {
      "cell_type": "code",
      "execution_count": 1,
      "metadata": {
        "colab": {
          "base_uri": "https://localhost:8080/"
        },
        "id": "-u7qkXtwISYD",
        "outputId": "921c786d-a7b4-4d09-b28c-4953b40ca9c1"
      },
      "outputs": [
        {
          "output_type": "stream",
          "name": "stdout",
          "text": [
            "fatal: destination path 'maps-reviews-api-scraper' already exists and is not an empty directory.\n"
          ]
        }
      ],
      "source": [
        "!git clone --branch reorganization https://github.com/brusangues/maps-reviews-api-scraper"
      ]
    },
    {
      "cell_type": "code",
      "execution_count": 2,
      "metadata": {
        "colab": {
          "base_uri": "https://localhost:8080/"
        },
        "id": "Zhn3B3meIVnz",
        "outputId": "a82ea82b-5f79-4c1d-ec03-a927e9006801"
      },
      "outputs": [
        {
          "output_type": "stream",
          "name": "stdout",
          "text": [
            "/content/maps-reviews-api-scraper\n"
          ]
        }
      ],
      "source": [
        "%cd /content/maps-reviews-api-scraper"
      ]
    },
    {
      "cell_type": "code",
      "execution_count": 3,
      "metadata": {
        "id": "iuvTZhRAJC9Q",
        "outputId": "1e0fc392-e323-4976-c399-648fca2c76a0",
        "colab": {
          "base_uri": "https://localhost:8080/"
        }
      },
      "outputs": [
        {
          "output_type": "stream",
          "name": "stdout",
          "text": [
            "Requirement already satisfied: pandas in /usr/local/lib/python3.10/dist-packages (from -r requirements.txt (line 1)) (1.5.3)\n",
            "Requirement already satisfied: beautifulsoup4 in /usr/local/lib/python3.10/dist-packages (from -r requirements.txt (line 2)) (4.11.2)\n",
            "Requirement already satisfied: lxml in /usr/local/lib/python3.10/dist-packages (from -r requirements.txt (line 3)) (4.9.3)\n",
            "Requirement already satisfied: regex in /usr/local/lib/python3.10/dist-packages (from -r requirements.txt (line 4)) (2023.6.3)\n",
            "Requirement already satisfied: requests in /usr/local/lib/python3.10/dist-packages (from -r requirements.txt (line 5)) (2.31.0)\n",
            "Requirement already satisfied: typer in /usr/local/lib/python3.10/dist-packages (from -r requirements.txt (line 6)) (0.9.0)\n",
            "Requirement already satisfied: openpyxl in /usr/local/lib/python3.10/dist-packages (from -r requirements.txt (line 7)) (3.1.2)\n",
            "Requirement already satisfied: pyarrow in /usr/local/lib/python3.10/dist-packages (from -r requirements.txt (line 8)) (9.0.0)\n",
            "Requirement already satisfied: unidecode in /usr/local/lib/python3.10/dist-packages (from -r requirements.txt (line 9)) (1.3.7)\n",
            "Requirement already satisfied: dateutils in /usr/local/lib/python3.10/dist-packages (from -r requirements.txt (line 10)) (0.6.12)\n",
            "Requirement already satisfied: plotly in /usr/local/lib/python3.10/dist-packages (from -r requirements.txt (line 11)) (5.15.0)\n",
            "Requirement already satisfied: python-dateutil>=2.8.1 in /usr/local/lib/python3.10/dist-packages (from pandas->-r requirements.txt (line 1)) (2.8.2)\n",
            "Requirement already satisfied: pytz>=2020.1 in /usr/local/lib/python3.10/dist-packages (from pandas->-r requirements.txt (line 1)) (2023.3.post1)\n",
            "Requirement already satisfied: numpy>=1.21.0 in /usr/local/lib/python3.10/dist-packages (from pandas->-r requirements.txt (line 1)) (1.23.5)\n",
            "Requirement already satisfied: soupsieve>1.2 in /usr/local/lib/python3.10/dist-packages (from beautifulsoup4->-r requirements.txt (line 2)) (2.5)\n",
            "Requirement already satisfied: charset-normalizer<4,>=2 in /usr/local/lib/python3.10/dist-packages (from requests->-r requirements.txt (line 5)) (3.3.0)\n",
            "Requirement already satisfied: idna<4,>=2.5 in /usr/local/lib/python3.10/dist-packages (from requests->-r requirements.txt (line 5)) (3.4)\n",
            "Requirement already satisfied: urllib3<3,>=1.21.1 in /usr/local/lib/python3.10/dist-packages (from requests->-r requirements.txt (line 5)) (2.0.6)\n",
            "Requirement already satisfied: certifi>=2017.4.17 in /usr/local/lib/python3.10/dist-packages (from requests->-r requirements.txt (line 5)) (2023.7.22)\n",
            "Requirement already satisfied: click<9.0.0,>=7.1.1 in /usr/local/lib/python3.10/dist-packages (from typer->-r requirements.txt (line 6)) (8.1.7)\n",
            "Requirement already satisfied: typing-extensions>=3.7.4.3 in /usr/local/lib/python3.10/dist-packages (from typer->-r requirements.txt (line 6)) (4.5.0)\n",
            "Requirement already satisfied: et-xmlfile in /usr/local/lib/python3.10/dist-packages (from openpyxl->-r requirements.txt (line 7)) (1.1.0)\n",
            "Requirement already satisfied: tenacity>=6.2.0 in /usr/local/lib/python3.10/dist-packages (from plotly->-r requirements.txt (line 11)) (8.2.3)\n",
            "Requirement already satisfied: packaging in /usr/local/lib/python3.10/dist-packages (from plotly->-r requirements.txt (line 11)) (23.2)\n",
            "Requirement already satisfied: six>=1.5 in /usr/local/lib/python3.10/dist-packages (from python-dateutil>=2.8.1->pandas->-r requirements.txt (line 1)) (1.16.0)\n"
          ]
        }
      ],
      "source": [
        "!pip install -r requirements.txt"
      ]
    },
    {
      "cell_type": "code",
      "source": [
        "%cd /content/maps-reviews-api-scraper/scraper"
      ],
      "metadata": {
        "id": "k_gfRy_DDdQH",
        "outputId": "cdc92472-daa0-4e38-d675-f02f6d9c38f5",
        "colab": {
          "base_uri": "https://localhost:8080/"
        }
      },
      "execution_count": 4,
      "outputs": [
        {
          "output_type": "stream",
          "name": "stdout",
          "text": [
            "/content/maps-reviews-api-scraper/scraper\n"
          ]
        }
      ]
    },
    {
      "cell_type": "code",
      "execution_count": 5,
      "metadata": {
        "colab": {
          "base_uri": "https://localhost:8080/"
        },
        "id": "OyySIeEFJQrS",
        "outputId": "3d59dd68-a16c-49a7-803b-be6fb4422020"
      },
      "outputs": [
        {
          "output_type": "stream",
          "name": "stdout",
          "text": [
            "\u001b[38;20m2023-10-17 14:35:27,324 INFO   1179 [    call_pools] (app.py: 46): - Running async\u001b[0m\n",
            "\u001b[38;20m2023-10-17 14:35:27,383 INFO   1201 [  call_scraper] (app.py: 84): - folder created\u001b[0m\n",
            "\u001b[38;20m2023-10-17 14:35:27,387 INFO   1202 [  call_scraper] (app.py: 84): - folder created\u001b[0m\n",
            "\u001b[38;20m2023-10-17 14:35:27,391 INFO   1202 [  scrape_place] (scraper.py:476): Wish Foz do Igua - Scraping metadata for url: Wish Foz do Iguaçu\u001b[0m\n",
            "\u001b[38;20m2023-10-17 14:35:27,392 INFO   1202 [  scrape_place] (scraper.py:480): Wish Foz do Igua - Parsing metadata...\u001b[0m\n",
            "\u001b[38;20m2023-10-17 14:35:27,395 INFO   1201 [  scrape_place] (scraper.py:476): Pousada Itararé  - Scraping metadata for url: Pousada Itararé\u001b[0m\n",
            "\u001b[38;20m2023-10-17 14:35:27,396 INFO   1201 [  scrape_place] (scraper.py:480): Pousada Itararé  - Parsing metadata...\u001b[0m\n",
            "\u001b[31;20m2023-10-17 14:35:28,132 ERROR   1201 [  _parse_place] (scraper.py:183): Pousada Itararé  - error parsing place: place_name\u001b[0m\n",
            "\u001b[31;20m2023-10-17 14:35:28,133 ERROR   1201 [  _parse_place] (scraper.py:184): Pousada Itararé  - 'NoneType' object has no attribute 'text'\u001b[0m\n",
            "Traceback (most recent call last):\n",
            "  File \"/content/maps-reviews-api-scraper/scraper/src/scraper.py\", line 181, in _parse_place\n",
            "    metadata[\"place_name\"] = response.find(True, class_=\"P5Bobd\").text\n",
            "AttributeError: 'NoneType' object has no attribute 'text'\n",
            "\u001b[31;20m2023-10-17 14:35:28,157 ERROR   1201 [  _parse_place] (scraper.py:190): Pousada Itararé  - error parsing place: address\u001b[0m\n",
            "\u001b[31;20m2023-10-17 14:35:28,158 ERROR   1201 [  _parse_place] (scraper.py:191): Pousada Itararé  - 'NoneType' object has no attribute 'text'\u001b[0m\n",
            "Traceback (most recent call last):\n",
            "  File \"/content/maps-reviews-api-scraper/scraper/src/scraper.py\", line 188, in _parse_place\n",
            "    metadata[\"address\"] = response.find(True, class_=\"T6pBCe\").text\n",
            "AttributeError: 'NoneType' object has no attribute 'text'\n",
            "\u001b[38;20m2023-10-17 14:35:28,168 INFO   1201 [  call_scraper] (app.py:120): Pousada Itararé  - header written\u001b[0m\n",
            "\u001b[38;20m2023-10-17 14:35:28,169 INFO   1201 [scrape_reviews] (scraper.py:384): Pousada Itararé  - Scraping reviews for url: Pousada Itararé\u001b[0m\n",
            "\u001b[38;20m2023-10-17 14:35:28,169 INFO   1201 [scrape_reviews] (scraper.py:394): Pousada Itararé  - Request:        0; review:        0\u001b[0m\n",
            "\u001b[31;20m2023-10-17 14:35:28,419 ERROR   1202 [  _parse_place] (scraper.py:183): Wish Foz do Igua - error parsing place: place_name\u001b[0m\n",
            "\u001b[31;20m2023-10-17 14:35:28,420 ERROR   1202 [  _parse_place] (scraper.py:184): Wish Foz do Igua - 'NoneType' object has no attribute 'text'\u001b[0m\n",
            "Traceback (most recent call last):\n",
            "  File \"/content/maps-reviews-api-scraper/scraper/src/scraper.py\", line 181, in _parse_place\n",
            "    metadata[\"place_name\"] = response.find(True, class_=\"P5Bobd\").text\n",
            "AttributeError: 'NoneType' object has no attribute 'text'\n",
            "\u001b[31;20m2023-10-17 14:35:28,465 ERROR   1202 [  _parse_place] (scraper.py:190): Wish Foz do Igua - error parsing place: address\u001b[0m\n",
            "\u001b[31;20m2023-10-17 14:35:28,465 ERROR   1202 [  _parse_place] (scraper.py:191): Wish Foz do Igua - 'NoneType' object has no attribute 'text'\u001b[0m\n",
            "Traceback (most recent call last):\n",
            "  File \"/content/maps-reviews-api-scraper/scraper/src/scraper.py\", line 188, in _parse_place\n",
            "    metadata[\"address\"] = response.find(True, class_=\"T6pBCe\").text\n",
            "AttributeError: 'NoneType' object has no attribute 'text'\n",
            "\u001b[38;20m2023-10-17 14:35:28,469 INFO   1202 [  call_scraper] (app.py:120): Wish Foz do Igua - header written\u001b[0m\n",
            "\u001b[38;20m2023-10-17 14:35:28,469 INFO   1202 [scrape_reviews] (scraper.py:384): Wish Foz do Igua - Scraping reviews for url: Wish Foz do Iguaçu\u001b[0m\n",
            "\u001b[38;20m2023-10-17 14:35:28,470 INFO   1202 [scrape_reviews] (scraper.py:394): Wish Foz do Igua - Request:        0; review:        0\u001b[0m\n",
            "\u001b[31;20m2023-10-17 14:35:29,206 ERROR   1201 [_handle_review_exception] (scraper.py:242): Pousada Itararé  - review rating: Traceback (most recent call last):   File \"/content/maps-reviews-api-scraper/scraper/src/scraper.py\", line 284, in _parse_review     rating_text = review.find(True, class_=\"Fam1ne EBe2gf\").get(\"aria-label\") AttributeError: 'NoneType' object has no attribute 'get' \u001b[0m\n",
            "\u001b[31;20m2023-10-17 14:35:29,261 ERROR   1201 [_handle_review_exception] (scraper.py:242): Pousada Itararé  - review rating: Traceback (most recent call last):   File \"/content/maps-reviews-api-scraper/scraper/src/scraper.py\", line 284, in _parse_review     rating_text = review.find(True, class_=\"Fam1ne EBe2gf\").get(\"aria-label\") AttributeError: 'NoneType' object has no attribute 'get' \u001b[0m\n",
            "\u001b[31;20m2023-10-17 14:35:29,292 ERROR   1201 [_handle_review_exception] (scraper.py:242): Pousada Itararé  - review rating: Traceback (most recent call last):   File \"/content/maps-reviews-api-scraper/scraper/src/scraper.py\", line 284, in _parse_review     rating_text = review.find(True, class_=\"Fam1ne EBe2gf\").get(\"aria-label\") AttributeError: 'NoneType' object has no attribute 'get' \u001b[0m\n",
            "\u001b[31;20m2023-10-17 14:35:29,331 ERROR   1201 [_handle_review_exception] (scraper.py:242): Pousada Itararé  - review rating: Traceback (most recent call last):   File \"/content/maps-reviews-api-scraper/scraper/src/scraper.py\", line 284, in _parse_review     rating_text = review.find(True, class_=\"Fam1ne EBe2gf\").get(\"aria-label\") AttributeError: 'NoneType' object has no attribute 'get' \u001b[0m\n",
            "\u001b[31;20m2023-10-17 14:35:29,370 ERROR   1201 [_handle_review_exception] (scraper.py:242): Pousada Itararé  - review rating: Traceback (most recent call last):   File \"/content/maps-reviews-api-scraper/scraper/src/scraper.py\", line 284, in _parse_review     rating_text = review.find(True, class_=\"Fam1ne EBe2gf\").get(\"aria-label\") AttributeError: 'NoneType' object has no attribute 'get' \u001b[0m\n",
            "\u001b[31;20m2023-10-17 14:35:29,393 ERROR   1201 [_handle_review_exception] (scraper.py:242): Pousada Itararé  - review rating: Traceback (most recent call last):   File \"/content/maps-reviews-api-scraper/scraper/src/scraper.py\", line 284, in _parse_review     rating_text = review.find(True, class_=\"Fam1ne EBe2gf\").get(\"aria-label\") AttributeError: 'NoneType' object has no attribute 'get' \u001b[0m\n",
            "\u001b[31;20m2023-10-17 14:35:29,416 ERROR   1201 [_handle_review_exception] (scraper.py:242): Pousada Itararé  - review rating: Traceback (most recent call last):   File \"/content/maps-reviews-api-scraper/scraper/src/scraper.py\", line 284, in _parse_review     rating_text = review.find(True, class_=\"Fam1ne EBe2gf\").get(\"aria-label\") AttributeError: 'NoneType' object has no attribute 'get' \u001b[0m\n",
            "\u001b[31;20m2023-10-17 14:35:29,443 ERROR   1201 [_handle_review_exception] (scraper.py:242): Pousada Itararé  - review rating: Traceback (most recent call last):   File \"/content/maps-reviews-api-scraper/scraper/src/scraper.py\", line 284, in _parse_review     rating_text = review.find(True, class_=\"Fam1ne EBe2gf\").get(\"aria-label\") AttributeError: 'NoneType' object has no attribute 'get' \u001b[0m\n",
            "\u001b[31;20m2023-10-17 14:35:29,488 ERROR   1201 [_handle_review_exception] (scraper.py:242): Pousada Itararé  - review rating: Traceback (most recent call last):   File \"/content/maps-reviews-api-scraper/scraper/src/scraper.py\", line 284, in _parse_review     rating_text = review.find(True, class_=\"Fam1ne EBe2gf\").get(\"aria-label\") AttributeError: 'NoneType' object has no attribute 'get' \u001b[0m\n",
            "\u001b[31;20m2023-10-17 14:35:29,524 ERROR   1202 [_handle_review_exception] (scraper.py:242): Wish Foz do Igua - review rating: Traceback (most recent call last):   File \"/content/maps-reviews-api-scraper/scraper/src/scraper.py\", line 284, in _parse_review     rating_text = review.find(True, class_=\"Fam1ne EBe2gf\").get(\"aria-label\") AttributeError: 'NoneType' object has no attribute 'get' \u001b[0m\n",
            "\u001b[31;20m2023-10-17 14:35:29,538 ERROR   1201 [_handle_review_exception] (scraper.py:242): Pousada Itararé  - review rating: Traceback (most recent call last):   File \"/content/maps-reviews-api-scraper/scraper/src/scraper.py\", line 284, in _parse_review     rating_text = review.find(True, class_=\"Fam1ne EBe2gf\").get(\"aria-label\") AttributeError: 'NoneType' object has no attribute 'get' \u001b[0m\n",
            "\u001b[31;20m2023-10-17 14:35:29,572 ERROR   1202 [_handle_review_exception] (scraper.py:242): Wish Foz do Igua - review rating: Traceback (most recent call last):   File \"/content/maps-reviews-api-scraper/scraper/src/scraper.py\", line 284, in _parse_review     rating_text = review.find(True, class_=\"Fam1ne EBe2gf\").get(\"aria-label\") AttributeError: 'NoneType' object has no attribute 'get' \u001b[0m\n",
            "\u001b[31;20m2023-10-17 14:35:29,603 ERROR   1202 [_handle_review_exception] (scraper.py:242): Wish Foz do Igua - review rating: Traceback (most recent call last):   File \"/content/maps-reviews-api-scraper/scraper/src/scraper.py\", line 284, in _parse_review     rating_text = review.find(True, class_=\"Fam1ne EBe2gf\").get(\"aria-label\") AttributeError: 'NoneType' object has no attribute 'get' \u001b[0m\n",
            "\u001b[31;20m2023-10-17 14:35:29,631 ERROR   1202 [_handle_review_exception] (scraper.py:242): Wish Foz do Igua - review rating: Traceback (most recent call last):   File \"/content/maps-reviews-api-scraper/scraper/src/scraper.py\", line 284, in _parse_review     rating_text = review.find(True, class_=\"Fam1ne EBe2gf\").get(\"aria-label\") AttributeError: 'NoneType' object has no attribute 'get' \u001b[0m\n",
            "\u001b[31;20m2023-10-17 14:35:29,658 ERROR   1202 [_handle_review_exception] (scraper.py:242): Wish Foz do Igua - review rating: Traceback (most recent call last):   File \"/content/maps-reviews-api-scraper/scraper/src/scraper.py\", line 284, in _parse_review     rating_text = review.find(True, class_=\"Fam1ne EBe2gf\").get(\"aria-label\") AttributeError: 'NoneType' object has no attribute 'get' \u001b[0m\n",
            "\u001b[31;20m2023-10-17 14:35:29,684 ERROR   1202 [_handle_review_exception] (scraper.py:242): Wish Foz do Igua - review rating: Traceback (most recent call last):   File \"/content/maps-reviews-api-scraper/scraper/src/scraper.py\", line 284, in _parse_review     rating_text = review.find(True, class_=\"Fam1ne EBe2gf\").get(\"aria-label\") AttributeError: 'NoneType' object has no attribute 'get' \u001b[0m\n",
            "\u001b[31;20m2023-10-17 14:35:29,717 ERROR   1202 [_handle_review_exception] (scraper.py:242): Wish Foz do Igua - review rating: Traceback (most recent call last):   File \"/content/maps-reviews-api-scraper/scraper/src/scraper.py\", line 284, in _parse_review     rating_text = review.find(True, class_=\"Fam1ne EBe2gf\").get(\"aria-label\") AttributeError: 'NoneType' object has no attribute 'get' \u001b[0m\n",
            "\u001b[31;20m2023-10-17 14:35:29,733 ERROR   1202 [_handle_review_exception] (scraper.py:242): Wish Foz do Igua - review rating: Traceback (most recent call last):   File \"/content/maps-reviews-api-scraper/scraper/src/scraper.py\", line 284, in _parse_review     rating_text = review.find(True, class_=\"Fam1ne EBe2gf\").get(\"aria-label\") AttributeError: 'NoneType' object has no attribute 'get' \u001b[0m\n",
            "\u001b[31;20m2023-10-17 14:35:29,746 ERROR   1202 [_handle_review_exception] (scraper.py:242): Wish Foz do Igua - review rating: Traceback (most recent call last):   File \"/content/maps-reviews-api-scraper/scraper/src/scraper.py\", line 284, in _parse_review     rating_text = review.find(True, class_=\"Fam1ne EBe2gf\").get(\"aria-label\") AttributeError: 'NoneType' object has no attribute 'get' \u001b[0m\n",
            "\u001b[31;20m2023-10-17 14:35:29,757 ERROR   1202 [_handle_review_exception] (scraper.py:242): Wish Foz do Igua - review rating: Traceback (most recent call last):   File \"/content/maps-reviews-api-scraper/scraper/src/scraper.py\", line 284, in _parse_review     rating_text = review.find(True, class_=\"Fam1ne EBe2gf\").get(\"aria-label\") AttributeError: 'NoneType' object has no attribute 'get' \u001b[0m\n",
            "\u001b[38;20m2023-10-17 14:35:29,767 INFO   1201 [scrape_reviews] (scraper.py:394): Pousada Itararé  - Request:        1; review:       10\u001b[0m\n",
            "\u001b[38;20m2023-10-17 14:35:29,967 INFO   1202 [scrape_reviews] (scraper.py:394): Wish Foz do Igua - Request:        1; review:       10\u001b[0m\n",
            "\u001b[31;20m2023-10-17 14:35:30,182 ERROR   1201 [_handle_review_exception] (scraper.py:242): Pousada Itararé  - review rating: Traceback (most recent call last):   File \"/content/maps-reviews-api-scraper/scraper/src/scraper.py\", line 284, in _parse_review     rating_text = review.find(True, class_=\"Fam1ne EBe2gf\").get(\"aria-label\") AttributeError: 'NoneType' object has no attribute 'get' \u001b[0m\n",
            "\u001b[31;20m2023-10-17 14:35:30,193 ERROR   1201 [_handle_review_exception] (scraper.py:242): Pousada Itararé  - review rating: Traceback (most recent call last):   File \"/content/maps-reviews-api-scraper/scraper/src/scraper.py\", line 284, in _parse_review     rating_text = review.find(True, class_=\"Fam1ne EBe2gf\").get(\"aria-label\") AttributeError: 'NoneType' object has no attribute 'get' \u001b[0m\n",
            "\u001b[31;20m2023-10-17 14:35:30,202 ERROR   1201 [_handle_review_exception] (scraper.py:242): Pousada Itararé  - review rating: Traceback (most recent call last):   File \"/content/maps-reviews-api-scraper/scraper/src/scraper.py\", line 284, in _parse_review     rating_text = review.find(True, class_=\"Fam1ne EBe2gf\").get(\"aria-label\") AttributeError: 'NoneType' object has no attribute 'get' \u001b[0m\n",
            "\u001b[31;20m2023-10-17 14:35:30,207 ERROR   1201 [_handle_review_exception] (scraper.py:242): Pousada Itararé  - review rating: Traceback (most recent call last):   File \"/content/maps-reviews-api-scraper/scraper/src/scraper.py\", line 284, in _parse_review     rating_text = review.find(True, class_=\"Fam1ne EBe2gf\").get(\"aria-label\") AttributeError: 'NoneType' object has no attribute 'get' \u001b[0m\n",
            "\u001b[31;20m2023-10-17 14:35:30,213 ERROR   1201 [_handle_review_exception] (scraper.py:242): Pousada Itararé  - review rating: Traceback (most recent call last):   File \"/content/maps-reviews-api-scraper/scraper/src/scraper.py\", line 284, in _parse_review     rating_text = review.find(True, class_=\"Fam1ne EBe2gf\").get(\"aria-label\") AttributeError: 'NoneType' object has no attribute 'get' \u001b[0m\n",
            "\u001b[31;20m2023-10-17 14:35:30,219 ERROR   1201 [_handle_review_exception] (scraper.py:242): Pousada Itararé  - review rating: Traceback (most recent call last):   File \"/content/maps-reviews-api-scraper/scraper/src/scraper.py\", line 284, in _parse_review     rating_text = review.find(True, class_=\"Fam1ne EBe2gf\").get(\"aria-label\") AttributeError: 'NoneType' object has no attribute 'get' \u001b[0m\n",
            "\u001b[31;20m2023-10-17 14:35:30,225 ERROR   1201 [_handle_review_exception] (scraper.py:242): Pousada Itararé  - review rating: Traceback (most recent call last):   File \"/content/maps-reviews-api-scraper/scraper/src/scraper.py\", line 284, in _parse_review     rating_text = review.find(True, class_=\"Fam1ne EBe2gf\").get(\"aria-label\") AttributeError: 'NoneType' object has no attribute 'get' \u001b[0m\n",
            "\u001b[31;20m2023-10-17 14:35:30,232 ERROR   1201 [_handle_review_exception] (scraper.py:242): Pousada Itararé  - review rating: Traceback (most recent call last):   File \"/content/maps-reviews-api-scraper/scraper/src/scraper.py\", line 284, in _parse_review     rating_text = review.find(True, class_=\"Fam1ne EBe2gf\").get(\"aria-label\") AttributeError: 'NoneType' object has no attribute 'get' \u001b[0m\n",
            "\u001b[31;20m2023-10-17 14:35:30,238 ERROR   1201 [_handle_review_exception] (scraper.py:242): Pousada Itararé  - review rating: Traceback (most recent call last):   File \"/content/maps-reviews-api-scraper/scraper/src/scraper.py\", line 284, in _parse_review     rating_text = review.find(True, class_=\"Fam1ne EBe2gf\").get(\"aria-label\") AttributeError: 'NoneType' object has no attribute 'get' \u001b[0m\n",
            "\u001b[31;20m2023-10-17 14:35:30,245 ERROR   1201 [_handle_review_exception] (scraper.py:242): Pousada Itararé  - review rating: Traceback (most recent call last):   File \"/content/maps-reviews-api-scraper/scraper/src/scraper.py\", line 284, in _parse_review     rating_text = review.find(True, class_=\"Fam1ne EBe2gf\").get(\"aria-label\") AttributeError: 'NoneType' object has no attribute 'get' \u001b[0m\n",
            "\u001b[38;20m2023-10-17 14:35:30,450 INFO   1201 [scrape_reviews] (scraper.py:458): Pousada Itararé  - Done Scraping Reviews. Requests made: 2; Reviews parsed: 20\u001b[0m\n",
            "\u001b[31;20m2023-10-17 14:35:30,502 ERROR   1202 [_handle_review_exception] (scraper.py:242): Wish Foz do Igua - review rating: Traceback (most recent call last):   File \"/content/maps-reviews-api-scraper/scraper/src/scraper.py\", line 284, in _parse_review     rating_text = review.find(True, class_=\"Fam1ne EBe2gf\").get(\"aria-label\") AttributeError: 'NoneType' object has no attribute 'get' \u001b[0m\n",
            "\u001b[31;20m2023-10-17 14:35:30,510 ERROR   1202 [_handle_review_exception] (scraper.py:242): Wish Foz do Igua - review rating: Traceback (most recent call last):   File \"/content/maps-reviews-api-scraper/scraper/src/scraper.py\", line 284, in _parse_review     rating_text = review.find(True, class_=\"Fam1ne EBe2gf\").get(\"aria-label\") AttributeError: 'NoneType' object has no attribute 'get' \u001b[0m\n",
            "\u001b[31;20m2023-10-17 14:35:30,517 ERROR   1202 [_handle_review_exception] (scraper.py:242): Wish Foz do Igua - review rating: Traceback (most recent call last):   File \"/content/maps-reviews-api-scraper/scraper/src/scraper.py\", line 284, in _parse_review     rating_text = review.find(True, class_=\"Fam1ne EBe2gf\").get(\"aria-label\") AttributeError: 'NoneType' object has no attribute 'get' \u001b[0m\n",
            "\u001b[31;20m2023-10-17 14:35:30,524 ERROR   1202 [_handle_review_exception] (scraper.py:242): Wish Foz do Igua - review rating: Traceback (most recent call last):   File \"/content/maps-reviews-api-scraper/scraper/src/scraper.py\", line 284, in _parse_review     rating_text = review.find(True, class_=\"Fam1ne EBe2gf\").get(\"aria-label\") AttributeError: 'NoneType' object has no attribute 'get' \u001b[0m\n",
            "\u001b[31;20m2023-10-17 14:35:30,530 ERROR   1202 [_handle_review_exception] (scraper.py:242): Wish Foz do Igua - review rating: Traceback (most recent call last):   File \"/content/maps-reviews-api-scraper/scraper/src/scraper.py\", line 284, in _parse_review     rating_text = review.find(True, class_=\"Fam1ne EBe2gf\").get(\"aria-label\") AttributeError: 'NoneType' object has no attribute 'get' \u001b[0m\n",
            "\u001b[31;20m2023-10-17 14:35:30,537 ERROR   1202 [_handle_review_exception] (scraper.py:242): Wish Foz do Igua - review rating: Traceback (most recent call last):   File \"/content/maps-reviews-api-scraper/scraper/src/scraper.py\", line 284, in _parse_review     rating_text = review.find(True, class_=\"Fam1ne EBe2gf\").get(\"aria-label\") AttributeError: 'NoneType' object has no attribute 'get' \u001b[0m\n",
            "\u001b[31;20m2023-10-17 14:35:30,545 ERROR   1202 [_handle_review_exception] (scraper.py:242): Wish Foz do Igua - review rating: Traceback (most recent call last):   File \"/content/maps-reviews-api-scraper/scraper/src/scraper.py\", line 284, in _parse_review     rating_text = review.find(True, class_=\"Fam1ne EBe2gf\").get(\"aria-label\") AttributeError: 'NoneType' object has no attribute 'get' \u001b[0m\n",
            "\u001b[31;20m2023-10-17 14:35:30,552 ERROR   1202 [_handle_review_exception] (scraper.py:242): Wish Foz do Igua - review rating: Traceback (most recent call last):   File \"/content/maps-reviews-api-scraper/scraper/src/scraper.py\", line 284, in _parse_review     rating_text = review.find(True, class_=\"Fam1ne EBe2gf\").get(\"aria-label\") AttributeError: 'NoneType' object has no attribute 'get' \u001b[0m\n",
            "\u001b[31;20m2023-10-17 14:35:30,558 ERROR   1202 [_handle_review_exception] (scraper.py:242): Wish Foz do Igua - review rating: Traceback (most recent call last):   File \"/content/maps-reviews-api-scraper/scraper/src/scraper.py\", line 284, in _parse_review     rating_text = review.find(True, class_=\"Fam1ne EBe2gf\").get(\"aria-label\") AttributeError: 'NoneType' object has no attribute 'get' \u001b[0m\n",
            "\u001b[31;20m2023-10-17 14:35:30,565 ERROR   1202 [_handle_review_exception] (scraper.py:242): Wish Foz do Igua - review rating: Traceback (most recent call last):   File \"/content/maps-reviews-api-scraper/scraper/src/scraper.py\", line 284, in _parse_review     rating_text = review.find(True, class_=\"Fam1ne EBe2gf\").get(\"aria-label\") AttributeError: 'NoneType' object has no attribute 'get' \u001b[0m\n",
            "\u001b[38;20m2023-10-17 14:35:30,770 INFO   1202 [scrape_reviews] (scraper.py:458): Wish Foz do Igua - Done Scraping Reviews. Requests made: 2; Reviews parsed: 20\u001b[0m\n",
            "\u001b[38;20m2023-10-17 14:35:30,788 INFO   1179 [    call_pools] (app.py: 57): - Finished running scraper async\u001b[0m\n",
            "\u001b[38;20m2023-10-17 14:35:30,792 INFO   1179 [   log_summary] (app.py: 70): - name:test pousada ita; place_name:                ; n_max:   148; n_input:    20; n_scraped:    20; n_errors:105600\u001b[0m\n",
            "\u001b[38;20m2023-10-17 14:35:30,795 INFO   1179 [   log_summary] (app.py: 70): - name:Wish Foz do Igua; place_name:                ; n_max:  6418; n_input:    20; n_scraped:    20; n_errors:105600\u001b[0m\n"
          ]
        }
      ],
      "source": [
        "!python -m app run-async --path ./input/test.csv"
      ]
    }
  ],
  "metadata": {
    "colab": {
      "provenance": [],
      "include_colab_link": true
    },
    "kernelspec": {
      "display_name": "Python 3",
      "name": "python3"
    }
  },
  "nbformat": 4,
  "nbformat_minor": 0
}
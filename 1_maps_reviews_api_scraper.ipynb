{
  "cells": [
    {
      "cell_type": "markdown",
      "metadata": {
        "colab_type": "text",
        "id": "view-in-github"
      },
      "source": [
        "<a href=\"https://colab.research.google.com/github/brusangues/maps-reviews-api-scraper/blob/reorganization/1_maps_reviews_api_scraper.ipynb\" target=\"_parent\"><img src=\"https://colab.research.google.com/assets/colab-badge.svg\" alt=\"Open In Colab\"/></a>"
      ]
    },
    {
      "cell_type": "markdown",
      "metadata": {
        "id": "IBBShi00DHPl"
      },
      "source": [
        "# 1. Dados Textuais"
      ]
    },
    {
      "cell_type": "markdown",
      "metadata": {
        "id": "XNou0yqsDHPo"
      },
      "source": [
        "Utilizaremos uma ferramenta scraper para obter dados de texto de avaliações de hotéis no Google Maps.\n",
        "Depois, faremos um tratamento básico desses dados."
      ]
    },
    {
      "cell_type": "markdown",
      "metadata": {},
      "source": [
        "## 1.1. Utilizando o Scraper para extração de Dados"
      ]
    },
    {
      "cell_type": "code",
      "execution_count": 1,
      "metadata": {
        "colab": {
          "base_uri": "https://localhost:8080/"
        },
        "id": "-u7qkXtwISYD",
        "outputId": "921c786d-a7b4-4d09-b28c-4953b40ca9c1"
      },
      "outputs": [
        {
          "name": "stdout",
          "output_type": "stream",
          "text": [
            "fatal: destination path 'maps-reviews-api-scraper' already exists and is not an empty directory.\n"
          ]
        }
      ],
      "source": [
        "!git clone --branch reorganization https://github.com/brusangues/maps-reviews-api-scraper"
      ]
    },
    {
      "cell_type": "code",
      "execution_count": 4,
      "metadata": {
        "colab": {
          "base_uri": "https://localhost:8080/"
        },
        "id": "k_gfRy_DDdQH",
        "outputId": "cdc92472-daa0-4e38-d675-f02f6d9c38f5"
      },
      "outputs": [
        {
          "name": "stdout",
          "output_type": "stream",
          "text": [
            "/content/maps-reviews-api-scraper/scraper\n"
          ]
        }
      ],
      "source": [
        "%cd /content/maps-reviews-api-scraper/scraper"
      ]
    },
    {
      "cell_type": "code",
      "execution_count": 3,
      "metadata": {
        "colab": {
          "base_uri": "https://localhost:8080/"
        },
        "id": "iuvTZhRAJC9Q",
        "outputId": "1e0fc392-e323-4976-c399-648fca2c76a0"
      },
      "outputs": [
        {
          "name": "stdout",
          "output_type": "stream",
          "text": [
            "Requirement already satisfied: pandas in /usr/local/lib/python3.10/dist-packages (from -r requirements.txt (line 1)) (1.5.3)\n",
            "Requirement already satisfied: beautifulsoup4 in /usr/local/lib/python3.10/dist-packages (from -r requirements.txt (line 2)) (4.11.2)\n",
            "Requirement already satisfied: lxml in /usr/local/lib/python3.10/dist-packages (from -r requirements.txt (line 3)) (4.9.3)\n",
            "Requirement already satisfied: regex in /usr/local/lib/python3.10/dist-packages (from -r requirements.txt (line 4)) (2023.6.3)\n",
            "Requirement already satisfied: requests in /usr/local/lib/python3.10/dist-packages (from -r requirements.txt (line 5)) (2.31.0)\n",
            "Requirement already satisfied: typer in /usr/local/lib/python3.10/dist-packages (from -r requirements.txt (line 6)) (0.9.0)\n",
            "Requirement already satisfied: openpyxl in /usr/local/lib/python3.10/dist-packages (from -r requirements.txt (line 7)) (3.1.2)\n",
            "Requirement already satisfied: pyarrow in /usr/local/lib/python3.10/dist-packages (from -r requirements.txt (line 8)) (9.0.0)\n",
            "Requirement already satisfied: unidecode in /usr/local/lib/python3.10/dist-packages (from -r requirements.txt (line 9)) (1.3.7)\n",
            "Requirement already satisfied: dateutils in /usr/local/lib/python3.10/dist-packages (from -r requirements.txt (line 10)) (0.6.12)\n",
            "Requirement already satisfied: plotly in /usr/local/lib/python3.10/dist-packages (from -r requirements.txt (line 11)) (5.15.0)\n",
            "Requirement already satisfied: python-dateutil>=2.8.1 in /usr/local/lib/python3.10/dist-packages (from pandas->-r requirements.txt (line 1)) (2.8.2)\n",
            "Requirement already satisfied: pytz>=2020.1 in /usr/local/lib/python3.10/dist-packages (from pandas->-r requirements.txt (line 1)) (2023.3.post1)\n",
            "Requirement already satisfied: numpy>=1.21.0 in /usr/local/lib/python3.10/dist-packages (from pandas->-r requirements.txt (line 1)) (1.23.5)\n",
            "Requirement already satisfied: soupsieve>1.2 in /usr/local/lib/python3.10/dist-packages (from beautifulsoup4->-r requirements.txt (line 2)) (2.5)\n",
            "Requirement already satisfied: charset-normalizer<4,>=2 in /usr/local/lib/python3.10/dist-packages (from requests->-r requirements.txt (line 5)) (3.3.0)\n",
            "Requirement already satisfied: idna<4,>=2.5 in /usr/local/lib/python3.10/dist-packages (from requests->-r requirements.txt (line 5)) (3.4)\n",
            "Requirement already satisfied: urllib3<3,>=1.21.1 in /usr/local/lib/python3.10/dist-packages (from requests->-r requirements.txt (line 5)) (2.0.6)\n",
            "Requirement already satisfied: certifi>=2017.4.17 in /usr/local/lib/python3.10/dist-packages (from requests->-r requirements.txt (line 5)) (2023.7.22)\n",
            "Requirement already satisfied: click<9.0.0,>=7.1.1 in /usr/local/lib/python3.10/dist-packages (from typer->-r requirements.txt (line 6)) (8.1.7)\n",
            "Requirement already satisfied: typing-extensions>=3.7.4.3 in /usr/local/lib/python3.10/dist-packages (from typer->-r requirements.txt (line 6)) (4.5.0)\n",
            "Requirement already satisfied: et-xmlfile in /usr/local/lib/python3.10/dist-packages (from openpyxl->-r requirements.txt (line 7)) (1.1.0)\n",
            "Requirement already satisfied: tenacity>=6.2.0 in /usr/local/lib/python3.10/dist-packages (from plotly->-r requirements.txt (line 11)) (8.2.3)\n",
            "Requirement already satisfied: packaging in /usr/local/lib/python3.10/dist-packages (from plotly->-r requirements.txt (line 11)) (23.2)\n",
            "Requirement already satisfied: six>=1.5 in /usr/local/lib/python3.10/dist-packages (from python-dateutil>=2.8.1->pandas->-r requirements.txt (line 1)) (1.16.0)\n"
          ]
        }
      ],
      "source": [
        "!pip install -r requirements.txt"
      ]
    },
    {
      "cell_type": "code",
      "execution_count": 6,
      "metadata": {},
      "outputs": [
        {
          "name": "stdout",
          "output_type": "stream",
          "text": [
            "c:\\Users\\Bruno\\Documents\\GitHub\\pgc2_23_01_29\\scraper\n"
          ]
        }
      ],
      "source": [
        "%cd scraper/"
      ]
    },
    {
      "cell_type": "code",
      "execution_count": 4,
      "metadata": {},
      "outputs": [
        {
          "name": "stdout",
          "output_type": "stream",
          "text": [
            "0_places.ipynb\n",
            "1_maps_reviews_api_scraper.ipynb\n",
            "2_large_language_models.ipynb\n",
            "3_text_summarization.ipynb\n",
            "4_chatbot.ipynb\n",
            "LICENSE.txt\n",
            "README.MD\n",
            "__pycache__\n",
            "_other\n",
            "analysis\n",
            "data\n",
            "env\n",
            "llms\n",
            "paper\n",
            "references.txt\n",
            "reports\n",
            "requirements.txt\n",
            "scraper\n",
            "sql\n",
            "sql.ipynb\n",
            "telegram_bot.py\n"
          ]
        }
      ],
      "source": [
        "!ls"
      ]
    },
    {
      "cell_type": "code",
      "execution_count": 7,
      "metadata": {
        "colab": {
          "base_uri": "https://localhost:8080/"
        },
        "id": "OyySIeEFJQrS",
        "outputId": "3d59dd68-a16c-49a7-803b-be6fb4422020"
      },
      "outputs": [
        {
          "name": "stderr",
          "output_type": "stream",
          "text": [
            "\u001b[38;20m2025-02-12 13:36:38,109 INFO  18984 [    call_pools] (app.py: 46): - Running async\u001b[0m\n",
            "\u001b[38;20m2025-02-12 13:36:40,040 INFO   1448 [  call_scraper] (app.py: 84): - folder created\u001b[0m\n",
            "\u001b[38;20m2025-02-12 13:36:40,041 INFO  20188 [  call_scraper] (app.py: 84): - folder created\u001b[0m\n",
            "\u001b[38;20m2025-02-12 13:36:40,057 INFO   1448 [  scrape_place] (scraper.py:479): Pousada Itararé  - Scraping metadata for url: Pousada Itararé\u001b[0m\n",
            "\u001b[38;20m2025-02-12 13:36:40,057 INFO  20188 [  scrape_place] (scraper.py:479): Wish Foz do Igua - Scraping metadata for url: Wish Foz do Iguaçu\u001b[0m\n",
            "\u001b[38;20m2025-02-12 13:36:40,058 INFO   1448 [  scrape_place] (scraper.py:483): Pousada Itararé  - Parsing metadata...\u001b[0m\n",
            "\u001b[38;20m2025-02-12 13:36:40,058 INFO  20188 [  scrape_place] (scraper.py:483): Wish Foz do Igua - Parsing metadata...\u001b[0m\n",
            "\u001b[38;20m2025-02-12 13:36:40,801 INFO   1448 [  call_scraper] (app.py:122): Pousada Itararé  - header written\u001b[0m\n",
            "\u001b[38;20m2025-02-12 13:36:40,801 INFO   1448 [scrape_reviews] (scraper.py:387): Pousada Itararé  - Scraping reviews for url: Pousada Itararé\u001b[0m\n",
            "\u001b[38;20m2025-02-12 13:36:40,801 INFO   1448 [scrape_reviews] (scraper.py:397): Pousada Itararé  - Request:        0; review:        0\u001b[0m\n",
            "\u001b[38;20m2025-02-12 13:36:40,830 INFO  20188 [  call_scraper] (app.py:122): Wish Foz do Igua - header written\u001b[0m\n",
            "\u001b[38;20m2025-02-12 13:36:40,830 INFO  20188 [scrape_reviews] (scraper.py:387): Wish Foz do Igua - Scraping reviews for url: Wish Foz do Iguaçu\u001b[0m\n",
            "\u001b[38;20m2025-02-12 13:36:40,830 INFO  20188 [scrape_reviews] (scraper.py:397): Wish Foz do Igua - Request:        0; review:        0\u001b[0m\n",
            "\u001b[38;20m2025-02-12 13:36:41,723 INFO   1448 [scrape_reviews] (scraper.py:397): Pousada Itararé  - Request:        1; review:       10\u001b[0m\n",
            "\u001b[38;20m2025-02-12 13:36:41,801 INFO  20188 [scrape_reviews] (scraper.py:397): Wish Foz do Igua - Request:        1; review:       10\u001b[0m\n",
            "\u001b[38;20m2025-02-12 13:36:42,646 INFO   1448 [scrape_reviews] (scraper.py:397): Pousada Itararé  - Request:        2; review:       20\u001b[0m\n",
            "\u001b[38;20m2025-02-12 13:36:42,754 INFO  20188 [scrape_reviews] (scraper.py:461): Wish Foz do Igua - Done Scraping Reviews. Requests made: 2; Reviews parsed: 20\u001b[0m\n",
            "\u001b[38;20m2025-02-12 13:36:43,581 INFO   1448 [scrape_reviews] (scraper.py:397): Pousada Itararé  - Request:        3; review:       30\u001b[0m\n",
            "\u001b[38;20m2025-02-12 13:36:44,455 INFO   1448 [scrape_reviews] (scraper.py:397): Pousada Itararé  - Request:        4; review:       40\u001b[0m\n",
            "\u001b[38;20m2025-02-12 13:36:45,347 INFO   1448 [scrape_reviews] (scraper.py:397): Pousada Itararé  - Request:        5; review:       50\u001b[0m\n",
            "\u001b[38;20m2025-02-12 13:36:46,235 INFO   1448 [scrape_reviews] (scraper.py:397): Pousada Itararé  - Request:        6; review:       60\u001b[0m\n",
            "\u001b[38;20m2025-02-12 13:36:47,110 INFO   1448 [scrape_reviews] (scraper.py:397): Pousada Itararé  - Request:        7; review:       70\u001b[0m\n",
            "\u001b[38;20m2025-02-12 13:36:48,046 INFO   1448 [scrape_reviews] (scraper.py:397): Pousada Itararé  - Request:        8; review:       80\u001b[0m\n",
            "\u001b[38;20m2025-02-12 13:36:48,877 INFO   1448 [scrape_reviews] (scraper.py:397): Pousada Itararé  - Request:        9; review:       90\u001b[0m\n",
            "\u001b[38;20m2025-02-12 13:36:49,909 INFO   1448 [scrape_reviews] (scraper.py:397): Pousada Itararé  - Request:       10; review:      100\u001b[0m\n",
            "\u001b[38;20m2025-02-12 13:36:50,766 INFO   1448 [scrape_reviews] (scraper.py:397): Pousada Itararé  - Request:       11; review:      110\u001b[0m\n",
            "\u001b[38;20m2025-02-12 13:36:51,627 INFO   1448 [scrape_reviews] (scraper.py:397): Pousada Itararé  - Request:       12; review:      120\u001b[0m\n",
            "\u001b[38;20m2025-02-12 13:36:52,503 INFO   1448 [scrape_reviews] (scraper.py:397): Pousada Itararé  - Request:       13; review:      130\u001b[0m\n",
            "\u001b[38;20m2025-02-12 13:36:53,423 INFO   1448 [scrape_reviews] (scraper.py:397): Pousada Itararé  - Request:       14; review:      140\u001b[0m\n",
            "\u001b[38;20m2025-02-12 13:36:54,343 INFO   1448 [scrape_reviews] (scraper.py:397): Pousada Itararé  - Request:       15; review:      150\u001b[0m\n",
            "\u001b[38;20m2025-02-12 13:36:55,145 INFO   1448 [scrape_reviews] (scraper.py:455): Pousada Itararé  - Place review limit at 154 reviews\u001b[0m\n",
            "\u001b[38;20m2025-02-12 13:36:55,145 INFO   1448 [scrape_reviews] (scraper.py:461): Pousada Itararé  - Done Scraping Reviews. Requests made: 16; Reviews parsed: 154\u001b[0m\n",
            "\u001b[38;20m2025-02-12 13:36:55,170 INFO  18984 [    call_pools] (app.py: 57): - Finished running scraper async\u001b[0m\n",
            "\u001b[38;20m2025-02-12 13:36:55,171 INFO  18984 [   log_summary] (app.py: 70): - name:test pousada ita; place_name:Pousada Itararé ; n_max:   128; n_input:   160; n_scraped:   154; n_errors:0\u001b[0m\n",
            "\u001b[38;20m2025-02-12 13:36:55,171 INFO  18984 [   log_summary] (app.py: 70): - name:Wish Foz do Igua; place_name:Wish Foz do Igua; n_max:  5759; n_input:    20; n_scraped:    20; n_errors:0\u001b[0m\n"
          ]
        }
      ],
      "source": [
        "!python -m app run-async --path ./input/test.csv"
      ]
    },
    {
      "cell_type": "markdown",
      "metadata": {},
      "source": [
        "## 1.2. Reunindo os Resultados"
      ]
    },
    {
      "cell_type": "code",
      "execution_count": 1,
      "metadata": {},
      "outputs": [],
      "source": [
        "%load_ext autoreload\n",
        "\n",
        "%autoreload 2"
      ]
    },
    {
      "cell_type": "code",
      "execution_count": 2,
      "metadata": {},
      "outputs": [],
      "source": [
        "%autoreload 2\n",
        "\n",
        "import json\n",
        "import logging\n",
        "import os\n",
        "from datetime import datetime\n",
        "from pathlib import Path\n",
        "\n",
        "import pandas as pd\n",
        "import regex as re\n",
        "import typer\n",
        "from dateutils import relativedelta\n",
        "from unidecode import unidecode\n",
        "\n",
        "# Removendo aviso de debug\n",
        "os.environ[\"PYDEVD_WARN_SLOW_RESOLVE_TIMEOUT\"] = \"3000\"\n",
        "# Removendo limitação de print de dfs\n",
        "# pd.set_option(\"display.max_rows\", 500)\n",
        "# pd.set_option(\"display.max_columns\", 500)\n",
        "# pd.set_option(\"display.width\", 1000)\n"
      ]
    },
    {
      "cell_type": "code",
      "execution_count": 3,
      "metadata": {},
      "outputs": [],
      "source": [
        "# Caminho da pasta contendo os csvs\n",
        "data_path = \"scraper/data/2025/02/16/\"\n",
        "input_file = \"scraper/input/hotels_2025_v2.csv\"\n",
        "data_folder = \"./data\"\n",
        "Path(data_folder).mkdir(exist_ok=True)"
      ]
    },
    {
      "cell_type": "code",
      "execution_count": 4,
      "metadata": {},
      "outputs": [
        {
          "name": "stdout",
          "output_type": "stream",
          "text": [
            "read_data...\n",
            "Lendo arquivo de input\n",
            "input.shape=(1406, 17)\n",
            "input.columns=Index(['done', 'name_input', 'n_reviews_input', 'sort_by', 'hl', 'url',\n",
            "       'google_id', 'n_reviews_max', 'dt_selection', 'stars', 'city', 'sigla',\n",
            "       'estado', 'capital', 'regiao', 'category', 'subtypes'],\n",
            "      dtype='object')\n",
            "Lendo metadados dos hotéis baixados no início da raspagem\n"
          ]
        },
        {
          "name": "stderr",
          "output_type": "stream",
          "text": [
            "100%|██████████| 1369/1369 [00:12<00:00, 107.41it/s]\n"
          ]
        },
        {
          "name": "stdout",
          "output_type": "stream",
          "text": [
            "metadata.shape=(1369, 10)\n",
            "metadata.columns=Index(['name', 'feature_id', 'retrieval_date_metadata', 'place_name',\n",
            "       'address', 'overall_rating', 'n_reviews', 'topics', 'url', 'file_name'],\n",
            "      dtype='object')\n",
            "Lendo avaliações dos hotéis\n"
          ]
        },
        {
          "name": "stderr",
          "output_type": "stream",
          "text": [
            "100%|██████████| 1372/1372 [00:39<00:00, 34.38it/s]\n"
          ]
        },
        {
          "name": "stdout",
          "output_type": "stream",
          "text": [
            "df_reviews.shape=(792603, 19)\n",
            "df_reviews.columns=Index(['token', 'review_id', 'retrieval_date', 'rating', 'rating_max',\n",
            "       'relative_date', 'likes', 'other_ratings', 'trip_type_travel_group',\n",
            "       'user_name', 'user_is_local_guide', 'user_reviews', 'user_photos',\n",
            "       'user_url', 'text', 'response_text', 'response_relative_date', 'errors',\n",
            "       'file_name'],\n",
            "      dtype='object')\n",
            "Removendo lixo das avaliações dos hotéis\n",
            "df_reviews.shape=(791226, 19)\n",
            "Unindo as diferentes fontes de dados\n",
            "Merge input metadata\n",
            "df_hotels.shape=(1406, 26)\n",
            "Removendo hotéis sem metadados (file_name.isna())\n",
            "df_hotels.shape=(1369, 26)\n",
            "Merge avaliações\n",
            "df_merge.shape=(791123, 44)\n",
            "df_merge.columns=Index(['done', 'name_input', 'n_reviews_input', 'sort_by', 'hl', 'url',\n",
            "       'google_id', 'n_reviews_max', 'dt_selection', 'stars', 'city', 'sigla',\n",
            "       'estado', 'capital', 'regiao', 'category', 'subtypes', 'name',\n",
            "       'feature_id', 'retrieval_date_metadata', 'place_name', 'address',\n",
            "       'overall_rating', 'n_reviews', 'topics', 'file_name', 'token',\n",
            "       'review_id', 'retrieval_date', 'rating', 'rating_max', 'relative_date',\n",
            "       'likes', 'other_ratings', 'trip_type_travel_group', 'user_name',\n",
            "       'user_is_local_guide', 'user_reviews', 'user_photos', 'user_url',\n",
            "       'text', 'response_text', 'response_relative_date', 'errors'],\n",
            "      dtype='object')\n"
          ]
        }
      ],
      "source": [
        "from analysis.src.prep import read_data\n",
        "\n",
        "df = read_data(input_file, data_path)"
      ]
    },
    {
      "cell_type": "code",
      "execution_count": 6,
      "metadata": {},
      "outputs": [],
      "source": [
        "# Saving\n",
        "# save_df(df, \"data\", \"df_raw\")"
      ]
    },
    {
      "cell_type": "code",
      "execution_count": 5,
      "metadata": {},
      "outputs": [
        {
          "data": {
            "text/plain": [
              "[]    791123\n",
              "Name: errors, dtype: int64"
            ]
          },
          "execution_count": 5,
          "metadata": {},
          "output_type": "execute_result"
        }
      ],
      "source": [
        "# Checking for errors\n",
        "df.errors.value_counts(dropna=False)"
      ]
    },
    {
      "cell_type": "code",
      "execution_count": 6,
      "metadata": {},
      "outputs": [
        {
          "name": "stdout",
          "output_type": "stream",
          "text": [
            "df_duplicates.shape (390, 44)\n",
            "df.shape (790928, 44)\n"
          ]
        }
      ],
      "source": [
        "# Checking for duplicate reviews\n",
        "duplicate_ids = df[df.review_id.duplicated()].review_id\n",
        "df_duplicates = df[df.review_id.isin(duplicate_ids)]\n",
        "print(\"df_duplicates.shape\", df_duplicates.shape)\n",
        "# Dropping duplicate\n",
        "df = df.drop_duplicates(subset=\"review_id\").reset_index(drop=True)\n",
        "print(\"df.shape\", df.shape)"
      ]
    },
    {
      "cell_type": "code",
      "execution_count": 7,
      "metadata": {},
      "outputs": [
        {
          "data": {
            "text/plain": [
              "Index(['done', 'name_input', 'n_reviews_input', 'sort_by', 'hl', 'url',\n",
              "       'google_id', 'n_reviews_max', 'dt_selection', 'stars', 'city', 'sigla',\n",
              "       'estado', 'capital', 'regiao', 'category', 'subtypes', 'name',\n",
              "       'feature_id', 'retrieval_date_metadata', 'place_name', 'address',\n",
              "       'overall_rating', 'n_reviews', 'topics', 'file_name', 'token',\n",
              "       'review_id', 'retrieval_date', 'rating', 'rating_max', 'relative_date',\n",
              "       'likes', 'other_ratings', 'trip_type_travel_group', 'user_name',\n",
              "       'user_is_local_guide', 'user_reviews', 'user_photos', 'user_url',\n",
              "       'text', 'response_text', 'response_relative_date', 'errors'],\n",
              "      dtype='object')"
            ]
          },
          "execution_count": 7,
          "metadata": {},
          "output_type": "execute_result"
        }
      ],
      "source": [
        "df.columns"
      ]
    },
    {
      "cell_type": "code",
      "execution_count": 8,
      "metadata": {},
      "outputs": [],
      "source": [
        "df.likes = df.likes.astype(float).replace(-1,0)\n",
        "df.rating = df.rating.astype(float)\n",
        "df.user_is_local_guide = df.user_is_local_guide.astype(bool).astype(float)\n",
        "df.retrieval_date = pd.to_datetime(df.retrieval_date)"
      ]
    },
    {
      "cell_type": "code",
      "execution_count": 9,
      "metadata": {},
      "outputs": [],
      "source": [
        "from analysis.src.config import agg_dict\n",
        "\n",
        "# Counting actual number of reviews per hotel\n",
        "df_count = df.groupby([\"name\"]).agg(agg_dict).reset_index()\n",
        "df_count[\"n_reviews_diff\"] = df_count.n_reviews - df_count.review_id\n",
        "df_count[\"n_reviews\"] = df_count[\"n_reviews\"].astype(int)"
      ]
    },
    {
      "cell_type": "code",
      "execution_count": 10,
      "metadata": {},
      "outputs": [
        {
          "data": {
            "text/html": [
              "<div>\n",
              "<style scoped>\n",
              "    .dataframe tbody tr th:only-of-type {\n",
              "        vertical-align: middle;\n",
              "    }\n",
              "\n",
              "    .dataframe tbody tr th {\n",
              "        vertical-align: top;\n",
              "    }\n",
              "\n",
              "    .dataframe thead th {\n",
              "        text-align: right;\n",
              "    }\n",
              "</style>\n",
              "<table border=\"1\" class=\"dataframe\">\n",
              "  <thead>\n",
              "    <tr style=\"text-align: right;\">\n",
              "      <th></th>\n",
              "      <th>name</th>\n",
              "      <th>n_reviews_max</th>\n",
              "      <th>n_reviews</th>\n",
              "      <th>review_id</th>\n",
              "      <th>n_reviews_diff</th>\n",
              "    </tr>\n",
              "  </thead>\n",
              "  <tbody>\n",
              "    <tr>\n",
              "      <th>0</th>\n",
              "      <td>50 Hotel</td>\n",
              "      <td>344</td>\n",
              "      <td>363</td>\n",
              "      <td>363</td>\n",
              "      <td>0.0</td>\n",
              "    </tr>\n",
              "    <tr>\n",
              "      <th>1</th>\n",
              "      <td>A S Suites</td>\n",
              "      <td>18</td>\n",
              "      <td>23</td>\n",
              "      <td>23</td>\n",
              "      <td>0.0</td>\n",
              "    </tr>\n",
              "    <tr>\n",
              "      <th>2</th>\n",
              "      <td>AFPESP - Amparo</td>\n",
              "      <td>1172</td>\n",
              "      <td>1345</td>\n",
              "      <td>1345</td>\n",
              "      <td>0.0</td>\n",
              "    </tr>\n",
              "    <tr>\n",
              "      <th>3</th>\n",
              "      <td>AFPESP - Serra Negra</td>\n",
              "      <td>2802</td>\n",
              "      <td>2924</td>\n",
              "      <td>2924</td>\n",
              "      <td>0.0</td>\n",
              "    </tr>\n",
              "    <tr>\n",
              "      <th>4</th>\n",
              "      <td>AMORIM POUSADA &amp; POSTO FRECHEIRINHA</td>\n",
              "      <td>70</td>\n",
              "      <td>85</td>\n",
              "      <td>85</td>\n",
              "      <td>0.0</td>\n",
              "    </tr>\n",
              "    <tr>\n",
              "      <th>...</th>\n",
              "      <td>...</td>\n",
              "      <td>...</td>\n",
              "      <td>...</td>\n",
              "      <td>...</td>\n",
              "      <td>...</td>\n",
              "    </tr>\n",
              "    <tr>\n",
              "      <th>1124</th>\n",
              "      <td>ibis budget Manaus</td>\n",
              "      <td>2776</td>\n",
              "      <td>3404</td>\n",
              "      <td>3404</td>\n",
              "      <td>0.0</td>\n",
              "    </tr>\n",
              "    <tr>\n",
              "      <th>1125</th>\n",
              "      <td>pousada morada do sol</td>\n",
              "      <td>36</td>\n",
              "      <td>37</td>\n",
              "      <td>37</td>\n",
              "      <td>0.0</td>\n",
              "    </tr>\n",
              "    <tr>\n",
              "      <th>1126</th>\n",
              "      <td>Água Viva Thermas Resort</td>\n",
              "      <td>1555</td>\n",
              "      <td>1601</td>\n",
              "      <td>1601</td>\n",
              "      <td>0.0</td>\n",
              "    </tr>\n",
              "    <tr>\n",
              "      <th>1127</th>\n",
              "      <td>Átis Hotel</td>\n",
              "      <td>420</td>\n",
              "      <td>432</td>\n",
              "      <td>432</td>\n",
              "      <td>0.0</td>\n",
              "    </tr>\n",
              "    <tr>\n",
              "      <th>1128</th>\n",
              "      <td>Órion Hotel</td>\n",
              "      <td>1106</td>\n",
              "      <td>1155</td>\n",
              "      <td>1156</td>\n",
              "      <td>-1.0</td>\n",
              "    </tr>\n",
              "  </tbody>\n",
              "</table>\n",
              "<p>1129 rows × 5 columns</p>\n",
              "</div>"
            ],
            "text/plain": [
              "                                     name  n_reviews_max  n_reviews  \\\n",
              "0                                50 Hotel            344        363   \n",
              "1                              A S Suites             18         23   \n",
              "2                         AFPESP - Amparo           1172       1345   \n",
              "3                    AFPESP - Serra Negra           2802       2924   \n",
              "4     AMORIM POUSADA & POSTO FRECHEIRINHA             70         85   \n",
              "...                                   ...            ...        ...   \n",
              "1124                   ibis budget Manaus           2776       3404   \n",
              "1125                pousada morada do sol             36         37   \n",
              "1126             Água Viva Thermas Resort           1555       1601   \n",
              "1127                           Átis Hotel            420        432   \n",
              "1128                          Órion Hotel           1106       1155   \n",
              "\n",
              "      review_id  n_reviews_diff  \n",
              "0           363             0.0  \n",
              "1            23             0.0  \n",
              "2          1345             0.0  \n",
              "3          2924             0.0  \n",
              "4            85             0.0  \n",
              "...         ...             ...  \n",
              "1124       3404             0.0  \n",
              "1125         37             0.0  \n",
              "1126       1601             0.0  \n",
              "1127        432             0.0  \n",
              "1128       1156            -1.0  \n",
              "\n",
              "[1129 rows x 5 columns]"
            ]
          },
          "execution_count": 10,
          "metadata": {},
          "output_type": "execute_result"
        }
      ],
      "source": [
        "df_count[[\"name\",\"n_reviews_max\",\"n_reviews\",\"review_id\",\"n_reviews_diff\"]]"
      ]
    },
    {
      "cell_type": "code",
      "execution_count": 11,
      "metadata": {},
      "outputs": [
        {
          "data": {
            "text/plain": [
              "text_percentage         0.580089\n",
              "text               461096.000000\n",
              "review_id          790928.000000\n",
              "dtype: float64"
            ]
          },
          "execution_count": 11,
          "metadata": {},
          "output_type": "execute_result"
        }
      ],
      "source": [
        "# Counting how many reviews have text\n",
        "df_count[\"text_percentage\"] = df_count[\"text\"] / df_count[\"review_id\"]\n",
        "df_count[[\"text_percentage\", \"text\", \"review_id\"]]\n",
        "df_count2 = df_count.agg(\n",
        "    {\"text_percentage\": \"mean\", \"text\": \"sum\", \"review_id\": \"sum\"}\n",
        ")\n",
        "df_count2"
      ]
    },
    {
      "cell_type": "markdown",
      "metadata": {},
      "source": [
        "## 1.3. Tratamento Básico"
      ]
    },
    {
      "cell_type": "code",
      "execution_count": 12,
      "metadata": {},
      "outputs": [
        {
          "name": "stdout",
          "output_type": "stream",
          "text": [
            "df.shape=(790928, 44)\n",
            "drop duplicates\n",
            "df.shape=(790928, 44)\n",
            "likes\n",
            "df.likes.value_counts()=0.0      729540\n",
            "1.0       46408\n",
            "2.0        9329\n",
            "3.0        2911\n",
            "4.0        1230\n",
            "5.0         609\n",
            "6.0         278\n",
            "7.0         190\n",
            "8.0         103\n",
            "9.0          87\n",
            "10.0         56\n",
            "11.0         28\n",
            "12.0         26\n",
            "13.0         19\n",
            "14.0         17\n",
            "15.0         13\n",
            "16.0         11\n",
            "18.0         11\n",
            "17.0          9\n",
            "20.0          5\n",
            "21.0          4\n",
            "26.0          4\n",
            "23.0          4\n",
            "27.0          4\n",
            "24.0          4\n",
            "25.0          3\n",
            "19.0          2\n",
            "30.0          2\n",
            "60.0          1\n",
            "34.0          1\n",
            "32.0          1\n",
            "28.0          1\n",
            "54.0          1\n",
            "42.0          1\n",
            "80.0          1\n",
            "29.0          1\n",
            "79.0          1\n",
            "49.0          1\n",
            "122.0         1\n",
            "48.0          1\n",
            "22.0          1\n",
            "43.0          1\n",
            "31.0          1\n",
            "106.0         1\n",
            "92.0          1\n",
            "38.0          1\n",
            "46.0          1\n",
            "45.0          1\n",
            "41.0          1\n",
            "Name: likes, dtype: int64\n",
            "trip_type_travel_group\n",
            "df.trip_type_travel_group.value_counts()=[Férias, Família]                              39621\n",
            "[Férias, Casal]                                21472\n",
            "[Férias]                                       13552\n",
            "[Negócios, Sozinho]                            11654\n",
            "[Família]                                       8905\n",
            "                                               ...  \n",
            "[Refeição no local, Café da manhã, R$ 1 20]        1\n",
            "[Refeição no local, Brunch, R$ 40 60]              1\n",
            "[Refeição no local, Brunch, R$ 80 100]             1\n",
            "[Refeição no local, R$ 40 60]                      1\n",
            "[Refeição no local, Almoço, R$ 180 200]            1\n",
            "Name: trip_type_travel_group, Length: 122, dtype: int64\n",
            "relative dates\n"
          ]
        },
        {
          "name": "stderr",
          "output_type": "stream",
          "text": [
            "100%|██████████| 790928/790928 [03:04<00:00, 4292.69it/s]\n",
            "100%|██████████| 790928/790928 [01:27<00:00, 8996.60it/s] \n"
          ]
        },
        {
          "name": "stdout",
          "output_type": "stream",
          "text": [
            "Other ratings\n"
          ]
        },
        {
          "name": "stderr",
          "output_type": "stream",
          "text": [
            "100%|██████████| 790928/790928 [01:42<00:00, 7729.07it/s] \n"
          ]
        },
        {
          "name": "stdout",
          "output_type": "stream",
          "text": [
            "User\n"
          ]
        },
        {
          "name": "stderr",
          "output_type": "stream",
          "text": [
            "100%|██████████| 790928/790928 [00:26<00:00, 30408.58it/s]\n"
          ]
        }
      ],
      "source": [
        "%timeit\n",
        "%autoreload 2\n",
        "from analysis.src.prep import prep_complete\n",
        "df_prep = prep_complete(df)"
      ]
    },
    {
      "cell_type": "code",
      "execution_count": 13,
      "metadata": {},
      "outputs": [
        {
          "data": {
            "text/plain": [
              "(790928, 51)"
            ]
          },
          "execution_count": 13,
          "metadata": {},
          "output_type": "execute_result"
        }
      ],
      "source": [
        "df_prep.shape"
      ]
    },
    {
      "cell_type": "code",
      "execution_count": 14,
      "metadata": {},
      "outputs": [
        {
          "name": "stdout",
          "output_type": "stream",
          "text": [
            "data/df_prep_2025-02-17_09-40-09_370791.pq\n"
          ]
        }
      ],
      "source": [
        "from analysis.src.utils import save_df\n",
        "\n",
        "save_df(df_prep, \"data\", \"df_prep\")"
      ]
    },
    {
      "cell_type": "markdown",
      "metadata": {},
      "source": [
        "## 1.4. Consolidando preps anteriores e Gerando dados para o Índice"
      ]
    },
    {
      "cell_type": "code",
      "execution_count": 15,
      "metadata": {},
      "outputs": [],
      "source": [
        "path_v1 = \"data/df_prep_2024-12-09_08-23-45_627733.pq\"\n",
        "path_v2 = \"data/df_prep_2025-02-16_21-16-58_239716.pq\"\n",
        "path_v3 = \"data/df_prep_2025-02-17_09-40-09_370791.pq\""
      ]
    },
    {
      "cell_type": "code",
      "execution_count": 32,
      "metadata": {},
      "outputs": [
        {
          "name": "stdout",
          "output_type": "stream",
          "text": [
            "(590361, 51)\n",
            "(790928, 51)\n"
          ]
        }
      ],
      "source": [
        "df_v2 = pd.read_parquet(path_v2)\n",
        "print(df_v2.shape)\n",
        "df_v3 = pd.read_parquet(path_v3)\n",
        "print(df_v3.shape)"
      ]
    },
    {
      "cell_type": "code",
      "execution_count": 37,
      "metadata": {},
      "outputs": [],
      "source": [
        "df_v2[\"version\"] = 2\n",
        "df_v3[\"version\"] = 3\n",
        "df_prep = pd.concat([df_v3, df_v2])"
      ]
    },
    {
      "cell_type": "code",
      "execution_count": null,
      "metadata": {},
      "outputs": [
        {
          "data": {
            "text/plain": [
              "3    790928\n",
              "2       385\n",
              "Name: version, dtype: int64"
            ]
          },
          "execution_count": 39,
          "metadata": {},
          "output_type": "execute_result"
        }
      ],
      "source": [
        "df_prep = df_prep.drop_duplicates(\"review_id\", keep=\"first\")\n",
        "df_prep.version.value_counts()"
      ]
    },
    {
      "cell_type": "code",
      "execution_count": 40,
      "metadata": {},
      "outputs": [
        {
          "data": {
            "text/plain": [
              "['done',\n",
              " 'name_input',\n",
              " 'n_reviews_input',\n",
              " 'sort_by',\n",
              " 'hl',\n",
              " 'url',\n",
              " 'google_id',\n",
              " 'n_reviews_max',\n",
              " 'dt_selection',\n",
              " 'stars',\n",
              " 'city',\n",
              " 'sigla',\n",
              " 'estado',\n",
              " 'capital',\n",
              " 'regiao',\n",
              " 'category',\n",
              " 'subtypes',\n",
              " 'name',\n",
              " 'feature_id',\n",
              " 'retrieval_date_metadata',\n",
              " 'place_name',\n",
              " 'address',\n",
              " 'overall_rating',\n",
              " 'n_reviews',\n",
              " 'topics',\n",
              " 'file_name',\n",
              " 'token',\n",
              " 'review_id',\n",
              " 'retrieval_date',\n",
              " 'rating',\n",
              " 'rating_max',\n",
              " 'relative_date',\n",
              " 'likes',\n",
              " 'other_ratings',\n",
              " 'trip_type_travel_group',\n",
              " 'user_name',\n",
              " 'user_is_local_guide',\n",
              " 'user_reviews',\n",
              " 'user_photos',\n",
              " 'user_url',\n",
              " 'text',\n",
              " 'response_text',\n",
              " 'response_relative_date',\n",
              " 'errors',\n",
              " 'review_date',\n",
              " 'response_date',\n",
              " 'rooms',\n",
              " 'locale',\n",
              " 'service',\n",
              " 'highlights',\n",
              " 'user_id',\n",
              " 'version']"
            ]
          },
          "execution_count": 40,
          "metadata": {},
          "output_type": "execute_result"
        }
      ],
      "source": [
        "df_prep.columns.to_list()"
      ]
    },
    {
      "cell_type": "code",
      "execution_count": 41,
      "metadata": {},
      "outputs": [
        {
          "data": {
            "text/plain": [
              "done                                                                       0\n",
              "name_input                                                      HOTEL REOBOT\n",
              "n_reviews_input                                                           -1\n",
              "sort_by                                                               newest\n",
              "hl                                                                     pt-br\n",
              "url                        https://www.google.com/maps/place/HOTEL+REOBOT...\n",
              "google_id                               0x7070cc204e8fa55:0x363fd3d890f348eb\n",
              "n_reviews_max                                                            236\n",
              "dt_selection                                                            2025\n",
              "stars                                                                    2.0\n",
              "city                                                               Garanhuns\n",
              "sigla                                                                     PE\n",
              "estado                                                            PERNAMBUCO\n",
              "capital                                                               RECIFE\n",
              "regiao                                                              NORDESTE\n",
              "category                                                              hotéis\n",
              "subtypes                                                               Hotel\n",
              "name                                                            HOTEL REOBOT\n",
              "feature_id                              0x7070cc204e8fa55:0x363fd3d890f348eb\n",
              "retrieval_date_metadata                           2025-02-16 23:08:38.135305\n",
              "place_name                                                      Hotel Reobot\n",
              "address                    R. Cap. Pedro Rodrigues, 39 - Brasília, Garanh...\n",
              "overall_rating                                                           4.0\n",
              "n_reviews                                                              245.0\n",
              "topics                                                                      \n",
              "file_name                                            hotel-reobot-gm-reviews\n",
              "token                      CAESY0NBRVFiaHBFUTJwRlNVRlNTWEJEWjI5QlVEY3lTVj...\n",
              "review_id                                ChZDSUhNMG9nS0VJQ0FnSURjakxmdUx3EAE\n",
              "retrieval_date                                    2025-02-16 23:08:49.948191\n",
              "rating                                                                   3.0\n",
              "rating_max                                                               5.0\n",
              "relative_date                                                   4 anos atrás\n",
              "likes                                                                    0.0\n",
              "other_ratings                                                           None\n",
              "trip_type_travel_group                                                  None\n",
              "user_name                                                     Rodrigo Torres\n",
              "user_is_local_guide                                                      1.0\n",
              "user_reviews                                                               3\n",
              "user_photos                                                             None\n",
              "user_url                   /url?q=https://www.google.com/maps/contrib/117...\n",
              "text                                                                    None\n",
              "response_text                                                           None\n",
              "response_relative_date                                                  None\n",
              "errors                                                                    []\n",
              "review_date                                       2021-02-16 23:08:49.948191\n",
              "response_date                                                            NaT\n",
              "rooms                                                                    NaN\n",
              "locale                                                                   NaN\n",
              "service                                                                  NaN\n",
              "highlights                                                              None\n",
              "user_id                                                                 None\n",
              "version                                                                    3\n",
              "Name: 65066, dtype: object"
            ]
          },
          "execution_count": 41,
          "metadata": {},
          "output_type": "execute_result"
        }
      ],
      "source": [
        "df_prep.sample().iloc[0]"
      ]
    },
    {
      "cell_type": "code",
      "execution_count": 42,
      "metadata": {},
      "outputs": [
        {
          "data": {
            "text/plain": [
              "name_input                                        name                                            \n",
              "Grand Palladium Imbassaí Resort & Spa             Grand Palladium Imbassaí Resort & Spa               43109\n",
              "Copacabana Palace                                 Copacabana Palace                                   37414\n",
              "Costão do Santinho Resort                         Costão do Santinho Resort                           30190\n",
              "Costa do Sauípe - Premium Sol                     Costa do Sauípe - Premium Sol                       30128\n",
              "Prive Riviera Park Hotel                          Prive Riviera Park Hotel                            13896\n",
              "                                                                                                      ...  \n",
              "Aconchego da Vila                                 Aconchego da Vila                                       8\n",
              "Vitória da Serra Pousada e Eventos                Vitória da Serra Pousada e Eventos                      8\n",
              "Casa Azul Campinas - Hospedagem para Tripulantes  Casa Azul Campinas - Hospedagem para Tripulantes        7\n",
              "Pousada Lua Bela                                  Pousada Lua Bela                                        7\n",
              "Hotel Amazonas                                    Hotel Amazonas                                          7\n",
              "Length: 1129, dtype: int64"
            ]
          },
          "execution_count": 42,
          "metadata": {},
          "output_type": "execute_result"
        }
      ],
      "source": [
        "df_prep[[\"name_input\", \"name\"]].value_counts()"
      ]
    },
    {
      "cell_type": "code",
      "execution_count": 43,
      "metadata": {},
      "outputs": [],
      "source": [
        "renames = {\n",
        "    # 'name_input': ,\n",
        "    # 'n_reviews_input': ,\n",
        "    # 'sort_by': ,\n",
        "    # 'hl': ,\n",
        "    # 'url': ,\n",
        "    # 'google_id': ,\n",
        "    # 'n_reviews_max': ,\n",
        "    # 'dt_selection': ,\n",
        "    'stars': \"estrelas\",\n",
        "    'city': \"cidade\",\n",
        "    'sigla': \"sigla_estado\",\n",
        "    'estado': \"estado\",\n",
        "    'capital': \"capital_estado\",\n",
        "    'regiao': \"regiao\",\n",
        "    'category': \"categoria\",\n",
        "    'subtypes': \"subcategoria\",\n",
        "    # 'name': ,\n",
        "    # 'feature_id': ,\n",
        "    # 'retrieval_date_metadata': ,\n",
        "    'place_name': \"nome\",\n",
        "    'address': \"endereco\",\n",
        "    'overall_rating': \"classificacao_geral\",\n",
        "    'n_reviews': \"quantidade_avaliacoes\",\n",
        "    # 'topics': ,\n",
        "    # 'file_name': ,\n",
        "    # 'token': ,\n",
        "    # 'review_id': ,\n",
        "    # 'retrieval_date': ,\n",
        "    'rating': \"nota_avaliacao\",\n",
        "    # 'rating_max': ,\n",
        "    # 'relative_date': ,\n",
        "    'likes': \"curtidas_avaliacao\",\n",
        "    # 'other_ratings': ,\n",
        "    # 'trip_type_travel_group': ,\n",
        "    # 'user_name': ,\n",
        "    'user_is_local_guide': \"usuario_guia_local\",\n",
        "    # 'user_reviews': ,\n",
        "    # 'user_photos': ,\n",
        "    # 'user_url': ,\n",
        "    'text': \"text\",\n",
        "    # 'response_text': \"texto_resposta\",\n",
        "    # 'response_relative_date': ,\n",
        "    # 'errors': ,\n",
        "    'review_date': \"data_avaliacao\",\n",
        "    # 'response_date': ,\n",
        "    'rooms': \"nota_quartos\",\n",
        "    'locale': \"nota_localizacao\",\n",
        "    'service': \"nota_servico\",\n",
        "    # 'highlights': ,\n",
        "    # 'user_id': ,\n",
        "    \"avaliacao_recente\": \"avaliacao_recente\",\n",
        "    \"text_n_words\": \"numero_palavras_avaliacao\"\n",
        "}"
      ]
    },
    {
      "cell_type": "code",
      "execution_count": 44,
      "metadata": {},
      "outputs": [
        {
          "data": {
            "text/plain": [
              "0.0    745562\n",
              "1.0     45751\n",
              "Name: avaliacao_recente, dtype: int64"
            ]
          },
          "execution_count": 44,
          "metadata": {},
          "output_type": "execute_result"
        }
      ],
      "source": [
        "df_prep[\"avaliacao_recente\"] = (df_prep.review_date > \"2024-08-01\").astype(float)\n",
        "df_prep[\"avaliacao_recente\"].value_counts()"
      ]
    },
    {
      "cell_type": "code",
      "execution_count": 45,
      "metadata": {},
      "outputs": [],
      "source": [
        "df_prep[\"text_n_words\"] = df_prep[\"text\"].fillna(\"\").str.split().apply(lambda x: len(x))"
      ]
    },
    {
      "cell_type": "code",
      "execution_count": 46,
      "metadata": {},
      "outputs": [],
      "source": [
        "df_prep[\"response_text\"] = df_prep[\"response_text\"].fillna(\"\")"
      ]
    },
    {
      "cell_type": "code",
      "execution_count": 47,
      "metadata": {},
      "outputs": [],
      "source": [
        "df_prep.review_date = df_prep.review_date.dt.floor(\"D\").dt.strftime('%Y-%m-%d')"
      ]
    },
    {
      "cell_type": "code",
      "execution_count": 48,
      "metadata": {},
      "outputs": [
        {
          "data": {
            "text/plain": [
              "stars                                                                5.0\n",
              "city                                                                None\n",
              "sigla                                                                 PR\n",
              "estado                                                            PARANÁ\n",
              "capital                                                         CURITIBA\n",
              "regiao                                                               SUL\n",
              "category                                                            None\n",
              "subtypes                                                            None\n",
              "place_name                                            Wish Foz do Iguaçu\n",
              "address                Av. das Cataratas, 6845 - Tamandua, Foz do Igu...\n",
              "overall_rating                                                       4.7\n",
              "n_reviews                                                         7130.0\n",
              "rating                                                               5.0\n",
              "likes                                                                0.0\n",
              "user_is_local_guide                                                  1.0\n",
              "text                                                                None\n",
              "review_date                                                   2024-02-17\n",
              "rooms                                                                4.0\n",
              "locale                                                               5.0\n",
              "service                                                              4.0\n",
              "avaliacao_recente                                                    0.0\n",
              "text_n_words                                                           0\n",
              "Name: 501048, dtype: object"
            ]
          },
          "execution_count": 48,
          "metadata": {},
          "output_type": "execute_result"
        }
      ],
      "source": [
        "df_prep[renames.keys()].sample().iloc[0]"
      ]
    },
    {
      "cell_type": "code",
      "execution_count": 49,
      "metadata": {},
      "outputs": [],
      "source": [
        "df_index = df_prep.query(\"text_n_words>=10\")[renames.keys()].rename(columns=renames)"
      ]
    },
    {
      "cell_type": "code",
      "execution_count": 50,
      "metadata": {},
      "outputs": [
        {
          "data": {
            "text/plain": [
              "{'estrelas': 0.0,\n",
              " 'cidade': 'Serra Negra',\n",
              " 'sigla_estado': 'SP',\n",
              " 'estado': 'SÃO PAULO',\n",
              " 'capital_estado': 'SÃO PAULO',\n",
              " 'regiao': 'SUDESTE',\n",
              " 'categoria': 'hotéis',\n",
              " 'subcategoria': 'Hotel',\n",
              " 'nome': 'Travessa 12 - Suítes',\n",
              " 'endereco': 'Tv. Ten. Mario Dallari, 12 - Centro, Serra Negra - SP',\n",
              " 'classificacao_geral': 3.2,\n",
              " 'quantidade_avaliacoes': 9.0,\n",
              " 'nota_avaliacao': 5.0,\n",
              " 'curtidas_avaliacao': 0.0,\n",
              " 'usuario_guia_local': 1.0,\n",
              " 'text': 'Excelente custo benefício. Sempre me hospedo lá quando vou pra Serra Negra. Primeira coisa que tem que ficar claro é que é uma hospedagem e não um hotel. O proprietário é muito gente boa e presta assistência dentro do possível. Localização é excelente, na praça dos barzinhos e do lado da Padaria Serrana. Se gosta de agito, é o local perfeito. Se busca silêncio, melhor buscar outra opção mais isolada. Os quartos são grandes. Os preços são bem compatíveis.',\n",
              " 'data_avaliacao': '2024-07-17',\n",
              " 'nota_quartos': 4.0,\n",
              " 'nota_localizacao': 5.0,\n",
              " 'nota_servico': 4.0,\n",
              " 'avaliacao_recente': 0.0,\n",
              " 'numero_palavras_avaliacao': 79}"
            ]
          },
          "execution_count": 50,
          "metadata": {},
          "output_type": "execute_result"
        }
      ],
      "source": [
        "df_index.iloc[0].to_dict()"
      ]
    },
    {
      "cell_type": "code",
      "execution_count": 51,
      "metadata": {},
      "outputs": [
        {
          "data": {
            "text/plain": [
              "(222923, 22)"
            ]
          },
          "execution_count": 51,
          "metadata": {},
          "output_type": "execute_result"
        }
      ],
      "source": [
        "df_index.shape"
      ]
    },
    {
      "cell_type": "code",
      "execution_count": 52,
      "metadata": {},
      "outputs": [],
      "source": [
        "df_index.to_parquet(\"data/df_index_2025_v1.pq\")"
      ]
    }
  ],
  "metadata": {
    "colab": {
      "include_colab_link": true,
      "provenance": []
    },
    "kernelspec": {
      "display_name": "pln",
      "language": "python",
      "name": "python3"
    },
    "language_info": {
      "codemirror_mode": {
        "name": "ipython",
        "version": 3
      },
      "file_extension": ".py",
      "mimetype": "text/x-python",
      "name": "python",
      "nbconvert_exporter": "python",
      "pygments_lexer": "ipython3",
      "version": "3.9.12"
    }
  },
  "nbformat": 4,
  "nbformat_minor": 0
}

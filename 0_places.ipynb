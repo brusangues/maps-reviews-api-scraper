{
 "cells": [
  {
   "cell_type": "markdown",
   "metadata": {},
   "source": [
    "https://app.outscraper.com/googleMaps?c=hotel&dd=true&gl=BR&hl=pt-BR&limit=499&z=true\n",
    "\n"
   ]
  },
  {
   "cell_type": "markdown",
   "metadata": {},
   "source": [
    "# Reunindo dados raspados via serviço externo (gratuíto)"
   ]
  },
  {
   "cell_type": "code",
   "execution_count": 133,
   "metadata": {},
   "outputs": [],
   "source": [
    "import pandas as pd\n",
    "import numpy as np"
   ]
  },
  {
   "cell_type": "code",
   "execution_count": 134,
   "metadata": {},
   "outputs": [
    {
     "data": {
      "text/plain": [
       "['scraper/input\\\\Outscraper-20240508122337bd64_resort_hotel_+2.xlsx',\n",
       " 'scraper/input\\\\Outscraper-20240508122753d29f (1).xlsx',\n",
       " 'scraper/input\\\\Outscraper-20240508122753d29f.xlsx',\n",
       " 'scraper/input\\\\Outscraper-20240508125928c481_hotel.xlsx',\n",
       " 'scraper/input\\\\Outscraper-20240508131552fbbe.xlsx']"
      ]
     },
     "execution_count": 134,
     "metadata": {},
     "output_type": "execute_result"
    }
   ],
   "source": [
    "import glob\n",
    "\n",
    "files = glob.glob(\"scraper/input/*.xlsx\")\n",
    "\n",
    "files"
   ]
  },
  {
   "cell_type": "code",
   "execution_count": 135,
   "metadata": {},
   "outputs": [],
   "source": [
    "dfs = []\n",
    "for file in files:\n",
    "    df = pd.read_excel(file)\n",
    "    dfs.append(df)"
   ]
  },
  {
   "cell_type": "code",
   "execution_count": 136,
   "metadata": {},
   "outputs": [
    {
     "data": {
      "text/plain": [
       "(2003, 82)"
      ]
     },
     "execution_count": 136,
     "metadata": {},
     "output_type": "execute_result"
    }
   ],
   "source": [
    "df = pd.concat(dfs)\n",
    "df.shape"
   ]
  },
  {
   "cell_type": "markdown",
   "metadata": {},
   "source": [
    "# Filtrando"
   ]
  },
  {
   "cell_type": "code",
   "execution_count": 188,
   "metadata": {},
   "outputs": [],
   "source": [
    "pd.set_option('display.max_rows', 500)\n",
    "pd.set_option('display.max_columns', 500)"
   ]
  },
  {
   "cell_type": "code",
   "execution_count": 189,
   "metadata": {},
   "outputs": [
    {
     "data": {
      "text/plain": [
       "query                                          hotel, 55620-000, Glória do Goitá, Pernambuco ...\n",
       "name                                                                         Star Hotel Limoeiro\n",
       "name_for_emails                                                              Star Hotel Limoeiro\n",
       "site                                                            http://starhotellimoeiro.com.br/\n",
       "site.company_insights.address                                                                NaN\n",
       "site.company_insights.city                                                                   NaN\n",
       "site.company_insights.country                                                             Brazil\n",
       "site.company_insights.description                                                            NaN\n",
       "site.company_insights.employees                                                             10.0\n",
       "site.company_insights.facebook_company_page                                                  NaN\n",
       "site.company_insights.is_public                                                            False\n",
       "site.company_insights.linkedin_company_page    https://www.linkedin.com/company/star-hotel-li...\n",
       "site.company_insights.name                                                   Star Hotel Limoeiro\n",
       "site.company_insights.phone                                                                  NaN\n",
       "site.company_insights.revenue                                                          1000000.0\n",
       "site.company_insights.state                                                                  NaN\n",
       "site.company_insights.timezone                                                    America/Cuiaba\n",
       "site.company_insights.twitter_handle                                                         NaN\n",
       "site.company_insights.zip                                                                    NaN\n",
       "subtypes                                                                                   Hotel\n",
       "category                                                                                  hotéis\n",
       "type                                                                                       Hotel\n",
       "phone                                                                           +55 81 3628-2795\n",
       "full_address                                   Av. Jerônimo Heráclio, 723 - Ponto Certo, Limo...\n",
       "borough                                                                              Ponto Certo\n",
       "street                                                                Av. Jerônimo Heráclio, 723\n",
       "city                                                                                    Limoeiro\n",
       "postal_code                                                                            55700-000\n",
       "state                                                                                 Pernambuco\n",
       "us_state                                                                                     NaN\n",
       "country                                                                                   Brazil\n",
       "country_code                                                                                  BR\n",
       "latitude                                                                               -7.870804\n",
       "longitude                                                                              -35.44137\n",
       "h3                                                                               8981814d11bffff\n",
       "time_zone                                                                         America/Recife\n",
       "plus_code                                                                                    NaN\n",
       "area_service                                                                               False\n",
       "rating                                                                                       4.4\n",
       "reviews                                                                                    312.0\n",
       "reviews_link                                   https://search.google.com/local/reviews?placei...\n",
       "reviews_tags                                                                                 NaN\n",
       "reviews_per_score                                                                            NaN\n",
       "reviews_per_score_1                                                                          8.0\n",
       "reviews_per_score_2                                                                          2.0\n",
       "reviews_per_score_3                                                                         34.0\n",
       "reviews_per_score_4                                                                         69.0\n",
       "reviews_per_score_5                                                                        199.0\n",
       "photos_count                                                                                70.0\n",
       "photo                                          https://lh5.googleusercontent.com/p/AF1QipNg2f...\n",
       "street_view                                    https://lh5.googleusercontent.com/p/AF1QipNg2f...\n",
       "located_in                                                                                   NaN\n",
       "working_hours                                                                                NaN\n",
       "working_hours_old_format                                                                     NaN\n",
       "other_hours                                                                                  NaN\n",
       "popular_times                                                                                NaN\n",
       "business_status                                                                      OPERATIONAL\n",
       "about                                          {\"Other\": {\"Estacionamento\": true, \"Wi-Fi grat...\n",
       "range                                                                                 3 estrelas\n",
       "posts                                                                                        NaN\n",
       "logo                                                                                         NaN\n",
       "description                                    Acomodações básicas em uma propriedade simples...\n",
       "typical_time_spent                                                                           NaN\n",
       "verified                                                                                     0.0\n",
       "owner_id                                                                                    None\n",
       "owner_title                                                                  Star Hotel Limoeiro\n",
       "owner_link                                                                                   NaN\n",
       "reservation_links                                                                            NaN\n",
       "booking_appointment_link                                                                     NaN\n",
       "menu_link                                                                                    NaN\n",
       "order_links                                                                                  NaN\n",
       "location_link                                  https://www.google.com/maps/place/Star+Hotel+L...\n",
       "location_reviews_link                          https://www.google.com/maps/place/Star+Hotel+L...\n",
       "place_id                                                             ChIJh70QFnm8qwcRebjoV6G9EoU\n",
       "google_id                                                   0x7abbc791610bd87:0x8512bda157e8b879\n",
       "cid                                                                          9588935057287460985\n",
       "reviews_id                                                                  -8857809016422090631\n",
       "located_google_id                                                                            NaN\n",
       "site.company_insights.industry                                            LEISURE_TRAVEL_TOURISM\n",
       "site.company_insights.linkedin_bio                                                           NaN\n",
       "site.company_insights.founded_year                                                           NaN\n",
       "site.company_insights.total_money_raised                                                     NaN\n",
       "Name: 5, dtype: object"
      ]
     },
     "execution_count": 189,
     "metadata": {},
     "output_type": "execute_result"
    }
   ],
   "source": [
    "df.sample().iloc[0]"
   ]
  },
  {
   "cell_type": "code",
   "execution_count": 190,
   "metadata": {},
   "outputs": [
    {
     "data": {
      "text/plain": [
       "(1386, 82)"
      ]
     },
     "execution_count": 190,
     "metadata": {},
     "output_type": "execute_result"
    }
   ],
   "source": [
    "# Removendo lugares fechados e sem reviews\n",
    "df_filter = df.drop_duplicates(\"place_id\").query(\"business_status == 'OPERATIONAL' & reviews >= 5\")\n",
    "df_filter.shape"
   ]
  },
  {
   "cell_type": "code",
   "execution_count": 191,
   "metadata": {},
   "outputs": [
    {
     "data": {
      "text/plain": [
       "(1356, 82)"
      ]
     },
     "execution_count": 191,
     "metadata": {},
     "output_type": "execute_result"
    }
   ],
   "source": [
    "# Removendo lugares com o mesmo nome, mantendo aqueles com maior número de avaliações\n",
    "df_filter = df_filter.sort_values(\"reviews\", ascending=False).drop_duplicates(\"name\")\n",
    "df_filter.shape"
   ]
  },
  {
   "cell_type": "code",
   "execution_count": 192,
   "metadata": {},
   "outputs": [],
   "source": [
    "cols = [\n",
    "    \"name\",\n",
    "    \"reviews\",\n",
    "    \"rating\",\n",
    "\n",
    "    \"city\",\n",
    "    \"state\",\n",
    "    \"latitude\",\n",
    "    \"longitude\",\n",
    "    # \"full_address\",\n",
    "\n",
    "    \"range\",\n",
    "    # \"type\",\n",
    "    # \"subtypes\",\n",
    "    # \"category\",\n",
    "\n",
    "    # \"reviews_per_score_1\",\n",
    "    # \"reviews_per_score_2\",\n",
    "    # \"reviews_per_score_3\",\n",
    "    # \"reviews_per_score_4\",\n",
    "    # \"reviews_per_score_5\",\n",
    "    # \"about\",\n",
    "\n",
    "    # \"owner_title\",\n",
    "\n",
    "    \"business_status\",\n",
    "    \"google_id\",\n",
    "    \"place_id\",\n",
    "]"
   ]
  },
  {
   "cell_type": "code",
   "execution_count": 193,
   "metadata": {},
   "outputs": [
    {
     "data": {
      "text/html": [
       "<div>\n",
       "<style scoped>\n",
       "    .dataframe tbody tr th:only-of-type {\n",
       "        vertical-align: middle;\n",
       "    }\n",
       "\n",
       "    .dataframe tbody tr th {\n",
       "        vertical-align: top;\n",
       "    }\n",
       "\n",
       "    .dataframe thead th {\n",
       "        text-align: right;\n",
       "    }\n",
       "</style>\n",
       "<table border=\"1\" class=\"dataframe\">\n",
       "  <thead>\n",
       "    <tr style=\"text-align: right;\">\n",
       "      <th></th>\n",
       "      <th>name</th>\n",
       "      <th>reviews</th>\n",
       "      <th>rating</th>\n",
       "      <th>city</th>\n",
       "      <th>state</th>\n",
       "      <th>latitude</th>\n",
       "      <th>longitude</th>\n",
       "      <th>range</th>\n",
       "      <th>business_status</th>\n",
       "      <th>google_id</th>\n",
       "      <th>place_id</th>\n",
       "    </tr>\n",
       "  </thead>\n",
       "  <tbody>\n",
       "    <tr>\n",
       "      <th>359</th>\n",
       "      <td>Wyndham Olimpia Royal Hotel</td>\n",
       "      <td>12835.0</td>\n",
       "      <td>4.5</td>\n",
       "      <td>Olímpia</td>\n",
       "      <td>São Paulo</td>\n",
       "      <td>-20.717466</td>\n",
       "      <td>-48.917720</td>\n",
       "      <td>4 estrelas</td>\n",
       "      <td>OPERATIONAL</td>\n",
       "      <td>0x94bc6fa8fe446ec9:0x5ccb78373a2d5e26</td>\n",
       "      <td>ChIJyW5E_qhvvJQRJl4tOjd4y1w</td>\n",
       "    </tr>\n",
       "    <tr>\n",
       "      <th>73</th>\n",
       "      <td>Hotel Villa Lobos Spa Romantik</td>\n",
       "      <td>8762.0</td>\n",
       "      <td>4.8</td>\n",
       "      <td>Extrema</td>\n",
       "      <td>Minas Gerais</td>\n",
       "      <td>-22.843295</td>\n",
       "      <td>-46.329954</td>\n",
       "      <td>4 estrelas</td>\n",
       "      <td>OPERATIONAL</td>\n",
       "      <td>0x94ceadae1ef20e39:0x4b6fe14511fcf394</td>\n",
       "      <td>ChIJOQ7yHq6tzpQRlPP8EUXhb0s</td>\n",
       "    </tr>\n",
       "    <tr>\n",
       "      <th>358</th>\n",
       "      <td>Thermas de Olimpia Resorts By Mercure</td>\n",
       "      <td>7487.0</td>\n",
       "      <td>4.0</td>\n",
       "      <td>Olímpia</td>\n",
       "      <td>São Paulo</td>\n",
       "      <td>-20.721898</td>\n",
       "      <td>-48.916238</td>\n",
       "      <td>4 estrelas</td>\n",
       "      <td>OPERATIONAL</td>\n",
       "      <td>0x94bc6fad6183b5eb:0x9eb505faccb668d4</td>\n",
       "      <td>ChIJ67WDYa1vvJQR1Gi2zPoFtZ4</td>\n",
       "    </tr>\n",
       "    <tr>\n",
       "      <th>453</th>\n",
       "      <td>Hotel Fazenda Vale do Sol</td>\n",
       "      <td>4667.0</td>\n",
       "      <td>4.6</td>\n",
       "      <td>Serra Negra</td>\n",
       "      <td>SP</td>\n",
       "      <td>-22.604534</td>\n",
       "      <td>-46.694669</td>\n",
       "      <td>NaN</td>\n",
       "      <td>OPERATIONAL</td>\n",
       "      <td>0x94c9186bd01db787:0x18ca5e125783c845</td>\n",
       "      <td>ChIJh7cd0GsYyZQRRciDVxJeyhg</td>\n",
       "    </tr>\n",
       "    <tr>\n",
       "      <th>414</th>\n",
       "      <td>Hotel Porto Real Resort</td>\n",
       "      <td>4570.0</td>\n",
       "      <td>4.5</td>\n",
       "      <td>Mangaratiba</td>\n",
       "      <td>Rio de Janeiro</td>\n",
       "      <td>-23.035686</td>\n",
       "      <td>-44.149237</td>\n",
       "      <td>4 estrelas</td>\n",
       "      <td>OPERATIONAL</td>\n",
       "      <td>0x9c439790749def:0x61cb3cde96c15a95</td>\n",
       "      <td>ChIJ7510kJdDnAARlVrBlt48y2E</td>\n",
       "    </tr>\n",
       "    <tr>\n",
       "      <th>...</th>\n",
       "      <td>...</td>\n",
       "      <td>...</td>\n",
       "      <td>...</td>\n",
       "      <td>...</td>\n",
       "      <td>...</td>\n",
       "      <td>...</td>\n",
       "      <td>...</td>\n",
       "      <td>...</td>\n",
       "      <td>...</td>\n",
       "      <td>...</td>\n",
       "      <td>...</td>\n",
       "    </tr>\n",
       "    <tr>\n",
       "      <th>58</th>\n",
       "      <td>Chalé Estilo Mineiro</td>\n",
       "      <td>5.0</td>\n",
       "      <td>4.0</td>\n",
       "      <td>Camanducaia</td>\n",
       "      <td>Minas Gerais</td>\n",
       "      <td>-22.809241</td>\n",
       "      <td>-46.142797</td>\n",
       "      <td>NaN</td>\n",
       "      <td>OPERATIONAL</td>\n",
       "      <td>0x94cc0584daf5060b:0x7e8f27b35af0c959</td>\n",
       "      <td>ChIJCwb12oQFzJQRWcnwWrMnj34</td>\n",
       "    </tr>\n",
       "    <tr>\n",
       "      <th>164</th>\n",
       "      <td>Pousada Xapuri</td>\n",
       "      <td>5.0</td>\n",
       "      <td>4.8</td>\n",
       "      <td>Muriaé</td>\n",
       "      <td>Minas Gerais</td>\n",
       "      <td>-20.878293</td>\n",
       "      <td>-42.485069</td>\n",
       "      <td>NaN</td>\n",
       "      <td>OPERATIONAL</td>\n",
       "      <td>0xbcadee2e030269:0x5574e8a06b9dab9e</td>\n",
       "      <td>ChIJaQIDLu6tvAARnquda6DodFU</td>\n",
       "    </tr>\n",
       "    <tr>\n",
       "      <th>163</th>\n",
       "      <td>Pousada São João</td>\n",
       "      <td>5.0</td>\n",
       "      <td>3.8</td>\n",
       "      <td>São João</td>\n",
       "      <td>Pernambuco</td>\n",
       "      <td>-8.873199</td>\n",
       "      <td>-36.365864</td>\n",
       "      <td>NaN</td>\n",
       "      <td>OPERATIONAL</td>\n",
       "      <td>0x7076d5247bcb143:0x8b73d076f74af483</td>\n",
       "      <td>ChIJQ7G8R1JtBwcRg_RK93bQc4s</td>\n",
       "    </tr>\n",
       "    <tr>\n",
       "      <th>246</th>\n",
       "      <td>Guest house Dharma</td>\n",
       "      <td>5.0</td>\n",
       "      <td>5.0</td>\n",
       "      <td>São José do Rio Preto</td>\n",
       "      <td>São Paulo</td>\n",
       "      <td>-20.815689</td>\n",
       "      <td>-49.375013</td>\n",
       "      <td>NaN</td>\n",
       "      <td>OPERATIONAL</td>\n",
       "      <td>0x94bdadf4faee9cbd:0x9cdb8dd14d639670</td>\n",
       "      <td>ChIJvZzu-vStvZQRcJZjTdGN25w</td>\n",
       "    </tr>\n",
       "    <tr>\n",
       "      <th>197</th>\n",
       "      <td>Hotel Sara</td>\n",
       "      <td>5.0</td>\n",
       "      <td>4.0</td>\n",
       "      <td>São Paulo de Olivença</td>\n",
       "      <td>Amazonas</td>\n",
       "      <td>-3.464106</td>\n",
       "      <td>-68.950234</td>\n",
       "      <td>NaN</td>\n",
       "      <td>OPERATIONAL</td>\n",
       "      <td>0x91f155649845b03b:0xe6966179c101261f</td>\n",
       "      <td>ChIJO7BFmGRV8ZERHyYBwXlhluY</td>\n",
       "    </tr>\n",
       "  </tbody>\n",
       "</table>\n",
       "<p>1356 rows × 11 columns</p>\n",
       "</div>"
      ],
      "text/plain": [
       "                                      name  reviews  rating  \\\n",
       "359            Wyndham Olimpia Royal Hotel  12835.0     4.5   \n",
       "73          Hotel Villa Lobos Spa Romantik   8762.0     4.8   \n",
       "358  Thermas de Olimpia Resorts By Mercure   7487.0     4.0   \n",
       "453              Hotel Fazenda Vale do Sol   4667.0     4.6   \n",
       "414                Hotel Porto Real Resort   4570.0     4.5   \n",
       "..                                     ...      ...     ...   \n",
       "58                    Chalé Estilo Mineiro      5.0     4.0   \n",
       "164                         Pousada Xapuri      5.0     4.8   \n",
       "163                       Pousada São João      5.0     3.8   \n",
       "246                     Guest house Dharma      5.0     5.0   \n",
       "197                             Hotel Sara      5.0     4.0   \n",
       "\n",
       "                      city           state   latitude  longitude       range  \\\n",
       "359                Olímpia       São Paulo -20.717466 -48.917720  4 estrelas   \n",
       "73                 Extrema    Minas Gerais -22.843295 -46.329954  4 estrelas   \n",
       "358                Olímpia       São Paulo -20.721898 -48.916238  4 estrelas   \n",
       "453            Serra Negra              SP -22.604534 -46.694669         NaN   \n",
       "414            Mangaratiba  Rio de Janeiro -23.035686 -44.149237  4 estrelas   \n",
       "..                     ...             ...        ...        ...         ...   \n",
       "58             Camanducaia    Minas Gerais -22.809241 -46.142797         NaN   \n",
       "164                 Muriaé    Minas Gerais -20.878293 -42.485069         NaN   \n",
       "163               São João      Pernambuco  -8.873199 -36.365864         NaN   \n",
       "246  São José do Rio Preto       São Paulo -20.815689 -49.375013         NaN   \n",
       "197  São Paulo de Olivença        Amazonas  -3.464106 -68.950234         NaN   \n",
       "\n",
       "    business_status                              google_id  \\\n",
       "359     OPERATIONAL  0x94bc6fa8fe446ec9:0x5ccb78373a2d5e26   \n",
       "73      OPERATIONAL  0x94ceadae1ef20e39:0x4b6fe14511fcf394   \n",
       "358     OPERATIONAL  0x94bc6fad6183b5eb:0x9eb505faccb668d4   \n",
       "453     OPERATIONAL  0x94c9186bd01db787:0x18ca5e125783c845   \n",
       "414     OPERATIONAL    0x9c439790749def:0x61cb3cde96c15a95   \n",
       "..              ...                                    ...   \n",
       "58      OPERATIONAL  0x94cc0584daf5060b:0x7e8f27b35af0c959   \n",
       "164     OPERATIONAL    0xbcadee2e030269:0x5574e8a06b9dab9e   \n",
       "163     OPERATIONAL   0x7076d5247bcb143:0x8b73d076f74af483   \n",
       "246     OPERATIONAL  0x94bdadf4faee9cbd:0x9cdb8dd14d639670   \n",
       "197     OPERATIONAL  0x91f155649845b03b:0xe6966179c101261f   \n",
       "\n",
       "                        place_id  \n",
       "359  ChIJyW5E_qhvvJQRJl4tOjd4y1w  \n",
       "73   ChIJOQ7yHq6tzpQRlPP8EUXhb0s  \n",
       "358  ChIJ67WDYa1vvJQR1Gi2zPoFtZ4  \n",
       "453  ChIJh7cd0GsYyZQRRciDVxJeyhg  \n",
       "414  ChIJ7510kJdDnAARlVrBlt48y2E  \n",
       "..                           ...  \n",
       "58   ChIJCwb12oQFzJQRWcnwWrMnj34  \n",
       "164  ChIJaQIDLu6tvAARnquda6DodFU  \n",
       "163  ChIJQ7G8R1JtBwcRg_RK93bQc4s  \n",
       "246  ChIJvZzu-vStvZQRcJZjTdGN25w  \n",
       "197  ChIJO7BFmGRV8ZERHyYBwXlhluY  \n",
       "\n",
       "[1356 rows x 11 columns]"
      ]
     },
     "execution_count": 193,
     "metadata": {},
     "output_type": "execute_result"
    }
   ],
   "source": [
    "df_filter[cols]"
   ]
  },
  {
   "cell_type": "code",
   "execution_count": 194,
   "metadata": {},
   "outputs": [],
   "source": [
    "df_input = df_filter.copy()"
   ]
  },
  {
   "cell_type": "code",
   "execution_count": 195,
   "metadata": {},
   "outputs": [
    {
     "data": {
      "text/plain": [
       "Index(['query', 'name', 'name_for_emails', 'site',\n",
       "       'site.company_insights.address', 'site.company_insights.city',\n",
       "       'site.company_insights.country', 'site.company_insights.description',\n",
       "       'site.company_insights.employees',\n",
       "       'site.company_insights.facebook_company_page',\n",
       "       'site.company_insights.is_public',\n",
       "       'site.company_insights.linkedin_company_page',\n",
       "       'site.company_insights.name', 'site.company_insights.phone',\n",
       "       'site.company_insights.revenue', 'site.company_insights.state',\n",
       "       'site.company_insights.timezone',\n",
       "       'site.company_insights.twitter_handle', 'site.company_insights.zip',\n",
       "       'subtypes', 'category', 'type', 'phone', 'full_address', 'borough',\n",
       "       'street', 'city', 'postal_code', 'state', 'us_state', 'country',\n",
       "       'country_code', 'latitude', 'longitude', 'h3', 'time_zone', 'plus_code',\n",
       "       'area_service', 'rating', 'reviews', 'reviews_link', 'reviews_tags',\n",
       "       'reviews_per_score', 'reviews_per_score_1', 'reviews_per_score_2',\n",
       "       'reviews_per_score_3', 'reviews_per_score_4', 'reviews_per_score_5',\n",
       "       'photos_count', 'photo', 'street_view', 'located_in', 'working_hours',\n",
       "       'working_hours_old_format', 'other_hours', 'popular_times',\n",
       "       'business_status', 'about', 'range', 'posts', 'logo', 'description',\n",
       "       'typical_time_spent', 'verified', 'owner_id', 'owner_title',\n",
       "       'owner_link', 'reservation_links', 'booking_appointment_link',\n",
       "       'menu_link', 'order_links', 'location_link', 'location_reviews_link',\n",
       "       'place_id', 'google_id', 'cid', 'reviews_id', 'located_google_id',\n",
       "       'site.company_insights.industry', 'site.company_insights.linkedin_bio',\n",
       "       'site.company_insights.founded_year',\n",
       "       'site.company_insights.total_money_raised'],\n",
       "      dtype='object')"
      ]
     },
     "execution_count": 195,
     "metadata": {},
     "output_type": "execute_result"
    }
   ],
   "source": [
    "df_input.columns"
   ]
  },
  {
   "cell_type": "code",
   "execution_count": 196,
   "metadata": {},
   "outputs": [],
   "source": [
    "df_input[\"done\"] = 0\n",
    "df_input[\"n_reviews\"] = -1\n",
    "df_input[\"n_reviews_max\"] = df_input[\"reviews\"].astype(\"int64\")\n",
    "df_input[\"sort_by\"] = \"most_relevant\"\n",
    "df_input[\"hl\"] = \"pt-br\"\n",
    "df_input[\"url\"] = df_input[\"location_link\"]\n",
    "df_input[\"dt_selection\"] = 2024"
   ]
  },
  {
   "cell_type": "code",
   "execution_count": 197,
   "metadata": {},
   "outputs": [
    {
     "data": {
      "text/plain": [
       "Index(['query', 'name', 'name_for_emails', 'site',\n",
       "       'site.company_insights.address', 'site.company_insights.city',\n",
       "       'site.company_insights.country', 'site.company_insights.description',\n",
       "       'site.company_insights.employees',\n",
       "       'site.company_insights.facebook_company_page',\n",
       "       'site.company_insights.is_public',\n",
       "       'site.company_insights.linkedin_company_page',\n",
       "       'site.company_insights.name', 'site.company_insights.phone',\n",
       "       'site.company_insights.revenue', 'site.company_insights.state',\n",
       "       'site.company_insights.timezone',\n",
       "       'site.company_insights.twitter_handle', 'site.company_insights.zip',\n",
       "       'subtypes', 'category', 'type', 'phone', 'full_address', 'borough',\n",
       "       'street', 'city', 'postal_code', 'state', 'us_state', 'country',\n",
       "       'country_code', 'latitude', 'longitude', 'h3', 'time_zone', 'plus_code',\n",
       "       'area_service', 'rating', 'reviews', 'reviews_link', 'reviews_tags',\n",
       "       'reviews_per_score', 'reviews_per_score_1', 'reviews_per_score_2',\n",
       "       'reviews_per_score_3', 'reviews_per_score_4', 'reviews_per_score_5',\n",
       "       'photos_count', 'photo', 'street_view', 'located_in', 'working_hours',\n",
       "       'working_hours_old_format', 'other_hours', 'popular_times',\n",
       "       'business_status', 'about', 'range', 'posts', 'logo', 'description',\n",
       "       'typical_time_spent', 'verified', 'owner_id', 'owner_title',\n",
       "       'owner_link', 'reservation_links', 'booking_appointment_link',\n",
       "       'menu_link', 'order_links', 'location_link', 'location_reviews_link',\n",
       "       'place_id', 'google_id', 'cid', 'reviews_id', 'located_google_id',\n",
       "       'site.company_insights.industry', 'site.company_insights.linkedin_bio',\n",
       "       'site.company_insights.founded_year',\n",
       "       'site.company_insights.total_money_raised', 'done', 'n_reviews',\n",
       "       'n_reviews_max', 'sort_by', 'hl', 'url', 'dt_selection'],\n",
       "      dtype='object')"
      ]
     },
     "execution_count": 197,
     "metadata": {},
     "output_type": "execute_result"
    }
   ],
   "source": [
    "df_input.columns"
   ]
  },
  {
   "cell_type": "code",
   "execution_count": 198,
   "metadata": {},
   "outputs": [],
   "source": [
    "cols_input = [\"done\",\"name\",\"n_reviews\",\"sort_by\",\"hl\",\"url\",\"google_id\",\"n_reviews_max\",\"dt_selection\"]\n",
    "df_input = df_input[cols_input].sort_values(\"n_reviews_max\", ascending=True)"
   ]
  },
  {
   "cell_type": "code",
   "execution_count": 199,
   "metadata": {},
   "outputs": [
    {
     "data": {
      "text/html": [
       "<div>\n",
       "<style scoped>\n",
       "    .dataframe tbody tr th:only-of-type {\n",
       "        vertical-align: middle;\n",
       "    }\n",
       "\n",
       "    .dataframe tbody tr th {\n",
       "        vertical-align: top;\n",
       "    }\n",
       "\n",
       "    .dataframe thead th {\n",
       "        text-align: right;\n",
       "    }\n",
       "</style>\n",
       "<table border=\"1\" class=\"dataframe\">\n",
       "  <thead>\n",
       "    <tr style=\"text-align: right;\">\n",
       "      <th></th>\n",
       "      <th>done</th>\n",
       "      <th>name</th>\n",
       "      <th>n_reviews</th>\n",
       "      <th>sort_by</th>\n",
       "      <th>hl</th>\n",
       "      <th>url</th>\n",
       "      <th>google_id</th>\n",
       "      <th>n_reviews_max</th>\n",
       "      <th>dt_selection</th>\n",
       "    </tr>\n",
       "  </thead>\n",
       "  <tbody>\n",
       "    <tr>\n",
       "      <th>197</th>\n",
       "      <td>0</td>\n",
       "      <td>Hotel Sara</td>\n",
       "      <td>-1</td>\n",
       "      <td>most_relevant</td>\n",
       "      <td>pt-br</td>\n",
       "      <td>https://www.google.com/maps/place/Hotel+Sara/@...</td>\n",
       "      <td>0x91f155649845b03b:0xe6966179c101261f</td>\n",
       "      <td>5</td>\n",
       "      <td>2024</td>\n",
       "    </tr>\n",
       "    <tr>\n",
       "      <th>397</th>\n",
       "      <td>0</td>\n",
       "      <td>Travessa 12 - Suítes - Serra Negra - SP</td>\n",
       "      <td>-1</td>\n",
       "      <td>most_relevant</td>\n",
       "      <td>pt-br</td>\n",
       "      <td>https://www.google.com/maps/place/Travessa+12+...</td>\n",
       "      <td>0x94c919d9be658e4b:0xaa695228fec7cf95</td>\n",
       "      <td>5</td>\n",
       "      <td>2024</td>\n",
       "    </tr>\n",
       "    <tr>\n",
       "      <th>212</th>\n",
       "      <td>0</td>\n",
       "      <td>Pousada Espaço Vida</td>\n",
       "      <td>-1</td>\n",
       "      <td>most_relevant</td>\n",
       "      <td>pt-br</td>\n",
       "      <td>https://www.google.com/maps/place/Pousada+Espa...</td>\n",
       "      <td>0x7af83234e742ee9:0xa90f1ee7372b82e</td>\n",
       "      <td>5</td>\n",
       "      <td>2024</td>\n",
       "    </tr>\n",
       "    <tr>\n",
       "      <th>121</th>\n",
       "      <td>0</td>\n",
       "      <td>Hotel Place Jardin</td>\n",
       "      <td>-1</td>\n",
       "      <td>most_relevant</td>\n",
       "      <td>pt-br</td>\n",
       "      <td>https://www.google.com/maps/place/Hotel+Place+...</td>\n",
       "      <td>0x7070d62b772ae6b:0xacfe5b07a46999dc</td>\n",
       "      <td>5</td>\n",
       "      <td>2024</td>\n",
       "    </tr>\n",
       "    <tr>\n",
       "      <th>19</th>\n",
       "      <td>0</td>\n",
       "      <td>Hotel Fazenda Engenho Cordeiro</td>\n",
       "      <td>-1</td>\n",
       "      <td>most_relevant</td>\n",
       "      <td>pt-br</td>\n",
       "      <td>https://www.google.com/maps/place/Hotel+Fazend...</td>\n",
       "      <td>0x7aba334020ce3ff:0xa082e2f0e6d45e7d</td>\n",
       "      <td>5</td>\n",
       "      <td>2024</td>\n",
       "    </tr>\n",
       "  </tbody>\n",
       "</table>\n",
       "</div>"
      ],
      "text/plain": [
       "     done                                     name  n_reviews        sort_by  \\\n",
       "197     0                               Hotel Sara         -1  most_relevant   \n",
       "397     0  Travessa 12 - Suítes - Serra Negra - SP         -1  most_relevant   \n",
       "212     0                      Pousada Espaço Vida         -1  most_relevant   \n",
       "121     0                       Hotel Place Jardin         -1  most_relevant   \n",
       "19      0           Hotel Fazenda Engenho Cordeiro         -1  most_relevant   \n",
       "\n",
       "        hl                                                url  \\\n",
       "197  pt-br  https://www.google.com/maps/place/Hotel+Sara/@...   \n",
       "397  pt-br  https://www.google.com/maps/place/Travessa+12+...   \n",
       "212  pt-br  https://www.google.com/maps/place/Pousada+Espa...   \n",
       "121  pt-br  https://www.google.com/maps/place/Hotel+Place+...   \n",
       "19   pt-br  https://www.google.com/maps/place/Hotel+Fazend...   \n",
       "\n",
       "                                 google_id  n_reviews_max  dt_selection  \n",
       "197  0x91f155649845b03b:0xe6966179c101261f              5          2024  \n",
       "397  0x94c919d9be658e4b:0xaa695228fec7cf95              5          2024  \n",
       "212    0x7af83234e742ee9:0xa90f1ee7372b82e              5          2024  \n",
       "121   0x7070d62b772ae6b:0xacfe5b07a46999dc              5          2024  \n",
       "19    0x7aba334020ce3ff:0xa082e2f0e6d45e7d              5          2024  "
      ]
     },
     "execution_count": 199,
     "metadata": {},
     "output_type": "execute_result"
    }
   ],
   "source": [
    "df_input.head()"
   ]
  },
  {
   "cell_type": "code",
   "execution_count": 200,
   "metadata": {},
   "outputs": [],
   "source": [
    "df_input.to_csv(\"scraper/input/hotels_24_05_08.csv\", index=False)"
   ]
  },
  {
   "cell_type": "markdown",
   "metadata": {},
   "source": [
    "# Lista de hoteis 2024"
   ]
  },
  {
   "cell_type": "code",
   "execution_count": 201,
   "metadata": {},
   "outputs": [],
   "source": [
    "import re\n",
    "\n",
    "def parse_url(url):\n",
    "    return re.findall(\"0[xX][0-9a-fA-F]+:0[xX][0-9a-fA-F]+\", url)[0]"
   ]
  },
  {
   "cell_type": "code",
   "execution_count": 202,
   "metadata": {},
   "outputs": [],
   "source": [
    "df_old = pd.read_csv(\"scraper/input/hotels_23_01_19.csv\")"
   ]
  },
  {
   "cell_type": "code",
   "execution_count": 203,
   "metadata": {},
   "outputs": [
    {
     "data": {
      "text/html": [
       "<div>\n",
       "<style scoped>\n",
       "    .dataframe tbody tr th:only-of-type {\n",
       "        vertical-align: middle;\n",
       "    }\n",
       "\n",
       "    .dataframe tbody tr th {\n",
       "        vertical-align: top;\n",
       "    }\n",
       "\n",
       "    .dataframe thead th {\n",
       "        text-align: right;\n",
       "    }\n",
       "</style>\n",
       "<table border=\"1\" class=\"dataframe\">\n",
       "  <thead>\n",
       "    <tr style=\"text-align: right;\">\n",
       "      <th></th>\n",
       "      <th>done</th>\n",
       "      <th>name</th>\n",
       "      <th>sort_by</th>\n",
       "      <th>hl</th>\n",
       "      <th>n_reviews</th>\n",
       "      <th>url</th>\n",
       "      <th>use</th>\n",
       "      <th>name_raw</th>\n",
       "      <th>n_reviews_max</th>\n",
       "      <th>state</th>\n",
       "      <th>region</th>\n",
       "      <th>overall_rating</th>\n",
       "      <th>stars</th>\n",
       "      <th>google_id</th>\n",
       "      <th>dt_selection</th>\n",
       "    </tr>\n",
       "  </thead>\n",
       "  <tbody>\n",
       "    <tr>\n",
       "      <th>0</th>\n",
       "      <td>0</td>\n",
       "      <td>Atlântico Center</td>\n",
       "      <td>most_relevant</td>\n",
       "      <td>pt-br</td>\n",
       "      <td>-1</td>\n",
       "      <td>https://www.google.com/maps/place/Atl%C3%A2nti...</td>\n",
       "      <td>1</td>\n",
       "      <td>Atlântico Center</td>\n",
       "      <td>1382</td>\n",
       "      <td>RJ</td>\n",
       "      <td>SUDESTE</td>\n",
       "      <td>2.9</td>\n",
       "      <td>0</td>\n",
       "      <td>0x0:0xcb0d68682790adde</td>\n",
       "      <td>2023</td>\n",
       "    </tr>\n",
       "    <tr>\n",
       "      <th>1</th>\n",
       "      <td>0</td>\n",
       "      <td>Hotel Pirâmide</td>\n",
       "      <td>most_relevant</td>\n",
       "      <td>pt-br</td>\n",
       "      <td>-1</td>\n",
       "      <td>https://www.google.com/maps/place/Hotel+Pir%C3...</td>\n",
       "      <td>1</td>\n",
       "      <td>Hotel Pirâmide</td>\n",
       "      <td>2464</td>\n",
       "      <td>BA</td>\n",
       "      <td>NORDESTE</td>\n",
       "      <td>3.4</td>\n",
       "      <td>2</td>\n",
       "      <td>0x0:0xd7dcb01eac806d59</td>\n",
       "      <td>2023</td>\n",
       "    </tr>\n",
       "    <tr>\n",
       "      <th>2</th>\n",
       "      <td>0</td>\n",
       "      <td>Caravelle Palace Hotel</td>\n",
       "      <td>most_relevant</td>\n",
       "      <td>pt-br</td>\n",
       "      <td>-1</td>\n",
       "      <td>https://www.google.com/maps/place/Caravelle+Pa...</td>\n",
       "      <td>1</td>\n",
       "      <td>Caravelle Palace Hotel</td>\n",
       "      <td>3180</td>\n",
       "      <td>PR</td>\n",
       "      <td>SUL</td>\n",
       "      <td>3.6</td>\n",
       "      <td>4</td>\n",
       "      <td>0x0:0x46c9e8944e610e0a</td>\n",
       "      <td>2023</td>\n",
       "    </tr>\n",
       "    <tr>\n",
       "      <th>3</th>\n",
       "      <td>0</td>\n",
       "      <td>Taj Mahal Continental Hotel</td>\n",
       "      <td>most_relevant</td>\n",
       "      <td>pt-br</td>\n",
       "      <td>-1</td>\n",
       "      <td>https://www.google.com/maps/place/Taj+Mahal+Co...</td>\n",
       "      <td>1</td>\n",
       "      <td>Taj Mahal Continental Hotel</td>\n",
       "      <td>1841</td>\n",
       "      <td>AM</td>\n",
       "      <td>NORTE</td>\n",
       "      <td>3.7</td>\n",
       "      <td>5</td>\n",
       "      <td>0x0:0x1735c41b4114de3</td>\n",
       "      <td>2023</td>\n",
       "    </tr>\n",
       "    <tr>\n",
       "      <th>4</th>\n",
       "      <td>0</td>\n",
       "      <td>Atlantic Hotel Copacabana</td>\n",
       "      <td>most_relevant</td>\n",
       "      <td>pt-br</td>\n",
       "      <td>-1</td>\n",
       "      <td>https://www.google.com/maps/place/Atlantic+Hot...</td>\n",
       "      <td>1</td>\n",
       "      <td>Atlantic Hotel Copacabana</td>\n",
       "      <td>4860</td>\n",
       "      <td>RJ</td>\n",
       "      <td>SUDESTE</td>\n",
       "      <td>3.7</td>\n",
       "      <td>2</td>\n",
       "      <td>0x9bd55a45ed7abb:0xc6bf79907daf138b</td>\n",
       "      <td>2023</td>\n",
       "    </tr>\n",
       "  </tbody>\n",
       "</table>\n",
       "</div>"
      ],
      "text/plain": [
       "   done                         name        sort_by     hl  n_reviews  \\\n",
       "0     0             Atlântico Center  most_relevant  pt-br         -1   \n",
       "1     0               Hotel Pirâmide  most_relevant  pt-br         -1   \n",
       "2     0       Caravelle Palace Hotel  most_relevant  pt-br         -1   \n",
       "3     0  Taj Mahal Continental Hotel  most_relevant  pt-br         -1   \n",
       "4     0    Atlantic Hotel Copacabana  most_relevant  pt-br         -1   \n",
       "\n",
       "                                                 url  use  \\\n",
       "0  https://www.google.com/maps/place/Atl%C3%A2nti...    1   \n",
       "1  https://www.google.com/maps/place/Hotel+Pir%C3...    1   \n",
       "2  https://www.google.com/maps/place/Caravelle+Pa...    1   \n",
       "3  https://www.google.com/maps/place/Taj+Mahal+Co...    1   \n",
       "4  https://www.google.com/maps/place/Atlantic+Hot...    1   \n",
       "\n",
       "                      name_raw  n_reviews_max state    region  overall_rating  \\\n",
       "0             Atlântico Center           1382    RJ   SUDESTE             2.9   \n",
       "1               Hotel Pirâmide           2464    BA  NORDESTE             3.4   \n",
       "2       Caravelle Palace Hotel           3180    PR       SUL             3.6   \n",
       "3  Taj Mahal Continental Hotel           1841    AM     NORTE             3.7   \n",
       "4    Atlantic Hotel Copacabana           4860    RJ   SUDESTE             3.7   \n",
       "\n",
       "   stars                            google_id  dt_selection  \n",
       "0      0               0x0:0xcb0d68682790adde          2023  \n",
       "1      2               0x0:0xd7dcb01eac806d59          2023  \n",
       "2      4               0x0:0x46c9e8944e610e0a          2023  \n",
       "3      5                0x0:0x1735c41b4114de3          2023  \n",
       "4      2  0x9bd55a45ed7abb:0xc6bf79907daf138b          2023  "
      ]
     },
     "execution_count": 203,
     "metadata": {},
     "output_type": "execute_result"
    }
   ],
   "source": [
    "df_old[\"google_id\"] = df_old[\"url\"].apply(parse_url)\n",
    "df_old[\"sort_by\"] = \"most_relevant\"\n",
    "df_old[\"done\"] = 0\n",
    "df_old[\"dt_selection\"] = 2023\n",
    "df_old.head()"
   ]
  },
  {
   "cell_type": "code",
   "execution_count": 204,
   "metadata": {},
   "outputs": [],
   "source": [
    "df_old = df_old[cols_input]"
   ]
  },
  {
   "cell_type": "code",
   "execution_count": 205,
   "metadata": {},
   "outputs": [
    {
     "data": {
      "text/html": [
       "<div>\n",
       "<style scoped>\n",
       "    .dataframe tbody tr th:only-of-type {\n",
       "        vertical-align: middle;\n",
       "    }\n",
       "\n",
       "    .dataframe tbody tr th {\n",
       "        vertical-align: top;\n",
       "    }\n",
       "\n",
       "    .dataframe thead th {\n",
       "        text-align: right;\n",
       "    }\n",
       "</style>\n",
       "<table border=\"1\" class=\"dataframe\">\n",
       "  <thead>\n",
       "    <tr style=\"text-align: right;\">\n",
       "      <th></th>\n",
       "      <th>done</th>\n",
       "      <th>name</th>\n",
       "      <th>n_reviews</th>\n",
       "      <th>sort_by</th>\n",
       "      <th>hl</th>\n",
       "      <th>url</th>\n",
       "      <th>google_id</th>\n",
       "      <th>n_reviews_max</th>\n",
       "      <th>dt_selection</th>\n",
       "    </tr>\n",
       "  </thead>\n",
       "  <tbody>\n",
       "    <tr>\n",
       "      <th>0</th>\n",
       "      <td>0</td>\n",
       "      <td>Atlântico Center</td>\n",
       "      <td>-1</td>\n",
       "      <td>most_relevant</td>\n",
       "      <td>pt-br</td>\n",
       "      <td>https://www.google.com/maps/place/Atl%C3%A2nti...</td>\n",
       "      <td>0x0:0xcb0d68682790adde</td>\n",
       "      <td>1382</td>\n",
       "      <td>2023</td>\n",
       "    </tr>\n",
       "    <tr>\n",
       "      <th>1</th>\n",
       "      <td>0</td>\n",
       "      <td>Hotel Pirâmide</td>\n",
       "      <td>-1</td>\n",
       "      <td>most_relevant</td>\n",
       "      <td>pt-br</td>\n",
       "      <td>https://www.google.com/maps/place/Hotel+Pir%C3...</td>\n",
       "      <td>0x0:0xd7dcb01eac806d59</td>\n",
       "      <td>2464</td>\n",
       "      <td>2023</td>\n",
       "    </tr>\n",
       "    <tr>\n",
       "      <th>2</th>\n",
       "      <td>0</td>\n",
       "      <td>Caravelle Palace Hotel</td>\n",
       "      <td>-1</td>\n",
       "      <td>most_relevant</td>\n",
       "      <td>pt-br</td>\n",
       "      <td>https://www.google.com/maps/place/Caravelle+Pa...</td>\n",
       "      <td>0x0:0x46c9e8944e610e0a</td>\n",
       "      <td>3180</td>\n",
       "      <td>2023</td>\n",
       "    </tr>\n",
       "    <tr>\n",
       "      <th>3</th>\n",
       "      <td>0</td>\n",
       "      <td>Taj Mahal Continental Hotel</td>\n",
       "      <td>-1</td>\n",
       "      <td>most_relevant</td>\n",
       "      <td>pt-br</td>\n",
       "      <td>https://www.google.com/maps/place/Taj+Mahal+Co...</td>\n",
       "      <td>0x0:0x1735c41b4114de3</td>\n",
       "      <td>1841</td>\n",
       "      <td>2023</td>\n",
       "    </tr>\n",
       "    <tr>\n",
       "      <th>4</th>\n",
       "      <td>0</td>\n",
       "      <td>Atlantic Hotel Copacabana</td>\n",
       "      <td>-1</td>\n",
       "      <td>most_relevant</td>\n",
       "      <td>pt-br</td>\n",
       "      <td>https://www.google.com/maps/place/Atlantic+Hot...</td>\n",
       "      <td>0x9bd55a45ed7abb:0xc6bf79907daf138b</td>\n",
       "      <td>4860</td>\n",
       "      <td>2023</td>\n",
       "    </tr>\n",
       "  </tbody>\n",
       "</table>\n",
       "</div>"
      ],
      "text/plain": [
       "   done                         name  n_reviews        sort_by     hl  \\\n",
       "0     0             Atlântico Center         -1  most_relevant  pt-br   \n",
       "1     0               Hotel Pirâmide         -1  most_relevant  pt-br   \n",
       "2     0       Caravelle Palace Hotel         -1  most_relevant  pt-br   \n",
       "3     0  Taj Mahal Continental Hotel         -1  most_relevant  pt-br   \n",
       "4     0    Atlantic Hotel Copacabana         -1  most_relevant  pt-br   \n",
       "\n",
       "                                                 url  \\\n",
       "0  https://www.google.com/maps/place/Atl%C3%A2nti...   \n",
       "1  https://www.google.com/maps/place/Hotel+Pir%C3...   \n",
       "2  https://www.google.com/maps/place/Caravelle+Pa...   \n",
       "3  https://www.google.com/maps/place/Taj+Mahal+Co...   \n",
       "4  https://www.google.com/maps/place/Atlantic+Hot...   \n",
       "\n",
       "                             google_id  n_reviews_max  dt_selection  \n",
       "0               0x0:0xcb0d68682790adde           1382          2023  \n",
       "1               0x0:0xd7dcb01eac806d59           2464          2023  \n",
       "2               0x0:0x46c9e8944e610e0a           3180          2023  \n",
       "3                0x0:0x1735c41b4114de3           1841          2023  \n",
       "4  0x9bd55a45ed7abb:0xc6bf79907daf138b           4860          2023  "
      ]
     },
     "execution_count": 205,
     "metadata": {},
     "output_type": "execute_result"
    }
   ],
   "source": [
    "df_old.head()"
   ]
  },
  {
   "cell_type": "markdown",
   "metadata": {},
   "source": [
    "# Unindo listas"
   ]
  },
  {
   "cell_type": "code",
   "execution_count": 206,
   "metadata": {},
   "outputs": [
    {
     "data": {
      "text/plain": [
       "(1406, 9)"
      ]
     },
     "execution_count": 206,
     "metadata": {},
     "output_type": "execute_result"
    }
   ],
   "source": [
    "df_input_full = pd.concat([df_input, df_old])\n",
    "df_input_full.shape"
   ]
  },
  {
   "cell_type": "code",
   "execution_count": 207,
   "metadata": {},
   "outputs": [
    {
     "data": {
      "text/plain": [
       "(1406, 9)"
      ]
     },
     "execution_count": 207,
     "metadata": {},
     "output_type": "execute_result"
    }
   ],
   "source": [
    "df_input_full = df_input_full.sort_values(\"dt_selection\", ascending=False).drop_duplicates(\"google_id\")\n",
    "df_input_full.shape"
   ]
  },
  {
   "cell_type": "code",
   "execution_count": 208,
   "metadata": {},
   "outputs": [],
   "source": [
    "df_input_full = df_input_full.sort_values(\"n_reviews_max\", ascending=True)"
   ]
  },
  {
   "cell_type": "code",
   "execution_count": 210,
   "metadata": {},
   "outputs": [],
   "source": [
    "df_input.to_csv(\"scraper/input/hotels_24_merged.csv\", index=False)"
   ]
  },
  {
   "cell_type": "code",
   "execution_count": 221,
   "metadata": {},
   "outputs": [],
   "source": [
    "df_input_missing = df_input_full.query(\"n_reviews_max > 1200 | dt_selection == 2023\")"
   ]
  },
  {
   "cell_type": "code",
   "execution_count": 223,
   "metadata": {},
   "outputs": [
    {
     "name": "stderr",
     "output_type": "stream",
     "text": [
      "C:\\Users\\Bruno\\AppData\\Local\\Temp\\ipykernel_15160\\619226628.py:1: SettingWithCopyWarning: \n",
      "A value is trying to be set on a copy of a slice from a DataFrame.\n",
      "Try using .loc[row_indexer,col_indexer] = value instead\n",
      "\n",
      "See the caveats in the documentation: https://pandas.pydata.org/pandas-docs/stable/user_guide/indexing.html#returning-a-view-versus-a-copy\n",
      "  df_input_missing[\"sort_by\"] = \"newest\"\n"
     ]
    }
   ],
   "source": [
    "df_input_missing[\"sort_by\"] = \"newest\"\n",
    "df_input_missing.to_csv(\"scraper/input/hotels_24_big.csv\", index=False)"
   ]
  },
  {
   "cell_type": "code",
   "execution_count": 219,
   "metadata": {},
   "outputs": [
    {
     "data": {
      "text/plain": [
       "<AxesSubplot:ylabel='Frequency'>"
      ]
     },
     "execution_count": 219,
     "metadata": {},
     "output_type": "execute_result"
    },
    {
     "data": {
      "image/png": "[encoded data removed]",
      "text/plain": [
       "<Figure size 432x288 with 1 Axes>"
      ]
     },
     "metadata": {
      "needs_background": "light"
     },
     "output_type": "display_data"
    }
   ],
   "source": [
    "bins=[0,1000,2000,3000,4000]\n",
    "df_input.n_reviews_max.plot(kind=\"hist\", bins=bins, xlabel=bins)"
   ]
  }
 ],
 "metadata": {
  "kernelspec": {
   "display_name": "pln",
   "language": "python",
   "name": "python3"
  },
  "language_info": {
   "codemirror_mode": {
    "name": "ipython",
    "version": 3
   },
   "file_extension": ".py",
   "mimetype": "text/x-python",
   "name": "python",
   "nbconvert_exporter": "python",
   "pygments_lexer": "ipython3",
   "version": "3.9.12"
  }
 },
 "nbformat": 4,
 "nbformat_minor": 2
}

{
  "cells": [
    {
      "cell_type": "markdown",
      "metadata": {
        "id": "view-in-github",
        "colab_type": "text"
      },
      "source": [
        "<a href=\"https://colab.research.google.com/github/brusangues/maps-reviews-api-scraper/blob/master/maps_reviews_api_scraper.ipynb\" target=\"_parent\"><img src=\"https://colab.research.google.com/assets/colab-badge.svg\" alt=\"Open In Colab\"/></a>"
      ]
    },
    {
      "cell_type": "code",
      "source": [
        "!git clone https://github.com/brusangues/maps-reviews-api-scraper"
      ],
      "metadata": {
        "id": "-u7qkXtwISYD",
        "outputId": "31058be9-707e-4994-dc1a-614b8e24696e",
        "colab": {
          "base_uri": "https://localhost:8080/"
        }
      },
      "execution_count": 9,
      "outputs": [
        {
          "output_type": "stream",
          "name": "stdout",
          "text": [
            "Cloning into 'maps-reviews-api-scraper'...\n",
            "remote: Enumerating objects: 206, done.\u001b[K\n",
            "remote: Counting objects:   0% (1/206)\u001b[K\rremote: Counting objects:   1% (3/206)\u001b[K\rremote: Counting objects:   2% (5/206)\u001b[K\rremote: Counting objects:   3% (7/206)\u001b[K\rremote: Counting objects:   4% (9/206)\u001b[K\rremote: Counting objects:   5% (11/206)\u001b[K\rremote: Counting objects:   6% (13/206)\u001b[K\rremote: Counting objects:   7% (15/206)\u001b[K\rremote: Counting objects:   8% (17/206)\u001b[K\rremote: Counting objects:   9% (19/206)\u001b[K\rremote: Counting objects:  10% (21/206)\u001b[K\rremote: Counting objects:  11% (23/206)\u001b[K\rremote: Counting objects:  12% (25/206)\u001b[K\rremote: Counting objects:  13% (27/206)\u001b[K\rremote: Counting objects:  14% (29/206)\u001b[K\rremote: Counting objects:  15% (31/206)\u001b[K\rremote: Counting objects:  16% (33/206)\u001b[K\rremote: Counting objects:  17% (36/206)\u001b[K\rremote: Counting objects:  18% (38/206)\u001b[K\rremote: Counting objects:  19% (40/206)\u001b[K\rremote: Counting objects:  20% (42/206)\u001b[K\rremote: Counting objects:  21% (44/206)\u001b[K\rremote: Counting objects:  22% (46/206)\u001b[K\rremote: Counting objects:  23% (48/206)\u001b[K\rremote: Counting objects:  24% (50/206)\u001b[K\rremote: Counting objects:  25% (52/206)\u001b[K\rremote: Counting objects:  26% (54/206)\u001b[K\rremote: Counting objects:  27% (56/206)\u001b[K\rremote: Counting objects:  28% (58/206)\u001b[K\rremote: Counting objects:  29% (60/206)\u001b[K\rremote: Counting objects:  30% (62/206)\u001b[K\rremote: Counting objects:  31% (64/206)\u001b[K\rremote: Counting objects:  32% (66/206)\u001b[K\rremote: Counting objects:  33% (68/206)\u001b[K\rremote: Counting objects:  34% (71/206)\u001b[K\rremote: Counting objects:  35% (73/206)\u001b[K\rremote: Counting objects:  36% (75/206)\u001b[K\rremote: Counting objects:  37% (77/206)\u001b[K\rremote: Counting objects:  38% (79/206)\u001b[K\rremote: Counting objects:  39% (81/206)\u001b[K\rremote: Counting objects:  40% (83/206)\u001b[K\rremote: Counting objects:  41% (85/206)\u001b[K\rremote: Counting objects:  42% (87/206)\u001b[K\rremote: Counting objects:  43% (89/206)\u001b[K\rremote: Counting objects:  44% (91/206)\u001b[K\rremote: Counting objects:  45% (93/206)\u001b[K\rremote: Counting objects:  46% (95/206)\u001b[K\rremote: Counting objects:  47% (97/206)\u001b[K\rremote: Counting objects:  48% (99/206)\u001b[K\rremote: Counting objects:  49% (101/206)\u001b[K\rremote: Counting objects:  50% (103/206)\u001b[K\rremote: Counting objects:  51% (106/206)\u001b[K\rremote: Counting objects:  52% (108/206)\u001b[K\rremote: Counting objects:  53% (110/206)\u001b[K\rremote: Counting objects:  54% (112/206)\u001b[K\rremote: Counting objects:  55% (114/206)\u001b[K\rremote: Counting objects:  56% (116/206)\u001b[K\rremote: Counting objects:  57% (118/206)\u001b[K\rremote: Counting objects:  58% (120/206)\u001b[K\rremote: Counting objects:  59% (122/206)\u001b[K\rremote: Counting objects:  60% (124/206)\u001b[K\rremote: Counting objects:  61% (126/206)\u001b[K\rremote: Counting objects:  62% (128/206)\u001b[K\rremote: Counting objects:  63% (130/206)\u001b[K\rremote: Counting objects:  64% (132/206)\u001b[K\rremote: Counting objects:  65% (134/206)\u001b[K\rremote: Counting objects:  66% (136/206)\u001b[K\rremote: Counting objects:  67% (139/206)\u001b[K\rremote: Counting objects:  68% (141/206)\u001b[K\rremote: Counting objects:  69% (143/206)\u001b[K\rremote: Counting objects:  70% (145/206)\u001b[K\rremote: Counting objects:  71% (147/206)\u001b[K\rremote: Counting objects:  72% (149/206)\u001b[K\rremote: Counting objects:  73% (151/206)\u001b[K\rremote: Counting objects:  74% (153/206)\u001b[K\rremote: Counting objects:  75% (155/206)\u001b[K\rremote: Counting objects:  76% (157/206)\u001b[K\rremote: Counting objects:  77% (159/206)\u001b[K\rremote: Counting objects:  78% (161/206)\u001b[K\rremote: Counting objects:  79% (163/206)\u001b[K\rremote: Counting objects:  80% (165/206)\u001b[K\rremote: Counting objects:  81% (167/206)\u001b[K\rremote: Counting objects:  82% (169/206)\u001b[K\rremote: Counting objects:  83% (171/206)\u001b[K\rremote: Counting objects:  84% (174/206)\u001b[K\rremote: Counting objects:  85% (176/206)\u001b[K\rremote: Counting objects:  86% (178/206)\u001b[K\rremote: Counting objects:  87% (180/206)\u001b[K\rremote: Counting objects:  88% (182/206)\u001b[K\rremote: Counting objects:  89% (184/206)\u001b[K\rremote: Counting objects:  90% (186/206)\u001b[K\rremote: Counting objects:  91% (188/206)\u001b[K\rremote: Counting objects:  92% (190/206)\u001b[K\rremote: Counting objects:  93% (192/206)\u001b[K\rremote: Counting objects:  94% (194/206)\u001b[K\rremote: Counting objects:  95% (196/206)\u001b[K\rremote: Counting objects:  96% (198/206)\u001b[K\rremote: Counting objects:  97% (200/206)\u001b[K\rremote: Counting objects:  98% (202/206)\u001b[K\rremote: Counting objects:  99% (204/206)\u001b[K\rremote: Counting objects: 100% (206/206)\u001b[K\rremote: Counting objects: 100% (206/206), done.\u001b[K\n",
            "remote: Compressing objects:   0% (1/120)\u001b[K\rremote: Compressing objects:   1% (2/120)\u001b[K\rremote: Compressing objects:   2% (3/120)\u001b[K\rremote: Compressing objects:   3% (4/120)\u001b[K\rremote: Compressing objects:   4% (5/120)\u001b[K\rremote: Compressing objects:   5% (6/120)\u001b[K\rremote: Compressing objects:   6% (8/120)\u001b[K\rremote: Compressing objects:   7% (9/120)\u001b[K\rremote: Compressing objects:   8% (10/120)\u001b[K\rremote: Compressing objects:   9% (11/120)\u001b[K\rremote: Compressing objects:  10% (12/120)\u001b[K\rremote: Compressing objects:  11% (14/120)\u001b[K\rremote: Compressing objects:  12% (15/120)\u001b[K\rremote: Compressing objects:  13% (16/120)\u001b[K\rremote: Compressing objects:  14% (17/120)\u001b[K\rremote: Compressing objects:  15% (18/120)\u001b[K\rremote: Compressing objects:  16% (20/120)\u001b[K\rremote: Compressing objects:  17% (21/120)\u001b[K\rremote: Compressing objects:  18% (22/120)\u001b[K\rremote: Compressing objects:  19% (23/120)\u001b[K\rremote: Compressing objects:  20% (24/120)\u001b[K\rremote: Compressing objects:  21% (26/120)\u001b[K\rremote: Compressing objects:  22% (27/120)\u001b[K\rremote: Compressing objects:  23% (28/120)\u001b[K\rremote: Compressing objects:  24% (29/120)\u001b[K\rremote: Compressing objects:  25% (30/120)\u001b[K\rremote: Compressing objects:  26% (32/120)\u001b[K\rremote: Compressing objects:  27% (33/120)\u001b[K\rremote: Compressing objects:  28% (34/120)\u001b[K\rremote: Compressing objects:  29% (35/120)\u001b[K\rremote: Compressing objects:  30% (36/120)\u001b[K\rremote: Compressing objects:  31% (38/120)\u001b[K\rremote: Compressing objects:  32% (39/120)\u001b[K\rremote: Compressing objects:  33% (40/120)\u001b[K\rremote: Compressing objects:  34% (41/120)\u001b[K\rremote: Compressing objects:  35% (42/120)\u001b[K\rremote: Compressing objects:  36% (44/120)\u001b[K\rremote: Compressing objects:  37% (45/120)\u001b[K\rremote: Compressing objects:  38% (46/120)\u001b[K\rremote: Compressing objects:  39% (47/120)\u001b[K\rremote: Compressing objects:  40% (48/120)\u001b[K\rremote: Compressing objects:  41% (50/120)\u001b[K\rremote: Compressing objects:  42% (51/120)\u001b[K\rremote: Compressing objects:  43% (52/120)\u001b[K\rremote: Compressing objects:  44% (53/120)\u001b[K\rremote: Compressing objects:  45% (54/120)\u001b[K\rremote: Compressing objects:  46% (56/120)\u001b[K\rremote: Compressing objects:  47% (57/120)\u001b[K\rremote: Compressing objects:  48% (58/120)\u001b[K\rremote: Compressing objects:  49% (59/120)\u001b[K\rremote: Compressing objects:  50% (60/120)\u001b[K\rremote: Compressing objects:  51% (62/120)\u001b[K\rremote: Compressing objects:  52% (63/120)\u001b[K\rremote: Compressing objects:  53% (64/120)\u001b[K\rremote: Compressing objects:  54% (65/120)\u001b[K\rremote: Compressing objects:  55% (66/120)\u001b[K\rremote: Compressing objects:  56% (68/120)\u001b[K\rremote: Compressing objects:  57% (69/120)\u001b[K\rremote: Compressing objects:  58% (70/120)\u001b[K\rremote: Compressing objects:  59% (71/120)\u001b[K\rremote: Compressing objects:  60% (72/120)\u001b[K\rremote: Compressing objects:  61% (74/120)\u001b[K\rremote: Compressing objects:  62% (75/120)\u001b[K\rremote: Compressing objects:  63% (76/120)\u001b[K\rremote: Compressing objects:  64% (77/120)\u001b[K\rremote: Compressing objects:  65% (78/120)\u001b[K\rremote: Compressing objects:  66% (80/120)\u001b[K\rremote: Compressing objects:  67% (81/120)\u001b[K\rremote: Compressing objects:  68% (82/120)\u001b[K\rremote: Compressing objects:  69% (83/120)\u001b[K\rremote: Compressing objects:  70% (84/120)\u001b[K\rremote: Compressing objects:  71% (86/120)\u001b[K\rremote: Compressing objects:  72% (87/120)\u001b[K\rremote: Compressing objects:  73% (88/120)\u001b[K\rremote: Compressing objects:  74% (89/120)\u001b[K\rremote: Compressing objects:  75% (90/120)\u001b[K\rremote: Compressing objects:  76% (92/120)\u001b[K\rremote: Compressing objects:  77% (93/120)\u001b[K\rremote: Compressing objects:  78% (94/120)\u001b[K\rremote: Compressing objects:  79% (95/120)\u001b[K\rremote: Compressing objects:  80% (96/120)\u001b[K\rremote: Compressing objects:  81% (98/120)\u001b[K\rremote: Compressing objects:  82% (99/120)\u001b[K\rremote: Compressing objects:  83% (100/120)\u001b[K\rremote: Compressing objects:  84% (101/120)\u001b[K\rremote: Compressing objects:  85% (102/120)\u001b[K\rremote: Compressing objects:  86% (104/120)\u001b[K\rremote: Compressing objects:  87% (105/120)\u001b[K\rremote: Compressing objects:  88% (106/120)\u001b[K\rremote: Compressing objects:  89% (107/120)\u001b[K\rremote: Compressing objects:  90% (108/120)\u001b[K\rremote: Compressing objects:  91% (110/120)\u001b[K\rremote: Compressing objects:  92% (111/120)\u001b[K\rremote: Compressing objects:  93% (112/120)\u001b[K\rremote: Compressing objects:  94% (113/120)\u001b[K\rremote: Compressing objects:  95% (114/120)\u001b[K\rremote: Compressing objects:  96% (116/120)\u001b[K\rremote: Compressing objects:  97% (117/120)\u001b[K\rremote: Compressing objects:  98% (118/120)\u001b[K\rremote: Compressing objects:  99% (119/120)\u001b[K\rremote: Compressing objects: 100% (120/120)\u001b[K\rremote: Compressing objects: 100% (120/120), done.\u001b[K\n",
            "remote: Total 206 (delta 117), reused 163 (delta 76), pack-reused 0\u001b[K\n",
            "Receiving objects: 100% (206/206), 153.75 KiB | 6.41 MiB/s, done.\n",
            "Resolving deltas: 100% (117/117), done.\n"
          ]
        }
      ]
    },
    {
      "cell_type": "code",
      "source": [
        "%cd maps-reviews-api-scraper"
      ],
      "metadata": {
        "id": "Zhn3B3meIVnz",
        "outputId": "3c36c7a4-5a3d-4a74-eb7c-bcd875cfbf1f",
        "colab": {
          "base_uri": "https://localhost:8080/"
        }
      },
      "execution_count": 10,
      "outputs": [
        {
          "output_type": "stream",
          "name": "stdout",
          "text": [
            "/content/maps-reviews-api-scraper/maps-reviews-api-scraper\n"
          ]
        }
      ]
    },
    {
      "cell_type": "code",
      "source": [
        "!pip install -r requirements.txt"
      ],
      "metadata": {
        "id": "iuvTZhRAJC9Q"
      },
      "execution_count": null,
      "outputs": []
    },
    {
      "cell_type": "code",
      "source": [
        "!python -m app run-async --path input/test.csv"
      ],
      "metadata": {
        "id": "OyySIeEFJQrS",
        "outputId": "0a27a194-952a-466e-b685-67ee5479bcec",
        "colab": {
          "base_uri": "https://localhost:8080/"
        }
      },
      "execution_count": 12,
      "outputs": [
        {
          "output_type": "stream",
          "name": "stdout",
          "text": [
            "\u001b[38;20m2022-11-30 02:26:24,266 INFO    360 [    call_pools] (app.py: 46): - Running async\u001b[0m\n",
            "\u001b[38;20m2022-11-30 02:26:24,333 INFO    374 [  call_scraper] (app.py: 84): - folder created\u001b[0m\n",
            "\u001b[38;20m2022-11-30 02:26:24,332 INFO    373 [  call_scraper] (app.py: 84): - folder created\u001b[0m\n",
            "\u001b[38;20m2022-11-30 02:26:24,343 INFO    374 [  scrape_place] (scraper.py:476): Pousada Itararé  - Scraping metadata for url: Pousada Itararé\u001b[0m\n",
            "\u001b[38;20m2022-11-30 02:26:24,344 INFO    373 [  scrape_place] (scraper.py:476): Wish Foz do Igua - Scraping metadata for url: Wish Foz do Iguaçu\u001b[0m\n",
            "\u001b[38;20m2022-11-30 02:26:24,345 INFO    374 [  scrape_place] (scraper.py:480): Pousada Itararé  - Parsing metadata...\u001b[0m\n",
            "\u001b[38;20m2022-11-30 02:26:24,345 INFO    373 [  scrape_place] (scraper.py:480): Wish Foz do Igua - Parsing metadata...\u001b[0m\n",
            "\u001b[38;20m2022-11-30 02:26:24,734 INFO    374 [  call_scraper] (app.py:120): Pousada Itararé  - header written\u001b[0m\n",
            "\u001b[38;20m2022-11-30 02:26:24,734 INFO    374 [scrape_reviews] (scraper.py:384): Pousada Itararé  - Scraping reviews for url: Pousada Itararé\u001b[0m\n",
            "\u001b[38;20m2022-11-30 02:26:24,734 INFO    374 [scrape_reviews] (scraper.py:394): Pousada Itararé  - Request:        0; review:        0\u001b[0m\n",
            "\u001b[38;20m2022-11-30 02:26:24,912 INFO    373 [  call_scraper] (app.py:120): Wish Foz do Igua - header written\u001b[0m\n",
            "\u001b[38;20m2022-11-30 02:26:24,912 INFO    373 [scrape_reviews] (scraper.py:384): Wish Foz do Igua - Scraping reviews for url: Wish Foz do Iguaçu\u001b[0m\n",
            "\u001b[38;20m2022-11-30 02:26:24,913 INFO    373 [scrape_reviews] (scraper.py:394): Wish Foz do Igua - Request:        0; review:        0\u001b[0m\n",
            "\u001b[38;20m2022-11-30 02:26:25,396 INFO    374 [scrape_reviews] (scraper.py:394): Pousada Itararé  - Request:        1; review:       10\u001b[0m\n",
            "\u001b[38;20m2022-11-30 02:26:25,558 INFO    373 [scrape_reviews] (scraper.py:394): Wish Foz do Igua - Request:        1; review:       10\u001b[0m\n",
            "\u001b[38;20m2022-11-30 02:26:25,942 INFO    374 [scrape_reviews] (scraper.py:459): Pousada Itararé  - Done Scraping Reviews. Requests made: 2; Reviews parsed: 20\u001b[0m\n",
            "\u001b[38;20m2022-11-30 02:26:26,057 INFO    373 [scrape_reviews] (scraper.py:459): Wish Foz do Igua - Done Scraping Reviews. Requests made: 2; Reviews parsed: 20\u001b[0m\n",
            "\u001b[38;20m2022-11-30 02:26:26,141 INFO    360 [    call_pools] (app.py: 57): - Finished running scraper async\u001b[0m\n",
            "\u001b[38;20m2022-11-30 02:26:26,141 INFO    360 [   log_summary] (app.py: 71): - name:test pousada ita; place_name:Pousada Itararé ; n_max:   115; n_input:    20; n_scraped:    20; n_errors:0\u001b[0m\n",
            "\u001b[38;20m2022-11-30 02:26:26,141 INFO    360 [   log_summary] (app.py: 71): - name:Wish Foz do Igua; place_name:Wish Foz do Igua; n_max:  5289; n_input:    20; n_scraped:    20; n_errors:0\u001b[0m\n"
          ]
        }
      ]
    }
  ],
  "metadata": {
    "colab": {
      "provenance": [],
      "include_colab_link": true
    },
    "kernelspec": {
      "display_name": "Python 3",
      "name": "python3"
    }
  },
  "nbformat": 4,
  "nbformat_minor": 0
}
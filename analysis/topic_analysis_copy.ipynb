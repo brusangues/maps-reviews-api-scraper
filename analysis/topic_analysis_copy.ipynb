{
 "cells": [
  {
   "attachments": {},
   "cell_type": "markdown",
   "metadata": {},
   "source": [
    "# 1. Setup"
   ]
  },
  {
   "cell_type": "code",
   "execution_count": 1,
   "metadata": {},
   "outputs": [],
   "source": [
    "%load_ext autoreload"
   ]
  },
  {
   "cell_type": "code",
   "execution_count": 2,
   "metadata": {},
   "outputs": [],
   "source": [
    "%autoreload 2\n",
    "import json\n",
    "import logging\n",
    "import os\n",
    "from datetime import datetime\n",
    "from pathlib import Path\n",
    "\n",
    "import pandas as pd\n",
    "import regex as re\n",
    "import typer\n",
    "from dateutils import relativedelta\n",
    "from unidecode import unidecode\n",
    "\n",
    "from analysis.config import *\n",
    "from analysis.preprocessing import map_progress, tokenizer_lemma\n",
    "from analysis.utils import *\n",
    "from src.custom_logger import get_logger\n",
    "\n",
    "# Removendo aviso de debug\n",
    "os.environ[\"PYDEVD_WARN_SLOW_RESOLVE_TIMEOUT\"] = \"3000\"\n",
    "# Removendo limitação de print de dfs\n",
    "# pd.set_option(\"display.max_rows\", 500)\n",
    "# pd.set_option(\"display.max_columns\", 500)\n",
    "# pd.set_option(\"display.width\", 1000)\n",
    "\n",
    "# Caminho da pasta contendo os csvs\n",
    "data_path = \"data/2023/01/19/\"\n",
    "places_file = \"data/places.csv\"\n",
    "input_file = \"input/hotels_23_01_19.csv\"\n",
    "reports_folder = Path(\"./reports\")\n",
    "Path(reports_folder).mkdir(exist_ok=True)\n",
    "data_folder = Path(\"./data/prep\")\n",
    "Path(data_folder).mkdir(exist_ok=True)\n"
   ]
  },
  {
   "cell_type": "code",
   "execution_count": 3,
   "metadata": {},
   "outputs": [],
   "source": [
    "from tqdm import tqdm\n",
    "tqdm.pandas()"
   ]
  },
  {
   "cell_type": "code",
   "execution_count": 4,
   "metadata": {},
   "outputs": [],
   "source": [
    "from itertools import chain\n",
    "\n",
    "join_str = lambda x: \"\\n\".join(list(x)) if x is not None else \"\"\n",
    "join_list = lambda x: list(chain.from_iterable(x))"
   ]
  },
  {
   "attachments": {},
   "cell_type": "markdown",
   "metadata": {},
   "source": [
    "# 2. Stats"
   ]
  },
  {
   "attachments": {},
   "cell_type": "markdown",
   "metadata": {},
   "source": [
    "```\n",
    "Hotéis         50\n",
    "Avaliações 150774\n",
    "Sentenças  329235\n",
    "Tokens    1633318\n",
    "```"
   ]
  },
  {
   "cell_type": "code",
   "execution_count": 6,
   "metadata": {},
   "outputs": [],
   "source": [
    "df_prep = pd.read_parquet(\"data/prep/df_text_prep_2023-06-22_20-52-11_175568.pq\")\n",
    "df_hotels = pd.read_parquet(\"data/prep/df_hotels_2023-06-22_20-52-11_175568.pq\")"
   ]
  },
  {
   "cell_type": "code",
   "execution_count": 22,
   "metadata": {},
   "outputs": [
    {
     "data": {
      "text/plain": [
       "50"
      ]
     },
     "execution_count": 22,
     "metadata": {},
     "output_type": "execute_result"
    }
   ],
   "source": [
    "n_hotels = df_prep.name.drop_duplicates().count()\n",
    "n_hotels"
   ]
  },
  {
   "cell_type": "code",
   "execution_count": 16,
   "metadata": {},
   "outputs": [],
   "source": [
    "df_prep[\"text_na\"] = (df_prep.text == '') | (df_prep.text.isna())"
   ]
  },
  {
   "cell_type": "code",
   "execution_count": 23,
   "metadata": {},
   "outputs": [
    {
     "data": {
      "text/plain": [
       "150774"
      ]
     },
     "execution_count": 23,
     "metadata": {},
     "output_type": "execute_result"
    }
   ],
   "source": [
    "n_reviews = (~df_prep[\"text_na\"]).sum()\n",
    "n_reviews"
   ]
  },
  {
   "cell_type": "code",
   "execution_count": 31,
   "metadata": {},
   "outputs": [
    {
     "data": {
      "text/plain": [
       "329235"
      ]
     },
     "execution_count": 31,
     "metadata": {},
     "output_type": "execute_result"
    }
   ],
   "source": [
    "n_sentences = df_prep[(~df_prep[\"text_na\"])].text_tokens.apply(len).sum()\n",
    "n_sentences"
   ]
  },
  {
   "cell_type": "code",
   "execution_count": 28,
   "metadata": {},
   "outputs": [
    {
     "data": {
      "text/plain": [
       "1633318"
      ]
     },
     "execution_count": 28,
     "metadata": {},
     "output_type": "execute_result"
    }
   ],
   "source": [
    "n_tokens = df_prep.text_tokens.apply(join_list).apply(len).sum()\n",
    "n_tokens"
   ]
  },
  {
   "attachments": {},
   "cell_type": "markdown",
   "metadata": {},
   "source": [
    "# 3. Corpus"
   ]
  },
  {
   "cell_type": "code",
   "execution_count": 151,
   "metadata": {},
   "outputs": [
    {
     "data": {
      "text/plain": [
       "(150774,)"
      ]
     },
     "execution_count": 151,
     "metadata": {},
     "output_type": "execute_result"
    }
   ],
   "source": [
    "import numpy as np\n",
    "\n",
    "# Review level documents\n",
    "text_tokens_flat = df_prep[(~df_prep[\"text_na\"])].text_tokens.apply(join_list)\n",
    "df_prep.loc[(~df_prep[\"text_na\"]),\"text_tokens_flat\"] = text_tokens_flat\n",
    "\n",
    "# Hotel level documents\n",
    "# text_tokens_flat = df_hotels.text_tokens_sum.apply(join_list)\n",
    "\n",
    "text_tokens_flat.shape"
   ]
  },
  {
   "cell_type": "code",
   "execution_count": 34,
   "metadata": {},
   "outputs": [
    {
     "data": {
      "text/plain": [
       "0    [bom, preco, otima, localizacao, atendimento, ...\n",
       "1    [nunca, quarto, hotel, tao, sujo, vida, lencol...\n",
       "2    [hotel, baixissima, qualidad, atendimento, aco...\n",
       "3    [pessimo, atendimento, classico, rio, janeiro,...\n",
       "6    [experiencia, nao, boa, ness, hotel, propagand...\n",
       "Name: text_tokens, dtype: object"
      ]
     },
     "execution_count": 34,
     "metadata": {},
     "output_type": "execute_result"
    }
   ],
   "source": [
    "text_tokens_flat.head()"
   ]
  },
  {
   "cell_type": "code",
   "execution_count": 35,
   "metadata": {},
   "outputs": [
    {
     "name": "stderr",
     "output_type": "stream",
     "text": [
      "100%|██████████| 150774/150774 [00:01<00:00, 107786.02it/s]\n"
     ]
    }
   ],
   "source": [
    "from gensim import corpora\n",
    "\n",
    "corpus = text_tokens_flat.to_list()\n",
    "gensim_dictionary = corpora.Dictionary(corpus)\n",
    "\n",
    "text_tokens_corpus = text_tokens_flat.progress_apply(lambda x:gensim_dictionary.doc2bow(x, allow_update=False))\n",
    "gensim_corpus = text_tokens_corpus.to_list()"
   ]
  },
  {
   "attachments": {},
   "cell_type": "markdown",
   "metadata": {},
   "source": [
    "# 4. Topic Modeling"
   ]
  },
  {
   "cell_type": "code",
   "execution_count": 36,
   "metadata": {},
   "outputs": [],
   "source": [
    "# Treinando modelo\n",
    "import gensim\n",
    "from gensim.models import CoherenceModel\n",
    "\n",
    "hdp_model = gensim.models.hdpmodel.HdpModel(\n",
    "    corpus=gensim_corpus, \n",
    "    id2word=gensim_dictionary, \n",
    "    T=30\n",
    ")"
   ]
  },
  {
   "cell_type": "code",
   "execution_count": 38,
   "metadata": {},
   "outputs": [],
   "source": [
    "lda_model = gensim.models.ldamodel.LdaModel(\n",
    "    corpus=gensim_corpus, \n",
    "    num_topics=10, \n",
    "    id2word=gensim_dictionary, \n",
    "    passes=10,\n",
    "    # per_word_topics=True\n",
    ")"
   ]
  },
  {
   "cell_type": "code",
   "execution_count": 39,
   "metadata": {},
   "outputs": [
    {
     "name": "stdout",
     "output_type": "stream",
     "text": [
      "LDA Perplexity: -7.826251888663526\n"
     ]
    }
   ],
   "source": [
    "def perplexity_score(model: gensim.models.ldamodel.LdaModel):\n",
    "    return model.log_perplexity(gensim_corpus)\n",
    "\n",
    "print('LDA Perplexity:', perplexity_score(lda_model))"
   ]
  },
  {
   "cell_type": "code",
   "execution_count": 40,
   "metadata": {},
   "outputs": [
    {
     "name": "stdout",
     "output_type": "stream",
     "text": [
      "u_mass\n",
      "LDA Coherence Score: -3.4015809945855375\n",
      "HDP Coherence Score: -2.119564010808948\n"
     ]
    }
   ],
   "source": [
    "def coherence_score(model, coherence='u_mass'):\n",
    "    coherence_score_model = CoherenceModel(model=model, texts=corpus, dictionary=gensim_dictionary, coherence=coherence)\n",
    "    return coherence_score_model.get_coherence()\n",
    "\n",
    "print(\"u_mass\")\n",
    "print('LDA Coherence Score:', coherence_score(lda_model))\n",
    "print('HDP Coherence Score:', coherence_score(hdp_model))"
   ]
  },
  {
   "cell_type": "code",
   "execution_count": null,
   "metadata": {},
   "outputs": [
    {
     "data": {
      "text/plain": [
       "['lda_model.joblib']"
      ]
     },
     "execution_count": 16,
     "metadata": {},
     "output_type": "execute_result"
    }
   ],
   "source": [
    "# inspect the size of a python object in bytes\n",
    "import joblib\n",
    "joblib.dump(lda_model, \"lda_model.joblib\")\n",
    "# 6mb"
   ]
  },
  {
   "cell_type": "code",
   "execution_count": 50,
   "metadata": {},
   "outputs": [],
   "source": [
    "def train_and_eval(n, alpha, beta):\n",
    "    lda_model = gensim.models.ldamodel.LdaModel(\n",
    "        corpus=gensim_corpus, \n",
    "        id2word=gensim_dictionary, \n",
    "        passes=4,\n",
    "        # chunksize=100,\n",
    "        # per_word_topics=True,\n",
    "        num_topics=n, \n",
    "        alpha=alpha,\n",
    "        eta=beta,\n",
    "    )\n",
    "    p = perplexity_score(lda_model)\n",
    "    c = coherence_score(lda_model)\n",
    "    return lda_model, {\"n\":n, \"alpha\":alpha, \"beta\":beta, \"perplexity\":p, \"coherence\":c}"
   ]
  },
  {
   "cell_type": "code",
   "execution_count": 52,
   "metadata": {},
   "outputs": [
    {
     "name": "stdout",
     "output_type": "stream",
     "text": [
      "len(combinations_list) 80\n"
     ]
    },
    {
     "name": "stderr",
     "output_type": "stream",
     "text": [
      "  1%|▏         | 1/80 [03:03<4:01:39, 183.54s/it]"
     ]
    },
    {
     "name": "stdout",
     "output_type": "stream",
     "text": [
      "best_result {'n': 18, 'alpha': 'symmetric', 'beta': 0.7, 'perplexity': -7.595399235113707, 'coherence': -8.311762498090873}\n"
     ]
    },
    {
     "name": "stderr",
     "output_type": "stream",
     "text": [
      "  2%|▎         | 2/80 [05:45<3:42:00, 170.77s/it]"
     ]
    },
    {
     "name": "stdout",
     "output_type": "stream",
     "text": [
      "best_result {'n': 18, 'alpha': 0.5, 'beta': 0.7, 'perplexity': -7.685513670969638, 'coherence': -4.490476717559394}\n",
      "best_result {'n': 10, 'alpha': 0.5, 'beta': 0.5, 'perplexity': -7.4341848545209315, 'coherence': -3.584082484948334}\n"
     ]
    },
    {
     "name": "stderr",
     "output_type": "stream",
     "text": [
      "  4%|▍         | 3/80 [08:10<3:24:11, 159.11s/it]"
     ]
    },
    {
     "name": "stdout",
     "output_type": "stream",
     "text": [
      "best_result {'n': 6, 'alpha': 0.5, 'beta': 0.7, 'perplexity': -7.36331949969407, 'coherence': -2.723083288705507}\n"
     ]
    },
    {
     "name": "stderr",
     "output_type": "stream",
     "text": [
      " 15%|█▌        | 12/80 [28:34<2:34:51, 136.65s/it]"
     ]
    },
    {
     "name": "stdout",
     "output_type": "stream",
     "text": [
      "best_result {'n': 6, 'alpha': 'symmetric', 'beta': 'auto', 'perplexity': -7.384623810052592, 'coherence': -2.7058403031678058}\n"
     ]
    },
    {
     "name": "stderr",
     "output_type": "stream",
     "text": [
      " 89%|████████▉ | 71/80 [2:44:13<20:48, 138.69s/it]  "
     ]
    },
    {
     "name": "stdout",
     "output_type": "stream",
     "text": [
      "best_result {'n': 6, 'alpha': 0.3, 'beta': 0.5, 'perplexity': -7.326465169620303, 'coherence': -2.7023035454711146}\n"
     ]
    },
    {
     "name": "stderr",
     "output_type": "stream",
     "text": [
      "100%|██████████| 80/80 [3:05:31<00:00, 139.14s/it]\n"
     ]
    },
    {
     "ename": "NameError",
     "evalue": "name 'joblib' is not defined",
     "output_type": "error",
     "traceback": [
      "\u001b[1;31m---------------------------------------------------------------------------\u001b[0m",
      "\u001b[1;31mNameError\u001b[0m                                 Traceback (most recent call last)",
      "\u001b[1;32mc:\\Users\\Bruno\\Documents\\GitHub\\pgc2_23_01_29\\topic_analysis.ipynb Cell 23\u001b[0m in \u001b[0;36m<cell line: 37>\u001b[1;34m()\u001b[0m\n\u001b[0;32m     <a href='vscode-notebook-cell:/c%3A/Users/Bruno/Documents/GitHub/pgc2_23_01_29/topic_analysis.ipynb#X62sZmlsZQ%3D%3D?line=33'>34</a>\u001b[0m     \u001b[39mexcept\u001b[39;00m:\n\u001b[0;32m     <a href='vscode-notebook-cell:/c%3A/Users/Bruno/Documents/GitHub/pgc2_23_01_29/topic_analysis.ipynb#X62sZmlsZQ%3D%3D?line=34'>35</a>\u001b[0m         \u001b[39mpass\u001b[39;00m\n\u001b[1;32m---> <a href='vscode-notebook-cell:/c%3A/Users/Bruno/Documents/GitHub/pgc2_23_01_29/topic_analysis.ipynb#X62sZmlsZQ%3D%3D?line=36'>37</a>\u001b[0m joblib\u001b[39m.\u001b[39mdump(results, \u001b[39m\"\u001b[39m\u001b[39mresults/results.joblib\u001b[39m\u001b[39m\"\u001b[39m)\n\u001b[0;32m     <a href='vscode-notebook-cell:/c%3A/Users/Bruno/Documents/GitHub/pgc2_23_01_29/topic_analysis.ipynb#X62sZmlsZQ%3D%3D?line=37'>38</a>\u001b[0m joblib\u001b[39m.\u001b[39mdump(best_model, \u001b[39m\"\u001b[39m\u001b[39mresults/best_model.joblib\u001b[39m\u001b[39m\"\u001b[39m)\n",
      "\u001b[1;31mNameError\u001b[0m: name 'joblib' is not defined"
     ]
    }
   ],
   "source": [
    "import itertools\n",
    "import pyperclip\n",
    "import random\n",
    "#list containing various hyperparameters\n",
    "grid = {\n",
    "    # \"n\":[4,6,8,10,12,14,16,18,20],\n",
    "    \"n\":[6,10,14,18,20],\n",
    "    \"alpha\":['symmetric',0.3,0.5,0.7],\n",
    "    \"beta\":['auto',0.3,0.5,0.7],\n",
    "}\n",
    "\n",
    "\n",
    "combinations_list = list(itertools.product(*grid.values()))\n",
    "random.shuffle(combinations_list)\n",
    "l = len(combinations_list)\n",
    "print(\"len(combinations_list)\", l)\n",
    "\n",
    "# EARLY_STOP_CLIPBOARD_STRING\n",
    "\n",
    "results = []\n",
    "best_result = None\n",
    "best_model = None\n",
    "for i, params in tqdm(enumerate(combinations_list), total=l):\n",
    "    model, result = train_and_eval(*params)\n",
    "    results.append(result)\n",
    "    if best_result is None or results[-1][\"coherence\"] > best_result[\"coherence\"]:\n",
    "        best_result = results[-1]\n",
    "        best_model = model\n",
    "        print(\"best_result\", results[-1])\n",
    "    try:\n",
    "        if pyperclip.paste() == \"STOP_CLIPBOARD_STRING\":\n",
    "            print(\"Early stop via clipboard!\")\n",
    "            break\n",
    "    except:\n",
    "        pass\n",
    "\n",
    "joblib.dump(results, \"results/results.joblib\")\n",
    "joblib.dump(best_model, \"results/best_model.joblib\")"
   ]
  },
  {
   "cell_type": "code",
   "execution_count": 53,
   "metadata": {},
   "outputs": [
    {
     "data": {
      "text/plain": [
       "['results/best_model.joblib']"
      ]
     },
     "execution_count": 53,
     "metadata": {},
     "output_type": "execute_result"
    }
   ],
   "source": [
    "import joblib\n",
    "\n",
    "joblib.dump(results, \"results/results.joblib\")\n",
    "joblib.dump(best_model, \"results/best_model.joblib\")"
   ]
  },
  {
   "attachments": {},
   "cell_type": "markdown",
   "metadata": {},
   "source": [
    "# 5. Results"
   ]
  },
  {
   "cell_type": "code",
   "execution_count": 55,
   "metadata": {},
   "outputs": [
    {
     "data": {
      "text/html": [
       "<div>\n",
       "<style scoped>\n",
       "    .dataframe tbody tr th:only-of-type {\n",
       "        vertical-align: middle;\n",
       "    }\n",
       "\n",
       "    .dataframe tbody tr th {\n",
       "        vertical-align: top;\n",
       "    }\n",
       "\n",
       "    .dataframe thead th {\n",
       "        text-align: right;\n",
       "    }\n",
       "</style>\n",
       "<table border=\"1\" class=\"dataframe\">\n",
       "  <thead>\n",
       "    <tr style=\"text-align: right;\">\n",
       "      <th></th>\n",
       "      <th>n</th>\n",
       "      <th>perplexity</th>\n",
       "      <th>coherence</th>\n",
       "    </tr>\n",
       "  </thead>\n",
       "  <tbody>\n",
       "    <tr>\n",
       "      <th>count</th>\n",
       "      <td>80.000000</td>\n",
       "      <td>80.000000</td>\n",
       "      <td>80.000000</td>\n",
       "    </tr>\n",
       "    <tr>\n",
       "      <th>mean</th>\n",
       "      <td>13.600000</td>\n",
       "      <td>-7.950574</td>\n",
       "      <td>-4.218490</td>\n",
       "    </tr>\n",
       "    <tr>\n",
       "      <th>std</th>\n",
       "      <td>5.154818</td>\n",
       "      <td>1.116001</td>\n",
       "      <td>1.171032</td>\n",
       "    </tr>\n",
       "    <tr>\n",
       "      <th>min</th>\n",
       "      <td>6.000000</td>\n",
       "      <td>-11.394692</td>\n",
       "      <td>-8.358321</td>\n",
       "    </tr>\n",
       "    <tr>\n",
       "      <th>25%</th>\n",
       "      <td>10.000000</td>\n",
       "      <td>-7.683733</td>\n",
       "      <td>-4.840794</td>\n",
       "    </tr>\n",
       "    <tr>\n",
       "      <th>50%</th>\n",
       "      <td>14.000000</td>\n",
       "      <td>-7.547913</td>\n",
       "      <td>-4.096462</td>\n",
       "    </tr>\n",
       "    <tr>\n",
       "      <th>75%</th>\n",
       "      <td>18.000000</td>\n",
       "      <td>-7.416238</td>\n",
       "      <td>-3.411863</td>\n",
       "    </tr>\n",
       "    <tr>\n",
       "      <th>max</th>\n",
       "      <td>20.000000</td>\n",
       "      <td>-7.291577</td>\n",
       "      <td>-2.702304</td>\n",
       "    </tr>\n",
       "  </tbody>\n",
       "</table>\n",
       "</div>"
      ],
      "text/plain": [
       "               n  perplexity  coherence\n",
       "count  80.000000   80.000000  80.000000\n",
       "mean   13.600000   -7.950574  -4.218490\n",
       "std     5.154818    1.116001   1.171032\n",
       "min     6.000000  -11.394692  -8.358321\n",
       "25%    10.000000   -7.683733  -4.840794\n",
       "50%    14.000000   -7.547913  -4.096462\n",
       "75%    18.000000   -7.416238  -3.411863\n",
       "max    20.000000   -7.291577  -2.702304"
      ]
     },
     "execution_count": 55,
     "metadata": {},
     "output_type": "execute_result"
    }
   ],
   "source": [
    "df_gs = pd.DataFrame(results)\n",
    "df_gs.describe()"
   ]
  },
  {
   "cell_type": "code",
   "execution_count": 92,
   "metadata": {},
   "outputs": [],
   "source": [
    "default_filter = (df_gs.alpha == \"symmetric\") & (df_gs.beta == \"auto\")\n",
    "default_filter_neg = (df_gs.alpha != \"symmetric\") & (df_gs.beta != \"auto\")\n",
    "# df_gs.loc[default_filter].plot.scatter(x=\"n\", y=[\"coherence\"])"
   ]
  },
  {
   "cell_type": "code",
   "execution_count": 83,
   "metadata": {},
   "outputs": [
    {
     "data": {
      "image/png": "[encoded data removed]",
      "text/plain": [
       "<Figure size 720x432 with 2 Axes>"
      ]
     },
     "metadata": {},
     "output_type": "display_data"
    }
   ],
   "source": [
    "# plot coherence and perplexity\n",
    "import matplotlib.pyplot as plt\n",
    "import seaborn as sns\n",
    "\n",
    "sns.set_style(\"whitegrid\")\n",
    "\n",
    "fig, ax1 = plt.subplots(figsize=(10, 6))\n",
    "ax2 = ax1.twinx()\n",
    "\n",
    "df_gs.loc[default_filter].plot.scatter(x=\"n\", y=[\"perplexity\"], ax=ax1, color=\"red\")\n",
    "df_gs.loc[default_filter].plot.scatter(x=\"n\", y=[\"coherence\"], ax=ax2, color=\"blue\")\n",
    "\n",
    "ax1.set_ylabel(\"Perplexity\", color=\"red\")\n",
    "ax2.set_ylabel(\"Coherence\", color=\"blue\")\n",
    "\n",
    "plt.show()\n"
   ]
  },
  {
   "cell_type": "code",
   "execution_count": 128,
   "metadata": {},
   "outputs": [
    {
     "data": {
      "text/html": [
       "<div>\n",
       "<style scoped>\n",
       "    .dataframe tbody tr th:only-of-type {\n",
       "        vertical-align: middle;\n",
       "    }\n",
       "\n",
       "    .dataframe tbody tr th {\n",
       "        vertical-align: top;\n",
       "    }\n",
       "\n",
       "    .dataframe thead th {\n",
       "        text-align: right;\n",
       "    }\n",
       "</style>\n",
       "<table border=\"1\" class=\"dataframe\">\n",
       "  <thead>\n",
       "    <tr style=\"text-align: right;\">\n",
       "      <th></th>\n",
       "      <th>n</th>\n",
       "      <th>alpha</th>\n",
       "      <th>beta</th>\n",
       "      <th>perplexity</th>\n",
       "      <th>coherence</th>\n",
       "    </tr>\n",
       "  </thead>\n",
       "  <tbody>\n",
       "    <tr>\n",
       "      <th>71</th>\n",
       "      <td>6</td>\n",
       "      <td>0.3</td>\n",
       "      <td>0.5</td>\n",
       "      <td>-7.326465</td>\n",
       "      <td>-2.702304</td>\n",
       "    </tr>\n",
       "    <tr>\n",
       "      <th>12</th>\n",
       "      <td>6</td>\n",
       "      <td>symmetric</td>\n",
       "      <td>auto</td>\n",
       "      <td>-7.384624</td>\n",
       "      <td>-2.705840</td>\n",
       "    </tr>\n",
       "    <tr>\n",
       "      <th>3</th>\n",
       "      <td>6</td>\n",
       "      <td>0.5</td>\n",
       "      <td>0.7</td>\n",
       "      <td>-7.363319</td>\n",
       "      <td>-2.723083</td>\n",
       "    </tr>\n",
       "    <tr>\n",
       "      <th>52</th>\n",
       "      <td>6</td>\n",
       "      <td>0.7</td>\n",
       "      <td>0.3</td>\n",
       "      <td>-7.312336</td>\n",
       "      <td>-2.749567</td>\n",
       "    </tr>\n",
       "    <tr>\n",
       "      <th>78</th>\n",
       "      <td>6</td>\n",
       "      <td>symmetric</td>\n",
       "      <td>0.7</td>\n",
       "      <td>-7.362559</td>\n",
       "      <td>-2.762945</td>\n",
       "    </tr>\n",
       "  </tbody>\n",
       "</table>\n",
       "</div>"
      ],
      "text/plain": [
       "    n      alpha  beta  perplexity  coherence\n",
       "71  6        0.3   0.5   -7.326465  -2.702304\n",
       "12  6  symmetric  auto   -7.384624  -2.705840\n",
       "3   6        0.5   0.7   -7.363319  -2.723083\n",
       "52  6        0.7   0.3   -7.312336  -2.749567\n",
       "78  6  symmetric   0.7   -7.362559  -2.762945"
      ]
     },
     "execution_count": 128,
     "metadata": {},
     "output_type": "execute_result"
    }
   ],
   "source": [
    "df_gs.sort_values(\"coherence\", ascending=False).head(5)"
   ]
  },
  {
   "cell_type": "code",
   "execution_count": 129,
   "metadata": {},
   "outputs": [
    {
     "data": {
      "text/html": [
       "<div>\n",
       "<style scoped>\n",
       "    .dataframe tbody tr th:only-of-type {\n",
       "        vertical-align: middle;\n",
       "    }\n",
       "\n",
       "    .dataframe tbody tr th {\n",
       "        vertical-align: top;\n",
       "    }\n",
       "\n",
       "    .dataframe thead th {\n",
       "        text-align: right;\n",
       "    }\n",
       "</style>\n",
       "<table border=\"1\" class=\"dataframe\">\n",
       "  <thead>\n",
       "    <tr style=\"text-align: right;\">\n",
       "      <th></th>\n",
       "      <th>n</th>\n",
       "      <th>alpha</th>\n",
       "      <th>beta</th>\n",
       "      <th>perplexity</th>\n",
       "      <th>coherence</th>\n",
       "    </tr>\n",
       "  </thead>\n",
       "  <tbody>\n",
       "    <tr>\n",
       "      <th>10</th>\n",
       "      <td>6</td>\n",
       "      <td>0.5</td>\n",
       "      <td>0.3</td>\n",
       "      <td>-7.291577</td>\n",
       "      <td>-2.833887</td>\n",
       "    </tr>\n",
       "    <tr>\n",
       "      <th>65</th>\n",
       "      <td>6</td>\n",
       "      <td>0.3</td>\n",
       "      <td>0.3</td>\n",
       "      <td>-7.300302</td>\n",
       "      <td>-2.878438</td>\n",
       "    </tr>\n",
       "    <tr>\n",
       "      <th>52</th>\n",
       "      <td>6</td>\n",
       "      <td>0.7</td>\n",
       "      <td>0.3</td>\n",
       "      <td>-7.312336</td>\n",
       "      <td>-2.749567</td>\n",
       "    </tr>\n",
       "    <tr>\n",
       "      <th>40</th>\n",
       "      <td>6</td>\n",
       "      <td>0.7</td>\n",
       "      <td>auto</td>\n",
       "      <td>-7.315862</td>\n",
       "      <td>-2.904131</td>\n",
       "    </tr>\n",
       "    <tr>\n",
       "      <th>75</th>\n",
       "      <td>6</td>\n",
       "      <td>0.5</td>\n",
       "      <td>auto</td>\n",
       "      <td>-7.319669</td>\n",
       "      <td>-2.875691</td>\n",
       "    </tr>\n",
       "  </tbody>\n",
       "</table>\n",
       "</div>"
      ],
      "text/plain": [
       "    n alpha  beta  perplexity  coherence\n",
       "10  6   0.5   0.3   -7.291577  -2.833887\n",
       "65  6   0.3   0.3   -7.300302  -2.878438\n",
       "52  6   0.7   0.3   -7.312336  -2.749567\n",
       "40  6   0.7  auto   -7.315862  -2.904131\n",
       "75  6   0.5  auto   -7.319669  -2.875691"
      ]
     },
     "execution_count": 129,
     "metadata": {},
     "output_type": "execute_result"
    }
   ],
   "source": [
    "df_gs.sort_values(\"perplexity\", ascending=False).head(5)"
   ]
  },
  {
   "cell_type": "code",
   "execution_count": 121,
   "metadata": {},
   "outputs": [
    {
     "data": {
      "image/png": "[encoded data removed]",
      "text/plain": [
       "<Figure size 720x432 with 1 Axes>"
      ]
     },
     "metadata": {},
     "output_type": "display_data"
    }
   ],
   "source": [
    "# plot alpha on the x axis, and beta on the y axis, with the size of the bubble determined by the coherence score, and the value annotated in the bubble\n",
    "import matplotlib.pyplot as plt\n",
    "import seaborn as sns\n",
    "\n",
    "sns.set_style(\"whitegrid\")\n",
    "\n",
    "fig, ax1 = plt.subplots(figsize=(10, 6))\n",
    "\n",
    "df_gs_float = df_gs.loc[default_filter_neg & (df_gs.n == 6)].copy()\n",
    "df_gs_float.alpha = df_gs_float.alpha.astype(float)\n",
    "df_gs_float.beta = df_gs_float.beta.astype(float)\n",
    "df_gs_float.coherence = (df_gs_float.coherence +3)*100\n",
    "\n",
    "df_gs_float.plot.scatter(x=\"alpha\", y=\"beta\", s=df_gs_float.coherence, ax=ax1, color=\"red\")\n",
    "\n",
    "for i, row in df_gs_float.iterrows():\n",
    "    ax1.annotate(row[\"coherence\"], (row[\"alpha\"]+0.01, row[\"beta\"]))\n",
    "plt.title(\"Coherence\")\n",
    "plt.show()\n",
    "\n"
   ]
  },
  {
   "cell_type": "code",
   "execution_count": 127,
   "metadata": {},
   "outputs": [
    {
     "data": {
      "image/png": "[encoded data removed]",
      "text/plain": [
       "<Figure size 720x432 with 1 Axes>"
      ]
     },
     "metadata": {},
     "output_type": "display_data"
    }
   ],
   "source": [
    "# plot alpha on the x axis, and beta on the y axis, with the size of the bubble determined by the coherence score, and the value annotated in the bubble\n",
    "import matplotlib.pyplot as plt\n",
    "import seaborn as sns\n",
    "\n",
    "sns.set_style(\"whitegrid\")\n",
    "\n",
    "fig, ax1 = plt.subplots(figsize=(10, 6))\n",
    "\n",
    "df_gs_float = df_gs.loc[default_filter_neg & (df_gs.n == 6)].copy()\n",
    "df_gs_float.alpha = df_gs_float.alpha.astype(float)\n",
    "df_gs_float.beta = df_gs_float.beta.astype(float)\n",
    "df_gs_float.perplexity = (df_gs_float.perplexity +8)*100\n",
    "\n",
    "df_gs_float.plot.scatter(x=\"alpha\", y=\"beta\", s=df_gs_float.perplexity, ax=ax1, color=\"red\")\n",
    "\n",
    "for i, row in df_gs_float.iterrows():\n",
    "    ax1.annotate(row[\"perplexity\"], (row[\"alpha\"]+0.01, row[\"beta\"]))\n",
    "plt.title(\"perplexity\")\n",
    "plt.show()\n"
   ]
  },
  {
   "attachments": {},
   "cell_type": "markdown",
   "metadata": {},
   "source": [
    "# 6. Best Model"
   ]
  },
  {
   "cell_type": "code",
   "execution_count": 130,
   "metadata": {},
   "outputs": [
    {
     "data": {
      "text/plain": [
       "n                    6\n",
       "alpha              0.3\n",
       "beta               0.5\n",
       "perplexity   -7.326465\n",
       "coherence    -2.702304\n",
       "Name: 71, dtype: object"
      ]
     },
     "execution_count": 130,
     "metadata": {},
     "output_type": "execute_result"
    }
   ],
   "source": [
    "df_gs.sort_values(\"coherence\", ascending=False).iloc[0]"
   ]
  },
  {
   "cell_type": "code",
   "execution_count": 131,
   "metadata": {},
   "outputs": [
    {
     "name": "stdout",
     "output_type": "stream",
     "text": [
      "Results:\n",
      " {'n': 6, 'alpha': 0.3, 'beta': 0.5, 'perplexity': -7.350026435458468, 'coherence': -2.951591751354842}\n"
     ]
    }
   ],
   "source": [
    "# Treinando Modelo de melhor resultado\n",
    "n = 6\n",
    "alpha = 0.3\n",
    "beta = 0.5\n",
    "\n",
    "lda_model, results = train_and_eval(n, alpha, beta)\n",
    "\n",
    "print(\"Results:\\n\", results)"
   ]
  },
  {
   "cell_type": "code",
   "execution_count": 161,
   "metadata": {},
   "outputs": [],
   "source": [
    "# Visualizando tópicos\n",
    "import pyLDAvis.gensim_models as gensimvis\n",
    "import pyLDAvis\n",
    "import matplotlib.pyplot as plt\n"
   ]
  },
  {
   "cell_type": "code",
   "execution_count": 162,
   "metadata": {},
   "outputs": [
    {
     "name": "stdout",
     "output_type": "stream",
     "text": [
      "LDA visualization\n"
     ]
    },
    {
     "name": "stderr",
     "output_type": "stream",
     "text": [
      "c:\\Users\\Bruno\\miniconda3\\envs\\pln\\lib\\site-packages\\pyLDAvis\\_prepare.py:243: FutureWarning: In a future version of pandas all arguments of DataFrame.drop except for the argument 'labels' will be keyword-only.\n",
      "  default_term_info = default_term_info.sort_values(\n"
     ]
    },
    {
     "data": {
      "text/html": [
       "\n",
       "<link rel=\"stylesheet\" type=\"text/css\" href=\"https://cdn.jsdelivr.net/gh/bmabey/pyLDAvis@3.4.0/pyLDAvis/js/ldavis.v1.0.0.css\">\n",
       "\n",
       "\n",
       "<div id=\"ldavis_el445623558659924329738988842\" style=\"background-color:white;\"></div>\n",
       "<script type=\"text/javascript\">\n",
       "\n",
       "var ldavis_el445623558659924329738988842_data = {\"mdsDat\": {\"x\": [0.1807724287805376, 0.15631083885039238, -0.15071583552626736, 0.1377174915081057, -0.25881820143625384, -0.06526672217651446], \"y\": [-0.02563739506402811, 0.013821410445418852, -0.16423206479673394, -0.10999273743541824, -0.05961511397822403, 0.34565590082898523], \"topics\": [1, 2, 3, 4, 5, 6], \"cluster\": [1, 1, 1, 1, 1, 1], \"Freq\": [29.336273968547516, 26.257790352408545, 15.496641911612702, 12.403168828266189, 9.608049221021837, 6.898075718143219]}, \"tinfo\": {\"Term\": [\"excelent\", \"bom\", \"lugar\", \"atendimento\", \"otimo\", \"maravilhoso\", \"boa\", \"melhor\", \"otima\", \"hotel\", \"bem\", \"funcionario\", \"lindo\", \"cafe\", \"manha\", \"nao\", \"perfeito\", \"quarto\", \"incrivel\", \"atencioso\", \"estrutura\", \"servico\", \"equip\", \"piscina\", \"praia\", \"super\", \"experiencia\", \"comida\", \"limpo\", \"maravilhosa\", \"agua\", \"desejar\", \"banheiro\", \"caro\", \"melhorar\", \"pouco\", \"quent\", \"deixa\", \"adulto\", \"jogo\", \"pequena\", \"pouca\", \"precisa\", \"chuveiro\", \"all\", \"condicionado\", \"carn\", \"sauna\", \"suco\", \"brinquedo\", \"fort\", \"frio\", \"manutencao\", \"fruta\", \"coberta\", \"cheiro\", \"salgado\", \"bicicleta\", \"onda\", \"fraco\", \"ponto\", \"completa\", \"pensao\", \"frango\", \"aquecida\", \"piscina\", \"golf\", \"negativo\", \"area\", \"porem\", \"ruim\", \"pequeno\", \"crianca\", \"preco\", \"opco\", \"cama\", \"bebida\", \"buffet\", \"inclus\", \"quarto\", \"sao\", \"praia\", \"bar\", \"restaurant\", \"nao\", \"tambem\", \"muita\", \"cafe\", \"resort\", \"comida\", \"atividad\", \"manha\", \"hotel\", \"grand\", \"boa\", \"bem\", \"variedad\", \"servico\", \"estrutura\", \"vez\", \"nunca\", \"check\", \"fazer\", \"sobr\", \"semana\", \"nest\", \"ano\", \"reserva\", \"client\", \"gent\", \"passei\", \"final\", \"nome\", \"primeiro\", \"agora\", \"ant\", \"segunda\", \"dess\", \"hoje\", \"reclamar\", \"hospedado\", \"deixar\", \"esposa\", \"dizer\", \"fim\", \"ninguem\", \"posso\", \"mim\", \"out\", \"cada\", \"hora\", \"diferenca\", \"casa\", \"voce\", \"falar\", \"ate\", \"qualquer\", \"dia\", \"ficamo\", \"aqui\", \"algo\", \"ficar\", \"nao\", \"momento\", \"porqu\", \"fiquei\", \"desd\", \"hosped\", \"pra\", \"pessoa\", \"todo\", \"nada\", \"tao\", \"hotel\", \"recepcao\", \"outro\", \"ainda\", \"sempr\", \"poi\", \"tudo\", \"funcionario\", \"lugar\", \"quarto\", \"familia\", \"toda\", \"resort\", \"maravilhoso\", \"otimo\", \"top\", \"maravilhosa\", \"paraben\", \"tia\", \"fantastico\", \"atenciosa\", \"adorei\", \"tio\", \"excelencia\", \"bruno\", \"agradec\", \"prestativa\", \"paradisiaco\", \"adoramo\", \"luca\", \"encantador\", \"magico\", \"pedro\", \"parizia\", \"amando\", \"gratidao\", \"encantada\", \"bola\", \"dedicacao\", \"gabriel\", \"fabio\", \"chiqu\", \"parabenizar\", \"nota\", \"excepcion\", \"simpatica\", \"equip\", \"pimenta\", \"lugar\", \"especi\", \"animacao\", \"show\", \"voltaremo\", \"voltarei\", \"carinho\", \"obrigada\", \"palavra\", \"atendimento\", \"familia\", \"indico\", \"certeza\", \"recomendo\", \"super\", \"toda\", \"quero\", \"excelent\", \"todo\", \"restaurant\", \"estrela\", \"tudo\", \"comida\", \"atencao\", \"voltar\", \"resort\", \"lindo\", \"atencioso\", \"limpo\", \"agradavel\", \"aconchegant\", \"ambient\", \"bonito\", \"prestativo\", \"confortavel\", \"educado\", \"simpatico\", \"organizado\", \"delicioso\", \"tranquilo\", \"evento\", \"localizado\", \"solicito\", \"acolhedor\", \"confortavei\", \"genti\", \"gostoso\", \"belo\", \"cordiai\", \"receptivo\", \"magnifico\", \"luxuoso\", \"sensacion\", \"delicia\", \"elegant\", \"saboroso\", \"amplo\", \"completo\", \"espacoso\", \"familiar\", \"funcionario\", \"variado\", \"bem\", \"manha\", \"cafe\", \"super\", \"pessoal\", \"gostei\", \"quarto\", \"extremament\", \"local\", \"vale\", \"hotel\", \"sao\", \"sempr\", \"impecavel\", \"todo\", \"recomendo\", \"tudo\", \"pena\", \"bom\", \"otima\", \"localizacao\", \"princip\", \"exposicao\", \"infraestrutura\", \"exelent\", \"legal\", \"recomendavel\", \"altament\", \"adoro\", \"recomendado\", \"exuberant\", \"convenco\", \"shop\", \"facil\", \"facilidad\", \"natureza\", \"turistico\", \"pertinho\", \"mto\", \"vibraco\", \"bairro\", \"sossegado\", \"infra\", \"recriacao\", \"esplendida\", \"acomodaco\", \"extrurura\", \"conforto\", \"excelent\", \"boa\", \"fenomen\", \"estrutura\", \"servico\", \"instalaco\", \"qualidad\", \"atendimento\", \"hospedagem\", \"praia\", \"hotel\", \"comida\", \"atencao\", \"tudo\", \"local\", \"bon\", \"proximo\", \"centro\", \"estadia\", \"perfeito\", \"incrivel\", \"amei\", \"espetacular\", \"vista\", \"paraiso\", \"luxo\", \"sonho\", \"porto\", \"bela\", \"inesquecivel\", \"maravilha\", \"fantastica\", \"amo\", \"linda\", \"beleza\", \"arquitetura\", \"fino\", \"divertido\", \"tradicion\", \"requint\", \"belissimo\", \"deslumbrant\", \"beneficio\", \"classico\", \"jeitoso\", \"magnifica\", \"glamour\", \"sofisticacao\", \"sul\", \"iguacu\", \"brasil\", \"paisagem\", \"amamo\", \"saudad\", \"melhor\", \"copacabana\", \"rio\", \"experiencia\", \"foz\", \"demai\", \"custo\", \"janeiro\", \"simplesment\", \"hotel\", \"resort\", \"tudo\", \"mar\", \"hotei\", \"conhec\"], \"Freq\": [29606.0, 21654.0, 21509.0, 24107.0, 14930.0, 14870.0, 12589.0, 8765.0, 8474.0, 34377.0, 12962.0, 11116.0, 8757.0, 13254.0, 11699.0, 24471.0, 5351.0, 17267.0, 4542.0, 5518.0, 6372.0, 7835.0, 6555.0, 15227.0, 8835.0, 7908.0, 4536.0, 12944.0, 4217.0, 4589.0, 2954.2124606012185, 2081.9614082333255, 1840.6133371552985, 1835.5358211297464, 1531.9309753826963, 3866.679117782219, 1459.2736209559303, 1081.758915510678, 1754.2905444361343, 1039.9235437040743, 1019.8279015428743, 846.440652699851, 1406.0237949899797, 923.8066437827914, 1054.7794588604163, 667.3761311430026, 1028.0311584337599, 810.041524156735, 610.2035662125701, 590.0794757709554, 664.6874897391002, 626.5685789735006, 643.7681304075387, 577.8222273590864, 731.204701195411, 526.6734463541187, 528.9300085813691, 710.8723247164068, 582.4140029417923, 404.1222705552688, 3453.7664959216236, 799.9242558033578, 834.0718981849446, 1140.6371500852708, 1940.753961700377, 13403.976506133888, 1225.9543239822453, 742.8291148204071, 3348.3124019663765, 2649.740444329997, 1378.661011706365, 1580.825760083745, 5341.620489724209, 2994.3702763584247, 3303.3520702276273, 1784.4440482474922, 2827.7338602387595, 1735.4298923305855, 1646.3374642797498, 9512.692637963792, 6959.597584353801, 5384.160821075678, 2176.369090684473, 5438.938152357074, 9792.637997165923, 3046.819980492475, 3389.9343558889277, 5222.830734405607, 3762.1795473062994, 4742.418487138379, 2340.30325485039, 4136.275104131352, 6396.436317758803, 2150.073285259237, 3117.56137112378, 3110.111937882943, 1940.132562006612, 2042.9720916489189, 1977.7608236064705, 2088.617881770412, 1506.5324414267182, 1340.3301730923288, 1721.5072023136368, 1112.0630372046628, 1129.932957183018, 1128.7641564334238, 2110.706168913792, 810.681997305509, 978.2491812696468, 1064.034363258176, 724.1724684021948, 689.7731794974535, 704.1202711079907, 721.6050010913389, 659.7659552292376, 634.8063425365552, 611.9274048732873, 753.2722619303903, 624.6630892137196, 718.6936337564246, 866.0760631435656, 646.8611667393446, 570.9465844686304, 554.3069258858645, 606.8431465762587, 491.179852610776, 455.3746077424047, 531.9340524856418, 468.725497671752, 1594.9888398913172, 1712.0265856225233, 593.8160359233369, 1507.4598930595444, 4278.550468073366, 891.9124012169775, 3595.9880053405177, 781.3167397198341, 7430.76564852434, 1495.2251803859824, 1935.7916667817647, 837.9653316764322, 1809.9406341680346, 14676.910106897296, 1248.366373830677, 1190.755630688883, 1652.4325259076031, 1488.3439845503528, 2441.730312454644, 3017.3444610273887, 2436.68944107993, 5662.117381821085, 1659.493061012457, 1429.3103101243453, 8185.965308324758, 2358.389476775326, 1892.0338836392848, 1627.3506909067187, 2289.9292071195914, 1655.7016730875237, 2587.8295074604916, 2311.1637354924433, 1846.957817071248, 1694.336703897181, 1555.9091555371965, 1508.612317617517, 1507.56424135372, 14866.767284364385, 14926.314636302874, 3212.296435219978, 4584.612885837085, 3488.524562779836, 3251.652394914063, 1941.434564544274, 1452.5102648794755, 1423.3955624441257, 3220.3017084129815, 687.1504572339846, 389.33997406713235, 348.7719674519603, 433.5657788211439, 308.27762537956835, 823.8028396902528, 207.98342404894703, 295.7421596004886, 243.91729740818022, 153.5593231975499, 148.70510975360105, 131.28813045101816, 177.66305404191468, 189.93712855739335, 368.15304972578156, 139.4558486937606, 240.0593674395157, 170.39143549627556, 231.64751016909133, 104.17380340777174, 4052.4060116898486, 1297.4095111242511, 798.2025841934924, 6108.852260765514, 777.9720024123304, 19001.035464881486, 2011.0389534529122, 958.4717012018058, 2776.18065512014, 946.6374040067245, 1324.6578487037232, 649.1357226032065, 541.9714334167321, 856.5294619871985, 13808.413593880447, 3686.7422931253277, 1043.3186983708765, 1950.4151562836869, 3989.559431140958, 3423.023937152028, 2420.4645964126494, 1761.233649140315, 7006.229713562084, 4036.683051678855, 3475.233357723466, 1837.4980198958888, 3432.2139719194734, 3249.9726076121387, 1891.9424816269102, 1437.6863658802051, 1521.1251916494907, 8754.014254640784, 5514.835427339245, 4213.307721331054, 3202.754517072634, 2822.906305835265, 3159.1714897586276, 2869.2295805452077, 2144.607154982609, 2037.544496827108, 3578.7804567598605, 1992.4205991962046, 1339.802117171037, 1031.7471990843212, 864.1052442304017, 923.349509906124, 898.9306680260343, 664.1684059414935, 595.1083793857814, 1284.749350816997, 659.4299985959216, 571.8094372220528, 663.940256384654, 514.4133386097249, 422.44807763288054, 523.9409056108043, 498.2990085293819, 2405.238756191797, 524.6053080622495, 278.5757973341012, 339.71379394998183, 914.3433332712432, 701.4041871184797, 748.3858268303584, 740.9241524155948, 8789.400500894722, 644.0474262631095, 9275.887616800173, 7417.386326549149, 7972.280764117291, 4464.061111791893, 1530.3040255747708, 1440.4007422755762, 6036.413709153877, 1248.7279460076743, 2370.8568019296363, 1554.9326688253013, 6518.283308206661, 3435.7068649965295, 2121.4665543657707, 1423.4673001001179, 2395.7697713179855, 1795.9353896586701, 1734.082285448983, 1358.2427520153494, 21651.341846908083, 8471.43324168263, 3304.483198904899, 2025.7086066128575, 532.8379588224345, 1277.6173571995598, 356.7707705965679, 1548.5053679322627, 265.7271850621549, 517.0760017898765, 259.0501008077533, 1005.606237971255, 166.16888572283085, 87.98814983577134, 85.46008698088235, 396.78778617317477, 225.0508392492562, 951.1446470007437, 214.76570775139518, 33.63398548265958, 680.2944897523744, 49.283743106899905, 109.30221004887399, 47.51551770068731, 271.9360151384906, 34.96950601043352, 38.592714286861764, 1775.964763005632, 16.80108610250709, 1017.8473094272239, 22330.14631244123, 9457.453663017619, 142.50150617687112, 4362.571977532534, 4711.180353071957, 1646.2774103069585, 2235.002567627164, 9208.540257626544, 997.6108220872806, 3265.637339441557, 8583.332233641082, 3684.196323285236, 1516.0093939277558, 2835.0909317174337, 1241.956451908403, 653.3767893513406, 499.69211795271923, 452.5054843680276, 484.21621780128777, 5348.327609686602, 4539.354545813218, 2565.6269404527707, 2596.4668572847745, 1863.4354753145599, 1108.5409207026648, 1022.3909335739658, 806.5500774505813, 1441.0133979926218, 700.4244473455159, 548.826754913321, 478.20490882201744, 713.3247789950639, 423.0261843995506, 1743.3398592025399, 535.6876555091841, 394.48425636888084, 682.1917407732801, 478.91029938682686, 311.94511343746296, 259.8926936391053, 231.2511085331023, 206.75225676874925, 750.0015207520346, 316.35971988486546, 119.52525708058204, 150.42563970849085, 153.34378984648018, 132.83549698471205, 175.99032900886064, 486.9804501253163, 1009.5687221587801, 312.10494775175766, 566.0174036649361, 295.5700053057572, 7620.064024942608, 1665.5579185079039, 1542.2561724282002, 3141.07873962055, 675.6299034113403, 1433.498430813583, 792.9274090739008, 716.0317579152504, 1150.1327840419046, 3841.440438947062, 1633.9814994260826, 1916.5144233234837, 786.6721241158419, 665.271286250655, 628.0284482352763], \"Total\": [29606.0, 21654.0, 21509.0, 24107.0, 14930.0, 14870.0, 12589.0, 8765.0, 8474.0, 34377.0, 12962.0, 11116.0, 8757.0, 13254.0, 11699.0, 24471.0, 5351.0, 17267.0, 4542.0, 5518.0, 6372.0, 7835.0, 6555.0, 15227.0, 8835.0, 7908.0, 4536.0, 12944.0, 4217.0, 4589.0, 2956.900073908406, 2084.5869291752106, 1843.3994130374044, 1838.328867865869, 1534.481423753575, 3873.5656092121562, 1462.346716843608, 1084.3081086322381, 1758.4709651198411, 1042.7584278806185, 1022.752320474125, 848.8975450737873, 1410.3631489798472, 926.7373245900126, 1058.3701516606584, 669.9939718508776, 1032.171396041698, 813.686277047801, 612.949328996908, 592.8310793819765, 667.801876926107, 629.5279889480065, 646.9026501213101, 580.7974428090803, 735.058828889739, 529.4900094154098, 531.9445467457964, 714.9483447930563, 585.8344033461882, 406.633413532897, 3500.4257307336106, 805.082531353135, 840.1499118439148, 1157.396471154435, 1994.1561417040168, 15227.084708804849, 1272.8274670200506, 752.4490553432895, 3697.8577013352938, 2933.9663963440476, 1457.867125267299, 1702.9532088022613, 6581.545315018211, 3476.321758967748, 3916.97723214094, 1994.128222540522, 3366.014578460195, 1946.4882349465609, 1835.0922391082142, 17267.843902134806, 12236.93056602248, 8835.779711586381, 2724.071101452942, 10327.615057204166, 24471.45749563783, 4737.919558391098, 5767.029027308599, 13254.684459160477, 8426.801640595097, 12944.869256755901, 3522.640795044106, 11699.986359850798, 34377.22468564064, 3505.5924851411905, 12589.870794961595, 12962.493212403215, 2794.237513321455, 7835.979365860722, 6372.655447407244, 2091.5135942960906, 1509.317349912115, 1343.464313717862, 1725.7949930711482, 1115.009827472955, 1133.2670781426023, 1132.4912489350415, 2117.9558264857487, 813.4989621738747, 981.9267260012919, 1068.141734436579, 727.0691429837955, 692.593227730722, 707.1852405365482, 724.7865149298826, 662.6893034362901, 637.6538051148415, 614.7418581442746, 756.8294948012036, 627.6928849065467, 722.2383900536373, 870.4543741633883, 650.199165568005, 573.930233042056, 557.2840769832131, 610.1527040860408, 494.0242996544642, 458.0445993322456, 535.3069088884773, 471.7526923973976, 1614.6549351900974, 1739.7869232419873, 597.8389665317754, 1539.243786783035, 4471.55290289624, 903.3706479034503, 3830.1636993256407, 793.4394328093431, 8449.263997957614, 1608.114824915216, 2138.080212991926, 863.891901743939, 2123.187933609522, 24471.45749563783, 1386.4317518397415, 1319.3937552818995, 1976.6649576127427, 1818.8618045557455, 3527.353953183789, 5036.750847477286, 3776.358879572592, 13164.366366672053, 2301.188365276482, 1863.1754001624338, 34377.22468564064, 4607.688437779116, 3097.6088193286614, 2355.268285138928, 5116.021084034192, 2813.4703414593682, 13189.585777990747, 11116.99129503389, 21509.874153868113, 17267.843902134806, 5408.798542281312, 4960.361556011959, 8426.801640595097, 14870.238343732133, 14930.297272442875, 3215.3585274444495, 4589.256555884636, 3492.0902158545805, 3256.173929377912, 1945.1359789201902, 1455.9880361925807, 1427.1520322358722, 3231.9391737249603, 692.0403382075335, 392.37732095833127, 351.7221453561816, 437.65822302262944, 312.25542120173486, 834.90234460049, 210.89722942740897, 300.21825996134544, 248.39858252397718, 156.49747551418326, 151.66081135649748, 133.94810648094673, 181.39202749828758, 194.27495765905422, 376.9126150654779, 142.8074665732683, 246.08096886218462, 175.19340420698336, 238.41263254433355, 107.29812878642213, 4229.161474619047, 1346.4889451752201, 825.365346094843, 6555.935809433036, 812.8048359773749, 21509.874153868113, 2163.7100355583107, 1016.8985870557727, 3123.1837623895444, 1020.1038124359789, 1518.3752125002616, 717.6128480430384, 589.9188626578485, 989.4708835686781, 24107.406270183714, 5408.798542281312, 1258.6025037801692, 2890.688480812742, 7217.421638492852, 7908.366220879465, 4960.361556011959, 3018.8434007314045, 29606.196182041298, 13164.366366672053, 10327.615057204166, 3666.2866896640376, 13189.585777990747, 12944.869256755901, 4200.003548427695, 2759.9696206743133, 8426.801640595097, 8757.208099333237, 5518.222062851354, 4217.131730812771, 3205.850427532393, 2826.0537337953942, 3162.821487085047, 2872.667779671167, 2147.823628966306, 2040.926716006237, 3584.979477573634, 1995.9924805367882, 1342.7299369070554, 1035.4595202717094, 867.6860488948016, 927.3018593789494, 903.5641783948756, 667.7778329681757, 598.4723731147029, 1292.0412133436228, 663.3250157869371, 575.2310742676679, 668.2768223421707, 518.1050287729931, 425.6433568764698, 527.9630128225056, 502.4375048480168, 2430.7751859285013, 530.3493939856309, 281.83587268681464, 343.71336123532996, 925.7319437383632, 712.0752306204548, 763.6886201454425, 764.7250071930188, 11116.99129503389, 662.844703500754, 12962.493212403215, 11699.986359850798, 13254.684459160477, 7908.366220879465, 2191.361538509854, 2053.7577772753266, 17267.843902134806, 1726.143354074502, 5442.739961394499, 2699.084095309897, 34377.22468564064, 12236.93056602248, 5116.021084034192, 2530.475678178576, 13164.366366672053, 7217.421638492852, 13189.585777990747, 2476.7326382854, 21654.4589661756, 8474.769283200276, 3307.8985645050957, 2029.6769829254984, 535.3245258231107, 1286.8197547698753, 359.53076989838195, 1560.8532472383904, 268.88004213181557, 525.4995254406152, 264.10412378429487, 1029.7282132873825, 173.44145146065554, 92.32890695009175, 90.58899039356884, 421.4052174706563, 240.3101980096745, 1017.9580372935632, 232.10145115929524, 37.263001230594114, 768.1524019972325, 55.838839211468, 124.23281592459594, 54.725049421417964, 313.7548728192147, 40.49817276636406, 44.976107288878325, 2073.7846033348533, 19.694945234841406, 1207.6600867290738, 29606.196182041298, 12589.870794961595, 171.88677949326544, 6372.655447407244, 7835.979365860722, 2538.7606524770267, 4380.862171730786, 24107.406270183714, 1786.3226261861755, 8835.779711586381, 34377.22468564064, 12944.869256755901, 4200.003548427695, 13189.585777990747, 5442.739961394499, 1892.2391120679597, 1312.3366385163843, 1420.913142496664, 3476.9021766221663, 5351.7294653828285, 4542.699321309225, 2568.7817183309962, 2599.980423719322, 1868.3238298753813, 1111.7652294400639, 1025.9749120926417, 809.6118259446528, 1446.6275667604918, 704.2461667091816, 551.886123668118, 480.91617724354916, 717.3977520622198, 425.90268022197995, 1757.4236315870287, 540.0466324359998, 397.77451856164527, 688.2211712812398, 483.4195646897891, 315.44904704685075, 263.1596945574334, 234.2516725578326, 209.7858530802101, 761.4754720207026, 321.3242428957633, 122.13042546334194, 153.7342077575458, 156.79909582764293, 135.88337491254597, 180.11176575514423, 501.1753533607283, 1047.5919653284518, 320.2287241824115, 584.7736363622239, 306.3243345803364, 8765.63437773904, 1845.0478000062403, 1722.1907716064782, 4536.5052082985085, 806.3040578816915, 2000.8811625943563, 1036.4343913054192, 959.2189000893616, 2030.6533873892517, 34377.22468564064, 8426.801640595097, 13189.585777990747, 2285.0999817454203, 1353.7869303682955, 1219.2653449255845], \"Category\": [\"Default\", \"Default\", \"Default\", \"Default\", \"Default\", \"Default\", \"Default\", \"Default\", \"Default\", \"Default\", \"Default\", \"Default\", \"Default\", \"Default\", \"Default\", \"Default\", \"Default\", \"Default\", \"Default\", \"Default\", \"Default\", \"Default\", \"Default\", \"Default\", \"Default\", \"Default\", \"Default\", \"Default\", \"Default\", \"Default\", \"Topic1\", \"Topic1\", \"Topic1\", \"Topic1\", \"Topic1\", \"Topic1\", \"Topic1\", \"Topic1\", \"Topic1\", \"Topic1\", \"Topic1\", \"Topic1\", \"Topic1\", \"Topic1\", \"Topic1\", \"Topic1\", \"Topic1\", \"Topic1\", \"Topic1\", \"Topic1\", \"Topic1\", \"Topic1\", \"Topic1\", \"Topic1\", \"Topic1\", \"Topic1\", \"Topic1\", \"Topic1\", \"Topic1\", \"Topic1\", \"Topic1\", \"Topic1\", \"Topic1\", \"Topic1\", \"Topic1\", \"Topic1\", \"Topic1\", \"Topic1\", \"Topic1\", \"Topic1\", \"Topic1\", \"Topic1\", \"Topic1\", \"Topic1\", \"Topic1\", \"Topic1\", \"Topic1\", \"Topic1\", \"Topic1\", \"Topic1\", \"Topic1\", \"Topic1\", \"Topic1\", \"Topic1\", \"Topic1\", \"Topic1\", \"Topic1\", \"Topic1\", \"Topic1\", \"Topic1\", \"Topic1\", \"Topic1\", \"Topic1\", \"Topic1\", \"Topic1\", \"Topic1\", \"Topic1\", \"Topic1\", \"Topic1\", \"Topic2\", \"Topic2\", \"Topic2\", \"Topic2\", \"Topic2\", \"Topic2\", \"Topic2\", \"Topic2\", \"Topic2\", \"Topic2\", \"Topic2\", \"Topic2\", \"Topic2\", \"Topic2\", \"Topic2\", \"Topic2\", \"Topic2\", \"Topic2\", \"Topic2\", \"Topic2\", \"Topic2\", \"Topic2\", \"Topic2\", \"Topic2\", \"Topic2\", \"Topic2\", \"Topic2\", \"Topic2\", \"Topic2\", \"Topic2\", \"Topic2\", \"Topic2\", \"Topic2\", \"Topic2\", \"Topic2\", \"Topic2\", \"Topic2\", \"Topic2\", \"Topic2\", \"Topic2\", \"Topic2\", \"Topic2\", \"Topic2\", \"Topic2\", \"Topic2\", \"Topic2\", \"Topic2\", \"Topic2\", \"Topic2\", \"Topic2\", \"Topic2\", \"Topic2\", \"Topic2\", \"Topic2\", \"Topic2\", \"Topic2\", \"Topic2\", \"Topic2\", \"Topic2\", \"Topic2\", \"Topic2\", \"Topic2\", \"Topic2\", \"Topic2\", \"Topic2\", \"Topic2\", \"Topic2\", \"Topic3\", \"Topic3\", \"Topic3\", \"Topic3\", \"Topic3\", \"Topic3\", \"Topic3\", \"Topic3\", \"Topic3\", \"Topic3\", \"Topic3\", \"Topic3\", \"Topic3\", \"Topic3\", \"Topic3\", \"Topic3\", \"Topic3\", \"Topic3\", \"Topic3\", \"Topic3\", \"Topic3\", \"Topic3\", \"Topic3\", \"Topic3\", \"Topic3\", \"Topic3\", \"Topic3\", \"Topic3\", \"Topic3\", \"Topic3\", \"Topic3\", \"Topic3\", \"Topic3\", \"Topic3\", \"Topic3\", \"Topic3\", \"Topic3\", \"Topic3\", \"Topic3\", \"Topic3\", \"Topic3\", \"Topic3\", \"Topic3\", \"Topic3\", \"Topic3\", \"Topic3\", \"Topic3\", \"Topic3\", \"Topic3\", \"Topic3\", \"Topic3\", \"Topic3\", \"Topic3\", \"Topic3\", \"Topic3\", \"Topic3\", \"Topic3\", \"Topic3\", \"Topic3\", \"Topic3\", \"Topic3\", \"Topic4\", \"Topic4\", \"Topic4\", \"Topic4\", \"Topic4\", \"Topic4\", \"Topic4\", \"Topic4\", \"Topic4\", \"Topic4\", \"Topic4\", \"Topic4\", \"Topic4\", \"Topic4\", \"Topic4\", \"Topic4\", \"Topic4\", \"Topic4\", \"Topic4\", \"Topic4\", \"Topic4\", \"Topic4\", \"Topic4\", \"Topic4\", \"Topic4\", \"Topic4\", \"Topic4\", \"Topic4\", \"Topic4\", \"Topic4\", \"Topic4\", \"Topic4\", \"Topic4\", \"Topic4\", \"Topic4\", \"Topic4\", \"Topic4\", \"Topic4\", \"Topic4\", \"Topic4\", \"Topic4\", \"Topic4\", \"Topic4\", \"Topic4\", \"Topic4\", \"Topic4\", \"Topic4\", \"Topic4\", \"Topic4\", \"Topic4\", \"Topic4\", \"Topic4\", \"Topic4\", \"Topic4\", \"Topic5\", \"Topic5\", \"Topic5\", \"Topic5\", \"Topic5\", \"Topic5\", \"Topic5\", \"Topic5\", \"Topic5\", \"Topic5\", \"Topic5\", \"Topic5\", \"Topic5\", \"Topic5\", \"Topic5\", \"Topic5\", \"Topic5\", \"Topic5\", \"Topic5\", \"Topic5\", \"Topic5\", \"Topic5\", \"Topic5\", \"Topic5\", \"Topic5\", \"Topic5\", \"Topic5\", \"Topic5\", \"Topic5\", \"Topic5\", \"Topic5\", \"Topic5\", \"Topic5\", \"Topic5\", \"Topic5\", \"Topic5\", \"Topic5\", \"Topic5\", \"Topic5\", \"Topic5\", \"Topic5\", \"Topic5\", \"Topic5\", \"Topic5\", \"Topic5\", \"Topic5\", \"Topic5\", \"Topic5\", \"Topic5\", \"Topic6\", \"Topic6\", \"Topic6\", \"Topic6\", \"Topic6\", \"Topic6\", \"Topic6\", \"Topic6\", \"Topic6\", \"Topic6\", \"Topic6\", \"Topic6\", \"Topic6\", \"Topic6\", \"Topic6\", \"Topic6\", \"Topic6\", \"Topic6\", \"Topic6\", \"Topic6\", \"Topic6\", \"Topic6\", \"Topic6\", \"Topic6\", \"Topic6\", \"Topic6\", \"Topic6\", \"Topic6\", \"Topic6\", \"Topic6\", \"Topic6\", \"Topic6\", \"Topic6\", \"Topic6\", \"Topic6\", \"Topic6\", \"Topic6\", \"Topic6\", \"Topic6\", \"Topic6\", \"Topic6\", \"Topic6\", \"Topic6\", \"Topic6\", \"Topic6\", \"Topic6\", \"Topic6\", \"Topic6\", \"Topic6\", \"Topic6\"], \"logprob\": [30.0, 29.0, 28.0, 27.0, 26.0, 25.0, 24.0, 23.0, 22.0, 21.0, 20.0, 19.0, 18.0, 17.0, 16.0, 15.0, 14.0, 13.0, 12.0, 11.0, 10.0, 9.0, 8.0, 7.0, 6.0, 5.0, 4.0, 3.0, 2.0, 1.0, -5.0888, -5.4387, -5.5619, -5.5647, -5.7455, -4.8196, -5.7941, -6.0934, -5.61, -6.1329, -6.1524, -6.3387, -5.8313, -6.2513, -6.1187, -6.5764, -6.1444, -6.3827, -6.666, -6.6995, -6.5805, -6.6395, -6.6124, -6.7205, -6.4851, -6.8132, -6.8089, -6.5133, -6.7126, -7.0781, -4.9326, -6.3953, -6.3535, -6.0404, -5.5089, -3.5765, -5.9683, -6.4693, -4.9636, -5.1976, -5.8509, -5.7141, -4.4965, -5.0753, -4.9771, -5.5929, -5.1325, -5.6208, -5.6735, -3.9194, -4.2319, -4.4886, -5.3944, -4.4784, -3.8904, -5.0579, -4.9512, -4.519, -4.847, -4.6155, -5.3217, -4.7522, -4.3163, -5.4065, -5.035, -5.0374, -5.5093, -5.4576, -5.4901, -5.3247, -5.6514, -5.7682, -5.518, -5.9549, -5.939, -5.94, -5.3141, -6.271, -6.0832, -5.9991, -6.3839, -6.4326, -6.412, -6.3874, -6.477, -6.5156, -6.5523, -6.3445, -6.5317, -6.3915, -6.2049, -6.4968, -6.6216, -6.6512, -6.5606, -6.7721, -6.8478, -6.6924, -6.8189, -5.5943, -5.5235, -6.5823, -5.6507, -4.6075, -6.1755, -4.7813, -6.3079, -4.0555, -5.6589, -5.4006, -6.2379, -5.4679, -3.3749, -5.8393, -5.8866, -5.5589, -5.6635, -5.1685, -4.9568, -5.1705, -4.3274, -5.5546, -5.704, -3.9587, -5.2032, -5.4235, -5.5742, -5.2326, -5.5569, -5.1103, -5.2234, -5.4476, -5.5339, -5.6191, -5.65, -5.6507, -2.8347, -2.8307, -4.3668, -4.0111, -4.2843, -4.3547, -4.8704, -5.1605, -5.1808, -4.3643, -5.909, -6.4771, -6.5872, -6.3695, -6.7106, -5.7276, -7.1041, -6.7521, -6.9447, -7.4075, -7.4396, -7.5642, -7.2617, -7.1949, -6.5331, -7.5038, -6.9607, -7.3035, -6.9964, -7.7955, -4.1345, -5.2735, -5.7592, -3.7241, -5.7849, -2.5893, -4.8352, -5.5762, -4.5127, -5.5887, -5.2527, -5.9659, -6.1464, -5.6887, -2.9085, -4.2291, -5.4914, -4.8658, -4.1501, -4.3033, -4.6499, -4.9678, -3.587, -4.1384, -4.2882, -4.9254, -4.3006, -4.3552, -4.8962, -5.1708, -5.1144, -3.1416, -3.6037, -3.8729, -4.1471, -4.2734, -4.1608, -4.2571, -4.5482, -4.5994, -4.0361, -4.6218, -5.0186, -5.2799, -5.4572, -5.3909, -5.4177, -5.7204, -5.8302, -5.0606, -5.7275, -5.8701, -5.7207, -5.9759, -6.1728, -5.9575, -6.0077, -4.4335, -5.9563, -6.5892, -6.3908, -5.4007, -5.6658, -5.601, -5.611, -3.1376, -5.7511, -3.0837, -3.3073, -3.2352, -3.8151, -4.8857, -4.9462, -3.5133, -5.089, -4.4479, -4.8697, -3.4365, -4.0769, -4.559, -4.9581, -4.4374, -4.7256, -4.7607, -5.005, -1.9807, -2.9191, -3.8605, -4.3499, -5.6853, -4.8108, -6.0865, -4.6185, -6.3811, -5.7154, -6.4065, -5.0502, -6.8506, -7.4864, -7.5155, -5.9802, -6.5472, -5.1059, -6.594, -8.448, -5.441, -8.066, -7.2694, -8.1025, -6.358, -8.4091, -8.3105, -4.4815, -9.1421, -5.0381, -1.9499, -2.809, -7.0042, -3.5827, -3.5059, -4.5573, -4.2516, -2.8357, -5.0582, -3.8723, -2.906, -3.7517, -4.6397, -4.0137, -4.8391, -5.4814, -5.7496, -5.8488, -5.781, -3.0477, -3.2117, -3.7822, -3.7703, -4.102, -4.6214, -4.7023, -4.9394, -4.3591, -5.0805, -5.3244, -5.4622, -5.0623, -5.5848, -4.1686, -5.3486, -5.6546, -5.1069, -5.4607, -5.8894, -6.0719, -6.1887, -6.3007, -5.0121, -5.8753, -6.8487, -6.6187, -6.5995, -6.7431, -6.4618, -5.444, -4.7149, -5.8889, -5.2936, -5.9433, -2.6937, -4.2143, -4.2912, -3.5799, -5.1166, -4.3643, -4.9565, -5.0585, -4.5846, -3.3786, -4.2334, -4.0739, -4.9644, -5.132, -5.1896], \"loglift\": [30.0, 29.0, 28.0, 27.0, 26.0, 25.0, 24.0, 23.0, 22.0, 21.0, 20.0, 19.0, 18.0, 17.0, 16.0, 15.0, 14.0, 13.0, 12.0, 11.0, 10.0, 9.0, 8.0, 7.0, 6.0, 5.0, 4.0, 3.0, 2.0, 1.0, 1.2254, 1.2251, 1.2248, 1.2248, 1.2247, 1.2246, 1.2242, 1.224, 1.224, 1.2236, 1.2235, 1.2234, 1.2233, 1.2232, 1.2229, 1.2224, 1.2223, 1.2219, 1.2219, 1.2217, 1.2217, 1.2216, 1.2215, 1.2212, 1.2211, 1.221, 1.2207, 1.2206, 1.2205, 1.2202, 1.2129, 1.2199, 1.2191, 1.2118, 1.1992, 1.0988, 1.1888, 1.2135, 1.127, 1.1245, 1.1705, 1.1519, 1.0176, 1.0771, 1.056, 1.1152, 1.0521, 1.1116, 1.1178, 0.6301, 0.662, 0.731, 1.0019, 0.5851, 0.3105, 0.7848, 0.695, 0.295, 0.4199, 0.2222, 0.8174, 0.1866, -0.4553, 0.7375, -0.1695, -0.2011, 0.8615, -0.118, 0.0563, 1.3358, 1.3354, 1.3349, 1.3347, 1.3346, 1.3343, 1.3339, 1.3338, 1.3337, 1.3335, 1.3334, 1.3332, 1.3331, 1.3329, 1.3328, 1.3328, 1.3327, 1.3326, 1.3325, 1.3324, 1.3323, 1.3322, 1.3321, 1.332, 1.3319, 1.3318, 1.3314, 1.3314, 1.3309, 1.3308, 1.325, 1.3211, 1.3305, 1.3163, 1.2931, 1.3244, 1.2741, 1.3218, 1.2088, 1.2644, 1.2378, 1.3067, 1.1776, 0.826, 1.2323, 1.2346, 1.158, 1.1367, 0.9694, 0.8248, 0.8991, 0.4935, 1.0103, 1.0721, -0.0978, 0.6675, 0.8442, 0.9675, 0.5334, 0.807, -0.2914, -0.2335, -1.1178, -0.9843, 0.0912, 0.1469, -0.3837, 1.8643, 1.8643, 1.8636, 1.8635, 1.8635, 1.8632, 1.8626, 1.8622, 1.8619, 1.8609, 1.8575, 1.8568, 1.8561, 1.8552, 1.8517, 1.8512, 1.8506, 1.8495, 1.8463, 1.8456, 1.8449, 1.8445, 1.8438, 1.842, 1.841, 1.8408, 1.8398, 1.8368, 1.8358, 1.835, 1.8219, 1.8274, 1.8311, 1.7939, 1.8207, 1.7405, 1.7914, 1.8054, 1.7468, 1.7898, 1.7281, 1.7643, 1.7798, 1.7203, 1.3073, 1.4813, 1.677, 1.4711, 1.2717, 1.0272, 1.147, 1.3257, 0.4234, 0.6825, 0.7754, 1.1738, 0.5183, 0.4825, 1.0671, 1.2124, 0.1526, 2.0869, 2.0866, 2.0863, 2.0863, 2.0861, 2.0861, 2.086, 2.0857, 2.0856, 2.0855, 2.0854, 2.085, 2.0836, 2.0831, 2.0829, 2.0821, 2.0818, 2.0816, 2.0816, 2.0813, 2.0813, 2.0807, 2.0801, 2.0797, 2.0796, 2.0789, 2.0767, 2.0763, 2.0756, 2.0755, 2.0748, 2.0721, 2.067, 2.0556, 1.8523, 2.0584, 1.7526, 1.6315, 1.5788, 1.5154, 1.7282, 1.7325, 1.0362, 1.7635, 1.2562, 1.5357, 0.4244, 0.817, 1.2069, 1.5119, 0.3834, 0.6962, 0.0583, 1.4865, 2.3424, 2.3422, 2.3415, 2.3406, 2.3379, 2.3354, 2.3349, 2.3346, 2.3308, 2.3264, 2.3232, 2.3189, 2.2997, 2.2944, 2.2843, 2.2824, 2.277, 2.2747, 2.2649, 2.2401, 2.2211, 2.2177, 2.2145, 2.2013, 2.1995, 2.1958, 2.1895, 2.1875, 2.1837, 2.1716, 2.0605, 2.0565, 2.1551, 1.9636, 1.8338, 1.9094, 1.6696, 1.3802, 1.76, 1.3472, 0.955, 1.0859, 1.3236, 0.8052, 0.865, 1.2792, 1.377, 1.1983, 0.3712, 2.6733, 2.6732, 2.6727, 2.6726, 2.6713, 2.671, 2.6704, 2.6701, 2.67, 2.6685, 2.6684, 2.6683, 2.6682, 2.6672, 2.6659, 2.6658, 2.6656, 2.6651, 2.6646, 2.6628, 2.6614, 2.661, 2.6594, 2.6587, 2.6584, 2.6524, 2.6522, 2.6516, 2.6512, 2.6508, 2.6452, 2.637, 2.6482, 2.6413, 2.6382, 2.5339, 2.5716, 2.5636, 2.3063, 2.4971, 2.3405, 2.4061, 2.3815, 2.1054, 0.4824, 1.0335, 0.745, 1.6076, 1.9635, 2.0105]}, \"token.table\": {\"Topic\": [1, 2, 3, 4, 5, 6, 1, 2, 3, 4, 5, 6, 1, 2, 3, 4, 5, 1, 2, 3, 4, 5, 1, 2, 3, 4, 5, 6, 1, 2, 3, 4, 5, 6, 1, 2, 3, 4, 5, 1, 2, 4, 1, 2, 3, 4, 5, 1, 2, 3, 1, 2, 1, 2, 3, 4, 5, 6, 1, 2, 3, 4, 5, 6, 1, 2, 3, 5, 6, 1, 2, 3, 4, 5, 6, 1, 2, 3, 4, 5, 6, 1, 2, 3, 1, 2, 3, 4, 5, 6, 1, 2, 3, 4, 5, 6, 1, 2, 6, 1, 2, 4, 5, 1, 2, 3, 4, 5, 6, 1, 2, 3, 5, 6, 1, 2, 5, 1, 2, 3, 4, 5, 1, 2, 3, 4, 5, 6, 1, 2, 3, 4, 5, 6, 1, 2, 4, 5, 6, 1, 2, 3, 4, 5, 1, 2, 3, 4, 5, 6, 1, 2, 3, 4, 5, 1, 2, 3, 4, 5, 1, 2, 3, 4, 5, 6, 1, 2, 3, 4, 5, 6, 1, 2, 3, 4, 5, 6, 1, 2, 4, 5, 1, 2, 3, 4, 5, 6, 1, 2, 3, 4, 5, 6, 1, 2, 4, 5, 6, 1, 2, 3, 5, 6, 1, 2, 5, 6, 1, 2, 3, 4, 5, 6, 1, 2, 3, 4, 5, 1, 2, 3, 4, 5, 6, 1, 2, 3, 4, 5, 6, 1, 2, 3, 4, 5, 1, 2, 3, 5, 1, 2, 4, 5, 1, 2, 3, 4, 5, 1, 2, 4, 5, 1, 2, 5, 6, 1, 2, 1, 2, 3, 4, 5, 6, 1, 2, 3, 4, 5, 6, 1, 2, 3, 4, 5, 6, 1, 2, 3, 4, 5, 6, 1, 2, 3, 4, 5, 1, 2, 3, 4, 5, 6, 1, 2, 3, 4, 5, 6, 1, 2, 5, 6, 1, 2, 3, 4, 5, 6, 1, 2, 3, 4, 5, 6, 1, 2, 3, 4, 5, 6, 1, 2, 4, 5, 1, 2, 3, 4, 5, 1, 2, 3, 4, 5, 6, 1, 2, 3, 4, 5, 1, 2, 4, 5, 6, 1, 2, 3, 4, 5, 1, 2, 4, 5, 1, 2, 3, 4, 5, 6, 1, 2, 3, 4, 5, 6, 1, 2, 3, 4, 5, 6, 1, 2, 5, 1, 2, 4, 5, 1, 2, 3, 4, 5, 1, 2, 3, 4, 5, 6, 1, 2, 3, 4, 5, 6, 1, 2, 4, 5, 1, 2, 3, 4, 5, 6, 1, 2, 3, 4, 5, 1, 2, 3, 4, 5, 6, 1, 2, 3, 4, 5, 6, 1, 2, 3, 1, 2, 5, 1, 2, 3, 1, 2, 3, 4, 5, 6, 1, 2, 3, 4, 5, 6, 1, 2, 3, 4, 5, 6, 1, 2, 3, 4, 5, 6, 1, 2, 5, 1, 2, 5, 6, 1, 2, 3, 4, 5, 6, 1, 2, 3, 4, 5, 1, 2, 3, 4, 5, 1, 2, 3, 4, 5, 6, 1, 2, 3, 5, 6, 1, 2, 3, 4, 5, 1, 2, 3, 4, 5, 6, 1, 2, 3, 4, 6, 1, 2, 3, 4, 5, 6, 1, 2, 3, 4, 5, 6, 1, 2, 4, 5, 1, 2, 3, 4, 5, 6, 1, 2, 3, 4, 5, 6, 1, 2, 3, 4, 5, 6, 1, 2, 3, 4, 5, 6, 1, 2, 3, 4, 5, 6, 1, 2, 3, 4, 5, 6, 1, 2, 3, 4, 5, 6, 1, 2, 4, 5, 6, 1, 2, 3, 4, 5, 6, 1, 2, 3, 4, 5, 6, 1, 2, 3, 4, 5, 6, 1, 2, 3, 5, 1, 2, 3, 4, 5, 6, 1, 2, 5, 1, 2, 3, 4, 5, 6, 1, 2, 3, 5, 6, 1, 2, 3, 4, 5, 6, 1, 2, 3, 4, 5, 6, 1, 2, 3, 4, 5, 1, 2, 4, 5, 1, 2, 3, 4, 5, 6, 1, 2, 3, 4, 5, 6, 1, 2, 3, 4, 5, 6, 1, 2, 3, 4, 5, 6, 1, 2, 3, 4, 5, 6, 1, 2, 4, 5, 1, 2, 3, 4, 5, 6, 1, 2, 3, 4, 5, 6, 1, 2, 3, 4, 5, 6, 1, 2, 3, 5, 1, 2, 3, 5, 1, 2, 3, 4, 5, 6, 1, 2, 3, 4, 5, 6, 1, 2, 3, 4, 5, 6, 1, 2, 3, 4, 5, 6, 1, 2, 1, 2, 3, 4, 5, 6, 1, 2, 4, 5, 1, 2, 4, 5, 1, 2, 3, 4, 5, 1, 2, 3, 4, 5, 6, 1, 2, 3, 4, 5, 6, 1, 2, 3, 4, 5, 6, 1, 2, 5, 6, 1, 2, 3, 4, 5, 6, 1, 2, 3, 4, 5, 1, 2, 3, 4, 5, 1, 2, 3, 4, 5, 6, 1, 2, 3, 6, 1, 2, 3, 5, 6, 1, 2, 5, 1, 2, 3, 4, 5, 6, 1, 2, 3, 4, 5, 6, 1, 2, 3, 4, 5, 6, 1, 2, 3, 4, 5, 6, 1, 2, 3, 4, 5, 6, 1, 2, 3, 4, 5, 6, 1, 2, 3, 4, 5, 6, 1, 2, 3, 4, 5, 6, 1, 2, 3, 4, 5, 6, 1, 2, 3, 4, 5, 6, 1, 2, 3, 4, 5, 6, 1, 2, 3, 5, 1, 2, 3, 4, 5, 6, 1, 2, 3, 4, 5, 6, 1, 2, 3, 4, 5, 6, 1, 2, 6, 1, 2, 3, 4, 5, 1, 2, 3, 4, 5, 1, 2, 3, 4, 5, 1, 2, 3, 4, 5, 6, 1, 2, 3, 4, 5, 6, 1, 2, 3, 4, 5, 6, 1, 2, 4, 5, 1, 2, 4, 5, 6, 1, 2, 3, 4, 1, 2, 3, 4, 5, 6, 1, 2, 5, 6, 1, 2, 4, 5, 6, 1, 2, 3, 4, 5, 6, 1, 2, 3, 4, 5, 6, 1, 2, 3, 4, 5, 6, 1, 2, 3, 4, 5, 6, 1, 2, 5, 1, 2, 4, 5, 6, 1, 2, 6, 1, 2, 3, 4, 5, 6, 1, 2, 3, 4, 5, 6, 1, 2, 3, 4, 5, 6, 1, 2, 5, 1, 2, 3, 5, 6, 1, 2, 3, 4, 5, 6, 1, 2, 3, 4, 5, 1, 2, 3, 4, 5, 6, 1, 2, 5, 1, 2, 5, 1, 2, 3, 4, 5, 6, 1, 2, 5, 1, 2, 3, 4, 5, 6, 1, 2, 1, 2, 3, 4, 5, 6, 1, 2, 3, 4, 5, 6, 1, 2, 5, 1, 2, 3, 1, 2, 3, 4, 5, 6, 1, 2, 3, 4, 5, 1, 2, 4, 5, 1, 2, 3, 4, 5, 1, 2, 3, 4, 5, 6, 1, 2, 4, 5, 1, 2, 3, 5, 6, 1, 2, 4, 5, 6, 1, 2, 3, 4, 5, 6, 1, 2, 3, 4, 5, 6, 1, 2, 3, 4, 1, 2, 3, 4, 5, 6, 1, 2, 3, 5, 6, 1, 2, 3, 4, 5, 6, 1, 2, 3, 4, 5, 6, 1, 2, 3, 4, 5, 6, 1, 2, 3, 4, 5, 6, 1, 2, 3, 4, 5, 6, 1, 2, 5, 1, 2, 3, 4, 5, 6, 1, 2, 3, 4, 5, 6, 1, 2, 5, 6, 1, 2, 3, 4, 5, 6, 1, 2, 3, 4, 5, 1, 2, 3, 4, 5, 6, 1, 2, 3, 4, 5, 6, 1, 2, 5, 1, 2, 3, 4, 5, 6, 1, 2, 5, 1, 2, 4, 5, 1, 2, 3, 4, 5, 6, 1, 2, 3, 1, 2, 5, 1, 2, 5, 1, 2, 3, 4, 5, 6, 1, 2, 3, 4, 5, 6, 1, 2, 5, 1, 2, 4, 5, 6, 1, 2, 3, 4, 5, 1, 2, 3, 4, 5, 1, 2, 4, 5, 6, 1, 2, 5, 1, 2, 3, 4, 5, 6, 1, 2, 3, 4, 5, 6, 1, 2, 5, 6, 1, 2, 3, 4, 5, 6, 1, 2, 3, 4, 5, 1, 2, 3, 4, 5, 6, 1, 2, 3, 4, 5, 6, 1, 2, 3, 4, 5, 1, 2, 3, 4, 5, 6, 1, 2, 3, 4, 5, 6, 1, 2, 3, 4, 5, 6, 1, 2, 3, 4, 5, 6, 1, 2, 3, 4, 5, 6, 1, 2, 4, 5, 6, 1, 2, 1, 2, 3, 4, 5, 6, 1, 2, 3, 4, 5, 6, 1, 2, 3, 4, 5, 6, 1, 2, 5, 1, 2, 3, 4, 5, 1, 2, 3, 4, 5, 1, 2, 3, 4, 5, 6, 1, 2, 3, 4, 5, 6, 1, 2, 3, 4, 5, 6, 1, 2, 3, 5, 1, 2, 3, 4, 5, 1, 2, 3, 4, 5, 6, 1, 2, 3, 4, 5, 6, 1, 2, 3, 4, 5, 6, 1, 2, 5, 1, 2, 3, 4, 5, 6, 1, 2, 3, 4, 5, 1, 2, 3, 4, 5, 1, 2, 3, 4, 5, 6, 1, 2, 5, 1, 2, 4, 5, 6, 1, 2, 3, 4, 5, 1, 2, 3, 5, 6, 1, 2, 3, 4, 5, 1, 2, 1, 2, 5, 6, 1, 2, 3, 4, 5, 6, 1, 2, 3, 4, 5, 6, 1, 2, 3, 4, 5, 6, 1, 2, 3, 4, 5, 6, 1, 2, 3, 4, 5, 1, 2, 3, 4, 5, 6, 1, 2, 3, 4, 5, 6, 1, 2, 3, 5, 6, 1, 2, 4, 5, 6, 1, 2, 3, 4, 5, 1, 2, 3, 4, 5, 6, 1, 2, 3, 4, 5, 6, 1, 2, 3, 4, 5, 6, 1, 2, 3, 4, 5, 1, 2, 3, 4, 5, 1, 2, 3, 5, 1, 2, 3, 4, 5, 6, 1, 2, 4, 5, 6, 1, 2, 3, 4, 5, 6, 1, 2, 3, 4, 5, 6, 1, 2, 3, 4, 5, 6, 1, 2, 3, 4, 5, 6], \"Freq\": [0.001670920906165773, 0.001670920906165773, 0.001670920906165773, 0.994197939168635, 0.001670920906165773, 0.001670920906165773, 0.01205525393514712, 0.00048221015740588483, 0.00048221015740588483, 0.1301967424995889, 0.8564052395528514, 0.00048221015740588483, 0.0003538503136162944, 0.0003538503136162944, 0.0003538503136162944, 0.9989194353387991, 0.0003538503136162944, 0.0011977448697649915, 0.00838421408835494, 0.9869417726863531, 0.0011977448697649915, 0.0011977448697649915, 0.000700696195928988, 0.000700696195928988, 0.9970906868069498, 0.000700696195928988, 0.000700696195928988, 0.000700696195928988, 0.003786385406146641, 0.007572770812293282, 0.003786385406146641, 0.003786385406146641, 0.9806738201919799, 0.003786385406146641, 0.9974574700358863, 0.0011373517332222193, 0.0005686758666111096, 0.0005686758666111096, 0.0005686758666111096, 0.0015090027782471043, 0.9959418336430889, 0.0015090027782471043, 0.00031192971182056046, 0.00031192971182056046, 0.00031192971182056046, 0.9991108669612553, 0.00031192971182056046, 0.0028431533618314565, 0.0028431533618314565, 0.9922605232791784, 0.9990192181555285, 0.0003381920169788519, 0.23521736504311724, 0.6907917922836674, 0.0004245800813052658, 0.0004245800813052658, 0.0004245800813052658, 0.07302777398450572, 0.027781253593824863, 0.9700287713177181, 0.001157552233076036, 0.001157552233076036, 0.001157552233076036, 0.001157552233076036, 0.9968157155080665, 0.0009448490194389255, 0.0009448490194389255, 0.0009448490194389255, 0.0009448490194389255, 0.0019029512903204445, 0.0019029512903204445, 0.009514756451602222, 0.0019029512903204445, 0.9838258170956699, 0.0019029512903204445, 0.0017100634122646633, 0.0017100634122646633, 0.02565095118396995, 0.0017100634122646633, 0.0017100634122646633, 0.9678958913417994, 0.007465577724626094, 0.007465577724626094, 0.9779906819260182, 0.00031617339267592704, 0.00031617339267592704, 0.00031617339267592704, 0.9987917474632535, 0.00031617339267592704, 0.00031617339267592704, 0.0003892895970350201, 0.0003892895970350201, 0.0003892895970350201, 0.0003892895970350201, 0.0003892895970350201, 0.9989171059918616, 0.002347954230949665, 0.002347954230949665, 0.9931846396917082, 0.00972203677411789, 0.001080226308235321, 0.9873268457270835, 0.001080226308235321, 0.04031867142101882, 0.0147507334467142, 0.942080176130147, 0.0009833822297809468, 0.0009833822297809468, 0.0009833822297809468, 0.002360766894886721, 0.9967157830211736, 0.0004721533789773442, 0.0004721533789773442, 0.0004721533789773442, 0.0015682490906172824, 0.9958381725419744, 0.0015682490906172824, 0.9733440423283031, 0.0005014652459187547, 0.0005014652459187547, 0.025574727541856492, 0.0005014652459187547, 0.0004677093001111723, 0.9054852050152296, 0.09167102282178977, 0.0004677093001111723, 0.0004677093001111723, 0.0018708372004446893, 0.9053890848182286, 0.0005408536946345452, 0.0002704268473172726, 0.09329726232445903, 0.0002704268473172726, 0.0002704268473172726, 0.002513987078951174, 0.002513987078951174, 0.002513987078951174, 0.002513987078951174, 0.9905109091067624, 0.0605718236118334, 0.9388632659834176, 0.00026108544660273015, 0.00026108544660273015, 0.00026108544660273015, 0.019047602954990035, 0.16904747622553656, 0.45047580988551433, 0.00023809503693737546, 0.3609520759970612, 0.00023809503693737546, 0.0006868188303353146, 0.0006868188303353146, 0.9979477604772121, 0.0006868188303353146, 0.0006868188303353146, 0.0001812177887388758, 0.0001812177887388758, 0.0001812177887388758, 0.9994161048949, 0.0001812177887388758, 0.02277308449723224, 0.02074051411405486, 0.572770037773739, 0.0017007221573524987, 0.3819987889526624, 4.148102822810972e-05, 0.6642743714579339, 0.042297812541552196, 0.1064542261951817, 0.15386184159410263, 0.03292984063637621, 0.00028387793652048457, 0.0563458209322785, 0.032197611961302004, 0.008049402990325501, 0.008049402990325501, 0.8773849259454796, 0.0241482089709765, 0.9986983759350064, 0.0005424760325556798, 0.0005424760325556798, 0.0005424760325556798, 0.7988044066982626, 0.017253587828501078, 0.18354880668618165, 0.0003670976133723633, 0.0003670976133723633, 0.0003670976133723633, 0.8401627307549234, 0.004456308685050867, 0.07605433489153479, 0.0023766979653604622, 0.07694559662854497, 0.0002970872456700578, 0.0014199580306880817, 0.0014199580306880817, 0.0014199580306880817, 0.0014199580306880817, 0.9939706214816573, 0.0037033838929400554, 0.0018516919464700277, 0.0018516919464700277, 0.0018516919464700277, 0.9925068833079349, 0.004268912956227101, 0.004268912956227101, 0.004268912956227101, 0.9861188928884603, 0.001496385878677056, 0.001496385878677056, 0.001496385878677056, 0.9936002234415652, 0.001496385878677056, 0.001496385878677056, 0.23992298001932094, 0.04435875032511561, 7.714565273933149e-05, 0.7156030748100389, 7.714565273933149e-05, 0.007879439614880827, 0.0039397198074404135, 0.001313239935813471, 0.001313239935813471, 0.001313239935813471, 0.9849299518601032, 0.9944774404727111, 0.0013987024479222379, 0.0013987024479222379, 0.0013987024479222379, 0.0013987024479222379, 0.0013987024479222379, 0.24765941214009984, 0.0009531471923287999, 7.942893269406666e-05, 7.942893269406666e-05, 0.7511594164877884, 0.0053062697295301635, 0.01591880918859049, 0.97635363023355, 0.0026531348647650817, 4.6179865383014474e-05, 4.6179865383014474e-05, 4.6179865383014474e-05, 0.9998402654076464, 0.5194903718725669, 0.0005284744373067821, 0.0005284744373067821, 0.13423250707592266, 0.34509380756132874, 0.0003481084750128919, 0.0003481084750128919, 0.9987232148119868, 0.0003481084750128919, 0.0009545701314027067, 0.03436452473049744, 0.0009545701314027067, 0.9641158327167337, 0.9952244754358563, 0.0016868211448065361, 0.0025485672759007283, 0.0025485672759007283, 0.9913926703253833, 0.0025485672759007283, 0.0025485672759007283, 0.0025485672759007283, 0.8913488244369651, 0.0005137457201365793, 0.0005137457201365793, 0.10685910978840849, 0.0005137457201365793, 0.0005137457201365793, 0.010528565348235564, 0.9878271606138662, 0.0006193273734256214, 0.0006193273734256214, 0.0006193273734256214, 0.0006193273734256214, 0.3940493654219222, 0.004375811448300113, 7.544502497069159e-05, 0.6014477390663534, 7.544502497069159e-05, 7.544502497069159e-05, 0.8946265239289285, 0.028583919206249395, 0.0005014722667763052, 0.07572231228322208, 0.0005014722667763052, 0.001393509052586006, 0.0919715974706764, 0.9043873751283179, 0.001393509052586006, 0.001393509052586006, 0.001393509052586006, 0.995958620770063, 0.0009688313431615398, 0.0019376626863230797, 0.0009688313431615398, 0.0009688313431615398, 0.0009688313431615398, 0.9987331603683227, 0.0005439723095688032, 0.0005439723095688032, 0.0005439723095688032, 0.016241741701130474, 0.9790521897441449, 0.0012993393360904379, 0.0012993393360904379, 0.0006496696680452189, 0.0006496696680452189, 0.6749181011268263, 0.0014075455706503155, 0.0007037727853251577, 0.003518863926625789, 0.31880907175229645, 0.0007037727853251577, 0.0006918766976362955, 0.23281650875461346, 0.6745797801953881, 0.09132772408799102, 0.00034593834881814777, 0.00034593834881814777, 0.0007443442968966035, 0.9974213578414487, 0.0007443442968966035, 0.0007443442968966035, 0.9952973439137051, 0.0018886097607470683, 0.0018886097607470683, 0.0018886097607470683, 0.0018886097607470683, 0.004194408615550382, 0.004194408615550382, 0.9731027988076886, 0.012583225846651145, 0.004194408615550382, 0.008388817231100763, 0.9970462778207152, 0.0010790544132258822, 0.0010790544132258822, 0.0010790544132258822, 0.0010790544132258822, 0.003112121236132181, 0.003112121236132181, 0.006224242472264362, 0.003112121236132181, 0.9834303106177692, 0.001018405929404028, 0.9960009989571394, 0.001018405929404028, 0.001018405929404028, 0.001018405929404028, 0.9944782257824594, 0.0027208706587755387, 0.0013604353293877693, 0.0013604353293877693, 0.36632274192535086, 0.00038625341831015483, 0.2510647219016006, 0.09756761346514511, 0.2845915186109221, 7.725068366203097e-05, 0.9936869436918566, 0.0012421086796148208, 0.0012421086796148208, 0.0012421086796148208, 0.0012421086796148208, 0.0012421086796148208, 0.011234767979542462, 0.0014043459974428078, 0.0014043459974428078, 0.9844465442074083, 0.0014043459974428078, 0.0014043459974428078, 0.9955313450916481, 0.001492550742266339, 0.001492550742266339, 0.003869845596535343, 0.0007739691193070686, 0.9945503183095831, 0.0007739691193070686, 0.0004899734969204764, 0.0004899734969204764, 0.0004899734969204764, 0.9985659867239309, 0.0004899734969204764, 0.02152923681565112, 0.13000346846373945, 0.0033121902793309416, 0.0016560951396654708, 0.8429524260897246, 0.0008280475698327354, 0.0008201660156764589, 0.4756962890923462, 0.0008201660156764589, 0.0073814941410881305, 0.0008201660156764589, 0.5150642578448162, 0.02166168826282214, 0.01083084413141107, 0.01083084413141107, 0.9531142835641742, 0.01246580169897073, 0.04498528439193786, 0.003793939647512831, 0.01246580169897073, 0.023847620641509224, 0.9029576361080538, 0.001930110584659367, 0.001930110584659367, 0.001930110584659367, 0.9920768405149147, 0.001930110584659367, 0.8116634839253125, 0.040416040195457345, 0.1475337407134928, 0.00015194000073480204, 0.00015194000073480204, 0.00015194000073480204, 0.22963344520074452, 0.0028945392252194687, 0.0009648464084064896, 0.0009648464084064896, 0.0009648464084064896, 0.7651232018663463, 0.00700243498463677, 0.00700243498463677, 0.973338462864511, 0.9978713535259368, 0.0009222470919833057, 0.0009222470919833057, 0.0015379902850635218, 0.9950797144360986, 0.0015379902850635218, 0.0018855494346564554, 0.0018855494346564554, 0.003771098869312911, 0.9899134531946391, 0.0018855494346564554, 0.0018855494346564554, 0.0009657547981572426, 0.0009657547981572426, 0.0009657547981572426, 0.9966589516982745, 0.0009657547981572426, 0.0009657547981572426, 0.28037647137054533, 0.0019991192254584338, 0.0004997798063646084, 0.0004997798063646084, 0.0004997798063646084, 0.7161844625204838, 0.0005497943810218439, 0.8180940389605036, 0.14349633344670124, 0.03683622352846354, 0.0005497943810218439, 0.0005497943810218439, 0.998759020725399, 0.00047971134520912535, 0.00047971134520912535, 0.0047667656580144, 0.0047667656580144, 0.0047667656580144, 0.9867204912089809, 0.0013213015703922454, 0.9949400825053607, 0.0013213015703922454, 0.0013213015703922454, 0.0013213015703922454, 0.0013213015703922454, 0.12024716001838634, 0.8794848878903828, 0.00011835350395510467, 0.00011835350395510467, 0.00011835350395510467, 0.001672691236239198, 0.9935785943260836, 0.001672691236239198, 0.001672691236239198, 0.001672691236239198, 0.0020685964595613775, 0.0020685964595613775, 0.0020685964595613775, 0.0020685964595613775, 0.0020685964595613775, 0.9908577041298997, 0.0017944169612980395, 0.9941069965591138, 0.0017944169612980395, 0.0017944169612980395, 0.0017944169612980395, 0.0002789416247026369, 0.0011157664988105476, 0.0002789416247026369, 0.9983320748107375, 0.0002789416247026369, 0.003548164364127036, 0.003548164364127036, 0.003548164364127036, 0.9899378575914431, 0.003548164364127036, 0.003548164364127036, 0.005147343806168601, 0.010294687612337202, 0.9779953231720342, 0.005147343806168601, 0.005147343806168601, 0.003330909985717574, 0.003330909985717574, 0.9859493557724018, 0.003330909985717574, 0.003330909985717574, 0.003330909985717574, 0.0007626676260017263, 0.0660470164117495, 0.9318273054489092, 0.001220268201602762, 0.00015253352520034526, 0.00015253352520034526, 0.017022644644782297, 0.0013094342034447922, 0.9794567841767046, 0.0013094342034447922, 0.00046216913706829764, 0.06932537056024464, 0.9294221346443465, 0.00046216913706829764, 0.00046216913706829764, 0.00046216913706829764, 0.00038461828053669753, 0.00038461828053669753, 0.00038461828053669753, 0.00038461828053669753, 0.00038461828053669753, 0.9984690562732669, 0.022234027359839557, 0.022234027359839557, 0.022234027359839557, 0.044468054719679115, 0.8671270670337428, 0.044468054719679115, 0.001742372055745533, 0.9948944438306995, 0.001742372055745533, 0.001742372055745533, 0.001742372055745533, 0.001742372055745533, 0.0650003907270007, 0.4179007421519116, 0.2249128564093564, 0.14409378652312987, 0.13920437660118734, 0.008628370450486818, 0.2599360281035002, 0.2285691411864986, 0.5010519240567994, 0.0008182666152261286, 0.0008182666152261286, 0.008728177229078706, 0.3103886623597016, 0.0036091704925546694, 0.00015692045619802912, 0.001255363649584233, 0.684643950392001, 0.00015692045619802912, 0.0010783974925594772, 0.0010783974925594772, 0.9953608856323974, 0.0010783974925594772, 0.0010783974925594772, 0.0014450024728184464, 0.002890004945636893, 0.9927166988262728, 0.0014450024728184464, 0.0014450024728184464, 0.0014450024728184464, 3.377671328836853e-05, 3.377671328836853e-05, 0.23663965329830994, 0.009052159161282767, 0.7542340077292693, 3.377671328836853e-05, 0.002228016806784557, 0.0007426722689281856, 0.9632459327998567, 0.03193490756391198, 0.0007426722689281856, 0.0007426722689281856, 0.002781403105727615, 0.002781403105727615, 0.002781403105727615, 0.9929609087447585, 0.0028656420312754066, 0.2995698092694829, 0.0026452080288696064, 0.0024247740264638057, 0.00022043400240580053, 0.6923832015566195, 0.001868025752159231, 0.001868025752159231, 0.9956577259008702, 0.09848544710885156, 0.1772738047959328, 0.0005793261594638327, 0.723578373170327, 0.0005793261594638327, 0.0005793261594638327, 0.05077444938668561, 0.05077444938668561, 0.05077444938668561, 0.8631656395736554, 0.05077444938668561, 0.005765634406183724, 0.005765634406183724, 0.005765634406183724, 0.011531268812367448, 0.9570953114264983, 0.017296903218551173, 0.005707977446562678, 0.011415954893125356, 0.9703561659156552, 0.005707977446562678, 0.005707977446562678, 0.005707977446562678, 0.01661109001453555, 0.03796820574750982, 0.002373012859219364, 0.002373012859219364, 0.9420861051100876, 0.041612882361311256, 0.016645152944524504, 0.004161288236131126, 0.9362898531295033, 0.0011069653439823486, 0.987413086832255, 0.00774875740787644, 0.002213930687964697, 0.0011069653439823486, 0.0011069653439823486, 0.030320966609865344, 0.2876794149082346, 0.681667096893741, 0.00018488394274308138, 0.00018488394274308138, 0.00018488394274308138, 0.00130765960390203, 0.01438425564292233, 0.0130765960390203, 0.9689757664914043, 0.00130765960390203, 0.00130765960390203, 0.0013939268657107114, 0.0013939268657107114, 0.0013939268657107114, 0.0013939268657107114, 0.0013939268657107114, 0.9938698552517372, 0.000514102875499292, 0.000514102875499292, 0.9978736813441258, 0.000514102875499292, 0.000514102875499292, 0.000514102875499292, 0.0011588861991312703, 0.9978010174520238, 0.0005794430995656352, 0.0005794430995656352, 0.011635566190117377, 0.011635566190117377, 0.13380901118634983, 0.011635566190117377, 0.8319429825933924, 0.011635566190117377, 0.06902492177811506, 0.9296599825070453, 0.0006218461421451808, 0.0006218461421451808, 0.0006218461421451808, 0.0006218461421451808, 0.14647784827567523, 0.8524916571671131, 0.00047098986583818403, 0.00047098986583818403, 0.00047098986583818403, 0.00047098986583818403, 0.0016389339804662815, 0.9948329261430329, 0.0016389339804662815, 0.0016389339804662815, 0.001443848943306152, 0.9962557708812448, 0.001443848943306152, 0.001443848943306152, 0.0029060425390237017, 0.0029060425390237017, 0.0014530212695118509, 0.0014530212695118509, 0.0014530212695118509, 0.9909605058070823, 0.1629006467483927, 0.8357511441874059, 0.0005059026296533935, 0.0005059026296533935, 0.0005059026296533935, 0.0005059026296533935, 0.9958043290638775, 0.0014974501188930488, 0.0014974501188930488, 0.0014974501188930488, 0.0014974501188930488, 0.0014974501188930488, 0.04216771535210207, 0.11038019606873778, 0.0037206807663619475, 0.0037206807663619475, 0.0024804538442412985, 0.8383933993535588, 0.9935238633981958, 0.0024592174836589003, 0.9858333150626591, 0.0017280163278924788, 0.009504089803408633, 0.0008640081639462394, 0.0008640081639462394, 0.0008640081639462394, 0.9959843104796167, 0.001588491723252977, 0.001588491723252977, 0.001588491723252977, 0.9951834450311107, 0.0017217706661437902, 0.0017217706661437902, 0.0017217706661437902, 0.0010794287484384882, 0.2078799864701122, 0.00026985718710962204, 0.7905916058354895, 8.995239570320735e-05, 0.004063703116188724, 0.008127406232377447, 0.9752887478852937, 0.004063703116188724, 0.004063703116188724, 0.008127406232377447, 0.0009362053440665135, 0.9961224860867703, 0.0009362053440665135, 0.0009362053440665135, 0.0009362053440665135, 0.0009362053440665135, 0.001507556591716427, 0.001507556591716427, 0.001507556591716427, 0.9934797939411253, 0.001507556591716427, 0.001507556591716427, 0.006377587796164478, 0.006377587796164478, 0.006377587796164478, 0.9757709328131651, 0.963209886466637, 0.032211749873680355, 0.0015713048718868465, 0.0007856524359434233, 0.0007856524359434233, 0.0007856524359434233, 0.2765662077022309, 0.018989581162653178, 0.002434561687519638, 0.7011537660056557, 0.0004869123375039276, 0.0017384318141593959, 0.0017384318141593959, 0.0017384318141593959, 0.9943829976991745, 0.0017384318141593959, 0.6133057419289302, 0.07331143054685352, 0.0002852584846181071, 0.22506894436368646, 0.0002852584846181071, 0.08757435477775886, 0.005512921454110989, 0.011025842908221978, 0.981300018831756, 0.005512921454110989, 0.0015931357898837481, 0.9957098686773427, 0.0015931357898837481, 0.0015931357898837481, 0.0015931357898837481, 0.014944358790529692, 0.9840285480533397, 0.0005747830304049881, 0.30532802046358287, 0.6923036452851156, 0.00028349862624288104, 0.0017009917574572864, 0.00028349862624288104, 0.00028349862624288104, 0.0022976505826881985, 0.9948827023039899, 0.0011488252913440993, 0.0011488252913440993, 0.0011488252913440993, 0.0011488252913440993, 0.07221539833228047, 0.27822521683056894, 0.07949291909444826, 0.008397139340962844, 0.5586896708187279, 0.0033588557363851378, 0.1994405426314368, 0.3080248380641079, 0.0007386686764127288, 0.0007386686764127288, 0.0007386686764127288, 0.4912146698144647, 0.18605341351687438, 0.23812277095827605, 0.024783850581047054, 0.1896022747503107, 0.24967111448019585, 0.11173095080023679, 0.009976548061415097, 0.007981238449132077, 0.0019953096122830192, 0.0039906192245660384, 0.0019953096122830192, 0.9717157811818304, 0.0007903652334013304, 0.0003951826167006652, 0.42956350435362306, 0.5623448635650465, 0.0003951826167006652, 0.006322921867210643, 0.8969576378350845, 0.10135730293883702, 0.0005449317362303066, 0.0005449317362303066, 0.0005449317362303066, 0.0005449317362303066, 0.0002201334337293968, 0.0002201334337293968, 0.0002201334337293968, 0.0002201334337293968, 0.0002201334337293968, 0.9991856556977321, 0.0015890640563585954, 0.16685172591765252, 0.8286969053910075, 0.002383596084537893, 0.0007945320281792977, 0.0007945320281792977, 0.001811968007735885, 0.001811968007735885, 0.001811968007735885, 0.001811968007735885, 0.001811968007735885, 0.9947704362470009, 0.1243008583406823, 0.006374402991829862, 0.003187201495914931, 0.8669188068888611, 0.005439767282133328, 0.0007771096117333325, 0.0007771096117333325, 0.0007771096117333325, 0.993146083795199, 0.0007771096117333325, 0.2607571530439853, 0.0003938929804289808, 0.0003938929804289808, 0.08980759953780762, 0.6483478457861024, 0.0003938929804289808, 0.0010425149044778405, 0.2502035770746817, 0.0010425149044778405, 0.0010425149044778405, 0.0010425149044778405, 0.7464406716061338, 0.008187967872920863, 0.008187967872920863, 0.9825561447505037, 0.9973546817682165, 0.0009589948863155929, 0.0009589948863155929, 0.0009589948863155929, 0.0009589948863155929, 0.005766076994056715, 0.0012813504431237143, 0.0006406752215618571, 0.0006406752215618571, 0.9924059181993168, 0.00023712799690211935, 0.00023712799690211935, 0.00023712799690211935, 0.9990202509486289, 0.00023712799690211935, 0.0011380295359940701, 0.0005690147679970351, 0.0005690147679970351, 0.005690147679970351, 0.0005690147679970351, 0.9917927406188322, 0.00011419164517469201, 0.00011419164517469201, 0.00011419164517469201, 0.9996336618592538, 0.00011419164517469201, 0.00011419164517469201, 0.1427589790273432, 0.12365095609446843, 0.06981777610088856, 0.4356261766715968, 0.2281938892560621, 0.00018373098973918043, 0.00030230673054196656, 0.00030230673054196656, 0.00030230673054196656, 0.9988214377106576, 0.0022134564957553685, 0.0011067282478776843, 0.9949486948420381, 0.0011067282478776843, 0.0011067282478776843, 0.004741645979489745, 0.004741645979489745, 0.9862623637338669, 0.004741645979489745, 0.0039051832381313263, 0.08586754096224476, 0.8833617465206349, 0.026778399347186236, 4.649027664442055e-05, 4.649027664442055e-05, 0.0009746827024847405, 0.0009746827024847405, 0.0009746827024847405, 0.9961257219394047, 0.001990297281454918, 0.001990297281454918, 0.9911680461645492, 0.001990297281454918, 0.001990297281454918, 0.004025787868187505, 0.004025787868187505, 0.982292239837751, 0.004025787868187505, 0.004025787868187505, 0.004025787868187505, 0.006504733166330164, 0.006504733166330164, 0.006504733166330164, 0.006504733166330164, 0.006504733166330164, 0.9757099749495245, 0.0018940720764774241, 0.0018940720764774241, 0.0018940720764774241, 0.9924937680741702, 0.0018940720764774241, 0.0018940720764774241, 0.35350468562877396, 0.01230770665632095, 8.547018511333993e-05, 0.6339323629856423, 8.547018511333993e-05, 8.547018511333993e-05, 0.9955130031995296, 0.0015458276447197666, 0.0015458276447197666, 0.6516126260972888, 0.0004376176132285351, 0.0008752352264570703, 0.0026257056793712106, 0.34440506161085715, 0.002079364445030038, 0.002079364445030038, 0.9939362047243582, 0.00021790021713162592, 0.00021790021713162592, 0.9990724955485049, 0.00021790021713162592, 0.00021790021713162592, 0.00021790021713162592, 6.724841773780338e-05, 6.724841773780338e-05, 0.9997822265079229, 6.724841773780338e-05, 6.724841773780338e-05, 6.724841773780338e-05, 0.12697312619227466, 0.0035365381059842896, 0.00011408187438659, 0.00011408187438659, 0.00011408187438659, 0.8693038828258157, 0.9983828909785659, 0.0006516859601687767, 0.0006516859601687767, 0.001868087228831814, 0.9938224057385251, 0.001868087228831814, 0.001868087228831814, 0.001868087228831814, 0.0007212760373332755, 0.9001524945919278, 0.09737226503999219, 0.0007212760373332755, 0.0007212760373332755, 0.0007212760373332755, 0.022131024983843308, 0.08461862493822442, 0.0013018249990496063, 0.005207299996198425, 0.8852409993537323, 0.5878243344965564, 0.08513915877221509, 0.1187786634602186, 0.20807941044125888, 0.00017339950870104906, 0.00017339950870104906, 0.27811717183052315, 0.7209318563544342, 0.00043455808098519244, 0.40018049606345085, 0.5997599449324281, 4.086393301985611e-05, 0.04322378564541073, 0.01178830517602111, 0.0009823587646684258, 0.0009823587646684258, 0.934223185199673, 0.007858870117347407, 0.987442265657469, 0.010631949024575708, 0.0013289936280719635, 0.0008830090307014451, 0.9969171956619315, 0.0008830090307014451, 0.0008830090307014451, 0.0008830090307014451, 0.0008830090307014451, 0.0020241919288169243, 0.9938782370491098, 0.0014140566610825905, 0.9954958894021437, 0.0014140566610825905, 0.0014140566610825905, 0.0014140566610825905, 0.0014140566610825905, 0.00047290698451757634, 0.04090645416077035, 0.9581095506326096, 0.00023645349225878817, 0.00023645349225878817, 0.00023645349225878817, 0.0006625511858445332, 0.9984646370677114, 0.0006625511858445332, 0.0016951483725991612, 0.07797682513956142, 0.9187704179487454, 0.993454799983943, 0.0017069670102816891, 0.0017069670102816891, 0.0017069670102816891, 0.0017069670102816891, 0.0017069670102816891, 0.8432522846691778, 0.0002552989054402597, 0.0002552989054402597, 0.15598763122399867, 0.0002552989054402597, 0.0007447513997516693, 0.0007447513997516693, 0.9979668756672367, 0.0007447513997516693, 0.00011799731256192689, 0.00011799731256192689, 0.00011799731256192689, 0.00011799731256192689, 0.9995552347120826, 6.697790283424018e-05, 6.697790283424018e-05, 0.9997121777038689, 6.697790283424018e-05, 6.697790283424018e-05, 6.697790283424018e-05, 0.0021197547276690784, 0.9941649672767977, 0.0021197547276690784, 0.0021197547276690784, 0.38868690987938903, 0.6107937155247541, 0.0003228296593682633, 0.0003228296593682633, 0.0003228296593682633, 0.006245535921570678, 0.003122767960785339, 0.012491071843141357, 0.003122767960785339, 0.9743036037650259, 0.0010106411584273679, 0.13037270943713045, 0.8661194727722542, 0.0010106411584273679, 0.0010106411584273679, 0.0020212823168547357, 0.0002863614449191087, 0.0002863614449191087, 0.9991150813227704, 0.0002863614449191087, 0.0002863614449191087, 0.0002863614449191087, 0.00931982702131282, 0.00931982702131282, 0.9692620102165334, 0.00931982702131282, 0.0032025064485716095, 0.0032025064485716095, 0.9863719861600557, 0.0032025064485716095, 0.0032025064485716095, 0.0032025064485716095, 0.0008994704758878329, 0.0008994704758878329, 0.0008994704758878329, 0.0008994704758878329, 0.9975127577596067, 0.006593661151194664, 0.006593661151194664, 0.982455511528005, 0.006593661151194664, 0.006593661151194664, 0.006593661151194664, 0.001375385009321304, 0.9957787467486241, 0.001375385009321304, 0.001375385009321304, 0.001375385009321304, 0.001375385009321304, 0.006389879432332253, 0.006389879432332253, 0.984041432579167, 0.006389879432332253, 0.006389879432332253, 0.006389879432332253, 0.33511893337610915, 0.11587847455294377, 0.00040375775105555323, 0.5483030259334413, 0.00040375775105555323, 0.00040375775105555323, 0.9926799827540096, 0.0035707913048705383, 0.0011902637682901793, 0.0011902637682901793, 0.0011902637682901793, 0.0011902637682901793, 0.9973089081109597, 0.000977753831481333, 0.000977753831481333, 0.9283872227540328, 0.0399306332367326, 0.0005872151946578323, 0.03053519012220728, 0.0005872151946578323, 0.0005872151946578323, 0.00018685548409507773, 0.00018685548409507773, 0.00018685548409507773, 0.00018685548409507773, 0.00018685548409507773, 0.9993031289404758, 0.026836271018850947, 0.026836271018850947, 0.9124332146409322, 0.026836271018850947, 0.10539252562909106, 0.6453306154726003, 0.24891702033001406, 0.0002648053407766107, 0.0002648053407766107, 0.0002648053407766107, 0.0004563372964371772, 0.2893178459411703, 0.011408432410929429, 0.6981960635488811, 0.0004563372964371772, 0.02583646045209376, 0.004921230562303573, 0.957179344368045, 0.00738184584345536, 0.0024606152811517865, 0.0012303076405758933, 0.8802735557285843, 0.0019045011277326878, 0.0486632874362042, 0.0688247304090985, 0.00032836226340218755, 6.56724526804375e-05, 0.4108804642313642, 0.5885969279992553, 0.0003554329275357822, 0.9867371187664419, 0.01199854052929663, 0.0002856795364118245, 0.0002856795364118245, 0.0008570386092354736, 0.0002856795364118245, 0.903214161996575, 0.09611562025774874, 0.00034083553282889624, 0.09625632946312178, 0.9026873101620319, 0.000757923854040329, 0.000757923854040329, 0.0013825258455973598, 0.0006912629227986799, 0.0006912629227986799, 0.0006912629227986799, 0.0006912629227986799, 0.9961098717528977, 0.0021831935175261035, 0.9933530504743772, 0.0021831935175261035, 0.9965866963680104, 0.0011779984590638423, 0.0011779984590638423, 0.9983050218133541, 0.0012908003902422473, 0.0002581600780484495, 0.2322926099443668, 0.59899726854885, 0.16816396634434075, 0.00019854069226014255, 0.00019854069226014255, 0.00019854069226014255, 0.6093406779867935, 0.017881840104367268, 0.00011317620319219789, 0.00011317620319219789, 0.3696334796257183, 0.0029425812829971454, 0.9969063648727612, 0.0014180744877279675, 0.0007090372438639837, 0.8612551448313094, 0.0002876603690151334, 0.0005753207380302668, 0.13750165638923376, 0.0002876603690151334, 0.004569775899987119, 0.0022848879499935597, 0.991641370297205, 0.0022848879499935597, 0.0022848879499935597, 0.0004655875773567474, 0.0004655875773567474, 0.0004655875773567474, 0.9986853534302232, 0.0004655875773567474, 0.0013797166191712909, 0.996155399041672, 0.0013797166191712909, 0.0013797166191712909, 0.0013797166191712909, 0.0004926892349927714, 0.0004926892349927714, 0.9981883900953548, 0.5097777356550178, 0.10820394389090064, 0.0007619996048654975, 0.0007619996048654975, 0.3809998024327487, 0.0007619996048654975, 0.44374826775980647, 0.0015978589888470396, 0.04063127143068187, 0.003652249117364662, 0.5101735485818762, 0.00022826556983529138, 0.012603356458592998, 0.9843221394161132, 0.0012603356458592999, 0.0012603356458592999, 0.5509083851993773, 0.09810141958664408, 5.791110955527986e-05, 0.3495514572756692, 0.0013319555197714367, 5.791110955527986e-05, 0.9977114067374996, 0.00068383235554318, 0.00068383235554318, 0.00068383235554318, 0.00068383235554318, 0.0003312526909337928, 0.4153908744309762, 0.5833359887344092, 0.0003312526909337928, 0.0003312526909337928, 0.0003312526909337928, 0.06489154031085413, 0.5117533513478062, 0.20313873488615208, 0.14345588008519927, 0.07661108270813213, 0.00021702856291255562, 0.002349384722783821, 0.002349384722783821, 0.002349384722783821, 0.9914403530147725, 0.002349384722783821, 0.0013845843889934105, 0.9955161756862623, 0.0013845843889934105, 0.0013845843889934105, 0.0013845843889934105, 0.0013845843889934105, 0.0019422600781375586, 0.004855650195343896, 0.015538080625100469, 0.0009711300390687793, 0.9769568193031919, 0.0009711300390687793, 0.0037191306281845965, 0.0037191306281845965, 0.0037191306281845965, 0.0037191306281845965, 0.9892887470971027, 0.0037191306281845965, 0.09213816696718106, 0.07745148170624694, 0.5528290018030865, 0.24884232762865746, 0.028819155983719792, 0.0001385536345371144, 0.04938494414397652, 0.02469247207198826, 0.04938494414397652, 0.02469247207198826, 0.864236522519589, 0.02469247207198826, 0.0037999740107684103, 0.0037999740107684103, 0.0037999740107684103, 0.0037999740107684103, 0.9879932427997867, 0.0012292578681695517, 0.9969281310855065, 0.4464327226924413, 0.17895282982993127, 0.18049552663881, 0.00011866898529836291, 0.00011866898529836291, 0.193905121977525, 0.5266462750473986, 0.011135194269250016, 0.3364765224838592, 0.07252400441450663, 0.03892476605424788, 0.014330510885643497, 0.0005806557650214263, 0.10277607040879246, 0.0005806557650214263, 0.0005806557650214263, 0.0005806557650214263, 0.8953711896630393, 0.9459023913082348, 0.05281688479386083, 0.0006859335687514394, 0.005818802018088152, 0.002909401009044076, 0.002909401009044076, 0.9891963430749858, 0.002909401009044076, 0.9944645607069198, 0.001879895199824045, 0.001879895199824045, 0.001879895199824045, 0.001879895199824045, 0.5687700818802875, 0.09234341846619612, 0.05785764626023615, 0.2807893680087167, 8.171983935061604e-05, 0.0002451595180518481, 0.0032645137428275084, 0.01632256871413754, 0.013058054971310034, 0.0032645137428275084, 0.0032645137428275084, 0.9662960678769424, 0.9954696580834871, 0.0012289748865228235, 0.0012289748865228235, 0.0012289748865228235, 0.0012289748865228235, 0.0012289748865228235, 0.0016266990554681061, 0.9955398219464809, 0.0016266990554681061, 0.0016266990554681061, 0.0008824045269531487, 0.9971171154570581, 0.0008824045269531487, 0.0008824045269531487, 0.0008824045269531487, 0.015246223328402276, 0.44761347976975907, 0.1219697866272182, 0.41457999589155414, 0.000195464401646183, 0.000390928803292366, 0.00041139139719250614, 0.00041139139719250614, 0.00946200213542764, 0.9893963102479773, 0.00041139139719250614, 0.00041139139719250614, 0.2607204415188748, 0.10119985811280847, 0.012889263139210159, 0.023864279277547522, 0.6012011747407827, 0.00012761646672485307, 0.03311660707296036, 0.01103886902432012, 0.9383038670672103, 0.002561488727092769, 0.10758252653789631, 0.8888365883011909, 0.00032018609088659613, 0.00032018609088659613, 0.00032018609088659613, 0.002423169338842316, 0.027866447396686634, 0.9668445661980841, 0.001211584669421158, 0.001211584669421158, 0.0005010038914230113, 0.0005010038914230113, 0.0005010038914230113, 0.9979997517146385, 0.0005010038914230113, 0.0004924523339188226, 0.13443948715983856, 0.29793366202088767, 0.0004924523339188226, 0.0004924523339188226, 0.566320184006646, 0.0008968530817942547, 0.9973006269552113, 0.0008968530817942547, 0.007359252010362535, 0.007359252010362535, 0.007359252010362535, 0.007359252010362535, 0.9787805173782171, 0.0014975040359682874, 0.0014975040359682874, 0.0014975040359682874, 0.9943426798829428, 0.0014975040359682874, 0.0012351598234539162, 0.0012351598234539162, 0.0012351598234539162, 0.0012351598234539162, 0.9967739775273103, 0.05481950280022731, 0.01827316760007577, 0.01827316760007577, 0.03654633520015154, 0.8771120448036369, 0.9951882988407303, 0.0016314562276077546, 0.011104216271572905, 0.0055521081357864524, 0.0055521081357864524, 0.9771710318984156, 0.0001264483677247806, 0.0024025189867708315, 0.43283276272192395, 0.5644655135234206, 0.0001264483677247806, 0.0001264483677247806, 0.6431092724239286, 0.20262057811846781, 0.07640484299883891, 0.07176145475029069, 0.005909766861788645, 0.00021106310220673732, 0.2313255101813951, 0.7669701950097764, 0.0005367181210705224, 0.0005367181210705224, 0.0005367181210705224, 0.0005367181210705224, 0.0003071089019470925, 0.000614217803894185, 0.9987181491319448, 0.0003071089019470925, 0.0003071089019470925, 0.0003071089019470925, 0.0006188235274536144, 0.0024752941098144577, 0.9963058792003193, 0.0003094117637268072, 0.0003094117637268072, 0.2030093953090004, 0.30421169565171957, 0.4878676630067338, 0.004636758780642511, 0.00020159820785402223, 0.00020159820785402223, 0.08112809764272688, 0.43010045772764005, 0.3066611705839779, 0.1820064812284397, 7.596263824225363e-05, 7.596263824225363e-05, 0.00031100730803876943, 0.00031100730803876943, 0.9989554734205275, 0.00031100730803876943, 0.00031100730803876943, 0.0031700840733605994, 0.0031700840733605994, 0.0031700840733605994, 0.0031700840733605994, 0.989066230888507, 0.001152490582594627, 0.001152490582594627, 0.001152490582594627, 0.9957518633617578, 0.001152490582594627, 0.05185909637445779, 0.19621541142850404, 0.26020529058061276, 0.1314673583527921, 0.2149423073415027, 0.1453419411547304, 0.017233843132048024, 0.02154230391506003, 0.004308460783012006, 0.004308460783012006, 0.9263190683475813, 0.025850764698072036, 0.3945782948558783, 0.028528195966105754, 0.0003704960515078669, 0.5761213600947331, 0.0003704960515078669, 0.0003704960515078669, 0.024138384021924676, 0.0015086490013702923, 0.0015086490013702923, 0.9715699568824682, 0.0015086490013702923, 0.6942860049480762, 0.0003578793839938537, 0.0003578793839938537, 0.30491323516276336, 0.0003578793839938537, 0.00047812263937808876, 0.9987981936608274, 0.00047812263937808876, 0.00047812263937808876, 0.03581736347393924, 0.01790868173696962, 0.03581736347393924, 0.01790868173696962, 0.8775254051115113, 0.01790868173696962, 0.0010704782372408116, 0.0005352391186204058, 0.0005352391186204058, 0.0005352391186204058, 0.9971504779898159, 0.042714467243871505, 0.9569382478352156, 0.00022363595415639533, 0.00022363595415639533, 0.00022363595415639533, 0.00022363595415639533, 0.00036232282866783183, 0.47790381101287016, 0.5210202276243422, 0.00036232282866783183, 0.00036232282866783183, 0.00036232282866783183, 0.0006585987388145852, 0.12249936541951284, 0.8726433289293253, 0.0032929936940729256, 0.0006585987388145852, 0.0006585987388145852, 0.0009802923857445728, 0.0686204670021201, 0.9283368893001105, 0.0009802923857445728, 0.0009802923857445728, 0.0009802923857445728], \"Term\": [\"acolhedor\", \"acolhedor\", \"acolhedor\", \"acolhedor\", \"acolhedor\", \"acolhedor\", \"acomodaco\", \"acomodaco\", \"acomodaco\", \"acomodaco\", \"acomodaco\", \"acomodaco\", \"aconchegant\", \"aconchegant\", \"aconchegant\", \"aconchegant\", \"aconchegant\", \"adoramo\", \"adoramo\", \"adoramo\", \"adoramo\", \"adoramo\", \"adorei\", \"adorei\", \"adorei\", \"adorei\", \"adorei\", \"adorei\", \"adoro\", \"adoro\", \"adoro\", \"adoro\", \"adoro\", \"adoro\", \"adulto\", \"adulto\", \"adulto\", \"adulto\", \"adulto\", \"agora\", \"agora\", \"agora\", \"agradavel\", \"agradavel\", \"agradavel\", \"agradavel\", \"agradavel\", \"agradec\", \"agradec\", \"agradec\", \"agua\", \"agua\", \"ainda\", \"ainda\", \"ainda\", \"ainda\", \"ainda\", \"ainda\", \"algo\", \"algo\", \"algo\", \"algo\", \"algo\", \"algo\", \"all\", \"all\", \"all\", \"all\", \"all\", \"altament\", \"altament\", \"altament\", \"altament\", \"altament\", \"altament\", \"amamo\", \"amamo\", \"amamo\", \"amamo\", \"amamo\", \"amamo\", \"amando\", \"amando\", \"amando\", \"ambient\", \"ambient\", \"ambient\", \"ambient\", \"ambient\", \"ambient\", \"amei\", \"amei\", \"amei\", \"amei\", \"amei\", \"amei\", \"amo\", \"amo\", \"amo\", \"amplo\", \"amplo\", \"amplo\", \"amplo\", \"animacao\", \"animacao\", \"animacao\", \"animacao\", \"animacao\", \"animacao\", \"ano\", \"ano\", \"ano\", \"ano\", \"ano\", \"ant\", \"ant\", \"ant\", \"aquecida\", \"aquecida\", \"aquecida\", \"aquecida\", \"aquecida\", \"aqui\", \"aqui\", \"aqui\", \"aqui\", \"aqui\", \"aqui\", \"area\", \"area\", \"area\", \"area\", \"area\", \"area\", \"arquitetura\", \"arquitetura\", \"arquitetura\", \"arquitetura\", \"arquitetura\", \"ate\", \"ate\", \"ate\", \"ate\", \"ate\", \"atencao\", \"atencao\", \"atencao\", \"atencao\", \"atencao\", \"atencao\", \"atenciosa\", \"atenciosa\", \"atenciosa\", \"atenciosa\", \"atenciosa\", \"atencioso\", \"atencioso\", \"atencioso\", \"atencioso\", \"atencioso\", \"atendimento\", \"atendimento\", \"atendimento\", \"atendimento\", \"atendimento\", \"atendimento\", \"atividad\", \"atividad\", \"atividad\", \"atividad\", \"atividad\", \"atividad\", \"bairro\", \"bairro\", \"bairro\", \"bairro\", \"bairro\", \"bairro\", \"banheiro\", \"banheiro\", \"banheiro\", \"banheiro\", \"bar\", \"bar\", \"bar\", \"bar\", \"bar\", \"bar\", \"bebida\", \"bebida\", \"bebida\", \"bebida\", \"bebida\", \"bebida\", \"bela\", \"bela\", \"bela\", \"bela\", \"bela\", \"beleza\", \"beleza\", \"beleza\", \"beleza\", \"beleza\", \"belissimo\", \"belissimo\", \"belissimo\", \"belissimo\", \"belo\", \"belo\", \"belo\", \"belo\", \"belo\", \"belo\", \"bem\", \"bem\", \"bem\", \"bem\", \"bem\", \"beneficio\", \"beneficio\", \"beneficio\", \"beneficio\", \"beneficio\", \"beneficio\", \"bicicleta\", \"bicicleta\", \"bicicleta\", \"bicicleta\", \"bicicleta\", \"bicicleta\", \"boa\", \"boa\", \"boa\", \"boa\", \"boa\", \"bola\", \"bola\", \"bola\", \"bola\", \"bom\", \"bom\", \"bom\", \"bom\", \"bon\", \"bon\", \"bon\", \"bon\", \"bon\", \"bonito\", \"bonito\", \"bonito\", \"bonito\", \"brasil\", \"brasil\", \"brasil\", \"brasil\", \"brinquedo\", \"brinquedo\", \"bruno\", \"bruno\", \"bruno\", \"bruno\", \"bruno\", \"bruno\", \"buffet\", \"buffet\", \"buffet\", \"buffet\", \"buffet\", \"buffet\", \"cada\", \"cada\", \"cada\", \"cada\", \"cada\", \"cada\", \"cafe\", \"cafe\", \"cafe\", \"cafe\", \"cafe\", \"cafe\", \"cama\", \"cama\", \"cama\", \"cama\", \"cama\", \"carinho\", \"carinho\", \"carinho\", \"carinho\", \"carinho\", \"carinho\", \"carn\", \"carn\", \"carn\", \"carn\", \"carn\", \"carn\", \"caro\", \"caro\", \"caro\", \"caro\", \"casa\", \"casa\", \"casa\", \"casa\", \"casa\", \"casa\", \"centro\", \"centro\", \"centro\", \"centro\", \"centro\", \"centro\", \"certeza\", \"certeza\", \"certeza\", \"certeza\", \"certeza\", \"certeza\", \"check\", \"check\", \"check\", \"check\", \"cheiro\", \"cheiro\", \"cheiro\", \"cheiro\", \"cheiro\", \"chiqu\", \"chiqu\", \"chiqu\", \"chiqu\", \"chiqu\", \"chiqu\", \"chuveiro\", \"chuveiro\", \"chuveiro\", \"chuveiro\", \"chuveiro\", \"classico\", \"classico\", \"classico\", \"classico\", \"classico\", \"client\", \"client\", \"client\", \"client\", \"client\", \"coberta\", \"coberta\", \"coberta\", \"coberta\", \"comida\", \"comida\", \"comida\", \"comida\", \"comida\", \"comida\", \"completa\", \"completa\", \"completa\", \"completa\", \"completa\", \"completa\", \"completo\", \"completo\", \"completo\", \"completo\", \"completo\", \"completo\", \"condicionado\", \"condicionado\", \"condicionado\", \"confortavei\", \"confortavei\", \"confortavei\", \"confortavei\", \"confortavel\", \"confortavel\", \"confortavel\", \"confortavel\", \"confortavel\", \"conforto\", \"conforto\", \"conforto\", \"conforto\", \"conforto\", \"conforto\", \"conhec\", \"conhec\", \"conhec\", \"conhec\", \"conhec\", \"conhec\", \"convenco\", \"convenco\", \"convenco\", \"convenco\", \"copacabana\", \"copacabana\", \"copacabana\", \"copacabana\", \"copacabana\", \"copacabana\", \"cordiai\", \"cordiai\", \"cordiai\", \"cordiai\", \"cordiai\", \"crianca\", \"crianca\", \"crianca\", \"crianca\", \"crianca\", \"crianca\", \"custo\", \"custo\", \"custo\", \"custo\", \"custo\", \"custo\", \"dedicacao\", \"dedicacao\", \"dedicacao\", \"deixa\", \"deixa\", \"deixa\", \"deixar\", \"deixar\", \"deixar\", \"delicia\", \"delicia\", \"delicia\", \"delicia\", \"delicia\", \"delicia\", \"delicioso\", \"delicioso\", \"delicioso\", \"delicioso\", \"delicioso\", \"delicioso\", \"demai\", \"demai\", \"demai\", \"demai\", \"demai\", \"demai\", \"desd\", \"desd\", \"desd\", \"desd\", \"desd\", \"desd\", \"desejar\", \"desejar\", \"desejar\", \"deslumbrant\", \"deslumbrant\", \"deslumbrant\", \"deslumbrant\", \"dess\", \"dess\", \"dess\", \"dess\", \"dess\", \"dess\", \"dia\", \"dia\", \"dia\", \"dia\", \"dia\", \"diferenca\", \"diferenca\", \"diferenca\", \"diferenca\", \"diferenca\", \"divertido\", \"divertido\", \"divertido\", \"divertido\", \"divertido\", \"divertido\", \"dizer\", \"dizer\", \"dizer\", \"dizer\", \"dizer\", \"educado\", \"educado\", \"educado\", \"educado\", \"educado\", \"elegant\", \"elegant\", \"elegant\", \"elegant\", \"elegant\", \"elegant\", \"encantada\", \"encantada\", \"encantada\", \"encantada\", \"encantada\", \"encantador\", \"encantador\", \"encantador\", \"encantador\", \"encantador\", \"encantador\", \"equip\", \"equip\", \"equip\", \"equip\", \"equip\", \"equip\", \"espacoso\", \"espacoso\", \"espacoso\", \"espacoso\", \"especi\", \"especi\", \"especi\", \"especi\", \"especi\", \"especi\", \"espetacular\", \"espetacular\", \"espetacular\", \"espetacular\", \"espetacular\", \"espetacular\", \"esplendida\", \"esplendida\", \"esplendida\", \"esplendida\", \"esplendida\", \"esplendida\", \"esposa\", \"esposa\", \"esposa\", \"esposa\", \"esposa\", \"esposa\", \"estadia\", \"estadia\", \"estadia\", \"estadia\", \"estadia\", \"estadia\", \"estrela\", \"estrela\", \"estrela\", \"estrela\", \"estrela\", \"estrela\", \"estrutura\", \"estrutura\", \"estrutura\", \"estrutura\", \"estrutura\", \"estrutura\", \"evento\", \"evento\", \"evento\", \"evento\", \"evento\", \"excelencia\", \"excelencia\", \"excelencia\", \"excelencia\", \"excelencia\", \"excelencia\", \"excelent\", \"excelent\", \"excelent\", \"excelent\", \"excelent\", \"excelent\", \"excepcion\", \"excepcion\", \"excepcion\", \"excepcion\", \"excepcion\", \"excepcion\", \"exelent\", \"exelent\", \"exelent\", \"exelent\", \"experiencia\", \"experiencia\", \"experiencia\", \"experiencia\", \"experiencia\", \"experiencia\", \"exposicao\", \"exposicao\", \"exposicao\", \"extremament\", \"extremament\", \"extremament\", \"extremament\", \"extremament\", \"extremament\", \"extrurura\", \"extrurura\", \"extrurura\", \"extrurura\", \"extrurura\", \"exuberant\", \"exuberant\", \"exuberant\", \"exuberant\", \"exuberant\", \"exuberant\", \"fabio\", \"fabio\", \"fabio\", \"fabio\", \"fabio\", \"fabio\", \"facil\", \"facil\", \"facil\", \"facil\", \"facil\", \"facilidad\", \"facilidad\", \"facilidad\", \"facilidad\", \"falar\", \"falar\", \"falar\", \"falar\", \"falar\", \"falar\", \"familia\", \"familia\", \"familia\", \"familia\", \"familia\", \"familia\", \"familiar\", \"familiar\", \"familiar\", \"familiar\", \"familiar\", \"familiar\", \"fantastica\", \"fantastica\", \"fantastica\", \"fantastica\", \"fantastica\", \"fantastica\", \"fantastico\", \"fantastico\", \"fantastico\", \"fantastico\", \"fantastico\", \"fantastico\", \"fazer\", \"fazer\", \"fazer\", \"fazer\", \"fenomen\", \"fenomen\", \"fenomen\", \"fenomen\", \"fenomen\", \"fenomen\", \"ficamo\", \"ficamo\", \"ficamo\", \"ficamo\", \"ficamo\", \"ficamo\", \"ficar\", \"ficar\", \"ficar\", \"ficar\", \"ficar\", \"ficar\", \"fim\", \"fim\", \"fim\", \"fim\", \"final\", \"final\", \"final\", \"final\", \"fino\", \"fino\", \"fino\", \"fino\", \"fino\", \"fino\", \"fiquei\", \"fiquei\", \"fiquei\", \"fiquei\", \"fiquei\", \"fiquei\", \"fort\", \"fort\", \"fort\", \"fort\", \"fort\", \"fort\", \"foz\", \"foz\", \"foz\", \"foz\", \"foz\", \"foz\", \"fraco\", \"fraco\", \"frango\", \"frango\", \"frango\", \"frango\", \"frango\", \"frango\", \"frio\", \"frio\", \"frio\", \"frio\", \"fruta\", \"fruta\", \"fruta\", \"fruta\", \"funcionario\", \"funcionario\", \"funcionario\", \"funcionario\", \"funcionario\", \"gabriel\", \"gabriel\", \"gabriel\", \"gabriel\", \"gabriel\", \"gabriel\", \"gent\", \"gent\", \"gent\", \"gent\", \"gent\", \"gent\", \"genti\", \"genti\", \"genti\", \"genti\", \"genti\", \"genti\", \"glamour\", \"glamour\", \"glamour\", \"glamour\", \"golf\", \"golf\", \"golf\", \"golf\", \"golf\", \"golf\", \"gostei\", \"gostei\", \"gostei\", \"gostei\", \"gostei\", \"gostoso\", \"gostoso\", \"gostoso\", \"gostoso\", \"gostoso\", \"grand\", \"grand\", \"grand\", \"grand\", \"grand\", \"grand\", \"gratidao\", \"gratidao\", \"gratidao\", \"gratidao\", \"hoje\", \"hoje\", \"hoje\", \"hoje\", \"hoje\", \"hora\", \"hora\", \"hora\", \"hosped\", \"hosped\", \"hosped\", \"hosped\", \"hosped\", \"hosped\", \"hospedado\", \"hospedado\", \"hospedado\", \"hospedado\", \"hospedado\", \"hospedado\", \"hospedagem\", \"hospedagem\", \"hospedagem\", \"hospedagem\", \"hospedagem\", \"hospedagem\", \"hotei\", \"hotei\", \"hotei\", \"hotei\", \"hotei\", \"hotei\", \"hotel\", \"hotel\", \"hotel\", \"hotel\", \"hotel\", \"hotel\", \"iguacu\", \"iguacu\", \"iguacu\", \"iguacu\", \"iguacu\", \"iguacu\", \"impecavel\", \"impecavel\", \"impecavel\", \"impecavel\", \"impecavel\", \"impecavel\", \"inclus\", \"inclus\", \"inclus\", \"inclus\", \"inclus\", \"inclus\", \"incrivel\", \"incrivel\", \"incrivel\", \"incrivel\", \"incrivel\", \"incrivel\", \"indico\", \"indico\", \"indico\", \"indico\", \"indico\", \"indico\", \"inesquecivel\", \"inesquecivel\", \"inesquecivel\", \"inesquecivel\", \"inesquecivel\", \"inesquecivel\", \"infra\", \"infra\", \"infra\", \"infra\", \"infraestrutura\", \"infraestrutura\", \"infraestrutura\", \"infraestrutura\", \"infraestrutura\", \"infraestrutura\", \"instalaco\", \"instalaco\", \"instalaco\", \"instalaco\", \"instalaco\", \"instalaco\", \"janeiro\", \"janeiro\", \"janeiro\", \"janeiro\", \"janeiro\", \"janeiro\", \"jeitoso\", \"jeitoso\", \"jeitoso\", \"jogo\", \"jogo\", \"jogo\", \"jogo\", \"jogo\", \"legal\", \"legal\", \"legal\", \"legal\", \"legal\", \"limpo\", \"limpo\", \"limpo\", \"limpo\", \"limpo\", \"linda\", \"linda\", \"linda\", \"linda\", \"linda\", \"linda\", \"lindo\", \"lindo\", \"lindo\", \"lindo\", \"lindo\", \"lindo\", \"local\", \"local\", \"local\", \"local\", \"local\", \"local\", \"localizacao\", \"localizacao\", \"localizacao\", \"localizacao\", \"localizado\", \"localizado\", \"localizado\", \"localizado\", \"localizado\", \"luca\", \"luca\", \"luca\", \"luca\", \"lugar\", \"lugar\", \"lugar\", \"lugar\", \"lugar\", \"lugar\", \"luxo\", \"luxo\", \"luxo\", \"luxo\", \"luxuoso\", \"luxuoso\", \"luxuoso\", \"luxuoso\", \"luxuoso\", \"magico\", \"magico\", \"magico\", \"magico\", \"magico\", \"magico\", \"magnifica\", \"magnifica\", \"magnifica\", \"magnifica\", \"magnifica\", \"magnifica\", \"magnifico\", \"magnifico\", \"magnifico\", \"magnifico\", \"magnifico\", \"magnifico\", \"manha\", \"manha\", \"manha\", \"manha\", \"manha\", \"manha\", \"manutencao\", \"manutencao\", \"manutencao\", \"mar\", \"mar\", \"mar\", \"mar\", \"mar\", \"maravilha\", \"maravilha\", \"maravilha\", \"maravilhosa\", \"maravilhosa\", \"maravilhosa\", \"maravilhosa\", \"maravilhosa\", \"maravilhosa\", \"maravilhoso\", \"maravilhoso\", \"maravilhoso\", \"maravilhoso\", \"maravilhoso\", \"maravilhoso\", \"melhor\", \"melhor\", \"melhor\", \"melhor\", \"melhor\", \"melhor\", \"melhorar\", \"melhorar\", \"melhorar\", \"mim\", \"mim\", \"mim\", \"mim\", \"mim\", \"momento\", \"momento\", \"momento\", \"momento\", \"momento\", \"momento\", \"mto\", \"mto\", \"mto\", \"mto\", \"mto\", \"muita\", \"muita\", \"muita\", \"muita\", \"muita\", \"muita\", \"nada\", \"nada\", \"nada\", \"nao\", \"nao\", \"nao\", \"natureza\", \"natureza\", \"natureza\", \"natureza\", \"natureza\", \"natureza\", \"negativo\", \"negativo\", \"negativo\", \"nest\", \"nest\", \"nest\", \"nest\", \"nest\", \"nest\", \"ninguem\", \"ninguem\", \"nome\", \"nome\", \"nome\", \"nome\", \"nome\", \"nome\", \"nota\", \"nota\", \"nota\", \"nota\", \"nota\", \"nota\", \"nunca\", \"nunca\", \"nunca\", \"obrigada\", \"obrigada\", \"obrigada\", \"onda\", \"onda\", \"onda\", \"onda\", \"onda\", \"onda\", \"opco\", \"opco\", \"opco\", \"opco\", \"opco\", \"organizado\", \"organizado\", \"organizado\", \"organizado\", \"otima\", \"otima\", \"otima\", \"otima\", \"otima\", \"otimo\", \"otimo\", \"otimo\", \"otimo\", \"otimo\", \"otimo\", \"out\", \"out\", \"out\", \"out\", \"outro\", \"outro\", \"outro\", \"outro\", \"outro\", \"paisagem\", \"paisagem\", \"paisagem\", \"paisagem\", \"paisagem\", \"palavra\", \"palavra\", \"palavra\", \"palavra\", \"palavra\", \"palavra\", \"paraben\", \"paraben\", \"paraben\", \"paraben\", \"paraben\", \"paraben\", \"parabenizar\", \"parabenizar\", \"parabenizar\", \"parabenizar\", \"paradisiaco\", \"paradisiaco\", \"paradisiaco\", \"paradisiaco\", \"paradisiaco\", \"paradisiaco\", \"paraiso\", \"paraiso\", \"paraiso\", \"paraiso\", \"paraiso\", \"parizia\", \"parizia\", \"parizia\", \"parizia\", \"parizia\", \"parizia\", \"passei\", \"passei\", \"passei\", \"passei\", \"passei\", \"passei\", \"pedro\", \"pedro\", \"pedro\", \"pedro\", \"pedro\", \"pedro\", \"pena\", \"pena\", \"pena\", \"pena\", \"pena\", \"pena\", \"pensao\", \"pensao\", \"pensao\", \"pensao\", \"pensao\", \"pensao\", \"pequena\", \"pequena\", \"pequena\", \"pequeno\", \"pequeno\", \"pequeno\", \"pequeno\", \"pequeno\", \"pequeno\", \"perfeito\", \"perfeito\", \"perfeito\", \"perfeito\", \"perfeito\", \"perfeito\", \"pertinho\", \"pertinho\", \"pertinho\", \"pertinho\", \"pessoa\", \"pessoa\", \"pessoa\", \"pessoa\", \"pessoa\", \"pessoa\", \"pessoal\", \"pessoal\", \"pessoal\", \"pessoal\", \"pessoal\", \"pimenta\", \"pimenta\", \"pimenta\", \"pimenta\", \"pimenta\", \"pimenta\", \"piscina\", \"piscina\", \"piscina\", \"piscina\", \"piscina\", \"piscina\", \"poi\", \"poi\", \"poi\", \"ponto\", \"ponto\", \"ponto\", \"ponto\", \"ponto\", \"ponto\", \"porem\", \"porem\", \"porem\", \"porqu\", \"porqu\", \"porqu\", \"porqu\", \"porto\", \"porto\", \"porto\", \"porto\", \"porto\", \"porto\", \"posso\", \"posso\", \"posso\", \"pouca\", \"pouca\", \"pouca\", \"pouco\", \"pouco\", \"pouco\", \"pra\", \"pra\", \"pra\", \"pra\", \"pra\", \"pra\", \"praia\", \"praia\", \"praia\", \"praia\", \"praia\", \"praia\", \"precisa\", \"precisa\", \"precisa\", \"preco\", \"preco\", \"preco\", \"preco\", \"preco\", \"prestativa\", \"prestativa\", \"prestativa\", \"prestativa\", \"prestativa\", \"prestativo\", \"prestativo\", \"prestativo\", \"prestativo\", \"prestativo\", \"primeiro\", \"primeiro\", \"primeiro\", \"primeiro\", \"primeiro\", \"princip\", \"princip\", \"princip\", \"proximo\", \"proximo\", \"proximo\", \"proximo\", \"proximo\", \"proximo\", \"qualidad\", \"qualidad\", \"qualidad\", \"qualidad\", \"qualidad\", \"qualidad\", \"qualquer\", \"qualquer\", \"qualquer\", \"qualquer\", \"quarto\", \"quarto\", \"quarto\", \"quarto\", \"quarto\", \"quarto\", \"quent\", \"quent\", \"quent\", \"quent\", \"quent\", \"quero\", \"quero\", \"quero\", \"quero\", \"quero\", \"quero\", \"recepcao\", \"recepcao\", \"recepcao\", \"recepcao\", \"recepcao\", \"recepcao\", \"receptivo\", \"receptivo\", \"receptivo\", \"receptivo\", \"receptivo\", \"reclamar\", \"reclamar\", \"reclamar\", \"reclamar\", \"reclamar\", \"reclamar\", \"recomendado\", \"recomendado\", \"recomendado\", \"recomendado\", \"recomendado\", \"recomendado\", \"recomendavel\", \"recomendavel\", \"recomendavel\", \"recomendavel\", \"recomendavel\", \"recomendavel\", \"recomendo\", \"recomendo\", \"recomendo\", \"recomendo\", \"recomendo\", \"recomendo\", \"recriacao\", \"recriacao\", \"recriacao\", \"recriacao\", \"recriacao\", \"recriacao\", \"requint\", \"requint\", \"requint\", \"requint\", \"requint\", \"reserva\", \"reserva\", \"resort\", \"resort\", \"resort\", \"resort\", \"resort\", \"resort\", \"restaurant\", \"restaurant\", \"restaurant\", \"restaurant\", \"restaurant\", \"restaurant\", \"rio\", \"rio\", \"rio\", \"rio\", \"rio\", \"rio\", \"ruim\", \"ruim\", \"ruim\", \"saboroso\", \"saboroso\", \"saboroso\", \"saboroso\", \"saboroso\", \"salgado\", \"salgado\", \"salgado\", \"salgado\", \"salgado\", \"sao\", \"sao\", \"sao\", \"sao\", \"sao\", \"sao\", \"saudad\", \"saudad\", \"saudad\", \"saudad\", \"saudad\", \"saudad\", \"sauna\", \"sauna\", \"sauna\", \"sauna\", \"sauna\", \"sauna\", \"segunda\", \"segunda\", \"segunda\", \"segunda\", \"semana\", \"semana\", \"semana\", \"semana\", \"semana\", \"sempr\", \"sempr\", \"sempr\", \"sempr\", \"sempr\", \"sempr\", \"sensacion\", \"sensacion\", \"sensacion\", \"sensacion\", \"sensacion\", \"sensacion\", \"servico\", \"servico\", \"servico\", \"servico\", \"servico\", \"servico\", \"shop\", \"shop\", \"shop\", \"show\", \"show\", \"show\", \"show\", \"show\", \"show\", \"simpatica\", \"simpatica\", \"simpatica\", \"simpatica\", \"simpatica\", \"simpatico\", \"simpatico\", \"simpatico\", \"simpatico\", \"simpatico\", \"simplesment\", \"simplesment\", \"simplesment\", \"simplesment\", \"simplesment\", \"simplesment\", \"sobr\", \"sobr\", \"sobr\", \"sofisticacao\", \"sofisticacao\", \"sofisticacao\", \"sofisticacao\", \"sofisticacao\", \"solicito\", \"solicito\", \"solicito\", \"solicito\", \"solicito\", \"sonho\", \"sonho\", \"sonho\", \"sonho\", \"sonho\", \"sossegado\", \"sossegado\", \"sossegado\", \"sossegado\", \"sossegado\", \"suco\", \"suco\", \"sul\", \"sul\", \"sul\", \"sul\", \"super\", \"super\", \"super\", \"super\", \"super\", \"super\", \"tambem\", \"tambem\", \"tambem\", \"tambem\", \"tambem\", \"tambem\", \"tao\", \"tao\", \"tao\", \"tao\", \"tao\", \"tao\", \"tia\", \"tia\", \"tia\", \"tia\", \"tia\", \"tia\", \"tio\", \"tio\", \"tio\", \"tio\", \"tio\", \"toda\", \"toda\", \"toda\", \"toda\", \"toda\", \"toda\", \"todo\", \"todo\", \"todo\", \"todo\", \"todo\", \"todo\", \"top\", \"top\", \"top\", \"top\", \"top\", \"tradicion\", \"tradicion\", \"tradicion\", \"tradicion\", \"tradicion\", \"tranquilo\", \"tranquilo\", \"tranquilo\", \"tranquilo\", \"tranquilo\", \"tudo\", \"tudo\", \"tudo\", \"tudo\", \"tudo\", \"tudo\", \"turistico\", \"turistico\", \"turistico\", \"turistico\", \"turistico\", \"turistico\", \"vale\", \"vale\", \"vale\", \"vale\", \"vale\", \"vale\", \"variado\", \"variado\", \"variado\", \"variado\", \"variado\", \"variedad\", \"variedad\", \"variedad\", \"variedad\", \"variedad\", \"vez\", \"vez\", \"vez\", \"vez\", \"vibraco\", \"vibraco\", \"vibraco\", \"vibraco\", \"vibraco\", \"vibraco\", \"vista\", \"vista\", \"vista\", \"vista\", \"vista\", \"voce\", \"voce\", \"voce\", \"voce\", \"voce\", \"voce\", \"voltar\", \"voltar\", \"voltar\", \"voltar\", \"voltar\", \"voltar\", \"voltarei\", \"voltarei\", \"voltarei\", \"voltarei\", \"voltarei\", \"voltarei\", \"voltaremo\", \"voltaremo\", \"voltaremo\", \"voltaremo\", \"voltaremo\", \"voltaremo\"]}, \"R\": 30, \"lambda.step\": 0.01, \"plot.opts\": {\"xlab\": \"PC1\", \"ylab\": \"PC2\"}, \"topic.order\": [3, 6, 2, 5, 1, 4]};\n",
       "\n",
       "function LDAvis_load_lib(url, callback){\n",
       "  var s = document.createElement('script');\n",
       "  s.src = url;\n",
       "  s.async = true;\n",
       "  s.onreadystatechange = s.onload = callback;\n",
       "  s.onerror = function(){console.warn(\"failed to load library \" + url);};\n",
       "  document.getElementsByTagName(\"head\")[0].appendChild(s);\n",
       "}\n",
       "\n",
       "if(typeof(LDAvis) !== \"undefined\"){\n",
       "   // already loaded: just create the visualization\n",
       "   !function(LDAvis){\n",
       "       new LDAvis(\"#\" + \"ldavis_el445623558659924329738988842\", ldavis_el445623558659924329738988842_data);\n",
       "   }(LDAvis);\n",
       "}else if(typeof define === \"function\" && define.amd){\n",
       "   // require.js is available: use it to load d3/LDAvis\n",
       "   require.config({paths: {d3: \"https://d3js.org/d3.v5\"}});\n",
       "   require([\"d3\"], function(d3){\n",
       "      window.d3 = d3;\n",
       "      LDAvis_load_lib(\"https://cdn.jsdelivr.net/gh/bmabey/pyLDAvis@3.4.0/pyLDAvis/js/ldavis.v3.0.0.js\", function(){\n",
       "        new LDAvis(\"#\" + \"ldavis_el445623558659924329738988842\", ldavis_el445623558659924329738988842_data);\n",
       "      });\n",
       "    });\n",
       "}else{\n",
       "    // require.js not available: dynamically load d3 & LDAvis\n",
       "    LDAvis_load_lib(\"https://d3js.org/d3.v5.js\", function(){\n",
       "         LDAvis_load_lib(\"https://cdn.jsdelivr.net/gh/bmabey/pyLDAvis@3.4.0/pyLDAvis/js/ldavis.v3.0.0.js\", function(){\n",
       "                 new LDAvis(\"#\" + \"ldavis_el445623558659924329738988842\", ldavis_el445623558659924329738988842_data);\n",
       "            })\n",
       "         });\n",
       "}\n",
       "</script>"
      ],
      "text/plain": [
       "<IPython.core.display.HTML object>"
      ]
     },
     "execution_count": 162,
     "metadata": {},
     "output_type": "execute_result"
    }
   ],
   "source": [
    "print(\"LDA visualization\")\n",
    "lda_visualization = gensimvis.prepare(lda_model, gensim_corpus, gensim_dictionary)\n",
    "pyLDAvis.display(lda_visualization)"
   ]
  },
  {
   "cell_type": "code",
   "execution_count": 138,
   "metadata": {},
   "outputs": [],
   "source": [
    "def print_topics_formatted(model, num_words=10):\n",
    "    topics = model.print_topics(num_words=num_words)\n",
    "    for i, topic in enumerate(topics):\n",
    "        t_str = topic[1]\n",
    "        t_str = re.sub(r\"[^a-zA-Z]\", \" \", t_str)\n",
    "        t_str = re.sub(r\"\\s+\", \" \", t_str)\n",
    "        t_str = f\"Tópico {i}: {t_str}\"\n",
    "        print(t_str)\n",
    "\n",
    "def print_topics(model, num_words=10):\n",
    "    topics = model.print_topics(num_words=num_words)\n",
    "    for topic in topics:\n",
    "        print(topic)"
   ]
  },
  {
   "cell_type": "code",
   "execution_count": 142,
   "metadata": {},
   "outputs": [
    {
     "name": "stdout",
     "output_type": "stream",
     "text": [
      "LDA topics\n",
      "Tópico 0:  excelent bom boa atendimento hotel otima servico estrutura comida localizacao praia tudo qualidad princip acomodaco instalaco legal atencao infraestrutura local \n",
      "Tópico 1:  lugar otimo maravilhoso atendimento excelent equip maravilhosa nota todo recomendo familia paraben restaurant tudo super tia comida tio top show \n",
      "Tópico 2:  piscina nao quarto sao hotel restaurant praia crianca cafe comida manha pouco resort ponto muita area opco boa bem tambem \n",
      "Tópico 3:  melhor perfeito incrivel hotel experiencia espetacular amei tudo vista linda copacabana resort rio porto demai simplesment paraiso luxo brasil sonho \n",
      "Tópico 4:  bem funcionario lindo cafe manha hotel quarto atencioso super limpo educado sao agradavel ambient bonito aconchegant sensacion todo local prestativo \n",
      "Tópico 5:  nao hotel dia todo voce ate pra tudo hosped pessoa recepcao funcionario sempr ano vez aqui outro lugar ficar fazer \n"
     ]
    }
   ],
   "source": [
    "# Imprimindo tópicos encontrados\n",
    "print(\"LDA topics\")\n",
    "print_topics_formatted(lda_model, num_words=20)"
   ]
  },
  {
   "cell_type": "code",
   "execution_count": 147,
   "metadata": {},
   "outputs": [],
   "source": [
    "lda_topics_chat_gpt = {\n",
    "0:\"Qualidade e conforto em hotel com ótimo atendimento\",\n",
    "1:\"Excelente atendimento e diversão em família no resort\",\n",
    "2:\"Opções de lazer e variedade de serviços em hotel com piscina\",\n",
    "3:\"Experiência incrível em hotel de luxo com vistas deslumbrantes\",\n",
    "4:\"Aconchego, limpeza e atendimento atencioso em hotel acolhedor\",\n",
    "5:\"Flexibilidade e tranquilidade para uma estadia perfeita em qualquer lugar\",\n",
    "}"
   ]
  },
  {
   "cell_type": "code",
   "execution_count": 140,
   "metadata": {},
   "outputs": [
    {
     "name": "stdout",
     "output_type": "stream",
     "text": [
      "HDP topics\n",
      "Tópico 0:  nao hotel quarto bem bom piscina atendimento sao excelent cafe\n",
      "Tópico 1:  bom hotel atendimento excelent nao quarto lugar otimo bem boa\n",
      "Tópico 2:  hotel bom atendimento excelent nao lugar quarto otimo bem boa\n",
      "Tópico 3:  bom hotel excelent atendimento nao lugar quarto otimo bem boa\n",
      "Tópico 4:  bom excelent atendimento hotel lugar otimo nao quarto bem boa\n",
      "Tópico 5:  bom excelent atendimento hotel lugar otimo nao quarto bem boa\n",
      "Tópico 6:  bom excelent atendimento hotel lugar otimo nao quarto bem boa\n",
      "Tópico 7:  bom excelent atendimento hotel lugar otimo nao quarto bem boa\n",
      "Tópico 8:  bom excelent atendimento hotel lugar otimo nao quarto boa bem\n",
      "Tópico 9:  bom excelent atendimento hotel lugar otimo nao quarto bem boa\n",
      "Tópico 10:  bom excelent atendimento hotel lugar otimo nao quarto boa bem\n",
      "Tópico 11:  bom excelent atendimento hotel lugar otimo nao quarto bem boa\n",
      "Tópico 12:  bom excelent atendimento hotel lugar otimo nao quarto boa bem\n",
      "Tópico 13:  bom excelent atendimento hotel lugar otimo nao quarto boa bem\n",
      "Tópico 14:  bom excelent atendimento hotel lugar otimo nao quarto maravilhoso boa\n",
      "Tópico 15:  bom excelent atendimento hotel lugar otimo nao quarto boa maravilhoso\n",
      "Tópico 16:  bom excelent atendimento hotel lugar otimo nao quarto boa maravilhoso\n",
      "Tópico 17:  bom excelent atendimento hotel lugar otimo nao quarto boa maravilhoso\n",
      "Tópico 18:  bom excelent atendimento hotel lugar otimo nao quarto maravilhoso boa\n",
      "Tópico 19:  bom excelent atendimento hotel lugar otimo quarto nao boa maravilhoso\n"
     ]
    }
   ],
   "source": [
    "# Imprimindo tópicos encontrados\n",
    "print(\"HDP topics\")\n",
    "print_topics_formatted(hdp_model)"
   ]
  },
  {
   "cell_type": "code",
   "execution_count": 182,
   "metadata": {},
   "outputs": [
    {
     "data": {
      "text/plain": [
       "lda_0                                                             0.20768\n",
       "lda_1                                                            0.015508\n",
       "lda_2                                                            0.471985\n",
       "lda_3                                                            0.014579\n",
       "lda_4                                                            0.014935\n",
       "lda_5                                                            0.275312\n",
       "lda_first_topic                                                         2\n",
       "lda_first_topic_name    Opções de lazer e variedade de serviços em hot...\n",
       "dtype: object"
      ]
     },
     "execution_count": 182,
     "metadata": {},
     "output_type": "execute_result"
    }
   ],
   "source": [
    "# Definindo função para atribuir topicos ao documento\n",
    "def get_topics(tokens, model=lda_model, topic_names:dict = {}, prefix=\"lda_\"):\n",
    "    doc_bow = gensim_dictionary.doc2bow(tokens)\n",
    "    doc_topics_list = model[doc_bow]\n",
    "    doc_topics = {str(topic_id):topic_prob for topic_id, topic_prob in doc_topics_list}\n",
    "    doc_topics[\"first_topic\"] = sorted(doc_topics_list, key=lambda x:x[1], reverse=1)[0][0]\n",
    "    doc_topics[\"first_topic_name\"] = topic_names.get(doc_topics[\"first_topic\"], None)\n",
    "    result = pd.Series(doc_topics)\n",
    "    result = result.add_prefix(prefix)\n",
    "    return result\n",
    "\n",
    "get_topics(text_tokens_flat.iloc[2], model=lda_model, topic_names=lda_topics_chat_gpt)"
   ]
  },
  {
   "cell_type": "code",
   "execution_count": 187,
   "metadata": {},
   "outputs": [
    {
     "name": "stderr",
     "output_type": "stream",
     "text": [
      "100%|██████████| 150774/150774 [02:08<00:00, 1173.29it/s]\n"
     ]
    }
   ],
   "source": [
    "# df_prep.loc[(~df_prep[\"text_na\"]),[\"lda_0\",\"lda_1\",\"lda_2\",\"lda_3\",\"lda_4\",\"lda_5\",\"lda_first_topic\",\"lda_first_topic_name\"]] = \\\n",
    "text_topics = \\\n",
    "    df_prep.loc[(~df_prep[\"text_na\"]),[\"text_tokens_flat\"]].progress_apply(\n",
    "        lambda x: get_topics(x.text_tokens_flat, model=lda_model, topic_names=lda_topics_chat_gpt),\n",
    "        axis=1,\n",
    "        result_type=\"expand\",\n",
    "    ).fillna(0)"
   ]
  },
  {
   "cell_type": "code",
   "execution_count": 188,
   "metadata": {},
   "outputs": [],
   "source": [
    "df_prep.loc[(~df_prep[\"text_na\"]),[\"lda_0\",\"lda_1\",\"lda_2\",\"lda_3\",\"lda_4\",\"lda_5\",\"lda_first_topic\",\"lda_first_topic_name\"]] = \\\n",
    "    text_topics"
   ]
  },
  {
   "cell_type": "code",
   "execution_count": 193,
   "metadata": {},
   "outputs": [
    {
     "data": {
      "text/html": [
       "<div>\n",
       "<style scoped>\n",
       "    .dataframe tbody tr th:only-of-type {\n",
       "        vertical-align: middle;\n",
       "    }\n",
       "\n",
       "    .dataframe tbody tr th {\n",
       "        vertical-align: top;\n",
       "    }\n",
       "\n",
       "    .dataframe thead th {\n",
       "        text-align: right;\n",
       "    }\n",
       "</style>\n",
       "<table border=\"1\" class=\"dataframe\">\n",
       "  <thead>\n",
       "    <tr style=\"text-align: right;\">\n",
       "      <th></th>\n",
       "      <th>lda_0</th>\n",
       "      <th>lda_1</th>\n",
       "      <th>lda_2</th>\n",
       "      <th>lda_3</th>\n",
       "      <th>lda_4</th>\n",
       "      <th>lda_5</th>\n",
       "      <th>lda_first_topic</th>\n",
       "      <th>lda_first_topic_name</th>\n",
       "    </tr>\n",
       "  </thead>\n",
       "  <tbody>\n",
       "    <tr>\n",
       "      <th>0</th>\n",
       "      <td>0.185793</td>\n",
       "      <td>0.010707</td>\n",
       "      <td>0.710173</td>\n",
       "      <td>0.010427</td>\n",
       "      <td>0.071751</td>\n",
       "      <td>0.011150</td>\n",
       "      <td>2.0</td>\n",
       "      <td>Opções de lazer e variedade de serviços em hot...</td>\n",
       "    </tr>\n",
       "    <tr>\n",
       "      <th>1</th>\n",
       "      <td>0.000000</td>\n",
       "      <td>0.094988</td>\n",
       "      <td>0.280340</td>\n",
       "      <td>0.000000</td>\n",
       "      <td>0.000000</td>\n",
       "      <td>0.598752</td>\n",
       "      <td>5.0</td>\n",
       "      <td>Flexibilidade e tranquilidade para uma estadia...</td>\n",
       "    </tr>\n",
       "    <tr>\n",
       "      <th>2</th>\n",
       "      <td>0.207678</td>\n",
       "      <td>0.015509</td>\n",
       "      <td>0.471994</td>\n",
       "      <td>0.014579</td>\n",
       "      <td>0.014935</td>\n",
       "      <td>0.275304</td>\n",
       "      <td>2.0</td>\n",
       "      <td>Opções de lazer e variedade de serviços em hot...</td>\n",
       "    </tr>\n",
       "    <tr>\n",
       "      <th>3</th>\n",
       "      <td>0.170221</td>\n",
       "      <td>0.011083</td>\n",
       "      <td>0.279901</td>\n",
       "      <td>0.114263</td>\n",
       "      <td>0.010541</td>\n",
       "      <td>0.413991</td>\n",
       "      <td>5.0</td>\n",
       "      <td>Flexibilidade e tranquilidade para uma estadia...</td>\n",
       "    </tr>\n",
       "    <tr>\n",
       "      <th>6</th>\n",
       "      <td>0.167963</td>\n",
       "      <td>0.014956</td>\n",
       "      <td>0.185602</td>\n",
       "      <td>0.016846</td>\n",
       "      <td>0.015106</td>\n",
       "      <td>0.599528</td>\n",
       "      <td>5.0</td>\n",
       "      <td>Flexibilidade e tranquilidade para uma estadia...</td>\n",
       "    </tr>\n",
       "  </tbody>\n",
       "</table>\n",
       "</div>"
      ],
      "text/plain": [
       "      lda_0     lda_1     lda_2     lda_3     lda_4     lda_5  \\\n",
       "0  0.185793  0.010707  0.710173  0.010427  0.071751  0.011150   \n",
       "1  0.000000  0.094988  0.280340  0.000000  0.000000  0.598752   \n",
       "2  0.207678  0.015509  0.471994  0.014579  0.014935  0.275304   \n",
       "3  0.170221  0.011083  0.279901  0.114263  0.010541  0.413991   \n",
       "6  0.167963  0.014956  0.185602  0.016846  0.015106  0.599528   \n",
       "\n",
       "   lda_first_topic                               lda_first_topic_name  \n",
       "0              2.0  Opções de lazer e variedade de serviços em hot...  \n",
       "1              5.0  Flexibilidade e tranquilidade para uma estadia...  \n",
       "2              2.0  Opções de lazer e variedade de serviços em hot...  \n",
       "3              5.0  Flexibilidade e tranquilidade para uma estadia...  \n",
       "6              5.0  Flexibilidade e tranquilidade para uma estadia...  "
      ]
     },
     "execution_count": 193,
     "metadata": {},
     "output_type": "execute_result"
    }
   ],
   "source": [
    "df_prep.loc[(~df_prep[\"text_na\"]),[\"lda_0\",\"lda_1\",\"lda_2\",\"lda_3\",\"lda_4\",\"lda_5\",\"lda_first_topic\",\"lda_first_topic_name\"]].head()"
   ]
  },
  {
   "cell_type": "code",
   "execution_count": 194,
   "metadata": {},
   "outputs": [
    {
     "name": "stdout",
     "output_type": "stream",
     "text": [
      "data/processed/df_topics_2023-07-09_23-48-54_286392.pq\n"
     ]
    }
   ],
   "source": [
    "save_df(df_prep, \"data/processed\", \"df_topics\")"
   ]
  }
 ],
 "metadata": {
  "kernelspec": {
   "display_name": "Python 3.9.16 ('pgc')",
   "language": "python",
   "name": "python3"
  },
  "language_info": {
   "codemirror_mode": {
    "name": "ipython",
    "version": 3
   },
   "file_extension": ".py",
   "mimetype": "text/x-python",
   "name": "python",
   "nbconvert_exporter": "python",
   "pygments_lexer": "ipython3",
   "version": "3.9.12"
  },
  "orig_nbformat": 4,
  "vscode": {
   "interpreter": {
    "hash": "e4ff42775fae78e322dc70fb421ea3572f7be2c7bf0f4a5014dd6b6ba7793779"
   }
  }
 },
 "nbformat": 4,
 "nbformat_minor": 2
}

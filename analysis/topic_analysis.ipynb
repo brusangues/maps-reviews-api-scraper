{
 "cells": [
  {
   "attachments": {},
   "cell_type": "markdown",
   "metadata": {},
   "source": [
    "# 1. Setup"
   ]
  },
  {
   "cell_type": "code",
   "execution_count": 1,
   "metadata": {},
   "outputs": [],
   "source": [
    "%load_ext autoreload"
   ]
  },
  {
   "cell_type": "code",
   "execution_count": 2,
   "metadata": {},
   "outputs": [],
   "source": [
    "%autoreload 2\n",
    "import json\n",
    "import logging\n",
    "import os\n",
    "from datetime import datetime\n",
    "from pathlib import Path\n",
    "\n",
    "import pandas as pd\n",
    "import regex as re\n",
    "import typer\n",
    "from dateutils import relativedelta\n",
    "from unidecode import unidecode\n",
    "\n",
    "from analysis.config import *\n",
    "from analysis.preprocessing import map_progress, tokenizer_lemma\n",
    "from analysis.utils import *\n",
    "from src.custom_logger import get_logger\n",
    "\n",
    "# Removendo aviso de debug\n",
    "os.environ[\"PYDEVD_WARN_SLOW_RESOLVE_TIMEOUT\"] = \"3000\"\n",
    "# Removendo limitação de print de dfs\n",
    "# pd.set_option(\"display.max_rows\", 500)\n",
    "# pd.set_option(\"display.max_columns\", 500)\n",
    "# pd.set_option(\"display.width\", 1000)\n",
    "\n",
    "# Caminho da pasta contendo os csvs\n",
    "data_path = \"data/2023/01/19/\"\n",
    "places_file = \"data/places.csv\"\n",
    "input_file = \"input/hotels_23_01_19.csv\"\n",
    "reports_folder = Path(\"./reports\")\n",
    "Path(reports_folder).mkdir(exist_ok=True)\n",
    "data_folder = Path(\"./data/prep\")\n",
    "Path(data_folder).mkdir(exist_ok=True)\n"
   ]
  },
  {
   "cell_type": "code",
   "execution_count": 3,
   "metadata": {},
   "outputs": [],
   "source": [
    "from tqdm import tqdm\n",
    "tqdm.pandas()"
   ]
  },
  {
   "cell_type": "code",
   "execution_count": 4,
   "metadata": {},
   "outputs": [],
   "source": [
    "from itertools import chain\n",
    "\n",
    "join_str = lambda x: \"\\n\".join(list(x)) if x is not None else \"\"\n",
    "join_list = lambda x: list(chain.from_iterable(x))"
   ]
  },
  {
   "attachments": {},
   "cell_type": "markdown",
   "metadata": {},
   "source": [
    "# 2. Stats"
   ]
  },
  {
   "attachments": {},
   "cell_type": "markdown",
   "metadata": {},
   "source": [
    "```\n",
    "Hotéis         50\n",
    "Avaliações 150774\n",
    "Sentenças  329235\n",
    "Tokens    1633318\n",
    "```"
   ]
  },
  {
   "cell_type": "code",
   "execution_count": 6,
   "metadata": {},
   "outputs": [],
   "source": [
    "df_prep = pd.read_parquet(\"data/prep/df_text_prep_2023-06-22_20-52-11_175568.pq\")\n",
    "df_hotels = pd.read_parquet(\"data/prep/df_hotels_2023-06-22_20-52-11_175568.pq\")"
   ]
  },
  {
   "cell_type": "code",
   "execution_count": 22,
   "metadata": {},
   "outputs": [
    {
     "data": {
      "text/plain": [
       "50"
      ]
     },
     "execution_count": 22,
     "metadata": {},
     "output_type": "execute_result"
    }
   ],
   "source": [
    "n_hotels = df_prep.name.drop_duplicates().count()\n",
    "n_hotels"
   ]
  },
  {
   "cell_type": "code",
   "execution_count": 16,
   "metadata": {},
   "outputs": [],
   "source": [
    "df_prep[\"text_na\"] = (df_prep.text == '') | (df_prep.text.isna())"
   ]
  },
  {
   "cell_type": "code",
   "execution_count": 23,
   "metadata": {},
   "outputs": [
    {
     "data": {
      "text/plain": [
       "150774"
      ]
     },
     "execution_count": 23,
     "metadata": {},
     "output_type": "execute_result"
    }
   ],
   "source": [
    "n_reviews = (~df_prep[\"text_na\"]).sum()\n",
    "n_reviews"
   ]
  },
  {
   "cell_type": "code",
   "execution_count": 31,
   "metadata": {},
   "outputs": [
    {
     "data": {
      "text/plain": [
       "329235"
      ]
     },
     "execution_count": 31,
     "metadata": {},
     "output_type": "execute_result"
    }
   ],
   "source": [
    "n_sentences = df_prep[(~df_prep[\"text_na\"])].text_tokens.apply(len).sum()\n",
    "n_sentences"
   ]
  },
  {
   "cell_type": "code",
   "execution_count": 28,
   "metadata": {},
   "outputs": [
    {
     "data": {
      "text/plain": [
       "1633318"
      ]
     },
     "execution_count": 28,
     "metadata": {},
     "output_type": "execute_result"
    }
   ],
   "source": [
    "n_tokens = df_prep.text_tokens.apply(join_list).apply(len).sum()\n",
    "n_tokens"
   ]
  },
  {
   "attachments": {},
   "cell_type": "markdown",
   "metadata": {},
   "source": [
    "# 3. Corpus"
   ]
  },
  {
   "cell_type": "code",
   "execution_count": 151,
   "metadata": {},
   "outputs": [
    {
     "data": {
      "text/plain": [
       "(150774,)"
      ]
     },
     "execution_count": 151,
     "metadata": {},
     "output_type": "execute_result"
    }
   ],
   "source": [
    "import numpy as np\n",
    "\n",
    "# Review level documents\n",
    "text_tokens_flat = df_prep[(~df_prep[\"text_na\"])].text_tokens.apply(join_list)\n",
    "df_prep.loc[(~df_prep[\"text_na\"]),\"text_tokens_flat\"] = text_tokens_flat\n",
    "\n",
    "# Hotel level documents\n",
    "# text_tokens_flat = df_hotels.text_tokens_sum.apply(join_list)\n",
    "\n",
    "text_tokens_flat.shape"
   ]
  },
  {
   "cell_type": "code",
   "execution_count": 34,
   "metadata": {},
   "outputs": [
    {
     "data": {
      "text/plain": [
       "0    [bom, preco, otima, localizacao, atendimento, ...\n",
       "1    [nunca, quarto, hotel, tao, sujo, vida, lencol...\n",
       "2    [hotel, baixissima, qualidad, atendimento, aco...\n",
       "3    [pessimo, atendimento, classico, rio, janeiro,...\n",
       "6    [experiencia, nao, boa, ness, hotel, propagand...\n",
       "Name: text_tokens, dtype: object"
      ]
     },
     "execution_count": 34,
     "metadata": {},
     "output_type": "execute_result"
    }
   ],
   "source": [
    "text_tokens_flat.head()"
   ]
  },
  {
   "cell_type": "code",
   "execution_count": 35,
   "metadata": {},
   "outputs": [
    {
     "name": "stderr",
     "output_type": "stream",
     "text": [
      "100%|██████████| 150774/150774 [00:01<00:00, 107786.02it/s]\n"
     ]
    }
   ],
   "source": [
    "from gensim import corpora\n",
    "\n",
    "corpus = text_tokens_flat.to_list()\n",
    "gensim_dictionary = corpora.Dictionary(corpus)\n",
    "\n",
    "text_tokens_corpus = text_tokens_flat.progress_apply(lambda x:gensim_dictionary.doc2bow(x, allow_update=False))\n",
    "gensim_corpus = text_tokens_corpus.to_list()"
   ]
  },
  {
   "attachments": {},
   "cell_type": "markdown",
   "metadata": {},
   "source": [
    "# 4. Topic Modeling"
   ]
  },
  {
   "cell_type": "code",
   "execution_count": 36,
   "metadata": {},
   "outputs": [],
   "source": [
    "# Treinando modelo\n",
    "import gensim\n",
    "from gensim.models import CoherenceModel\n",
    "\n",
    "hdp_model = gensim.models.hdpmodel.HdpModel(\n",
    "    corpus=gensim_corpus, \n",
    "    id2word=gensim_dictionary, \n",
    "    T=30\n",
    ")"
   ]
  },
  {
   "cell_type": "code",
   "execution_count": 38,
   "metadata": {},
   "outputs": [],
   "source": [
    "lda_model = gensim.models.ldamodel.LdaModel(\n",
    "    corpus=gensim_corpus, \n",
    "    num_topics=10, \n",
    "    id2word=gensim_dictionary, \n",
    "    passes=10,\n",
    "    # per_word_topics=True\n",
    ")"
   ]
  },
  {
   "cell_type": "code",
   "execution_count": 39,
   "metadata": {},
   "outputs": [
    {
     "name": "stdout",
     "output_type": "stream",
     "text": [
      "LDA Perplexity: -7.826251888663526\n"
     ]
    }
   ],
   "source": [
    "def perplexity_score(model: gensim.models.ldamodel.LdaModel):\n",
    "    return model.log_perplexity(gensim_corpus)\n",
    "\n",
    "print('LDA Perplexity:', perplexity_score(lda_model))"
   ]
  },
  {
   "cell_type": "code",
   "execution_count": 40,
   "metadata": {},
   "outputs": [
    {
     "name": "stdout",
     "output_type": "stream",
     "text": [
      "u_mass\n",
      "LDA Coherence Score: -3.4015809945855375\n",
      "HDP Coherence Score: -2.119564010808948\n"
     ]
    }
   ],
   "source": [
    "def coherence_score(model, coherence='u_mass'):\n",
    "    coherence_score_model = CoherenceModel(model=model, texts=corpus, dictionary=gensim_dictionary, coherence=coherence)\n",
    "    return coherence_score_model.get_coherence()\n",
    "\n",
    "print(\"u_mass\")\n",
    "print('LDA Coherence Score:', coherence_score(lda_model))\n",
    "print('HDP Coherence Score:', coherence_score(hdp_model))"
   ]
  },
  {
   "cell_type": "code",
   "execution_count": null,
   "metadata": {},
   "outputs": [
    {
     "data": {
      "text/plain": [
       "['lda_model.joblib']"
      ]
     },
     "execution_count": 16,
     "metadata": {},
     "output_type": "execute_result"
    }
   ],
   "source": [
    "# inspect the size of a python object in bytes\n",
    "import joblib\n",
    "joblib.dump(lda_model, \"lda_model.joblib\")\n",
    "# 6mb"
   ]
  },
  {
   "cell_type": "code",
   "execution_count": 50,
   "metadata": {},
   "outputs": [],
   "source": [
    "def train_and_eval(n, alpha, beta):\n",
    "    lda_model = gensim.models.ldamodel.LdaModel(\n",
    "        corpus=gensim_corpus, \n",
    "        id2word=gensim_dictionary, \n",
    "        passes=4,\n",
    "        # chunksize=100,\n",
    "        # per_word_topics=True,\n",
    "        num_topics=n, \n",
    "        alpha=alpha,\n",
    "        eta=beta,\n",
    "    )\n",
    "    p = perplexity_score(lda_model)\n",
    "    c = coherence_score(lda_model)\n",
    "    return lda_model, {\"n\":n, \"alpha\":alpha, \"beta\":beta, \"perplexity\":p, \"coherence\":c}"
   ]
  },
  {
   "cell_type": "code",
   "execution_count": 196,
   "metadata": {},
   "outputs": [
    {
     "name": "stdout",
     "output_type": "stream",
     "text": [
      "len(combinations_list) 27\n"
     ]
    },
    {
     "name": "stderr",
     "output_type": "stream",
     "text": [
      "  4%|▎         | 1/27 [03:09<1:22:02, 189.33s/it]"
     ]
    },
    {
     "name": "stdout",
     "output_type": "stream",
     "text": [
      "best_result {'n': 8, 'alpha': 0.3, 'beta': 0.7, 'perplexity': -7.434020834992561, 'coherence': -3.2640468132661393}\n"
     ]
    },
    {
     "name": "stderr",
     "output_type": "stream",
     "text": [
      " 15%|█▍        | 4/27 [12:45<1:13:54, 192.81s/it]"
     ]
    },
    {
     "name": "stdout",
     "output_type": "stream",
     "text": [
      "best_result {'n': 8, 'alpha': 0.3, 'beta': 'auto', 'perplexity': -7.505636275806253, 'coherence': -3.1891454094606977}\n"
     ]
    },
    {
     "name": "stderr",
     "output_type": "stream",
     "text": [
      " 26%|██▌       | 7/27 [22:17<1:03:40, 191.02s/it]"
     ]
    },
    {
     "name": "stdout",
     "output_type": "stream",
     "text": [
      "best_result {'n': 6, 'alpha': 0.3, 'beta': 'auto', 'perplexity': -7.368665734611452, 'coherence': -2.870710258417413}\n"
     ]
    },
    {
     "name": "stderr",
     "output_type": "stream",
     "text": [
      " 30%|██▉       | 8/27 [24:54<57:04, 180.25s/it]  "
     ]
    },
    {
     "name": "stdout",
     "output_type": "stream",
     "text": [
      "best_result {'n': 6, 'alpha': 0.7, 'beta': 'auto', 'perplexity': -7.315673865818428, 'coherence': -2.859783464141598}\n"
     ]
    },
    {
     "name": "stderr",
     "output_type": "stream",
     "text": [
      " 59%|█████▉    | 16/27 [47:45<33:03, 180.35s/it]"
     ]
    },
    {
     "name": "stdout",
     "output_type": "stream",
     "text": [
      "best_result {'n': 6, 'alpha': 0.3, 'beta': 0.3, 'perplexity': -7.310489535673464, 'coherence': -2.821091207319128}\n"
     ]
    },
    {
     "name": "stderr",
     "output_type": "stream",
     "text": [
      " 67%|██████▋   | 18/27 [53:15<25:59, 173.32s/it]"
     ]
    },
    {
     "name": "stdout",
     "output_type": "stream",
     "text": [
      "best_result {'n': 6, 'alpha': 'symmetric', 'beta': 0.3, 'perplexity': -7.323800558753622, 'coherence': -2.73905342110209}\n"
     ]
    },
    {
     "name": "stderr",
     "output_type": "stream",
     "text": [
      " 85%|████████▌ | 23/27 [1:06:34<10:43, 160.94s/it]"
     ]
    },
    {
     "name": "stdout",
     "output_type": "stream",
     "text": [
      "best_result {'n': 6, 'alpha': 'symmetric', 'beta': 0.7, 'perplexity': -7.37209934903147, 'coherence': -2.7324706703524178}\n"
     ]
    },
    {
     "name": "stderr",
     "output_type": "stream",
     "text": [
      "100%|██████████| 27/27 [1:17:03<00:00, 171.25s/it]\n"
     ]
    },
    {
     "data": {
      "text/plain": [
       "['results/best_model_2.joblib']"
      ]
     },
     "execution_count": 196,
     "metadata": {},
     "output_type": "execute_result"
    }
   ],
   "source": [
    "import itertools\n",
    "import pyperclip\n",
    "import random\n",
    "import joblib\n",
    "#list containing various hyperparameters\n",
    "grid = {\n",
    "    \"n\":[6,8,10],\n",
    "    # \"n\":[6,10,14,18,20],\n",
    "    \"alpha\":['symmetric',0.3,0.7],\n",
    "    \"beta\":['auto',0.3,0.7],\n",
    "}\n",
    "\n",
    "\n",
    "combinations_list = list(itertools.product(*grid.values()))\n",
    "random.shuffle(combinations_list)\n",
    "l = len(combinations_list)\n",
    "print(\"len(combinations_list)\", l)\n",
    "\n",
    "# EARLY_STOP_CLIPBOARD_STRING\n",
    "\n",
    "results = []\n",
    "best_result = None\n",
    "best_model = None\n",
    "for i, params in tqdm(enumerate(combinations_list), total=l):\n",
    "    model, result = train_and_eval(*params)\n",
    "    results.append(result)\n",
    "    if best_result is None or results[-1][\"coherence\"] > best_result[\"coherence\"]:\n",
    "        best_result = results[-1]\n",
    "        best_model = model\n",
    "        print(\"best_result\", results[-1])\n",
    "    try:\n",
    "        if pyperclip.paste() == \"STOP_CLIPBOARD_STRING\":\n",
    "            print(\"Early stop via clipboard!\")\n",
    "            break\n",
    "    except:\n",
    "        pass\n",
    "\n",
    "joblib.dump(results, \"results/results_2.joblib\")\n",
    "joblib.dump(best_model, \"results/best_model_2.joblib\")"
   ]
  },
  {
   "attachments": {},
   "cell_type": "markdown",
   "metadata": {},
   "source": [
    "# 5. Results"
   ]
  },
  {
   "cell_type": "code",
   "execution_count": 197,
   "metadata": {},
   "outputs": [
    {
     "data": {
      "text/html": [
       "<div>\n",
       "<style scoped>\n",
       "    .dataframe tbody tr th:only-of-type {\n",
       "        vertical-align: middle;\n",
       "    }\n",
       "\n",
       "    .dataframe tbody tr th {\n",
       "        vertical-align: top;\n",
       "    }\n",
       "\n",
       "    .dataframe thead th {\n",
       "        text-align: right;\n",
       "    }\n",
       "</style>\n",
       "<table border=\"1\" class=\"dataframe\">\n",
       "  <thead>\n",
       "    <tr style=\"text-align: right;\">\n",
       "      <th></th>\n",
       "      <th>n</th>\n",
       "      <th>perplexity</th>\n",
       "      <th>coherence</th>\n",
       "    </tr>\n",
       "  </thead>\n",
       "  <tbody>\n",
       "    <tr>\n",
       "      <th>count</th>\n",
       "      <td>27.000000</td>\n",
       "      <td>27.000000</td>\n",
       "      <td>27.000000</td>\n",
       "    </tr>\n",
       "    <tr>\n",
       "      <th>mean</th>\n",
       "      <td>8.000000</td>\n",
       "      <td>-7.440300</td>\n",
       "      <td>-3.317573</td>\n",
       "    </tr>\n",
       "    <tr>\n",
       "      <th>std</th>\n",
       "      <td>1.664101</td>\n",
       "      <td>0.132119</td>\n",
       "      <td>0.552477</td>\n",
       "    </tr>\n",
       "    <tr>\n",
       "      <th>min</th>\n",
       "      <td>6.000000</td>\n",
       "      <td>-7.837722</td>\n",
       "      <td>-5.404594</td>\n",
       "    </tr>\n",
       "    <tr>\n",
       "      <th>25%</th>\n",
       "      <td>6.000000</td>\n",
       "      <td>-7.465038</td>\n",
       "      <td>-3.389848</td>\n",
       "    </tr>\n",
       "    <tr>\n",
       "      <th>50%</th>\n",
       "      <td>8.000000</td>\n",
       "      <td>-7.402925</td>\n",
       "      <td>-3.221300</td>\n",
       "    </tr>\n",
       "    <tr>\n",
       "      <th>75%</th>\n",
       "      <td>10.000000</td>\n",
       "      <td>-7.363143</td>\n",
       "      <td>-3.000412</td>\n",
       "    </tr>\n",
       "    <tr>\n",
       "      <th>max</th>\n",
       "      <td>10.000000</td>\n",
       "      <td>-7.304172</td>\n",
       "      <td>-2.732471</td>\n",
       "    </tr>\n",
       "  </tbody>\n",
       "</table>\n",
       "</div>"
      ],
      "text/plain": [
       "               n  perplexity  coherence\n",
       "count  27.000000   27.000000  27.000000\n",
       "mean    8.000000   -7.440300  -3.317573\n",
       "std     1.664101    0.132119   0.552477\n",
       "min     6.000000   -7.837722  -5.404594\n",
       "25%     6.000000   -7.465038  -3.389848\n",
       "50%     8.000000   -7.402925  -3.221300\n",
       "75%    10.000000   -7.363143  -3.000412\n",
       "max    10.000000   -7.304172  -2.732471"
      ]
     },
     "execution_count": 197,
     "metadata": {},
     "output_type": "execute_result"
    }
   ],
   "source": [
    "df_gs = pd.DataFrame(results)\n",
    "df_gs.describe()"
   ]
  },
  {
   "cell_type": "code",
   "execution_count": 198,
   "metadata": {},
   "outputs": [],
   "source": [
    "default_filter = (df_gs.alpha == \"symmetric\") & (df_gs.beta == \"auto\")\n",
    "default_filter_neg = (df_gs.alpha != \"symmetric\") & (df_gs.beta != \"auto\")\n",
    "# df_gs.loc[default_filter].plot.scatter(x=\"n\", y=[\"coherence\"])"
   ]
  },
  {
   "cell_type": "code",
   "execution_count": 199,
   "metadata": {},
   "outputs": [
    {
     "data": {
      "image/png": "[encoded data removed]",
      "text/plain": [
       "<Figure size 720x432 with 2 Axes>"
      ]
     },
     "metadata": {},
     "output_type": "display_data"
    }
   ],
   "source": [
    "# plot coherence and perplexity\n",
    "import matplotlib.pyplot as plt\n",
    "import seaborn as sns\n",
    "\n",
    "sns.set_style(\"whitegrid\")\n",
    "\n",
    "fig, ax1 = plt.subplots(figsize=(10, 6))\n",
    "ax2 = ax1.twinx()\n",
    "\n",
    "df_gs.loc[default_filter].plot.scatter(x=\"n\", y=[\"perplexity\"], ax=ax1, color=\"red\")\n",
    "df_gs.loc[default_filter].plot.scatter(x=\"n\", y=[\"coherence\"], ax=ax2, color=\"blue\")\n",
    "\n",
    "ax1.set_ylabel(\"Perplexity\", color=\"red\")\n",
    "ax2.set_ylabel(\"Coherence\", color=\"blue\")\n",
    "\n",
    "plt.show()\n"
   ]
  },
  {
   "cell_type": "code",
   "execution_count": 200,
   "metadata": {},
   "outputs": [
    {
     "data": {
      "text/html": [
       "<div>\n",
       "<style scoped>\n",
       "    .dataframe tbody tr th:only-of-type {\n",
       "        vertical-align: middle;\n",
       "    }\n",
       "\n",
       "    .dataframe tbody tr th {\n",
       "        vertical-align: top;\n",
       "    }\n",
       "\n",
       "    .dataframe thead th {\n",
       "        text-align: right;\n",
       "    }\n",
       "</style>\n",
       "<table border=\"1\" class=\"dataframe\">\n",
       "  <thead>\n",
       "    <tr style=\"text-align: right;\">\n",
       "      <th></th>\n",
       "      <th>n</th>\n",
       "      <th>alpha</th>\n",
       "      <th>beta</th>\n",
       "      <th>perplexity</th>\n",
       "      <th>coherence</th>\n",
       "    </tr>\n",
       "  </thead>\n",
       "  <tbody>\n",
       "    <tr>\n",
       "      <th>22</th>\n",
       "      <td>6</td>\n",
       "      <td>symmetric</td>\n",
       "      <td>0.7</td>\n",
       "      <td>-7.372099</td>\n",
       "      <td>-2.732471</td>\n",
       "    </tr>\n",
       "    <tr>\n",
       "      <th>17</th>\n",
       "      <td>6</td>\n",
       "      <td>symmetric</td>\n",
       "      <td>0.3</td>\n",
       "      <td>-7.323801</td>\n",
       "      <td>-2.739053</td>\n",
       "    </tr>\n",
       "    <tr>\n",
       "      <th>15</th>\n",
       "      <td>6</td>\n",
       "      <td>0.3</td>\n",
       "      <td>0.3</td>\n",
       "      <td>-7.310490</td>\n",
       "      <td>-2.821091</td>\n",
       "    </tr>\n",
       "    <tr>\n",
       "      <th>7</th>\n",
       "      <td>6</td>\n",
       "      <td>0.7</td>\n",
       "      <td>auto</td>\n",
       "      <td>-7.315674</td>\n",
       "      <td>-2.859783</td>\n",
       "    </tr>\n",
       "    <tr>\n",
       "      <th>6</th>\n",
       "      <td>6</td>\n",
       "      <td>0.3</td>\n",
       "      <td>auto</td>\n",
       "      <td>-7.368666</td>\n",
       "      <td>-2.870710</td>\n",
       "    </tr>\n",
       "  </tbody>\n",
       "</table>\n",
       "</div>"
      ],
      "text/plain": [
       "    n      alpha  beta  perplexity  coherence\n",
       "22  6  symmetric   0.7   -7.372099  -2.732471\n",
       "17  6  symmetric   0.3   -7.323801  -2.739053\n",
       "15  6        0.3   0.3   -7.310490  -2.821091\n",
       "7   6        0.7  auto   -7.315674  -2.859783\n",
       "6   6        0.3  auto   -7.368666  -2.870710"
      ]
     },
     "execution_count": 200,
     "metadata": {},
     "output_type": "execute_result"
    }
   ],
   "source": [
    "df_gs.sort_values(\"coherence\", ascending=False).head(5)"
   ]
  },
  {
   "cell_type": "code",
   "execution_count": 201,
   "metadata": {},
   "outputs": [
    {
     "data": {
      "text/html": [
       "<div>\n",
       "<style scoped>\n",
       "    .dataframe tbody tr th:only-of-type {\n",
       "        vertical-align: middle;\n",
       "    }\n",
       "\n",
       "    .dataframe tbody tr th {\n",
       "        vertical-align: top;\n",
       "    }\n",
       "\n",
       "    .dataframe thead th {\n",
       "        text-align: right;\n",
       "    }\n",
       "</style>\n",
       "<table border=\"1\" class=\"dataframe\">\n",
       "  <thead>\n",
       "    <tr style=\"text-align: right;\">\n",
       "      <th></th>\n",
       "      <th>n</th>\n",
       "      <th>alpha</th>\n",
       "      <th>beta</th>\n",
       "      <th>perplexity</th>\n",
       "      <th>coherence</th>\n",
       "    </tr>\n",
       "  </thead>\n",
       "  <tbody>\n",
       "    <tr>\n",
       "      <th>24</th>\n",
       "      <td>6</td>\n",
       "      <td>0.7</td>\n",
       "      <td>0.3</td>\n",
       "      <td>-7.304172</td>\n",
       "      <td>-2.874166</td>\n",
       "    </tr>\n",
       "    <tr>\n",
       "      <th>15</th>\n",
       "      <td>6</td>\n",
       "      <td>0.3</td>\n",
       "      <td>0.3</td>\n",
       "      <td>-7.310490</td>\n",
       "      <td>-2.821091</td>\n",
       "    </tr>\n",
       "    <tr>\n",
       "      <th>7</th>\n",
       "      <td>6</td>\n",
       "      <td>0.7</td>\n",
       "      <td>auto</td>\n",
       "      <td>-7.315674</td>\n",
       "      <td>-2.859783</td>\n",
       "    </tr>\n",
       "    <tr>\n",
       "      <th>17</th>\n",
       "      <td>6</td>\n",
       "      <td>symmetric</td>\n",
       "      <td>0.3</td>\n",
       "      <td>-7.323801</td>\n",
       "      <td>-2.739053</td>\n",
       "    </tr>\n",
       "    <tr>\n",
       "      <th>18</th>\n",
       "      <td>6</td>\n",
       "      <td>0.7</td>\n",
       "      <td>0.7</td>\n",
       "      <td>-7.347805</td>\n",
       "      <td>-3.102064</td>\n",
       "    </tr>\n",
       "  </tbody>\n",
       "</table>\n",
       "</div>"
      ],
      "text/plain": [
       "    n      alpha  beta  perplexity  coherence\n",
       "24  6        0.7   0.3   -7.304172  -2.874166\n",
       "15  6        0.3   0.3   -7.310490  -2.821091\n",
       "7   6        0.7  auto   -7.315674  -2.859783\n",
       "17  6  symmetric   0.3   -7.323801  -2.739053\n",
       "18  6        0.7   0.7   -7.347805  -3.102064"
      ]
     },
     "execution_count": 201,
     "metadata": {},
     "output_type": "execute_result"
    }
   ],
   "source": [
    "df_gs.sort_values(\"perplexity\", ascending=False).head(5)"
   ]
  },
  {
   "cell_type": "code",
   "execution_count": 202,
   "metadata": {},
   "outputs": [
    {
     "name": "stderr",
     "output_type": "stream",
     "text": [
      "c:\\Users\\Bruno\\miniconda3\\envs\\pln\\lib\\site-packages\\matplotlib\\collections.py:982: RuntimeWarning: invalid value encountered in sqrt\n",
      "  scale = np.sqrt(self._sizes) * dpi / 72.0 * self._factor\n"
     ]
    },
    {
     "data": {
      "image/png": "[encoded data removed]",
      "text/plain": [
       "<Figure size 720x432 with 1 Axes>"
      ]
     },
     "metadata": {},
     "output_type": "display_data"
    }
   ],
   "source": [
    "# plot alpha on the x axis, and beta on the y axis, with the size of the bubble determined by the coherence score, and the value annotated in the bubble\n",
    "import matplotlib.pyplot as plt\n",
    "import seaborn as sns\n",
    "\n",
    "sns.set_style(\"whitegrid\")\n",
    "\n",
    "fig, ax1 = plt.subplots(figsize=(10, 6))\n",
    "\n",
    "df_gs_float = df_gs.loc[default_filter_neg & (df_gs.n == 6)].copy()\n",
    "df_gs_float.alpha = df_gs_float.alpha.astype(float)\n",
    "df_gs_float.beta = df_gs_float.beta.astype(float)\n",
    "df_gs_float.coherence = (df_gs_float.coherence +3)*100\n",
    "\n",
    "df_gs_float.plot.scatter(x=\"alpha\", y=\"beta\", s=df_gs_float.coherence, ax=ax1, color=\"red\")\n",
    "\n",
    "for i, row in df_gs_float.iterrows():\n",
    "    ax1.annotate(row[\"coherence\"], (row[\"alpha\"]+0.01, row[\"beta\"]))\n",
    "plt.title(\"Coherence\")\n",
    "plt.show()\n",
    "\n"
   ]
  },
  {
   "cell_type": "code",
   "execution_count": 203,
   "metadata": {},
   "outputs": [
    {
     "data": {
      "image/png": "[encoded data removed]",
      "text/plain": [
       "<Figure size 720x432 with 1 Axes>"
      ]
     },
     "metadata": {},
     "output_type": "display_data"
    }
   ],
   "source": [
    "# plot alpha on the x axis, and beta on the y axis, with the size of the bubble determined by the coherence score, and the value annotated in the bubble\n",
    "import matplotlib.pyplot as plt\n",
    "import seaborn as sns\n",
    "\n",
    "sns.set_style(\"whitegrid\")\n",
    "\n",
    "fig, ax1 = plt.subplots(figsize=(10, 6))\n",
    "\n",
    "df_gs_float = df_gs.loc[default_filter_neg & (df_gs.n == 6)].copy()\n",
    "df_gs_float.alpha = df_gs_float.alpha.astype(float)\n",
    "df_gs_float.beta = df_gs_float.beta.astype(float)\n",
    "df_gs_float.perplexity = (df_gs_float.perplexity +8)*100\n",
    "\n",
    "df_gs_float.plot.scatter(x=\"alpha\", y=\"beta\", s=df_gs_float.perplexity, ax=ax1, color=\"red\")\n",
    "\n",
    "for i, row in df_gs_float.iterrows():\n",
    "    ax1.annotate(row[\"perplexity\"], (row[\"alpha\"]+0.01, row[\"beta\"]))\n",
    "plt.title(\"perplexity\")\n",
    "plt.show()\n"
   ]
  },
  {
   "attachments": {},
   "cell_type": "markdown",
   "metadata": {},
   "source": [
    "# 6. Best Model"
   ]
  },
  {
   "cell_type": "code",
   "execution_count": 204,
   "metadata": {},
   "outputs": [
    {
     "data": {
      "text/plain": [
       "n                     6\n",
       "alpha         symmetric\n",
       "beta                0.7\n",
       "perplexity    -7.372099\n",
       "coherence     -2.732471\n",
       "Name: 22, dtype: object"
      ]
     },
     "execution_count": 204,
     "metadata": {},
     "output_type": "execute_result"
    }
   ],
   "source": [
    "df_gs.sort_values(\"coherence\", ascending=False).iloc[0]"
   ]
  },
  {
   "cell_type": "code",
   "execution_count": 205,
   "metadata": {},
   "outputs": [
    {
     "name": "stdout",
     "output_type": "stream",
     "text": [
      "Results:\n",
      " {'n': 6, 'alpha': 'symmetric', 'beta': 0.7, 'perplexity': -7.369366405974172, 'coherence': -2.890226121978887}\n"
     ]
    }
   ],
   "source": [
    "# Treinando Modelo de melhor resultado\n",
    "n = 6\n",
    "alpha = \"symmetric\"\n",
    "beta = 0.7\n",
    "\n",
    "lda_model, results = train_and_eval(n, alpha, beta)\n",
    "\n",
    "print(\"Results:\\n\", results)"
   ]
  },
  {
   "cell_type": "code",
   "execution_count": 210,
   "metadata": {},
   "outputs": [],
   "source": [
    "# Visualizando tópicos\n",
    "import pyLDAvis.gensim_models as gensimvis\n",
    "import pyLDAvis\n",
    "import matplotlib.pyplot as plt\n"
   ]
  },
  {
   "attachments": {},
   "cell_type": "markdown",
   "metadata": {},
   "source": [
    "* função para sumarizar baseada em um ou mais hoteis:\n",
    "    * Biblioteca para modelagem de texto em hotéis\n",
    "    * revista grupo nature dados\n",
    "    * Congresso - precisa ir apresentar.s Para aluno precisa requisitar com antecedência\n",
    "    * Revista boa - JCR, fator de impacto, média de citações dos artigos da revista\n",
    "    * pró reitor unifei amigo do alexandres\n",
    "    * https://www.nature.com/sdata/\n",
    "    * ver se a biblioteca não vai infringir a política do google\n",
    "    * Teriamos que publicar os dados\n",
    "    * Congresso é bom para fazer contatos\n",
    "    * Reunião segunda"
   ]
  },
  {
   "cell_type": "code",
   "execution_count": 211,
   "metadata": {},
   "outputs": [
    {
     "name": "stdout",
     "output_type": "stream",
     "text": [
      "LDA visualization\n"
     ]
    },
    {
     "name": "stderr",
     "output_type": "stream",
     "text": [
      "c:\\Users\\Bruno\\miniconda3\\envs\\pln\\lib\\site-packages\\pyLDAvis\\_prepare.py:243: FutureWarning: In a future version of pandas all arguments of DataFrame.drop except for the argument 'labels' will be keyword-only.\n",
      "  default_term_info = default_term_info.sort_values(\n"
     ]
    },
    {
     "data": {
      "text/html": [
       "\n",
       "<link rel=\"stylesheet\" type=\"text/css\" href=\"https://cdn.jsdelivr.net/gh/bmabey/pyLDAvis@3.4.0/pyLDAvis/js/ldavis.v1.0.0.css\">\n",
       "\n",
       "\n",
       "<div id=\"ldavis_el445623563565797283226964830\" style=\"background-color:white;\"></div>\n",
       "<script type=\"text/javascript\">\n",
       "\n",
       "var ldavis_el445623563565797283226964830_data = {\"mdsDat\": {\"x\": [0.028660724751153704, -0.09138063879889577, 0.21596633881743127, 0.15008231498196745, -0.033472639889282604, -0.2698560998623742], \"y\": [-0.20064036181858041, -0.15827042160819685, 0.01691786527473548, 0.2107810904495904, -0.036348758918849866, 0.16756058662130124], \"topics\": [1, 2, 3, 4, 5, 6], \"cluster\": [1, 1, 1, 1, 1, 1], \"Freq\": [36.47045839132159, 19.326905384003652, 16.838341476893547, 11.626680090187062, 11.337305123714204, 4.400309533879935]}, \"tinfo\": {\"Term\": [\"bom\", \"lugar\", \"excelent\", \"otimo\", \"maravilhoso\", \"melhor\", \"hotel\", \"atendimento\", \"lindo\", \"boa\", \"cafe\", \"nao\", \"manha\", \"otima\", \"equip\", \"super\", \"quarto\", \"recomendo\", \"perfeito\", \"paraben\", \"tia\", \"tio\", \"incrivel\", \"bem\", \"top\", \"tudo\", \"show\", \"espetacular\", \"dia\", \"comida\", \"agua\", \"desejar\", \"banheiro\", \"melhorar\", \"ruim\", \"caro\", \"quent\", \"precisa\", \"deixa\", \"pequena\", \"pouca\", \"chuveiro\", \"negativo\", \"condicionado\", \"manutencao\", \"cadeira\", \"brinquedo\", \"cerveja\", \"frio\", \"suco\", \"banho\", \"poderiam\", \"pensao\", \"cheiro\", \"fraco\", \"barulho\", \"chuva\", \"toalha\", \"coberta\", \"fort\", \"pouco\", \"porem\", \"all\", \"resto\", \"ponto\", \"long\", \"parqu\", \"bicicleta\", \"golf\", \"crianca\", \"adulto\", \"falta\", \"inclus\", \"piscina\", \"nao\", \"fica\", \"cama\", \"valor\", \"coisa\", \"alguma\", \"sao\", \"preco\", \"quarto\", \"bebida\", \"apena\", \"area\", \"tambem\", \"opco\", \"bar\", \"restaurant\", \"resort\", \"muita\", \"praia\", \"cafe\", \"hotel\", \"comida\", \"manha\", \"dia\", \"voce\", \"pra\", \"bem\", \"todo\", \"boa\", \"servico\", \"vez\", \"vou\", \"momento\", \"novament\", \"segunda\", \"passei\", \"viagem\", \"semana\", \"nome\", \"hoje\", \"esposa\", \"posso\", \"oportunidad\", \"dizer\", \"retornar\", \"passamo\", \"vamo\", \"espero\", \"chegada\", \"queria\", \"surpresa\", \"fiz\", \"tratado\", \"respeito\", \"diss\", \"gerent\", \"ajudar\", \"sera\", \"grupo\", \"aniversario\", \"aqui\", \"mimo\", \"nest\", \"out\", \"desd\", \"reclamar\", \"voltar\", \"nunca\", \"falar\", \"ano\", \"client\", \"dia\", \"quero\", \"ate\", \"logo\", \"final\", \"sempr\", \"ness\", \"nao\", \"cada\", \"todo\", \"casa\", \"fiquei\", \"ficamo\", \"ainda\", \"hotel\", \"voce\", \"hosped\", \"recepcao\", \"tao\", \"ficar\", \"pessoa\", \"experiencia\", \"funcionario\", \"bem\", \"tudo\", \"pra\", \"gramado\", \"certeza\", \"veze\", \"estadia\", \"resort\", \"bom\", \"otima\", \"localizacao\", \"confortavel\", \"localizado\", \"confortavei\", \"acomodaco\", \"bela\", \"farto\", \"privilegiada\", \"arejado\", \"estruturado\", \"belissima\", \"amplo\", \"bonito\", \"diversificado\", \"rico\", \"decorado\", \"espacoso\", \"linda\", \"imbativel\", \"cortes\", \"paradisiaca\", \"espacosa\", \"mobiliado\", \"luga\", \"arborizado\", \"vista\", \"esplendida\", \"organizada\", \"arrumado\", \"limpo\", \"infraestrutura\", \"boa\", \"legal\", \"organizado\", \"instalaco\", \"manha\", \"cafe\", \"lazer\", \"variado\", \"bem\", \"completo\", \"estrutura\", \"delicioso\", \"praia\", \"excelent\", \"servico\", \"quarto\", \"hotel\", \"atencioso\", \"atendimento\", \"funcionario\", \"comida\", \"tudo\", \"educado\", \"piscina\", \"qualidad\", \"sao\", \"muita\", \"maravilhoso\", \"lindo\", \"perfeito\", \"incrivel\", \"exposicao\", \"maravilha\", \"magnifico\", \"paradisiaco\", \"encantador\", \"altament\", \"chiqu\", \"jeitoso\", \"esplendido\", \"divino\", \"lindissimo\", \"belissimo\", \"paraiso\", \"lugar\", \"ameiii\", \"inesquecivel\", \"juridico\", \"agradabilissimo\", \"expetacular\", \"execelent\", \"super\", \"primoroso\", \"incomparavel\", \"magico\", \"formidavel\", \"deus\", \"excepcion\", \"recomendado\", \"calmo\", \"agradavel\", \"recomendo\", \"indico\", \"familiar\", \"exuberant\", \"acolhedor\", \"excelent\", \"sonho\", \"otimo\", \"simplesment\", \"familia\", \"nota\", \"atendimento\", \"ambient\", \"tudo\", \"aconchegant\", \"impecavel\", \"voltarei\", \"experiencia\", \"maravilhosa\", \"local\", \"comida\", \"funcionario\", \"feria\", \"atencioso\", \"hotel\", \"educado\", \"todo\", \"certeza\", \"restaurant\", \"tio\", \"top\", \"tia\", \"sensacion\", \"amei\", \"fantastico\", \"especi\", \"adorei\", \"show\", \"animacao\", \"bruno\", \"atenciosa\", \"bolinha\", \"agradec\", \"exelent\", \"pimenta\", \"animado\", \"adoramo\", \"agradecimento\", \"bola\", \"prestativa\", \"animador\", \"pedro\", \"participei\", \"divertida\", \"ana\", \"parizia\", \"thiago\", \"paraben\", \"gabriel\", \"risadinha\", \"divertido\", \"equip\", \"simpatica\", \"bingo\", \"leiz\", \"pedrinho\", \"evento\", \"bahia\", \"brasa\", \"simpatia\", \"maravilhosa\", \"demai\", \"estrela\", \"recreacao\", \"destaqu\", \"toda\", \"todo\", \"restaurant\", \"atencao\", \"sao\", \"atendimento\", \"nota\", \"principalment\", \"quero\", \"atencioso\", \"espetacular\", \"princip\", \"porto\", \"tradicion\", \"classico\", \"requint\", \"beneficio\", \"topo\", \"sofisticacao\", \"glamour\", \"icon\", \"iguacu\", \"conferir\", \"fino\", \"palacio\", \"nort\", \"majestoso\", \"lindooo\", \"the\", \"luxo\", \"catarina\", \"litor\", \"sul\", \"veri\", \"patrimonio\", \"uau\", \"lindooooo\", \"historico\", \"belmont\", \"bommm\", \"brasil\", \"tradicao\", \"palac\", \"deslumbrant\", \"melhor\", \"copacabana\", \"vale\", \"rio\", \"pena\", \"custo\", \"otimo\", \"janeiro\", \"galinha\", \"foz\", \"hotei\", \"cidad\", \"conhec\", \"hotel\", \"mundo\", \"resort\", \"nivel\", \"duvida\", \"alto\"], \"Freq\": [20551.0, 17140.0, 24326.0, 12143.0, 11585.0, 8561.0, 32797.0, 21230.0, 7560.0, 11998.0, 14360.0, 24362.0, 12698.0, 8043.0, 7360.0, 6867.0, 17819.0, 6229.0, 4429.0, 3955.0, 3732.0, 3702.0, 3762.0, 14286.0, 3685.0, 12028.0, 3488.0, 2402.0, 7946.0, 12048.0, 3039.952949311116, 2142.4006809425814, 1893.1492590461157, 1576.1831623038718, 1509.3758119804895, 1886.8434784384638, 1501.0677317504237, 1447.843759048403, 1112.9837997423015, 1049.1147828538753, 870.9328619835974, 949.6072736696051, 772.2930806920772, 686.7235157970842, 662.8448757755422, 671.3553773049716, 607.2370611458322, 548.2399553183151, 644.4963107588147, 627.4501350614943, 600.7887742791215, 583.3833857244172, 858.3258776116502, 541.0235909210282, 415.88451070962685, 492.467166289432, 558.949387369215, 937.4242714231492, 749.643461804013, 681.1794328777538, 3908.755984173317, 3007.4490399456713, 1074.299348846509, 596.0938344946687, 3459.974857069024, 885.0984002106999, 1108.6738695686972, 724.4151384150455, 1244.425262601893, 6149.2647697708235, 1652.1170156648188, 1798.8467302961164, 1731.5201162900912, 10649.487885228036, 16597.209554790785, 1927.536470106702, 1770.746576393087, 1247.0913432032412, 1909.665977182408, 1397.6109615182738, 7731.934428648822, 2535.348202478237, 9198.643519936582, 2488.506291106479, 1875.8916470549414, 2550.368570221357, 3112.7857832596123, 2627.2331870903754, 2092.3545631445136, 5046.383658277166, 4121.556177347579, 3274.9280872404706, 3876.226832823299, 5148.992048181664, 7584.542874729712, 4133.74555943629, 4071.0084097791805, 3177.1581142250448, 2487.0760969036432, 2543.9856767377573, 3748.7650739545197, 2977.376127863711, 2624.629379297122, 2245.2445702416117, 1767.79108404105, 911.0020479895859, 1205.5082879169577, 817.4615682458448, 517.8325082622472, 612.3581499493553, 705.4683379445555, 954.021888647404, 595.1373295554706, 528.1510947510634, 482.6436172895918, 385.32208982908384, 444.9171111395521, 468.3056670886814, 394.7811952849448, 402.7523416581837, 402.69997461217883, 461.52470423751896, 434.4518234243139, 317.70811195109434, 341.66928776748506, 359.82448325731303, 297.0514988560327, 289.04474289151045, 242.3399158911407, 372.39147183435006, 402.0067084206831, 281.74639362582013, 379.2395012532029, 501.24159912139345, 1775.1611302237618, 490.7277294869844, 931.5919620049992, 392.67262239675796, 1483.2345093569909, 583.8883000927619, 2229.1774657795077, 1154.4583925527456, 718.8310851280409, 1571.4050333361677, 760.8275450861096, 4765.322984985764, 2047.3245381747158, 2242.771877424758, 455.7097204539238, 544.2810268918576, 2684.0962049715313, 782.4378998969353, 7762.605729037908, 1014.4436110574687, 4683.842654311342, 987.2092192497435, 1161.0822910146978, 1011.3873600062133, 1325.2561038882532, 6826.429647697655, 1983.2200710991565, 1643.4401863515263, 1816.2583469427157, 1064.2220712934873, 1156.3692568742615, 1471.992168176649, 1583.4255671945434, 2382.9272598449575, 2306.13989846387, 1928.850068269433, 1448.4892499488062, 1081.4640222497949, 1147.8023021383021, 1080.1153411351438, 1125.86032611825, 1082.7855827469361, 20546.17674406983, 8037.183144768428, 3135.81614050373, 2299.512185289922, 1016.701064961763, 1451.596444133394, 1990.028743163437, 751.2314770263474, 416.7485138078132, 143.4377622608528, 115.17611232587232, 169.48790415443693, 134.1066009895351, 1000.2193700947381, 3050.3144428411783, 182.40569424518236, 207.81996314271663, 208.00375654841255, 797.2568932926827, 1724.5500624090653, 47.6228748776006, 115.98267578340054, 51.2132256695764, 88.16594964639125, 41.326421922285206, 26.97112398999711, 50.04372186315986, 1825.631985183259, 37.38529722932011, 107.04465886830475, 285.0125211786805, 3874.8781600360276, 1065.331829994774, 9345.600347650341, 1270.9554291220315, 1158.8599254381334, 1909.736206219765, 8565.927749574017, 9183.835256384662, 1425.658217551997, 611.7409747099825, 7427.103146332411, 652.3992585365593, 3377.5235030814606, 786.1397695079638, 4245.858513916634, 10378.884729336054, 3757.1773817032313, 7660.854676527148, 11768.27463763313, 2922.414339132805, 7435.071529366921, 4526.920621479463, 4452.138717026823, 3225.9290499878916, 1807.044470286719, 3194.2678543826573, 1803.9069354753644, 2471.9765789058915, 1757.6606021287573, 11579.994240830856, 7555.137139796254, 4424.430937598274, 3750.6973557548113, 385.5973511573619, 395.3253351805194, 452.2302193558151, 240.67483109438754, 230.39347808591603, 375.2958583564082, 182.32039032934102, 98.91628127329969, 86.18329540868503, 220.15505754396523, 105.21311672082409, 184.19823253902265, 869.0133427903992, 15705.848311304444, 48.25044394229198, 426.57168158661227, 32.62509592905299, 39.232207981942025, 36.134405027540865, 46.273375672146976, 6079.99421486925, 51.561687798413416, 56.44513427473895, 177.11896283746424, 46.86991201453614, 29.128534479127165, 965.3582191321219, 678.166237421321, 132.81093301508503, 2400.9400478496505, 4702.88198408366, 789.9526087941707, 555.0825699406386, 114.15257591604109, 425.38403072851474, 13940.701571290341, 547.5584672704414, 7220.230297768374, 1216.206033023403, 2829.4202124279204, 2264.1001725612223, 9925.19251742533, 1767.5334491209894, 4685.178067446562, 1487.4858985149754, 1293.4525497526101, 813.4933954316102, 1886.2371649374004, 1784.3787164276737, 1958.754389716054, 2862.653920837281, 2769.909358485103, 789.9274948487704, 1635.6861200628928, 3311.2224119955213, 1235.1102017059916, 1848.8757496850876, 988.8612464220756, 1191.3755922320233, 3698.510475433599, 3681.2730578760184, 3727.7964256893033, 3078.3914815227845, 3120.700691185787, 2221.7303557947425, 2431.829835171935, 1630.007089338365, 3475.1856170979486, 1141.6835806544427, 446.09957898512477, 1649.8091142724745, 1083.07960314942, 398.9799412502239, 379.4441898545019, 911.6880873027123, 362.3571547616061, 940.537204091619, 329.83183773615224, 424.1555955567426, 493.5392105998689, 286.18483635964174, 176.18019278516766, 210.22000523155842, 264.783488739897, 200.16649770212084, 170.19310168844964, 208.05914114360328, 3847.5446716452343, 274.1703423529945, 563.1949627178498, 571.2381826380916, 6717.472255551232, 888.7319971201777, 905.7866103055495, 333.42092565334843, 611.5675433444408, 1073.6129235233168, 1083.3324250453243, 929.1433179943498, 710.7796582234314, 2627.482595435968, 1549.7352751040166, 2064.414604151174, 1704.6373192066064, 780.9551956035235, 2027.5379610249227, 3141.79148694397, 2605.2979052127644, 1420.0387634753845, 2179.354060376278, 2278.4269593784143, 1151.3962701267312, 976.6522773049694, 1000.5920619583345, 1028.8635341767563, 2395.712959527484, 1637.5439723617665, 1328.0174609851772, 287.99699441696094, 293.16863676956814, 239.36308419319653, 691.1786365143998, 115.91132891030932, 122.26959723283792, 141.01044610721354, 152.88272996805264, 444.24942285902415, 92.42001024984486, 613.2574445940152, 93.46789643077965, 62.36990653708711, 68.58292981276291, 67.58113683515266, 162.2114956542234, 906.6744106928031, 58.067960684673636, 53.280793714017484, 157.55721164875152, 56.14853728749294, 37.18076577489516, 40.62339007213619, 30.144003240368992, 295.4135071316633, 31.35897832921655, 27.801399222794828, 857.6361286199419, 111.13856972620695, 538.9586814616038, 175.02219329224016, 6147.022393571442, 1344.27279097431, 1823.3363458792833, 1249.034945656677, 1664.5616678998456, 702.20673452615, 4917.31590355434, 554.1180491132757, 478.9483260801075, 480.91521485076066, 545.7510575643628, 519.5356464845123, 486.5703631089256, 3296.9342321819568, 324.8702518415591, 1072.4233944560833, 315.31037588814746, 349.0667655553915, 357.21116433225035], \"Total\": [20551.0, 17140.0, 24326.0, 12143.0, 11585.0, 8561.0, 32797.0, 21230.0, 7560.0, 11998.0, 14360.0, 24362.0, 12698.0, 8043.0, 7360.0, 6867.0, 17819.0, 6229.0, 4429.0, 3955.0, 3732.0, 3702.0, 3762.0, 14286.0, 3685.0, 12028.0, 3488.0, 2402.0, 7946.0, 12048.0, 3043.4653142474094, 2145.8588633716154, 1897.353086213653, 1579.722588203836, 1512.8261403647084, 1891.5755846644445, 1505.3554996088014, 1452.0176135672568, 1116.4980058795102, 1053.0271065386955, 874.292553111099, 954.045463942148, 776.0305846388918, 690.1970542259852, 666.4493661253589, 675.134118996834, 610.7816466237325, 551.5604516201453, 648.4187301832104, 631.3676571737532, 604.6148303473368, 587.1474395249006, 864.7789768550838, 545.3417257052033, 419.2364092089963, 496.53916219765534, 563.6114172445256, 945.3530777233727, 756.0701166433277, 687.0423469810796, 3961.766403816885, 3047.787860916015, 1085.0359324525223, 601.3587414913684, 3560.937102875313, 901.2447690942278, 1137.7430471297641, 733.9128984397192, 1298.0133220853434, 7013.865843607855, 1769.895581052166, 1941.725928811136, 1866.9439598260121, 14788.364751295156, 24362.562993820477, 2194.1471728806055, 2031.6232602243142, 1358.9286590399383, 2269.8949638998783, 1570.0505835905499, 13147.126301259123, 3347.128885267337, 17819.943462120616, 3320.423081580998, 2313.8065676148644, 3533.9821838616936, 4763.8002301052, 3828.9344461757364, 2816.3909504858616, 10348.696465637806, 8158.489239100976, 5931.543499940682, 8232.649771442912, 14360.412044451386, 32797.41025122852, 12048.431933304959, 12698.99758472414, 7946.812388058729, 4474.280831683588, 4759.291003804935, 14286.440739707119, 13129.25675235545, 11998.42276769197, 7340.780065480834, 1772.2217818443878, 915.0098199758731, 1210.977901035833, 822.8133989474238, 521.9983717379403, 617.3286242420462, 711.2402196519614, 962.0761071649896, 600.4624833513803, 533.1163892929329, 487.54736544765154, 389.3343274334369, 449.88082529722817, 473.593305059231, 399.4575223497076, 407.69309350733533, 407.782385554912, 467.87721942882297, 440.4559720257423, 322.37891337426043, 346.8589122209565, 365.4196315761756, 301.67709347145, 293.68899380881476, 246.25149887890709, 378.73590648137144, 409.1261823683955, 286.79483342820384, 386.3984216933167, 510.78029745881486, 1867.0058793226447, 503.1572041613389, 969.7789724699259, 402.4631704071893, 1640.268887896593, 622.2815137913759, 2731.8638814877804, 1327.3624981573282, 785.0294715992467, 1880.9758518736378, 859.1341945733873, 7946.812388058729, 3052.530652165253, 3605.3914179053086, 477.2908241559094, 603.4172689911393, 5225.972008933002, 985.7608440465617, 24362.562993820477, 1420.3286605499352, 13129.25675235545, 1424.748261419729, 1827.91187193244, 1484.1422305636484, 2254.015219612301, 32797.41025122852, 4474.280831683588, 3356.8615179955673, 4461.871308520177, 1715.2571573713578, 2004.6690529330767, 3616.723475241391, 4305.3690990745135, 11733.458894791818, 14286.440739707119, 12028.518756809708, 4759.291003804935, 1970.3355676876079, 2659.7364233446733, 1990.4415172627432, 3416.5496090359206, 8158.489239100976, 20551.220120602757, 8043.39940612846, 3140.4139718595693, 2308.606057977503, 1021.875726749793, 1461.4387488741572, 2018.1614443433762, 764.774521825612, 426.3691324353825, 147.23930677285077, 119.41007988095708, 176.96079584858904, 141.0167875149322, 1063.6817637131996, 3348.6719419753094, 202.26756884463768, 230.69123948264235, 231.09033450330443, 888.0876140448155, 1927.101667239072, 53.37824596755521, 130.40049251872813, 58.298192299958195, 100.73007539302085, 47.668728504024855, 31.153790548958593, 58.12970485757387, 2125.3479284647765, 43.91527159108707, 125.90382114303908, 335.2728173900966, 4811.7216127891115, 1298.816563161379, 11998.42276769197, 1585.4791412017023, 1441.969805750994, 2457.1355356072445, 12698.99758472414, 14360.412044451386, 1952.549982468837, 808.6709620538085, 14286.440739707119, 874.6102926109444, 6016.355896752494, 1101.0023443049233, 8232.649771442912, 24326.0076619398, 7340.780065480834, 17819.943462120616, 32797.41025122852, 5885.735429175337, 21230.32958282072, 11733.458894791818, 12048.431933304959, 12028.518756809708, 3823.951404041765, 14788.364751295156, 4069.7488486354514, 13147.126301259123, 5931.543499940682, 11585.638107944604, 7560.84456716221, 4429.586877233819, 3762.2350037328033, 389.72648334225073, 399.5683606946495, 457.4172880200995, 245.1124132612172, 236.0942157916551, 384.90944350531237, 188.11392626288819, 102.57775082560092, 90.42227481780775, 233.7285294934476, 112.69877962674335, 198.9925414255383, 943.3926545593099, 17140.74856153162, 52.98031558500408, 469.9413232209632, 36.032452029631706, 43.695307481566644, 40.71023575553849, 52.20351227524416, 6867.642145225333, 58.4829790268179, 64.02471920469856, 201.3956445559935, 53.36957915961803, 33.405875257204656, 1132.9178247531042, 811.5848596226313, 155.04969990640387, 3085.0497802575633, 6229.581544849694, 1026.6232769898024, 716.3076708042613, 134.55555409221128, 546.301215932821, 24326.0076619398, 722.227884604484, 12143.534694814967, 1757.0293623355997, 4537.897266804903, 3737.319992447702, 21230.32958282072, 3216.636239634141, 12028.518756809708, 2735.1091990367595, 2342.698376339793, 1298.1962744592586, 4305.3690990745135, 4419.621752184836, 5182.971970578922, 12048.431933304959, 11733.458894791818, 1333.0942162611432, 5885.735429175337, 32797.41025122852, 3823.951404041765, 13129.25675235545, 2659.7364233446733, 10348.696465637806, 3702.505839735811, 3685.5781384429793, 3732.169317899891, 3083.9701621301497, 3126.5236565249247, 2229.0927443288247, 2439.9189132117644, 1635.8681959773505, 3488.1242725173042, 1146.8791510984165, 450.1260309902624, 1665.120252453889, 1094.8918463848279, 403.51835618304676, 383.838529898507, 924.5296439042959, 367.9604082431756, 955.3509566045346, 335.44229908189527, 431.37657907931776, 502.0633929468233, 291.87976883681614, 179.85840722166256, 214.82758250136445, 270.7531436304104, 204.77316398295923, 174.19635374250444, 213.1574244852285, 3955.0036118923854, 282.0868685501725, 581.8035152508385, 592.2275433335233, 7360.075958802039, 936.4760324146566, 964.3393633987772, 344.73952607756854, 652.936055580111, 1190.0542848732782, 1217.0130367076995, 1081.133749133544, 818.7328255103234, 4419.621752184836, 2398.16630592697, 3811.5465052683235, 3128.918012744651, 1024.39181861939, 5053.8541796023865, 13129.25675235545, 10348.696465637806, 4040.2628946801374, 13147.126301259123, 21230.32958282072, 3737.319992447702, 1792.2366046896727, 3052.530652165253, 5885.735429175337, 2402.2563211309407, 1643.095334711369, 1337.973305509159, 292.65692910050194, 298.186498110755, 244.44015828988606, 705.9107168886494, 119.63369343717264, 126.78997082953218, 146.31525588455975, 159.13055478964387, 466.488716806001, 97.12938005169691, 645.5680000431095, 98.5864639310082, 66.22534686284608, 73.02639376264277, 72.08469700424301, 174.28693538791794, 976.8410236070271, 62.625953423520066, 57.628668537433434, 171.16634259461773, 61.668875324258, 41.29649121093321, 45.13156182833262, 33.52062884486494, 328.530087818049, 35.27376262480921, 31.295002743947364, 986.5696921418014, 126.88372701966264, 653.1213802746936, 205.12572460688102, 8561.727391170254, 1753.4262808602698, 2432.3172135034242, 1626.5569183068217, 2223.8476005276248, 1006.7366321403473, 12143.534694814967, 898.4197926325246, 754.1885823782022, 790.400119864995, 1315.7493763414768, 1222.8225271425483, 1111.0323075908564, 32797.41025122852, 642.5784735528068, 8158.489239100976, 676.9069560524529, 898.0197047877268, 1382.9174439632532], \"Category\": [\"Default\", \"Default\", \"Default\", \"Default\", \"Default\", \"Default\", \"Default\", \"Default\", \"Default\", \"Default\", \"Default\", \"Default\", \"Default\", \"Default\", \"Default\", \"Default\", \"Default\", \"Default\", \"Default\", \"Default\", \"Default\", \"Default\", \"Default\", \"Default\", \"Default\", \"Default\", \"Default\", \"Default\", \"Default\", \"Default\", \"Topic1\", \"Topic1\", \"Topic1\", \"Topic1\", \"Topic1\", \"Topic1\", \"Topic1\", \"Topic1\", \"Topic1\", \"Topic1\", \"Topic1\", \"Topic1\", \"Topic1\", \"Topic1\", \"Topic1\", \"Topic1\", \"Topic1\", \"Topic1\", \"Topic1\", \"Topic1\", \"Topic1\", \"Topic1\", \"Topic1\", \"Topic1\", \"Topic1\", \"Topic1\", \"Topic1\", \"Topic1\", \"Topic1\", \"Topic1\", \"Topic1\", \"Topic1\", \"Topic1\", \"Topic1\", \"Topic1\", \"Topic1\", \"Topic1\", \"Topic1\", \"Topic1\", \"Topic1\", \"Topic1\", \"Topic1\", \"Topic1\", \"Topic1\", \"Topic1\", \"Topic1\", \"Topic1\", \"Topic1\", \"Topic1\", \"Topic1\", \"Topic1\", \"Topic1\", \"Topic1\", \"Topic1\", \"Topic1\", \"Topic1\", \"Topic1\", \"Topic1\", \"Topic1\", \"Topic1\", \"Topic1\", \"Topic1\", \"Topic1\", \"Topic1\", \"Topic1\", \"Topic1\", \"Topic1\", \"Topic1\", \"Topic1\", \"Topic1\", \"Topic1\", \"Topic1\", \"Topic1\", \"Topic1\", \"Topic2\", \"Topic2\", \"Topic2\", \"Topic2\", \"Topic2\", \"Topic2\", \"Topic2\", \"Topic2\", \"Topic2\", \"Topic2\", \"Topic2\", \"Topic2\", \"Topic2\", \"Topic2\", \"Topic2\", \"Topic2\", \"Topic2\", \"Topic2\", \"Topic2\", \"Topic2\", \"Topic2\", \"Topic2\", \"Topic2\", \"Topic2\", \"Topic2\", \"Topic2\", \"Topic2\", \"Topic2\", \"Topic2\", \"Topic2\", \"Topic2\", \"Topic2\", \"Topic2\", \"Topic2\", \"Topic2\", \"Topic2\", \"Topic2\", \"Topic2\", \"Topic2\", \"Topic2\", \"Topic2\", \"Topic2\", \"Topic2\", \"Topic2\", \"Topic2\", \"Topic2\", \"Topic2\", \"Topic2\", \"Topic2\", \"Topic2\", \"Topic2\", \"Topic2\", \"Topic2\", \"Topic2\", \"Topic2\", \"Topic2\", \"Topic2\", \"Topic2\", \"Topic2\", \"Topic2\", \"Topic2\", \"Topic2\", \"Topic2\", \"Topic2\", \"Topic2\", \"Topic2\", \"Topic2\", \"Topic2\", \"Topic2\", \"Topic2\", \"Topic2\", \"Topic2\", \"Topic3\", \"Topic3\", \"Topic3\", \"Topic3\", \"Topic3\", \"Topic3\", \"Topic3\", \"Topic3\", \"Topic3\", \"Topic3\", \"Topic3\", \"Topic3\", \"Topic3\", \"Topic3\", \"Topic3\", \"Topic3\", \"Topic3\", \"Topic3\", \"Topic3\", \"Topic3\", \"Topic3\", \"Topic3\", \"Topic3\", \"Topic3\", \"Topic3\", \"Topic3\", \"Topic3\", \"Topic3\", \"Topic3\", \"Topic3\", \"Topic3\", \"Topic3\", \"Topic3\", \"Topic3\", \"Topic3\", \"Topic3\", \"Topic3\", \"Topic3\", \"Topic3\", \"Topic3\", \"Topic3\", \"Topic3\", \"Topic3\", \"Topic3\", \"Topic3\", \"Topic3\", \"Topic3\", \"Topic3\", \"Topic3\", \"Topic3\", \"Topic3\", \"Topic3\", \"Topic3\", \"Topic3\", \"Topic3\", \"Topic3\", \"Topic3\", \"Topic3\", \"Topic3\", \"Topic3\", \"Topic4\", \"Topic4\", \"Topic4\", \"Topic4\", \"Topic4\", \"Topic4\", \"Topic4\", \"Topic4\", \"Topic4\", \"Topic4\", \"Topic4\", \"Topic4\", \"Topic4\", \"Topic4\", \"Topic4\", \"Topic4\", \"Topic4\", \"Topic4\", \"Topic4\", \"Topic4\", \"Topic4\", \"Topic4\", \"Topic4\", \"Topic4\", \"Topic4\", \"Topic4\", \"Topic4\", \"Topic4\", \"Topic4\", \"Topic4\", \"Topic4\", \"Topic4\", \"Topic4\", \"Topic4\", \"Topic4\", \"Topic4\", \"Topic4\", \"Topic4\", \"Topic4\", \"Topic4\", \"Topic4\", \"Topic4\", \"Topic4\", \"Topic4\", \"Topic4\", \"Topic4\", \"Topic4\", \"Topic4\", \"Topic4\", \"Topic4\", \"Topic4\", \"Topic4\", \"Topic4\", \"Topic4\", \"Topic4\", \"Topic4\", \"Topic4\", \"Topic4\", \"Topic4\", \"Topic4\", \"Topic4\", \"Topic4\", \"Topic4\", \"Topic5\", \"Topic5\", \"Topic5\", \"Topic5\", \"Topic5\", \"Topic5\", \"Topic5\", \"Topic5\", \"Topic5\", \"Topic5\", \"Topic5\", \"Topic5\", \"Topic5\", \"Topic5\", \"Topic5\", \"Topic5\", \"Topic5\", \"Topic5\", \"Topic5\", \"Topic5\", \"Topic5\", \"Topic5\", \"Topic5\", \"Topic5\", \"Topic5\", \"Topic5\", \"Topic5\", \"Topic5\", \"Topic5\", \"Topic5\", \"Topic5\", \"Topic5\", \"Topic5\", \"Topic5\", \"Topic5\", \"Topic5\", \"Topic5\", \"Topic5\", \"Topic5\", \"Topic5\", \"Topic5\", \"Topic5\", \"Topic5\", \"Topic5\", \"Topic5\", \"Topic5\", \"Topic5\", \"Topic5\", \"Topic5\", \"Topic5\", \"Topic5\", \"Topic5\", \"Topic5\", \"Topic5\", \"Topic5\", \"Topic5\", \"Topic6\", \"Topic6\", \"Topic6\", \"Topic6\", \"Topic6\", \"Topic6\", \"Topic6\", \"Topic6\", \"Topic6\", \"Topic6\", \"Topic6\", \"Topic6\", \"Topic6\", \"Topic6\", \"Topic6\", \"Topic6\", \"Topic6\", \"Topic6\", \"Topic6\", \"Topic6\", \"Topic6\", \"Topic6\", \"Topic6\", \"Topic6\", \"Topic6\", \"Topic6\", \"Topic6\", \"Topic6\", \"Topic6\", \"Topic6\", \"Topic6\", \"Topic6\", \"Topic6\", \"Topic6\", \"Topic6\", \"Topic6\", \"Topic6\", \"Topic6\", \"Topic6\", \"Topic6\", \"Topic6\", \"Topic6\", \"Topic6\", \"Topic6\", \"Topic6\", \"Topic6\", \"Topic6\", \"Topic6\", \"Topic6\", \"Topic6\", \"Topic6\", \"Topic6\", \"Topic6\"], \"logprob\": [30.0, 29.0, 28.0, 27.0, 26.0, 25.0, 24.0, 23.0, 22.0, 21.0, 20.0, 19.0, 18.0, 17.0, 16.0, 15.0, 14.0, 13.0, 12.0, 11.0, 10.0, 9.0, 8.0, 7.0, 6.0, 5.0, 4.0, 3.0, 2.0, 1.0, -5.2779, -5.6278, -5.7515, -5.9347, -5.978, -5.7548, -5.9835, -6.0196, -6.2827, -6.3418, -6.5279, -6.4414, -6.6481, -6.7655, -6.8009, -6.7882, -6.8885, -6.9907, -6.829, -6.8558, -6.8992, -6.9286, -6.5425, -7.004, -7.267, -7.098, -6.9714, -6.4543, -6.6779, -6.7736, -5.0265, -5.2886, -6.318, -6.9071, -5.1484, -6.5118, -6.2865, -6.7121, -6.171, -4.5734, -5.8876, -5.8026, -5.8407, -4.0242, -3.5805, -5.7335, -5.8183, -6.1689, -5.7428, -6.0549, -4.3443, -5.4594, -4.1706, -5.478, -5.7606, -5.4535, -5.2542, -5.4238, -5.6514, -4.771, -4.9735, -5.2034, -5.0348, -4.7509, -4.3636, -4.9705, -4.9858, -5.2337, -5.4786, -5.456, -5.0683, -5.2987, -5.4248, -5.5809, -5.185, -5.8479, -5.5678, -5.9562, -6.4128, -6.2451, -6.1036, -5.8018, -6.2737, -6.3931, -6.4832, -6.7084, -6.5646, -6.5133, -6.6841, -6.6641, -6.6643, -6.5279, -6.5884, -6.9013, -6.8286, -6.7768, -6.9685, -6.9959, -7.1721, -6.7425, -6.666, -7.0214, -6.7243, -6.4454, -5.1808, -6.4666, -5.8256, -6.6895, -5.3605, -6.2927, -4.9531, -5.6111, -6.0848, -5.3027, -6.028, -4.1933, -5.0382, -4.947, -6.5406, -6.363, -4.7674, -6.0, -3.7054, -5.7404, -4.2106, -5.7676, -5.6053, -5.7434, -5.4731, -3.8339, -5.07, -5.2579, -5.1579, -5.6925, -5.6094, -5.3681, -5.2951, -4.8864, -4.9191, -5.0978, -5.3842, -5.6764, -5.6168, -5.6776, -5.6361, -5.6752, -2.5942, -3.5328, -4.474, -4.7842, -5.6003, -5.2442, -4.9287, -5.9029, -6.4921, -7.5587, -7.7782, -7.3918, -7.626, -5.6166, -4.5016, -7.3184, -7.1879, -7.1871, -5.8434, -5.0719, -8.6613, -7.7712, -8.5886, -8.0454, -8.8031, -9.2298, -8.6117, -5.0149, -8.9033, -7.8514, -6.8721, -4.2623, -5.5536, -3.382, -5.3771, -5.4694, -4.9699, -3.4691, -3.3994, -5.2622, -6.1083, -3.6117, -6.044, -4.3997, -5.8575, -4.1709, -3.2771, -4.2932, -3.5807, -3.1514, -4.5444, -3.6106, -4.1068, -4.1235, -4.4456, -5.0252, -4.4555, -5.0269, -4.7118, -5.0529, -2.7972, -3.2243, -3.7594, -3.9246, -6.1995, -6.1745, -6.0401, -6.6708, -6.7145, -6.2265, -6.9485, -7.56, -7.6978, -6.7599, -7.4983, -6.9382, -5.3869, -2.4925, -8.2779, -6.0985, -8.6692, -8.4848, -8.567, -8.3197, -3.4415, -8.2115, -8.121, -6.9774, -8.3069, -8.7825, -5.2818, -5.6349, -7.2653, -4.3706, -3.6983, -5.4823, -5.8351, -7.4167, -6.1013, -2.6117, -5.8488, -3.2696, -5.0508, -4.2064, -4.4293, -2.9514, -4.6769, -3.7021, -4.8494, -4.9892, -5.4529, -4.6119, -4.6674, -4.5742, -4.1948, -4.2277, -5.4823, -4.7544, -4.0492, -5.0353, -4.6319, -5.2577, -5.0714, -3.9134, -3.918, -3.9055, -4.0969, -4.0832, -4.423, -4.3327, -4.7327, -3.9756, -5.0888, -6.0285, -4.7206, -5.1415, -6.1401, -6.1903, -5.3138, -6.2364, -5.2826, -6.3305, -6.079, -5.9275, -6.4724, -6.9575, -6.7809, -6.5501, -6.8299, -6.9921, -6.7912, -3.8739, -6.5153, -5.7954, -5.7812, -3.3166, -5.3393, -5.3202, -6.3196, -5.713, -5.1503, -5.1413, -5.2948, -5.5627, -4.2553, -4.7832, -4.4965, -4.6879, -5.4685, -4.5145, -4.0765, -4.2638, -4.8706, -4.4423, -4.3978, -5.0803, -5.2449, -5.2207, -5.1928, -3.4012, -3.7817, -3.9912, -5.5197, -5.5019, -5.7046, -4.6442, -6.4298, -6.3764, -6.2338, -6.153, -5.0862, -6.6563, -4.7638, -6.645, -7.0495, -6.9546, -6.9693, -6.0937, -4.3728, -7.121, -7.2071, -6.1228, -7.1546, -7.5668, -7.4783, -7.7766, -5.4943, -7.7371, -7.8575, -4.4284, -6.4719, -4.893, -6.0177, -2.4589, -3.979, -3.6742, -4.0525, -3.7653, -4.6284, -2.6821, -4.8653, -5.011, -5.0069, -4.8805, -4.9297, -4.9952, -3.0819, -5.3992, -4.205, -5.4291, -5.3274, -5.3043], \"loglift\": [30.0, 29.0, 28.0, 27.0, 26.0, 25.0, 24.0, 23.0, 22.0, 21.0, 20.0, 19.0, 18.0, 17.0, 16.0, 15.0, 14.0, 13.0, 12.0, 11.0, 10.0, 9.0, 8.0, 7.0, 6.0, 5.0, 4.0, 3.0, 2.0, 1.0, 1.0075, 1.0071, 1.0064, 1.0064, 1.0064, 1.0062, 1.0058, 1.0058, 1.0055, 1.0049, 1.0048, 1.004, 1.0038, 1.0036, 1.0032, 1.0031, 1.0028, 1.0026, 1.0026, 1.0024, 1.0023, 1.0022, 1.0012, 1.0007, 1.0006, 1.0004, 1.0004, 1.0002, 1.0001, 1.0001, 0.9952, 0.9953, 0.9987, 0.9999, 0.9799, 0.9906, 0.9828, 0.9956, 0.9665, 0.8771, 0.9398, 0.9322, 0.9334, 0.6803, 0.6249, 0.8791, 0.8712, 0.9228, 0.8359, 0.8923, 0.4778, 0.7309, 0.3474, 0.7203, 0.7989, 0.6825, 0.5831, 0.632, 0.7115, 0.2905, 0.3258, 0.4147, 0.2554, -0.017, -0.4556, -0.0611, -0.129, 0.0919, 0.4214, 0.3823, -0.3292, -0.4751, -0.5112, -0.176, 1.6412, 1.6393, 1.6391, 1.6371, 1.6357, 1.6356, 1.6355, 1.6353, 1.6348, 1.6343, 1.6336, 1.6333, 1.6326, 1.6324, 1.6319, 1.6315, 1.6311, 1.63, 1.6299, 1.6291, 1.6286, 1.6282, 1.6282, 1.6277, 1.6277, 1.6268, 1.6261, 1.6259, 1.625, 1.6248, 1.5932, 1.6187, 1.6035, 1.619, 1.543, 1.58, 1.4403, 1.5041, 1.5556, 1.4639, 1.5222, 1.1323, 1.2442, 1.169, 1.5974, 1.5405, 0.9774, 1.4127, 0.4999, 1.3071, 0.6129, 1.2768, 1.1899, 1.2602, 1.1126, 0.0741, 0.83, 0.9295, 0.7449, 1.1664, 1.0935, 0.7447, 0.6434, 0.0496, -0.1801, -0.1867, 0.4541, 1.0438, 0.8033, 1.0324, 0.5336, -0.3759, 1.7813, 1.7807, 1.78, 1.7776, 1.7764, 1.7748, 1.7675, 1.7636, 1.7587, 1.7554, 1.7454, 1.7384, 1.7313, 1.72, 1.6882, 1.6782, 1.6771, 1.6763, 1.6736, 1.6705, 1.6674, 1.6643, 1.6519, 1.6483, 1.6387, 1.6373, 1.6317, 1.6295, 1.6205, 1.6192, 1.6191, 1.565, 1.5833, 1.5316, 1.5604, 1.5629, 1.5295, 1.3878, 1.3345, 1.467, 1.5024, 1.1273, 1.4884, 1.2042, 1.4447, 1.1193, 0.9297, 1.1117, 0.9373, 0.7566, 1.0814, 0.7323, 0.8291, 0.786, 0.4655, 1.0319, 0.249, 0.9679, 0.1103, 0.5652, 2.1514, 2.1511, 2.1507, 2.1488, 2.1412, 2.1412, 2.1405, 2.1336, 2.1274, 2.1266, 2.1206, 2.1155, 2.1039, 2.092, 2.0831, 2.0746, 2.0697, 2.0644, 2.0584, 2.055, 2.0525, 2.0441, 2.0326, 2.0313, 2.0301, 2.0259, 2.0259, 2.0234, 2.022, 2.0149, 1.9918, 1.9723, 1.997, 1.9012, 1.8707, 1.8898, 1.8969, 1.9874, 1.9017, 1.5951, 1.875, 1.632, 1.784, 1.6795, 1.6507, 1.3915, 1.5531, 1.209, 1.5428, 1.5579, 1.6845, 1.3266, 1.2449, 1.1788, 0.7147, 0.7082, 1.6286, 0.8714, -0.1412, 1.0217, 0.1916, 1.1624, -0.0099, 2.176, 2.1759, 2.1759, 2.1753, 2.1752, 2.1738, 2.1738, 2.1735, 2.1734, 2.1725, 2.1681, 2.1678, 2.1662, 2.1658, 2.1656, 2.1631, 2.1617, 2.1614, 2.1602, 2.1602, 2.1599, 2.1574, 2.1564, 2.1554, 2.1548, 2.1543, 2.1538, 2.1529, 2.1495, 2.1486, 2.1446, 2.141, 2.0857, 2.1247, 2.1144, 2.1437, 2.1116, 2.0741, 2.0607, 2.0256, 2.0357, 1.657, 1.7405, 1.5639, 1.5697, 1.9057, 1.2637, 0.747, 0.7978, 1.1314, 0.3799, -0.0549, 0.9997, 1.57, 1.0617, 0.433, 3.1208, 3.1201, 3.116, 3.1074, 3.1065, 3.1025, 3.1024, 3.0919, 3.0872, 3.0866, 3.0834, 3.0746, 3.0738, 3.0721, 3.0702, 3.0635, 3.0607, 3.059, 3.0517, 3.049, 3.0479, 3.0451, 3.0406, 3.0297, 3.0185, 3.0183, 3.0173, 3.0172, 3.0059, 3.0051, 2.9834, 2.991, 2.9314, 2.9648, 2.7922, 2.8578, 2.8353, 2.8594, 2.8338, 2.7633, 2.2195, 2.6402, 2.6694, 2.6266, 2.2435, 2.2675, 2.2978, 0.8261, 2.4414, 1.0944, 2.3595, 2.1786, 1.7699]}, \"token.table\": {\"Topic\": [1, 2, 3, 4, 5, 6, 1, 2, 3, 4, 5, 6, 1, 2, 3, 4, 5, 6, 1, 2, 3, 4, 5, 6, 1, 2, 3, 4, 5, 6, 1, 2, 3, 4, 5, 6, 1, 2, 3, 4, 5, 6, 1, 2, 3, 4, 5, 6, 1, 2, 3, 4, 5, 6, 1, 2, 3, 4, 5, 6, 1, 2, 3, 4, 5, 6, 1, 2, 3, 4, 5, 6, 1, 2, 3, 4, 5, 6, 1, 2, 3, 4, 5, 6, 1, 2, 3, 4, 5, 6, 1, 2, 3, 4, 5, 6, 1, 2, 3, 4, 5, 6, 1, 2, 3, 4, 5, 6, 1, 2, 3, 4, 5, 6, 1, 2, 3, 4, 5, 6, 1, 2, 3, 4, 5, 6, 1, 2, 3, 4, 5, 6, 1, 2, 3, 4, 5, 6, 1, 2, 3, 4, 5, 6, 1, 2, 3, 4, 5, 6, 1, 2, 3, 4, 5, 6, 1, 2, 3, 4, 5, 6, 1, 2, 3, 4, 5, 6, 1, 2, 3, 4, 5, 6, 1, 2, 3, 4, 5, 6, 1, 2, 3, 4, 5, 6, 1, 2, 3, 4, 5, 6, 1, 2, 3, 4, 5, 6, 1, 2, 3, 4, 5, 6, 1, 2, 3, 4, 5, 6, 1, 2, 3, 4, 5, 6, 1, 2, 3, 4, 5, 6, 1, 2, 3, 4, 5, 6, 1, 2, 3, 4, 5, 6, 1, 2, 3, 4, 5, 6, 1, 2, 3, 4, 5, 6, 1, 2, 3, 4, 5, 6, 1, 2, 3, 4, 5, 6, 1, 2, 3, 4, 5, 6, 1, 2, 3, 4, 5, 6, 1, 2, 3, 4, 5, 6, 1, 2, 3, 4, 5, 6, 1, 2, 3, 4, 5, 6, 1, 2, 3, 4, 5, 6, 1, 2, 3, 4, 5, 6, 1, 2, 3, 4, 5, 6, 1, 2, 3, 4, 5, 6, 1, 2, 3, 4, 5, 6, 1, 2, 3, 4, 5, 6, 1, 2, 3, 4, 5, 6, 1, 2, 3, 4, 5, 6, 1, 2, 3, 4, 5, 6, 1, 2, 3, 4, 5, 6, 1, 2, 3, 4, 5, 6, 1, 2, 3, 4, 5, 6, 1, 2, 3, 4, 5, 6, 1, 2, 3, 4, 5, 6, 1, 2, 3, 4, 5, 6, 1, 2, 3, 4, 5, 6, 1, 2, 3, 4, 5, 6, 1, 2, 3, 4, 5, 6, 1, 2, 3, 4, 5, 6, 1, 2, 3, 4, 5, 6, 1, 2, 3, 4, 5, 6, 1, 2, 3, 4, 5, 6, 1, 2, 3, 4, 5, 6, 1, 2, 3, 4, 5, 6, 1, 2, 3, 4, 5, 6, 1, 2, 3, 4, 5, 6, 1, 2, 3, 4, 5, 6, 1, 2, 3, 4, 5, 6, 1, 2, 3, 4, 5, 6, 1, 2, 3, 4, 5, 6, 1, 2, 3, 4, 5, 6, 1, 2, 3, 4, 5, 6, 1, 2, 3, 4, 5, 6, 1, 2, 3, 4, 5, 6, 1, 2, 3, 4, 5, 6, 1, 2, 3, 4, 5, 6, 1, 2, 3, 5, 6, 1, 2, 3, 4, 5, 6, 1, 2, 3, 4, 5, 6, 1, 2, 3, 4, 5, 6, 1, 2, 3, 4, 5, 6, 1, 2, 3, 4, 5, 6, 1, 2, 3, 4, 5, 6, 1, 2, 3, 4, 5, 6, 1, 2, 3, 4, 5, 6, 1, 2, 3, 4, 5, 6, 1, 2, 3, 4, 5, 6, 1, 2, 3, 4, 5, 6, 1, 2, 3, 4, 5, 6, 1, 2, 3, 4, 5, 6, 1, 2, 3, 4, 5, 6, 1, 2, 3, 4, 5, 6, 1, 2, 3, 4, 5, 6, 1, 2, 3, 4, 5, 6, 1, 2, 3, 4, 5, 6, 1, 2, 3, 5, 6, 1, 2, 3, 4, 5, 6, 1, 2, 3, 4, 5, 6, 1, 2, 3, 4, 5, 6, 1, 2, 3, 4, 5, 6, 1, 2, 3, 4, 5, 6, 1, 2, 3, 4, 5, 6, 1, 2, 3, 4, 5, 6, 1, 2, 3, 4, 5, 6, 1, 2, 3, 4, 5, 6, 1, 2, 3, 4, 5, 6, 1, 2, 3, 4, 5, 6, 1, 2, 3, 4, 5, 6, 1, 2, 3, 4, 5, 6, 1, 2, 3, 4, 5, 6, 1, 2, 3, 4, 5, 6, 1, 2, 3, 4, 5, 6, 1, 2, 3, 4, 5, 6, 1, 2, 3, 4, 5, 6, 1, 2, 3, 4, 5, 6, 1, 2, 3, 4, 5, 6, 1, 2, 3, 4, 5, 6, 1, 2, 3, 4, 5, 6, 1, 2, 3, 4, 5, 6, 1, 2, 3, 4, 5, 6, 1, 2, 3, 4, 5, 6, 1, 2, 3, 4, 5, 6, 1, 2, 3, 4, 5, 6, 1, 2, 3, 4, 5, 6, 1, 2, 3, 4, 5, 6, 1, 2, 3, 4, 5, 6, 1, 2, 3, 4, 5, 6, 1, 2, 3, 4, 5, 6, 1, 2, 3, 4, 5, 6, 1, 2, 3, 4, 5, 6, 1, 2, 3, 4, 5, 6, 1, 2, 3, 4, 5, 6, 1, 2, 3, 4, 5, 6, 1, 2, 3, 4, 5, 6, 1, 2, 3, 4, 5, 6, 1, 2, 3, 4, 5, 6, 1, 2, 3, 4, 5, 6, 1, 2, 3, 4, 5, 6, 1, 2, 3, 4, 5, 6, 1, 2, 3, 4, 5, 6, 1, 2, 3, 4, 5, 6, 1, 2, 3, 4, 5, 6, 1, 2, 3, 4, 5, 6, 1, 2, 3, 5, 6, 1, 2, 3, 4, 5, 6, 1, 2, 3, 4, 5, 6, 1, 2, 3, 4, 5, 6, 1, 2, 3, 4, 5, 6, 1, 2, 3, 4, 5, 6, 1, 2, 3, 4, 5, 6, 1, 2, 3, 4, 5, 6, 1, 2, 3, 4, 5, 6, 1, 2, 3, 4, 5, 6, 1, 2, 3, 4, 5, 6, 1, 2, 3, 4, 5, 6, 1, 2, 3, 4, 5, 6, 1, 2, 3, 4, 5, 6, 1, 2, 3, 4, 5, 6, 1, 2, 3, 4, 5, 6, 1, 2, 3, 4, 5, 6, 1, 2, 3, 4, 5, 6, 1, 2, 3, 4, 5, 6, 1, 2, 3, 4, 5, 6, 1, 2, 3, 4, 5, 6, 1, 2, 3, 4, 5, 6, 1, 2, 3, 4, 5, 6, 1, 2, 3, 4, 5, 6, 1, 2, 3, 4, 5, 6, 1, 2, 3, 4, 5, 6, 1, 2, 3, 4, 5, 6, 1, 2, 3, 4, 5, 6, 1, 2, 3, 4, 5, 6, 1, 2, 3, 4, 5, 6, 1, 2, 3, 4, 5, 6, 1, 2, 3, 4, 5, 6, 1, 2, 3, 4, 5, 6, 1, 2, 3, 4, 5, 6, 1, 2, 3, 4, 5, 6, 1, 2, 3, 4, 5, 6, 1, 2, 3, 4, 5, 6, 1, 2, 3, 5, 6, 1, 2, 3, 5, 6, 1, 2, 3, 4, 5, 6, 1, 2, 3, 4, 5, 6, 1, 2, 3, 4, 5, 6, 1, 2, 3, 4, 5, 6, 1, 2, 3, 4, 5, 6, 1, 2, 3, 4, 5, 6, 1, 2, 3, 4, 5, 6, 1, 2, 3, 4, 5, 6, 1, 2, 3, 4, 5, 6, 1, 2, 3, 4, 5, 6, 1, 2, 3, 4, 5, 6, 1, 2, 3, 4, 5, 6, 1, 2, 3, 4, 5, 6, 1, 2, 3, 4, 5, 6, 1, 2, 3, 4, 5, 6, 1, 2, 3, 4, 5, 6, 1, 2, 3, 4, 5, 6, 1, 2, 3, 4, 5, 6, 1, 2, 3, 4, 5, 6, 1, 2, 3, 4, 5, 6, 1, 2, 3, 4, 5, 6, 1, 2, 3, 4, 5, 6, 1, 2, 3, 4, 5, 6, 1, 2, 3, 4, 5, 6, 1, 2, 3, 4, 5, 6, 1, 2, 3, 4, 5, 6, 1, 2, 3, 4, 5, 6, 1, 2, 3, 4, 5, 6, 1, 2, 3, 4, 5, 6, 1, 2, 3, 5, 6, 1, 2, 3, 4, 5, 6, 1, 2, 3, 4, 5, 6, 1, 2, 3, 4, 5, 6, 1, 2, 3, 4, 5, 6, 1, 2, 3, 4, 5, 6, 1, 2, 3, 4, 5, 6, 1, 2, 3, 4, 5, 6, 1, 2, 3, 4, 5, 6, 1, 2, 3, 4, 5, 6, 1, 2, 3, 4, 5, 6, 1, 2, 3, 4, 5, 6, 1, 2, 3, 4, 5, 6, 1, 2, 3, 4, 5, 6, 1, 2, 3, 4, 5, 6, 1, 2, 3, 4, 5, 6, 1, 2, 3, 4, 5, 6, 1, 2, 3, 4, 5, 6, 1, 2, 3, 4, 5, 6, 1, 2, 3, 4, 5, 6, 1, 2, 3, 4, 5, 6, 1, 2, 3, 4, 5, 6, 1, 2, 3, 4, 5, 6, 1, 2, 3, 4, 5, 6, 1, 2, 3, 4, 5, 6, 1, 2, 3, 4, 5, 6, 1, 2, 3, 4, 5, 6, 1, 2, 3, 4, 5, 6, 1, 2, 3, 4, 5, 6, 1, 2, 3, 4, 5, 6, 1, 2, 3, 4, 5, 6, 1, 2, 3, 4, 5, 6, 1, 2, 3, 4, 5, 6, 1, 2, 3, 4, 5, 6, 1, 2, 3, 4, 5, 6, 1, 2, 3, 4, 5, 6, 1, 2, 3, 4, 5, 6, 1, 2, 3, 5, 6, 1, 2, 3, 4, 5, 6, 1, 2, 3, 4, 5, 6, 1, 2, 3, 4, 5, 6, 1, 2, 3, 4, 5, 6, 1, 2, 3, 4, 5, 6, 1, 2, 3, 4, 5, 6, 1, 2, 3, 4, 5, 6, 1, 2, 3, 4, 5, 6, 1, 2, 3, 4, 5, 6, 1, 2, 3, 4, 5, 6, 1, 2, 3, 4, 5, 6, 1, 2, 3, 4, 5, 6, 1, 2, 3, 4, 5, 6, 1, 2, 3, 4, 5, 6, 1, 2, 3, 4, 5, 6, 1, 2, 3, 4, 5, 6, 1, 2, 3, 4, 5, 6, 1, 2, 3, 4, 5, 6, 1, 2, 3, 4, 5, 6, 1, 2, 3, 4, 5, 6, 1, 2, 3, 4, 5, 6, 1, 2, 3, 4, 5, 6, 1, 2, 3, 4, 5, 6, 1, 2, 3, 4, 5, 6, 1, 2, 3, 4, 5, 6, 1, 2, 3, 4, 5, 6, 1, 2, 3, 4, 5, 6, 1, 2, 3, 4, 5, 6, 1, 2, 3, 4, 5, 6, 1, 2, 3, 5, 6, 1, 2, 3, 4, 5, 6, 1, 2, 3, 4, 5, 6, 1, 2, 3, 4, 5, 6, 1, 2, 3, 4, 5, 6, 1, 2, 3, 4, 5, 6, 1, 2, 3, 4, 5, 6, 1, 2, 3, 4, 5, 6, 1, 2, 3, 4, 5, 6, 1, 2, 3, 4, 5, 6, 1, 2, 3, 4, 5, 6, 1, 2, 3, 4, 5, 6, 1, 2, 3, 4, 5, 6, 1, 2, 3, 4, 5, 6, 1, 2, 3, 4, 5, 6, 1, 2, 3, 4, 5, 6, 1, 2, 3, 4, 5, 6, 1, 2, 3, 4, 5, 6, 1, 2, 3, 4, 5, 6, 1, 2, 3, 4, 5, 6, 1, 2, 3, 4, 5, 6, 1, 2, 3, 4, 5, 6, 1, 2, 3, 4, 5, 6, 1, 2, 3, 4, 5, 6, 1, 2, 3, 4, 5, 6, 1, 2, 3, 4, 5, 6, 1, 2, 3, 4, 5, 6, 1, 2, 3, 4, 5, 6, 1, 2, 3, 5, 6, 1, 2, 3, 4, 5, 6, 1, 2, 3, 4, 5, 6, 1, 2, 3, 4, 5, 6, 1, 2, 3, 4, 5, 6, 1, 2, 3, 4, 5, 6, 1, 2, 3, 4, 5, 6, 1, 2, 3, 4, 5, 6, 1, 2, 3, 4, 5, 6, 1, 2, 3, 4, 5, 6, 1, 2, 3, 4, 5, 6, 1, 2, 3, 4, 5, 6, 1, 2, 3, 4, 5, 6, 1, 2, 3, 4, 5, 6, 1, 2, 3, 4, 5, 6, 1, 2, 3, 4, 5, 6, 1, 2, 3, 4, 5, 6, 1, 2, 3, 4, 5, 6, 1, 2, 3, 4, 5, 6], \"Freq\": [0.005491475970591491, 0.010982951941182982, 0.19952362693149084, 0.7779590958337945, 0.0036609839803943274, 0.0018304919901971637, 0.010901010948188966, 0.000991000995289906, 0.9860459903134564, 0.000991000995289906, 0.000495500497644953, 0.000495500497644953, 0.0007312322304002898, 0.0003656161152001449, 0.45446083119378017, 0.5436711633026156, 0.0003656161152001449, 0.0003656161152001449, 0.0031402072497655363, 0.008373885999374763, 0.0020934714998436907, 0.0010467357499218454, 0.9849783406764566, 0.0010467357499218454, 0.0012225923854489382, 0.0006112961927244691, 0.0006112961927244691, 0.0006112961927244691, 0.9964127941408846, 0.0006112961927244691, 0.9333883974205531, 0.0005650050831843542, 0.0005650050831843542, 0.0005650050831843542, 0.06441057948301637, 0.0005650050831843542, 0.022885752673141416, 0.022885752673141416, 0.022885752673141416, 0.8925443542525153, 0.022885752673141416, 0.022885752673141416, 0.19318975136609998, 0.0006482877562620804, 0.027552229641138418, 0.7782694513926276, 0.0003241438781310402, 0.0003241438781310402, 0.002478202006617942, 0.004956404013235884, 0.002478202006617942, 0.002478202006617942, 0.9888026006405589, 0.002478202006617942, 0.0029811386421360617, 0.008943415926408186, 0.0029811386421360617, 0.0029811386421360617, 0.9837757519049004, 0.0029811386421360617, 0.998861391903766, 0.0003285728262841336, 0.0003285728262841336, 0.0003285728262841336, 0.0003285728262841336, 0.0003285728262841336, 0.41037877293441855, 0.5878398639330861, 0.0004436527274966687, 0.0004436527274966687, 0.0004436527274966687, 0.0004436527274966687, 0.004888467387792626, 0.9825819449463179, 0.004888467387792626, 0.002444233693896313, 0.002444233693896313, 0.002444233693896313, 0.8904171716575607, 0.10763984407019153, 0.0006369221542614883, 0.0006369221542614883, 0.0006369221542614883, 0.0006369221542614883, 0.9898289705230521, 0.0018432569283483278, 0.0009216284641741639, 0.0018432569283483278, 0.0018432569283483278, 0.0046081423208708195, 0.007794041041652425, 0.007794041041652425, 0.005196027361101616, 0.9742551302065531, 0.002598013680550808, 0.002598013680550808, 0.7339555983118906, 0.005061762746978556, 0.0014462179277081588, 0.0007231089638540794, 0.0007231089638540794, 0.2581499000959064, 0.1706751895770605, 0.0006217675394428433, 0.2785518576703938, 0.5496425048674735, 0.00031088376972142166, 0.00031088376972142166, 0.0003198440536066444, 0.0003198440536066444, 0.0003198440536066444, 0.0006396881072132888, 0.9982332913063373, 0.0003198440536066444, 0.01887493475563681, 0.01887493475563681, 0.01887493475563681, 0.9059968682705668, 0.03774986951127362, 0.01887493475563681, 0.056407848707066666, 0.0009401308117844444, 0.9401308117844445, 0.0009401308117844444, 0.0009401308117844444, 0.0009401308117844444, 0.004883452404355181, 0.004883452404355181, 0.004883452404355181, 0.004883452404355181, 0.9766904808710362, 0.004883452404355181, 0.0017438628979212956, 0.0008719314489606478, 0.0008719314489606478, 0.0008719314489606478, 0.9957457147130597, 0.0008719314489606478, 0.005435367379737907, 0.0027176836898689534, 0.0027176836898689534, 0.0027176836898689534, 0.9838014957325611, 0.0027176836898689534, 0.006852136439501424, 0.003426068219750712, 0.003426068219750712, 0.003426068219750712, 0.9798555108487036, 0.003426068219750712, 0.001957788906453722, 0.9808522421333148, 0.001957788906453722, 0.001957788906453722, 0.011746733438722332, 0.001957788906453722, 0.16321315326520416, 0.8352047680118427, 0.0005316389357172774, 0.0005316389357172774, 0.0005316389357172774, 0.0005316389357172774, 0.8107851478413913, 0.1875696983812174, 0.00043218824511801244, 0.00043218824511801244, 0.00043218824511801244, 0.0008643764902360249, 0.000535616952830809, 0.9507200912746859, 0.000535616952830809, 0.000535616952830809, 0.04713429184911119, 0.000535616952830809, 0.05160872582013673, 0.017202908606712242, 0.8601454303356122, 0.034405817213424485, 0.034405817213424485, 0.017202908606712242, 0.7215656071060139, 0.000565933809494913, 0.2767416328430124, 0.0002829669047474565, 0.000565933809494913, 0.0002829669047474565, 0.008374502395416913, 0.008374502395416913, 0.963067775472945, 0.008374502395416913, 0.008374502395416913, 0.008374502395416913, 0.11930582476496807, 0.023861164952993612, 0.8500540014503974, 0.0029826456191242015, 0.0029826456191242015, 0.0029826456191242015, 0.3769354953392449, 0.6221238528667596, 0.00027736239539311616, 0.00027736239539311616, 0.00027736239539311616, 0.00027736239539311616, 0.060639618358150515, 0.13909985925420648, 0.2697844245321798, 0.17870124267177417, 0.3514622778309132, 0.000247508646359798, 0.0012011144522761036, 0.0006005572261380518, 0.0018016716784141553, 0.005405015035242466, 0.9909194231277854, 0.0006005572261380518, 0.010703845043341858, 0.03992704103468789, 0.4964545272483319, 0.2779601665223378, 0.17482946904125035, 0.0001699023022752676, 0.05233079381391259, 0.02260916384399464, 0.35020652745854197, 0.46749156489926413, 0.10729932340962456, 4.710242467498883e-05, 0.002465051654759337, 0.02054209712299447, 0.0008216838849197789, 0.0032867355396791155, 0.8898836473681205, 0.08216838849197788, 0.9977057057828177, 0.0005270500294679439, 0.0005270500294679439, 0.0005270500294679439, 0.0005270500294679439, 0.0005270500294679439, 0.9940212674815466, 0.0016539455365749529, 0.0016539455365749529, 0.0016539455365749529, 0.0016539455365749529, 0.0016539455365749529, 0.7427946037247083, 0.0010651930263738645, 0.0010651930263738645, 0.00035506434212462153, 0.25458113330335364, 0.00035506434212462153, 0.9908584004178739, 0.002013939838247711, 0.002013939838247711, 0.002013939838247711, 0.002013939838247711, 0.002013939838247711, 0.7496032700793294, 0.0006023328807387139, 0.1719660374509028, 0.0018069986422161416, 0.0761951094134473, 0.00030116644036935693, 0.003922724822001949, 0.010460599525338532, 0.9819887804411547, 0.0013075749406673165, 0.0013075749406673165, 0.0013075749406673165, 0.01418270856431346, 0.01418270856431346, 0.9502414738090017, 0.00709135428215673, 0.00709135428215673, 0.01418270856431346, 0.02512656989141961, 0.030151883869703532, 0.005025313978283922, 0.9246577720042417, 0.005025313978283922, 0.010050627956567844, 0.028349683322319203, 0.028349683322319203, 0.028349683322319203, 0.028349683322319203, 0.028349683322319203, 0.8788401829918953, 0.2624166556460904, 0.1614117919231487, 0.5198635640126736, 0.05228734109566005, 0.003919800671160593, 6.999644055643916e-05, 0.012749487696784271, 0.004249829232261424, 0.0028332194881742824, 0.0014166097440871412, 0.0014166097440871412, 0.9788773331642145, 0.986493085949581, 0.0013625595109800841, 0.0068127975549004205, 0.0013625595109800841, 0.0027251190219601683, 0.0013625595109800841, 0.05392292586370009, 0.004147917374130776, 0.001036979343532694, 0.001036979343532694, 0.9395032852406208, 0.001036979343532694, 0.21877875541011194, 0.002166951482157299, 0.7789357135477738, 8.334428777528073e-05, 8.334428777528073e-05, 8.334428777528073e-05, 0.006954480482929478, 0.004636320321952985, 0.0023181601609764927, 0.0023181601609764927, 0.982899908254033, 0.0023181601609764927, 0.0036533288773748867, 0.002739996658031165, 0.002739996658031165, 0.0009133322193437217, 0.9891387935492505, 0.0009133322193437217, 9.731782289631479e-05, 4.865891144815739e-05, 0.9997459946138417, 4.865891144815739e-05, 4.865891144815739e-05, 4.865891144815739e-05, 0.03195398345805884, 0.03195398345805884, 0.03195398345805884, 0.03195398345805884, 0.03195398345805884, 0.8947115368256474, 0.08779599945719846, 0.0005972516969877447, 0.9108088379063106, 0.00029862584849387234, 0.00029862584849387234, 0.00029862584849387234, 0.03977306233799621, 0.008324594442836416, 0.0064746845666505464, 0.02312387345232338, 0.8592831374883367, 0.06382189072841253, 0.0020272262729438646, 0.12467441578604768, 0.0010136131364719323, 0.0010136131364719323, 0.003040839409415797, 0.8696800710929179, 0.993808513001927, 0.001637246314665448, 0.001637246314665448, 0.001637246314665448, 0.001637246314665448, 0.001637246314665448, 0.002221600021220797, 0.002221600021220797, 0.002221600021220797, 0.002221600021220797, 0.9908336094644754, 0.002221600021220797, 0.20699434445416776, 0.713919269648048, 0.0007040623961026114, 0.0007040623961026114, 0.0014081247922052228, 0.07603873877908203, 0.9938765959525542, 0.0014811871772765339, 0.0014811871772765339, 0.0014811871772765339, 0.0014811871772765339, 0.0014811871772765339, 0.358555171262616, 0.0016712612371922282, 0.6395359667655593, 6.963588488300951e-05, 6.963588488300951e-05, 6.963588488300951e-05, 0.09674317337637407, 0.012899089783516542, 0.025798179567033085, 0.85778947060385, 0.006449544891758271, 0.006449544891758271, 0.8717167373858781, 0.0009844344860371293, 0.12649983145577112, 0.0004922172430185647, 0.0004922172430185647, 0.0004922172430185647, 0.9975810722545057, 0.0005286598157151594, 0.0005286598157151594, 0.0005286598157151594, 0.0005286598157151594, 0.0010573196314303188, 0.3011058245282653, 0.6927539599286663, 0.0035093918942688263, 0.0007018783788537653, 0.0014037567577075305, 0.0007018783788537653, 0.015967820772919934, 0.015967820772919934, 0.015967820772919934, 0.015967820772919934, 0.015967820772919934, 0.9261336048293562, 0.0015039084192297212, 0.43162171631893, 0.0015039084192297212, 0.37184135665454854, 0.19287625476621173, 0.0007519542096148606, 0.993544766290464, 0.0018130378946906278, 0.0018130378946906278, 0.0018130378946906278, 0.0018130378946906278, 0.0018130378946906278, 0.00454074896703435, 0.985342525846454, 0.002270374483517175, 0.002270374483517175, 0.00454074896703435, 0.002270374483517175, 0.9920385228187173, 0.0018337126114948564, 0.0018337126114948564, 0.0018337126114948564, 0.0018337126114948564, 0.0018337126114948564, 0.01063185506640806, 0.00531592753320403, 0.00531592753320403, 0.9674988110431335, 0.00531592753320403, 0.01063185506640806, 0.9918180911467859, 0.0035485441543713267, 0.0017742720771856634, 0.0017742720771856634, 0.0017742720771856634, 0.0017742720771856634, 0.9957596738362635, 0.0010481680777223827, 0.0010481680777223827, 0.0010481680777223827, 0.0010481680777223827, 0.0010481680777223827, 0.3033964387840815, 0.11530700234111993, 0.15537823010505522, 0.000817780158447659, 0.000817780158447659, 0.4252456823927827, 0.006707211804261985, 0.0033536059021309927, 0.0033536059021309927, 0.0033536059021309927, 0.0033536059021309927, 0.9826065293243808, 0.10941247664653454, 0.8857754758299232, 0.0023279250350326497, 0.0011639625175163249, 0.0023279250350326497, 0.0011639625175163249, 0.9919714898000773, 0.0039678859592003094, 0.0026452573061335398, 0.0013226286530667699, 0.0013226286530667699, 0.0013226286530667699, 0.841448626644139, 0.15727599984919247, 0.00044054901918541306, 0.00044054901918541306, 0.00044054901918541306, 0.00044054901918541306, 0.3431151890041859, 8.299835244416689e-05, 0.369508665081431, 0.2376242830476498, 0.0496330147616118, 8.299835244416689e-05, 0.2446804042988713, 0.004573465500913482, 0.7454748766488976, 0.0034300991256851114, 0.0011433663752283706, 0.0011433663752283706, 0.995367910937304, 0.001448861587972786, 0.001448861587972786, 0.001448861587972786, 0.001448861587972786, 0.020591091994363642, 0.010295545997181821, 0.010295545997181821, 0.010295545997181821, 0.010295545997181821, 0.9471902317407276, 0.00478980046573458, 0.0006842572093906543, 0.99354146803523, 0.0006842572093906543, 0.0006842572093906543, 0.0006842572093906543, 0.0017326472769911528, 0.0008663236384955764, 0.9962721842699128, 0.0008663236384955764, 0.0004331618192477882, 0.0004331618192477882, 0.0018001276707576273, 0.5580395779348645, 0.0009000638353788136, 0.0009000638353788136, 0.0009000638353788136, 0.43833108782948227, 0.02281247888013582, 0.0883983556605263, 0.10493740284862477, 0.010835927468064513, 0.00627343169203735, 0.7664992903725635, 0.06134946153559228, 0.023006048075847104, 0.889567192266088, 0.007668682691949035, 0.007668682691949035, 0.007668682691949035, 0.8766919894260513, 0.00042772417763508767, 0.00042772417763508767, 0.0008554483552701753, 0.1214736664483649, 0.00014257472587836254, 0.2969992254720269, 0.0029799253391842163, 0.0009933084463947387, 0.0009933084463947387, 0.0009933084463947387, 0.6973025293691066, 0.056255057261229195, 0.034618496776141046, 0.9000809161796671, 0.004327312097017631, 0.004327312097017631, 0.004327312097017631, 0.996866984212162, 0.000895657667755761, 0.000895657667755761, 0.000895657667755761, 0.000895657667755761, 0.000895657667755761, 0.0054495796771330905, 0.0027247898385665452, 0.7138949377044349, 0.22797408316006762, 0.04904621709419782, 0.0009082632795221817, 0.3515185739690196, 0.00125095577924918, 0.00041698525974972664, 0.00041698525974972664, 0.6463271526120763, 0.00041698525974972664, 0.0030482807037886177, 0.904120056743704, 0.0012193122815154472, 0.0012193122815154472, 0.08961945269138537, 0.0006096561407577236, 0.9982017161345121, 0.00046601387307867043, 0.00046601387307867043, 0.00046601387307867043, 0.00046601387307867043, 0.00046601387307867043, 0.11212635589260683, 0.009750117903704942, 0.014625176855557413, 0.004875058951852471, 0.004875058951852471, 0.8531353165741824, 0.0048809448778482836, 0.00292856692670897, 0.22842822028329968, 0.0009761889755696568, 0.7624035899199019, 0.0009761889755696568, 0.02993485404290761, 0.02993485404290761, 0.02993485404290761, 0.8681107672443206, 0.02993485404290761, 0.02993485404290761, 0.39978293746734433, 0.5996114878916889, 0.00012583661865512883, 0.00012583661865512883, 0.00025167323731025765, 0.00012583661865512883, 0.008121777975383979, 0.9827351350214614, 0.004060888987691989, 0.004060888987691989, 0.004060888987691989, 0.04943946306924285, 0.02966367784154571, 0.8997982278602199, 0.004943946306924285, 0.00988789261384857, 0.004943946306924285, 0.007386802506456159, 0.0036934012532280794, 0.0036934012532280794, 0.0036934012532280794, 0.978751332105441, 0.0036934012532280794, 0.027016642809180053, 0.0033770803511475067, 0.0016885401755737533, 0.0016885401755737533, 0.9641564402526132, 0.0016885401755737533, 0.012835403561994783, 0.012835403561994783, 0.004278467853998261, 0.9412629278796174, 0.025670807123989565, 0.004278467853998261, 0.004223032670932427, 0.988189644998188, 0.0021115163354662133, 0.0021115163354662133, 0.0021115163354662133, 0.0021115163354662133, 0.002227122622518354, 0.6035502307024738, 0.002227122622518354, 0.001113561311259177, 0.001113561311259177, 0.38863289762945274, 0.09100534060976241, 0.11088007016821627, 0.4725478462121858, 0.3229643553248752, 0.0023535863950800624, 0.00026150959945334026, 0.008471194405562777, 0.008471194405562777, 0.004235597202781389, 0.9741873566397194, 0.004235597202781389, 0.004235597202781389, 0.0006793408149572717, 0.0687492904736759, 0.016032443232991613, 0.0019021542818803607, 0.9126264508135987, 0.00013586816299145433, 0.08934769446845436, 0.00992752160760604, 0.8736219014693315, 0.00992752160760604, 0.00992752160760604, 0.00992752160760604, 0.09908932250411868, 0.001126015028455894, 0.8974339776793476, 0.001126015028455894, 0.001126015028455894, 0.001126015028455894, 0.0012295490574524782, 0.0012295490574524782, 0.00040984968581749275, 0.00040984968581749275, 0.9967544359081424, 0.00040984968581749275, 0.0021373128643039814, 0.9874385433084394, 0.0021373128643039814, 0.0021373128643039814, 0.006411938592911944, 0.0021373128643039814, 0.000416275312173689, 0.000416275312173689, 0.000416275312173689, 0.000416275312173689, 0.000832550624347378, 0.9973956479681588, 0.04554224367829971, 0.022771121839149856, 0.8425315080485447, 0.04554224367829971, 0.022771121839149856, 0.022771121839149856, 0.011059221878844616, 0.011059221878844616, 0.011059221878844616, 0.951093081580637, 0.011059221878844616, 0.011059221878844616, 0.004102165536601063, 0.9906729770891567, 0.0020510827683005313, 0.0020510827683005313, 0.0020510827683005313, 0.0020510827683005313, 0.1390291534897499, 0.3295722670093861, 0.22917858354205087, 0.06380706412792732, 0.23825206513822403, 0.00029269295471526295, 0.24766849852027314, 0.15820350064377617, 0.05194741812183695, 0.0002623606975850351, 0.5415124798155124, 0.0002623606975850351, 0.27741045055211777, 0.0018283492846454736, 0.5614694439574919, 0.0668178556752255, 0.09241474566026213, 0.0001662135713314067, 0.022603876642951326, 0.0056509691607378315, 0.9550137881646935, 0.0056509691607378315, 0.0056509691607378315, 0.0056509691607378315, 0.05293876153448621, 0.03529250768965748, 0.0067223824170776145, 0.0008402978021347018, 0.9024798394926697, 0.0033611912085388072, 8.221653251919252e-05, 4.110826625959626e-05, 0.4266626955083496, 0.5730903399250316, 0.0001233247987787888, 4.110826625959626e-05, 0.13593218910962152, 0.0026480296579796396, 0.0017653531053197597, 0.8517828733167842, 0.007061412421279039, 0.0008826765526598799, 0.01915579922529883, 0.01915579922529883, 0.01915579922529883, 0.8811667643637462, 0.03831159845059766, 0.01915579922529883, 0.0026052621665272006, 0.0026052621665272006, 0.0026052621665272006, 0.0026052621665272006, 0.9873943611138091, 0.0026052621665272006, 0.1748978967127036, 0.3676804389059891, 0.003251753723742165, 0.43805768021269453, 0.015794232372461945, 0.00023226812312444038, 0.02456384694023673, 0.02456384694023673, 0.02456384694023673, 0.8842984898485222, 0.02456384694023673, 0.02456384694023673, 0.002565902094782248, 0.002565902094782248, 0.002565902094782248, 0.9904382085859477, 0.002565902094782248, 0.002565902094782248, 0.08918249477666576, 0.029727498258888586, 0.014863749129444293, 0.8472337003783248, 0.007431874564722146, 0.007431874564722146, 0.07643025156465677, 0.9158891812498036, 0.0025476750521552256, 0.0012738375260776128, 0.0012738375260776128, 0.0012738375260776128, 0.9264953273305038, 0.0721008036833077, 0.0005150057405950549, 0.0005150057405950549, 0.0005150057405950549, 0.0005150057405950549, 0.15888416101311398, 0.20692403216548408, 0.0004407327628657808, 0.6234164930736469, 0.010357219927345849, 0.0002203663814328904, 0.08515893726436011, 0.13402062257997657, 0.004188144455624268, 0.7748067242904895, 0.0013960481518747558, 0.0013960481518747558, 0.0008972260149732783, 0.0004486130074866391, 0.0004486130074866391, 0.0008972260149732783, 0.9968181026353121, 0.0004486130074866391, 0.014072313269322605, 0.004690771089774202, 0.9780257722179211, 0.002345385544887101, 0.002345385544887101, 0.002345385544887101, 0.004500807164873818, 0.40132197220124877, 0.0007501345274789696, 0.5926062767083861, 0.0007501345274789696, 0.0007501345274789696, 0.8787013122136234, 0.06335035394071248, 0.056969742752439274, 0.0004557579420195142, 0.0004557579420195142, 0.0004557579420195142, 0.31600744884261056, 0.6812015581660539, 0.0006737898696004489, 0.0006737898696004489, 0.0006737898696004489, 0.0006737898696004489, 0.42151595983569523, 0.5766537864734482, 0.0004988354554268583, 0.0004988354554268583, 0.0004988354554268583, 0.0004988354554268583, 0.09280476857022518, 0.9015320375393304, 0.0016572280101825926, 0.0016572280101825926, 0.0016572280101825926, 0.0016572280101825926, 0.02788242291872894, 0.01394121145936447, 0.0015490234954849411, 0.0030980469909698822, 0.004647070486454823, 0.9495514027322689, 0.36270895231895767, 0.6351509708028806, 0.0005470723262729376, 0.0005470723262729376, 0.0005470723262729376, 0.0005470723262729376, 0.0027365798484516816, 0.9851687454426054, 0.0027365798484516816, 0.0027365798484516816, 0.005473159696903363, 0.0027365798484516816, 0.018737265980853898, 0.018737265980853898, 0.018737265980853898, 0.8806515011001332, 0.018737265980853898, 0.037474531961707795, 0.9912052772181654, 0.0029110287142971084, 0.0014555143571485542, 0.0014555143571485542, 0.0014555143571485542, 0.0014555143571485542, 0.07844128365085518, 0.2859311307273108, 0.008856273960580424, 0.0037955459831058957, 0.015182183932423583, 0.6085525392913119, 0.9922802286778892, 0.002385289011244926, 0.002385289011244926, 0.002385289011244926, 0.002385289011244926, 0.9931853754718623, 0.0015422133159500968, 0.0015422133159500968, 0.0015422133159500968, 0.0015422133159500968, 0.0015422133159500968, 0.155367655552037, 0.2030944175427889, 0.3858197348788105, 0.2360770191328264, 0.01960206296048739, 8.522636069777125e-05, 0.003545007270773181, 0.014180029083092724, 0.003545007270773181, 0.003545007270773181, 0.9713319921918516, 0.003545007270773181, 0.2983338720012198, 0.027844494720113848, 0.01988892480008132, 0.0066296416000271065, 0.011933354880048793, 0.6351196652825968, 0.002640362275894182, 0.9822147666326357, 0.002640362275894182, 0.002640362275894182, 0.007921086827682547, 0.002640362275894182, 0.013669114597167954, 0.006834557298583977, 0.006834557298583977, 0.006834557298583977, 0.006834557298583977, 0.9636725791003408, 0.9583876982105488, 0.017719386703249698, 0.003852040587662978, 0.001540816235065191, 0.016948978585717103, 0.001540816235065191, 0.10099802453119548, 0.5486375101418207, 0.2969037404560269, 0.005075277614632939, 0.004567749853169645, 0.04364738748584328, 0.007764006868488431, 0.9808528677190383, 0.0025880022894961435, 0.0025880022894961435, 0.005176004578992287, 0.0025880022894961435, 0.006087722477058683, 0.08522811467882156, 0.006087722477058683, 0.0030438612385293414, 0.0030438612385293414, 0.8979390653661558, 0.003751526008518666, 0.9904028662489278, 0.001875763004259333, 0.001875763004259333, 0.001875763004259333, 0.001875763004259333, 0.5088085972101324, 0.48944527237485214, 0.0005957946103163142, 0.0002978973051581571, 0.0002978973051581571, 0.0002978973051581571, 0.3420104224189359, 0.2409273420151171, 0.0007600231609309687, 0.0007600231609309687, 0.0007600231609309687, 0.41497264586830895, 0.23126825996012546, 0.208126188857985, 0.35880881782607205, 0.10095309277890249, 0.000304902122557845, 0.10052622980732151, 0.006284148266320753, 0.012568296532641505, 0.012568296532641505, 0.006284148266320753, 0.006284148266320753, 0.9614746847470751, 0.015005721998869043, 0.015005721998869043, 0.006431023713801018, 0.0021436745712670063, 0.006431023713801018, 0.9517915096425508, 0.03746844737490355, 0.018734223687451774, 0.8992427369976852, 0.018734223687451774, 0.018734223687451774, 0.03746844737490355, 0.002988007363942739, 0.002988007363942739, 0.43923708249958265, 0.5519276459397088, 0.002134290974244814, 0.00042685819484896277, 0.9277193302371068, 0.05088529813656186, 0.000535634717226967, 0.000535634717226967, 0.020354119254624745, 0.000535634717226967, 0.015618967367944558, 0.015618967367944558, 0.015618967367944558, 0.8746621726048952, 0.031237934735889115, 0.031237934735889115, 0.0005315989027840222, 0.0013289972569600556, 0.0002657994513920111, 0.9970137421714337, 0.0005315989027840222, 0.0002657994513920111, 0.06818469984944177, 0.1587729439351287, 0.000974067140706311, 0.7695130411579857, 0.000974067140706311, 0.000974067140706311, 0.0021279252336143394, 0.08298908411095925, 0.0021279252336143394, 0.908624074753323, 0.004255850467228679, 0.0021279252336143394, 0.17631435146053537, 0.00076993166576653, 0.8199772240413544, 0.00076993166576653, 0.00076993166576653, 0.00076993166576653, 0.22098903057287217, 0.0008139559137122364, 0.7773278975951857, 0.0004069779568561182, 0.0004069779568561182, 0.0004069779568561182, 0.0033391962472348073, 0.37621611052178827, 0.0022261308314898715, 0.0011130654157449358, 0.0011130654157449358, 0.6166382403226944, 0.00974870273476911, 0.00974870273476911, 0.00974870273476911, 0.9651215707421419, 0.00974870273476911, 0.00974870273476911, 0.02775276018344903, 0.02775276018344903, 0.02775276018344903, 0.915841086053818, 0.02775276018344903, 0.02775276018344903, 0.2145911775688371, 0.0005121507817872008, 0.7303270148285482, 0.002048603127148803, 0.05223937974229448, 0.0005121507817872008, 0.19426304137092187, 0.001261448320590402, 0.8016504077352004, 0.000630724160295201, 0.002522896641180804, 0.000630724160295201, 0.005801481549725132, 0.002900740774862566, 0.020305185424037964, 0.002900740774862566, 0.9659466780292345, 0.002900740774862566, 0.10578334346008818, 0.0006234774663659421, 0.8053250607226752, 0.08791032275759783, 0.0002078258221219807, 0.0002078258221219807, 0.013491763533809707, 0.08717754898769349, 0.8951266190700671, 0.0015567419462088124, 0.0025945699103480206, 0.0005189139820696041, 0.026619631640519576, 0.017746421093679715, 0.008873210546839858, 0.9316871074181852, 0.008873210546839858, 0.008873210546839858, 0.00026452071355709066, 0.00013226035677854533, 0.00013226035677854533, 0.9992269954619099, 0.00013226035677854533, 0.00013226035677854533, 0.013872569928970341, 0.013872569928970341, 0.013872569928970341, 0.013872569928970341, 0.013872569928970341, 0.9433347551699831, 0.029832375896885692, 0.029832375896885692, 0.029832375896885692, 0.029832375896885692, 0.8949712769065707, 0.01735247447805318, 0.01735247447805318, 0.01735247447805318, 0.01735247447805318, 0.9196811473368186, 0.2566095297350109, 0.0883662891869436, 0.2766752373233125, 0.3779684727450274, 0.0001929394960413616, 0.0001929394960413616, 0.0006368587128708121, 0.00031842935643540605, 0.9985944617814334, 0.00031842935643540605, 0.00031842935643540605, 0.00031842935643540605, 0.0019571851524071886, 0.0009785925762035943, 0.9952286499990552, 0.0009785925762035943, 0.0009785925762035943, 0.0009785925762035943, 0.03771285574541071, 0.9553923455504046, 0.002095158652522817, 0.002095158652522817, 0.004190317305045634, 0.002095158652522817, 0.9819751862631567, 0.005547882408266422, 0.00998618833487956, 0.0011095764816532845, 0.0011095764816532845, 0.0011095764816532845, 0.032098822723626096, 0.032098822723626096, 0.8666682135379046, 0.032098822723626096, 0.032098822723626096, 0.032098822723626096, 0.07922641156102783, 0.004317197684474271, 5.83405092496523e-05, 0.916296038275039, 5.83405092496523e-05, 5.83405092496523e-05, 0.06654102195665855, 0.0030711240903073178, 0.0010237080301024391, 0.0010237080301024391, 0.0010237080301024391, 0.9285031833029124, 0.00496535067679665, 0.07448026015194976, 0.00496535067679665, 0.8788670697930071, 0.034757454737576556, 0.00496535067679665, 0.002186187593233378, 0.002186187593233378, 0.002186187593233378, 0.9881567921414867, 0.002186187593233378, 0.002186187593233378, 0.0136936790723953, 0.0136936790723953, 0.0136936790723953, 0.0136936790723953, 0.0136936790723953, 0.9448638559952758, 0.32057648431220126, 0.004646036004524656, 0.6745414307586136, 7.874637295804502e-05, 7.874637295804502e-05, 7.874637295804502e-05, 0.9948242637765371, 0.0015004890856358025, 0.0015004890856358025, 0.0015004890856358025, 0.0015004890856358025, 0.0015004890856358025, 0.0025027006599358873, 0.0025027006599358873, 0.0025027006599358873, 0.9885667606746754, 0.0025027006599358873, 0.0025027006599358873, 0.0006787911201941553, 0.0004525274134627702, 0.0004525274134627702, 0.40365445280879103, 0.5943947575833487, 0.0002262637067313851, 8.63137611137941e-05, 8.63137611137941e-05, 8.63137611137941e-05, 0.9995133536977356, 8.63137611137941e-05, 8.63137611137941e-05, 0.17741746853170673, 0.10430138209270184, 0.00011679886012620587, 0.00011679886012620587, 0.00011679886012620587, 0.7179625931957875, 0.9976435177722763, 0.0006330225366575357, 0.0006330225366575357, 0.0006330225366575357, 0.0006330225366575357, 0.0006330225366575357, 0.005962351279458261, 0.9758381594046686, 0.007949801705944348, 0.003974900852972174, 0.005962351279458261, 0.001987450426486087, 0.0629343406914388, 0.020978113563812933, 0.8601026561163303, 0.020978113563812933, 0.020978113563812933, 0.020978113563812933, 0.0016515578015827226, 0.9958893543543818, 0.0008257789007913613, 0.0008257789007913613, 0.0008257789007913613, 0.0008257789007913613, 0.5521328470460938, 0.05597194052497805, 0.29638154049069704, 0.005057705469124523, 0.09053292789732896, 0.00016859018230415076, 0.028012142860121454, 0.4404131349674651, 0.0015562301588956363, 0.0015562301588956363, 0.023343452383434545, 0.5057748016410818, 0.6812501625633478, 0.3186446352942862, 4.104658447691437e-05, 4.104658447691437e-05, 4.104658447691437e-05, 4.104658447691437e-05, 0.994806152336422, 0.0012886090056171268, 0.0012886090056171268, 0.0012886090056171268, 0.0012886090056171268, 0.0012886090056171268, 0.043621128045099065, 0.7932958635178481, 0.0010144448382581178, 0.1592678396065245, 0.0020288896765162357, 0.0010144448382581178, 0.03609069797714695, 0.9610437289914558, 0.0010311627993470557, 0.0010311627993470557, 0.0010311627993470557, 0.0010311627993470557, 0.49046622586970967, 0.03841000564039895, 0.0014773079092461135, 0.0014773079092461135, 0.0014773079092461135, 0.46535199141252576, 0.0033307659603266744, 0.9909028731971856, 0.0016653829801633372, 0.0016653829801633372, 0.0033307659603266744, 0.0016653829801633372, 0.015099958661915634, 0.015099958661915634, 0.015099958661915634, 0.015099958661915634, 0.9361974370387692, 0.013378570767565783, 0.07197671072950391, 0.0005351428307026313, 0.6057816843553786, 0.3079746990693643, 0.00026757141535131565, 0.0012153423865960866, 0.9929347298490028, 0.0012153423865960866, 0.0012153423865960866, 0.0012153423865960866, 0.0012153423865960866, 0.1280735294510712, 0.8693932528619773, 0.00075337370265336, 0.00075337370265336, 0.00075337370265336, 0.00075337370265336, 0.6860916625573977, 0.00026116926629516474, 0.31314195028790254, 0.00026116926629516474, 0.00026116926629516474, 0.00026116926629516474, 0.0022228108951727783, 0.9891508483518863, 0.0022228108951727783, 0.0022228108951727783, 0.0022228108951727783, 0.0022228108951727783, 0.023827712080252958, 0.08736827762759418, 0.8498550641956888, 0.007942570693417653, 0.03177028277367061, 0.007942570693417653, 0.011095932755448385, 0.0013869915944310482, 0.8037616289727924, 0.18308289046489834, 0.0006934957972155241, 0.0006934957972155241, 0.00024865108631509105, 0.00012432554315754552, 0.9992043903571934, 0.00024865108631509105, 0.00012432554315754552, 0.00012432554315754552, 0.0001646966925415841, 8.234834627079205e-05, 0.0001646966925415841, 0.5945550600751186, 8.234834627079205e-05, 0.40490681861348454, 0.01739289583421459, 0.976486866120905, 0.002484699404887799, 0.002484699404887799, 0.002484699404887799, 0.002484699404887799, 0.01531108964124577, 0.13779980677121192, 0.007655544820622885, 0.006124435856498308, 0.006124435856498308, 0.8252677316631469, 0.010143380339716922, 0.020286760679433843, 0.010143380339716922, 0.010143380339716922, 0.010143380339716922, 0.9433343715936737, 0.0002528442697228085, 0.0007585328091684254, 0.0002528442697228085, 0.025790115511726466, 0.972944749893367, 0.0002528442697228085, 0.05145957158610133, 0.017153190528700443, 0.8748127169637225, 0.017153190528700443, 0.034306381057400887, 0.017153190528700443, 0.004079760737920263, 0.004079760737920263, 0.004079760737920263, 0.9832223378387834, 0.004079760737920263, 0.004079760737920263, 0.0021200080267047092, 0.02756010434716122, 0.0010600040133523546, 0.9211434876031962, 0.048760184614208314, 0.0010600040133523546, 0.0057406482886443845, 0.0057406482886443845, 0.0057406482886443845, 0.0057406482886443845, 0.9759102090695454, 0.0057406482886443845, 0.9747367850743843, 0.014062929270685436, 0.0017578661588356795, 0.0008789330794178397, 0.006152531555924878, 0.0026367992382535193, 0.004654895746423291, 0.004654895746423291, 0.004654895746423291, 0.004654895746423291, 0.9775281067488911, 0.004654895746423291, 0.004905650921859473, 0.9884886607546839, 0.0024528254609297367, 0.0024528254609297367, 0.0024528254609297367, 0.0024528254609297367, 0.003239765534046947, 0.9913682534183659, 0.0016198827670234736, 0.0016198827670234736, 0.0016198827670234736, 0.0016198827670234736, 0.024215132343622714, 0.024215132343622714, 0.024215132343622714, 0.024215132343622714, 0.024215132343622714, 0.8959598967140404, 0.0336939579488435, 0.00459463062938775, 0.006126174172517, 0.00459463062938775, 0.937304648395101, 0.013783891888163249, 0.005559929143415419, 0.005559929143415419, 0.005559929143415419, 0.005559929143415419, 0.9785475292411138, 0.005559929143415419, 0.24911779020673866, 0.0013490133043686208, 0.000449671101456207, 0.000449671101456207, 0.000449671101456207, 0.7487023839245847, 0.9921610295387422, 0.0023127296725844806, 0.0023127296725844806, 0.0011563648362922403, 0.0011563648362922403, 0.0011563648362922403, 0.996175685778942, 0.0009496431704279713, 0.0009496431704279713, 0.0009496431704279713, 0.0009496431704279713, 0.0009496431704279713, 0.00022575468722367138, 0.00022575468722367138, 0.00022575468722367138, 0.9987387362775222, 0.00022575468722367138, 0.00022575468722367138, 0.3323450101254354, 0.40699821539487596, 0.0005529867056995598, 0.09539020673317405, 0.1647900382984688, 0.0002764933528497799, 0.006489786497988267, 0.002163262165996089, 0.004326524331992178, 0.0010816310829980444, 0.9864475476942166, 0.0010816310829980444, 0.7200931393761685, 6.762072864833962e-05, 0.21598060730279672, 6.762072864833962e-05, 0.06363110565808758, 6.762072864833962e-05, 0.9929362895148507, 0.0017031497247253014, 0.0017031497247253014, 0.0017031497247253014, 0.0017031497247253014, 0.0017031497247253014, 0.9716543426746261, 0.003931549363423343, 0.023589296180540058, 0.0002808249545302388, 0.0002808249545302388, 0.0002808249545302388, 0.9866172244338043, 0.00951509794099778, 0.002952961429964828, 0.0003281068255516476, 0.0003281068255516476, 0.0003281068255516476, 0.002242197200532611, 0.0014947981336884072, 0.0007473990668442036, 0.0007473990668442036, 0.002242197200532611, 0.9925459607691024, 0.0025684865924671552, 0.9888673380998547, 0.0025684865924671552, 0.0025684865924671552, 0.0025684865924671552, 0.0025684865924671552, 0.996234037337522, 0.0011437819027985327, 0.0011437819027985327, 0.0011437819027985327, 0.0011437819027985327, 0.9866810916044801, 0.0007572379828123409, 0.012115807724997454, 0.00025241266093744695, 0.00025241266093744695, 0.00025241266093744695, 0.5345333996106006, 0.3042469978915683, 0.00021011533003561345, 0.1605281121472087, 0.00021011533003561345, 0.00021011533003561345, 0.47080831902322806, 0.009231535667122119, 0.5157513216131647, 0.0001214675745673963, 0.0038869623861566816, 0.0002429351491347926, 0.9972330820716516, 0.0006886968798837373, 0.0006886968798837373, 0.0006886968798837373, 0.0006886968798837373, 0.0006886968798837373, 0.7573655174014993, 0.00029876351771262295, 0.23213925326270804, 0.00029876351771262295, 0.00029876351771262295, 0.009859196084516558, 0.007967121395810798, 0.0019917803489526995, 0.003983560697905399, 0.0019917803489526995, 0.9839394923826336, 0.0019917803489526995, 0.03419798432434302, 0.03419798432434302, 0.01709899216217151, 0.8891475924329184, 0.01709899216217151, 0.01709899216217151, 0.0018258222372270253, 0.0006086074124090085, 0.0006086074124090085, 0.0006086074124090085, 0.0006086074124090085, 0.9968989415259558, 0.42460911578790556, 0.01897070950957791, 0.0011159240887987005, 0.010043316799188306, 0.5451289173781653, 0.0005579620443993503, 0.00679166468463969, 0.00679166468463969, 0.9712080499034756, 0.00679166468463969, 0.00679166468463969, 0.00679166468463969, 0.4162419016514944, 0.014251493681101932, 0.4432705965639291, 0.12580628904696878, 0.0004914308165897218, 0.0002457154082948609, 0.5162193707041816, 0.04551080657039801, 0.42991157723282264, 0.002188559132238622, 0.006172859090929446, 5.611690082663133e-05, 0.9971066637681708, 0.0006642949125704003, 0.0006642949125704003, 0.0006642949125704003, 0.0006642949125704003, 0.0006642949125704003, 0.00310193985559802, 0.9864168740801703, 0.00310193985559802, 0.00310193985559802, 0.00620387971119604, 0.00310193985559802, 0.00032759703798245876, 0.6705911367500931, 0.00032759703798245876, 0.00032759703798245876, 0.3279246350204412, 0.00032759703798245876, 0.17638339288208116, 0.40700411877237536, 0.20507090786163185, 0.07149466623809897, 0.1398516355253096, 0.00022412121077773972, 0.05463765071992598, 0.9384820006010816, 0.003213979454113293, 0.0016069897270566465, 0.0016069897270566465, 0.0016069897270566465, 0.1552517872974949, 0.0024643140840872207, 0.003696471126130831, 0.8354024745055678, 0.0012321570420436103, 0.0012321570420436103, 0.2329209417283596, 0.009952514395009163, 0.0017657686829854965, 0.7549463741891628, 0.00016052442572595424, 0.00016052442572595424, 0.45223300650143217, 0.0012783971915234832, 0.0009587978936426123, 0.0003195992978808708, 0.5449168028868847, 0.0003195992978808708, 0.00409098082326588, 0.00409098082326588, 0.00409098082326588, 0.00409098082326588, 0.00409098082326588, 0.9777444167605452, 0.5052406002136522, 0.13274516497607602, 0.00036771513843788373, 0.11828170286418593, 0.1120305455107419, 0.13139687613513712, 0.006809924927939102, 0.9840341520872001, 0.003404962463969551, 0.003404962463969551, 0.003404962463969551, 0.003404962463969551, 0.48759764253932125, 0.003961851633791552, 0.13924459034862502, 0.11508695843526191, 0.2517225245372437, 0.0022225021360294073, 0.9910889438838476, 0.0033258018251135823, 0.0016629009125567911, 0.0016629009125567911, 0.0016629009125567911, 0.0016629009125567911, 0.0025033950897150555, 0.9888410604374469, 0.0025033950897150555, 0.0025033950897150555, 0.0025033950897150555, 0.0025033950897150555, 0.008669596662991113, 0.07802636996692003, 0.9016380529510759, 0.004334798331495557, 0.004334798331495557, 0.004334798331495557, 0.0018443867326345244, 0.2280891592691362, 0.0006147955775448415, 0.0006147955775448415, 0.0006147955775448415, 0.7678796763535071, 0.0017187933276217153, 0.0034375866552434305, 0.0223443132590823, 0.0034375866552434305, 0.9676806434510257, 0.0017187933276217153, 0.9974708657772228, 0.000661014490243355, 0.000661014490243355, 0.000661014490243355, 0.000661014490243355, 0.5881133125844766, 0.05773124731655687, 0.1880258805883117, 0.00030424899771571475, 0.1657396415056356, 7.606224942892869e-05, 0.0019157147879036523, 0.9923402601340918, 0.0019157147879036523, 0.0019157147879036523, 0.0019157147879036523, 0.0019157147879036523, 0.0051970940373249844, 0.991605542321607, 0.0010394188074649968, 0.0010394188074649968, 0.0010394188074649968, 0.0010394188074649968, 0.1285885188155081, 0.5135886674119401, 0.13050203844073888, 0.10256465191236955, 0.12457012760252346, 0.00019135196252307752, 0.0003242573525125429, 0.0003242573525125429, 0.0003242573525125429, 0.0003242573525125429, 0.998064131033607, 0.0003242573525125429, 0.006973626324062353, 0.9832813116927918, 0.0034868131620311763, 0.0034868131620311763, 0.0034868131620311763, 0.0034868131620311763, 0.30582580869802267, 0.06933868001215748, 0.5117984691663569, 0.11252210155214554, 0.00027245060908509815, 0.00013622530454254907, 0.002580183301068254, 0.00028668703345202824, 0.00028668703345202824, 0.00028668703345202824, 0.996237441245798, 0.00028668703345202824, 0.007328397998773466, 0.1209185669797622, 0.0012213996664622445, 0.0012213996664622445, 0.8684151628546558, 0.0012213996664622445, 0.006406997928744957, 0.026695824703103988, 0.011746162869365754, 0.006406997928744957, 0.9493035264423778, 0.0010678329881241594, 0.015935988663718124, 0.19919985829647655, 0.0005691424522756473, 0.6920772219671871, 0.08935536500727662, 0.002276569809102589, 0.007887059153475868, 0.007887059153475868, 0.007887059153475868, 0.007887059153475868, 0.007887059153475868, 0.9622212167240558, 0.0013846045290090583, 0.23676737446054896, 0.0013846045290090583, 0.758763281896964, 0.0013846045290090583, 0.0013846045290090583, 0.9930822285175257, 0.0015838632033772341, 0.0015838632033772341, 0.0015838632033772341, 0.0015838632033772341, 0.0015838632033772341, 0.05842270068060943, 0.011684540136121887, 0.005842270068060943, 0.005842270068060943, 0.005842270068060943, 0.9230786707536289, 0.07018420439030974, 0.020239843174798867, 0.00029122076510501967, 0.8853111259192599, 0.023734492356059105, 0.00014561038255250984, 0.005766033189673263, 0.9859916754341279, 0.0028830165948366313, 0.0028830165948366313, 0.0028830165948366313, 0.0028830165948366313, 0.6534698874077797, 0.1083168846458125, 0.11314496283738941, 0.00020991644311203972, 0.12490028365166364, 0.00020991644311203972, 0.3772029151544434, 0.6203151494966426, 0.001166005920106471, 0.0005830029600532355, 0.0005830029600532355, 0.0005830029600532355, 0.022950658872376337, 0.022950658872376337, 0.005737664718094084, 0.005737664718094084, 0.011475329436188168, 0.9295016843312416, 0.009382736748813538, 0.004691368374406769, 0.004691368374406769, 0.004691368374406769, 0.975804621876608, 0.004691368374406769, 0.00026794068404235866, 0.00026794068404235866, 0.00026794068404235866, 0.00026794068404235866, 0.9988828701099131, 0.00026794068404235866, 0.00027008735253510204, 0.00027008735253510204, 0.00027008735253510204, 0.00027008735253510204, 0.9990531170273425, 0.00027008735253510204, 0.9911640656594795, 0.005289029165738951, 0.0010578058331477903, 0.0010578058331477903, 0.0010578058331477903, 0.0010578058331477903, 0.3025413764748342, 0.2113238653205513, 0.0003957375755066504, 0.08429210358291653, 0.4012779015637435, 0.0001978687877533252, 0.22674550861121, 0.356760484492747, 0.03633107410397957, 0.14083051576154765, 0.23931286128868723, 7.616577380289218e-05, 0.00027132785208631153, 0.00027132785208631153, 0.00027132785208631153, 0.00027132785208631153, 0.9987578235297127, 0.00027132785208631153, 0.00835884917759531, 0.00835884917759531, 0.00835884917759531, 0.00835884917759531, 0.969626504601056, 0.0157624625866331, 0.08669354422648205, 0.00788123129331655, 0.00788123129331655, 0.00788123129331655, 0.8748166735581372, 0.006833940362003784, 0.003416970181001892, 0.003416970181001892, 0.003416970181001892, 0.003416970181001892, 0.9840874121285449, 0.0033148025542570326, 0.9844963586143386, 0.0033148025542570326, 0.0033148025542570326, 0.0033148025542570326, 0.0033148025542570326, 0.13459678890914437, 0.16036887325864083, 0.26819594874669533, 0.3894910167012609, 0.04722110938875479, 8.313575596611758e-05, 0.02215744280695869, 0.02215744280695869, 0.02215744280695869, 0.02215744280695869, 0.02215744280695869, 0.9084551550853063, 0.24914513478574568, 0.0004111305854550259, 0.0004111305854550259, 0.0004111305854550259, 0.0004111305854550259, 0.7494910572845122, 0.9176346320350517, 0.08021024450025713, 0.0007358738027546525, 0.0007358738027546525, 0.0007358738027546525, 0.0007358738027546525, 0.004904576732215619, 0.9882722115414472, 0.0024522883661078094, 0.0024522883661078094, 0.0024522883661078094, 0.0024522883661078094, 0.23866320055542925, 0.0012365968940695816, 0.7567972991705839, 0.0012365968940695816, 0.0012365968940695816, 0.0012365968940695816, 0.016215635435897775, 0.016215635435897775, 0.03243127087179555, 0.016215635435897775, 0.016215635435897775, 0.9080755844102755, 0.0011285269261946203, 0.9976178027560444, 0.0005642634630973101, 0.0005642634630973101, 0.0005642634630973101, 0.0005642634630973101, 0.2868710258743194, 0.5425931837903064, 0.0005024010961021356, 0.1341410926592702, 0.035670477823251626, 0.0005024010961021356, 0.0028119894583277095, 0.9912262840605176, 0.0014059947291638548, 0.0014059947291638548, 0.0014059947291638548, 0.0014059947291638548, 0.13880080341155732, 0.001411533594015837, 0.8591534475576394, 0.000470511198005279, 0.000470511198005279, 0.000470511198005279, 0.5558435184463351, 0.44319971736191494, 0.00022349960532623043, 0.00022349960532623043, 0.00044699921065246087, 0.00022349960532623043, 0.0003660504488442511, 0.8159264504738357, 0.0003660504488442511, 0.0007321008976885022, 0.18229312352443705, 0.0003660504488442511, 0.001540599090713818, 0.22338686815350361, 0.000770299545356909, 0.6262535303751671, 0.14558661407245582, 0.000770299545356909, 0.001092884445793563, 0.995617730117936, 0.001092884445793563, 0.001092884445793563, 0.001092884445793563, 0.001092884445793563], \"Term\": [\"acolhedor\", \"acolhedor\", \"acolhedor\", \"acolhedor\", \"acolhedor\", \"acolhedor\", \"acomodaco\", \"acomodaco\", \"acomodaco\", \"acomodaco\", \"acomodaco\", \"acomodaco\", \"aconchegant\", \"aconchegant\", \"aconchegant\", \"aconchegant\", \"aconchegant\", \"aconchegant\", \"adoramo\", \"adoramo\", \"adoramo\", \"adoramo\", \"adoramo\", \"adoramo\", \"adorei\", \"adorei\", \"adorei\", \"adorei\", \"adorei\", \"adorei\", \"adulto\", \"adulto\", \"adulto\", \"adulto\", \"adulto\", \"adulto\", \"agradabilissimo\", \"agradabilissimo\", \"agradabilissimo\", \"agradabilissimo\", \"agradabilissimo\", \"agradabilissimo\", \"agradavel\", \"agradavel\", \"agradavel\", \"agradavel\", \"agradavel\", \"agradavel\", \"agradec\", \"agradec\", \"agradec\", \"agradec\", \"agradec\", \"agradec\", \"agradecimento\", \"agradecimento\", \"agradecimento\", \"agradecimento\", \"agradecimento\", \"agradecimento\", \"agua\", \"agua\", \"agua\", \"agua\", \"agua\", \"agua\", \"ainda\", \"ainda\", \"ainda\", \"ainda\", \"ainda\", \"ainda\", \"ajudar\", \"ajudar\", \"ajudar\", \"ajudar\", \"ajudar\", \"ajudar\", \"alguma\", \"alguma\", \"alguma\", \"alguma\", \"alguma\", \"alguma\", \"all\", \"all\", \"all\", \"all\", \"all\", \"all\", \"altament\", \"altament\", \"altament\", \"altament\", \"altament\", \"altament\", \"alto\", \"alto\", \"alto\", \"alto\", \"alto\", \"alto\", \"ambient\", \"ambient\", \"ambient\", \"ambient\", \"ambient\", \"ambient\", \"amei\", \"amei\", \"amei\", \"amei\", \"amei\", \"amei\", \"ameiii\", \"ameiii\", \"ameiii\", \"ameiii\", \"ameiii\", \"ameiii\", \"amplo\", \"amplo\", \"amplo\", \"amplo\", \"amplo\", \"amplo\", \"ana\", \"ana\", \"ana\", \"ana\", \"ana\", \"ana\", \"animacao\", \"animacao\", \"animacao\", \"animacao\", \"animacao\", \"animacao\", \"animado\", \"animado\", \"animado\", \"animado\", \"animado\", \"animado\", \"animador\", \"animador\", \"animador\", \"animador\", \"animador\", \"animador\", \"aniversario\", \"aniversario\", \"aniversario\", \"aniversario\", \"aniversario\", \"aniversario\", \"ano\", \"ano\", \"ano\", \"ano\", \"ano\", \"ano\", \"apena\", \"apena\", \"apena\", \"apena\", \"apena\", \"apena\", \"aqui\", \"aqui\", \"aqui\", \"aqui\", \"aqui\", \"aqui\", \"arborizado\", \"arborizado\", \"arborizado\", \"arborizado\", \"arborizado\", \"arborizado\", \"area\", \"area\", \"area\", \"area\", \"area\", \"area\", \"arejado\", \"arejado\", \"arejado\", \"arejado\", \"arejado\", \"arejado\", \"arrumado\", \"arrumado\", \"arrumado\", \"arrumado\", \"arrumado\", \"arrumado\", \"ate\", \"ate\", \"ate\", \"ate\", \"ate\", \"ate\", \"atencao\", \"atencao\", \"atencao\", \"atencao\", \"atencao\", \"atencao\", \"atenciosa\", \"atenciosa\", \"atenciosa\", \"atenciosa\", \"atenciosa\", \"atenciosa\", \"atencioso\", \"atencioso\", \"atencioso\", \"atencioso\", \"atencioso\", \"atencioso\", \"atendimento\", \"atendimento\", \"atendimento\", \"atendimento\", \"atendimento\", \"atendimento\", \"bahia\", \"bahia\", \"bahia\", \"bahia\", \"bahia\", \"bahia\", \"banheiro\", \"banheiro\", \"banheiro\", \"banheiro\", \"banheiro\", \"banheiro\", \"banho\", \"banho\", \"banho\", \"banho\", \"banho\", \"banho\", \"bar\", \"bar\", \"bar\", \"bar\", \"bar\", \"bar\", \"barulho\", \"barulho\", \"barulho\", \"barulho\", \"barulho\", \"barulho\", \"bebida\", \"bebida\", \"bebida\", \"bebida\", \"bebida\", \"bebida\", \"bela\", \"bela\", \"bela\", \"bela\", \"bela\", \"bela\", \"belissima\", \"belissima\", \"belissima\", \"belissima\", \"belissima\", \"belissima\", \"belissimo\", \"belissimo\", \"belissimo\", \"belissimo\", \"belissimo\", \"belissimo\", \"belmont\", \"belmont\", \"belmont\", \"belmont\", \"belmont\", \"belmont\", \"bem\", \"bem\", \"bem\", \"bem\", \"bem\", \"bem\", \"beneficio\", \"beneficio\", \"beneficio\", \"beneficio\", \"beneficio\", \"beneficio\", \"bicicleta\", \"bicicleta\", \"bicicleta\", \"bicicleta\", \"bicicleta\", \"bicicleta\", \"bingo\", \"bingo\", \"bingo\", \"bingo\", \"bingo\", \"bingo\", \"boa\", \"boa\", \"boa\", \"boa\", \"boa\", \"boa\", \"bola\", \"bola\", \"bola\", \"bola\", \"bola\", \"bola\", \"bolinha\", \"bolinha\", \"bolinha\", \"bolinha\", \"bolinha\", \"bolinha\", \"bom\", \"bom\", \"bom\", \"bom\", \"bom\", \"bom\", \"bommm\", \"bommm\", \"bommm\", \"bommm\", \"bommm\", \"bommm\", \"bonito\", \"bonito\", \"bonito\", \"bonito\", \"bonito\", \"bonito\", \"brasa\", \"brasa\", \"brasa\", \"brasa\", \"brasa\", \"brasa\", \"brasil\", \"brasil\", \"brasil\", \"brasil\", \"brasil\", \"brasil\", \"brinquedo\", \"brinquedo\", \"brinquedo\", \"brinquedo\", \"brinquedo\", \"brinquedo\", \"bruno\", \"bruno\", \"bruno\", \"bruno\", \"bruno\", \"bruno\", \"cada\", \"cada\", \"cada\", \"cada\", \"cada\", \"cada\", \"cadeira\", \"cadeira\", \"cadeira\", \"cadeira\", \"cadeira\", \"cadeira\", \"cafe\", \"cafe\", \"cafe\", \"cafe\", \"cafe\", \"cafe\", \"calmo\", \"calmo\", \"calmo\", \"calmo\", \"calmo\", \"calmo\", \"cama\", \"cama\", \"cama\", \"cama\", \"cama\", \"cama\", \"caro\", \"caro\", \"caro\", \"caro\", \"caro\", \"caro\", \"casa\", \"casa\", \"casa\", \"casa\", \"casa\", \"casa\", \"catarina\", \"catarina\", \"catarina\", \"catarina\", \"catarina\", \"catarina\", \"certeza\", \"certeza\", \"certeza\", \"certeza\", \"certeza\", \"certeza\", \"cerveja\", \"cerveja\", \"cerveja\", \"cerveja\", \"cerveja\", \"cerveja\", \"chegada\", \"chegada\", \"chegada\", \"chegada\", \"chegada\", \"chegada\", \"cheiro\", \"cheiro\", \"cheiro\", \"cheiro\", \"cheiro\", \"cheiro\", \"chiqu\", \"chiqu\", \"chiqu\", \"chiqu\", \"chiqu\", \"chiqu\", \"chuva\", \"chuva\", \"chuva\", \"chuva\", \"chuva\", \"chuva\", \"chuveiro\", \"chuveiro\", \"chuveiro\", \"chuveiro\", \"chuveiro\", \"chuveiro\", \"cidad\", \"cidad\", \"cidad\", \"cidad\", \"cidad\", \"cidad\", \"classico\", \"classico\", \"classico\", \"classico\", \"classico\", \"classico\", \"client\", \"client\", \"client\", \"client\", \"client\", \"client\", \"coberta\", \"coberta\", \"coberta\", \"coberta\", \"coberta\", \"coberta\", \"coisa\", \"coisa\", \"coisa\", \"coisa\", \"coisa\", \"coisa\", \"comida\", \"comida\", \"comida\", \"comida\", \"comida\", \"comida\", \"completo\", \"completo\", \"completo\", \"completo\", \"completo\", \"completo\", \"condicionado\", \"condicionado\", \"condicionado\", \"condicionado\", \"condicionado\", \"conferir\", \"conferir\", \"conferir\", \"conferir\", \"conferir\", \"conferir\", \"confortavei\", \"confortavei\", \"confortavei\", \"confortavei\", \"confortavei\", \"confortavei\", \"confortavel\", \"confortavel\", \"confortavel\", \"confortavel\", \"confortavel\", \"confortavel\", \"conhec\", \"conhec\", \"conhec\", \"conhec\", \"conhec\", \"conhec\", \"copacabana\", \"copacabana\", \"copacabana\", \"copacabana\", \"copacabana\", \"copacabana\", \"cortes\", \"cortes\", \"cortes\", \"cortes\", \"cortes\", \"cortes\", \"crianca\", \"crianca\", \"crianca\", \"crianca\", \"crianca\", \"crianca\", \"custo\", \"custo\", \"custo\", \"custo\", \"custo\", \"custo\", \"decorado\", \"decorado\", \"decorado\", \"decorado\", \"decorado\", \"decorado\", \"deixa\", \"deixa\", \"deixa\", \"deixa\", \"deixa\", \"deixa\", \"delicioso\", \"delicioso\", \"delicioso\", \"delicioso\", \"delicioso\", \"delicioso\", \"demai\", \"demai\", \"demai\", \"demai\", \"demai\", \"demai\", \"desd\", \"desd\", \"desd\", \"desd\", \"desd\", \"desd\", \"desejar\", \"desejar\", \"desejar\", \"desejar\", \"desejar\", \"desejar\", \"deslumbrant\", \"deslumbrant\", \"deslumbrant\", \"deslumbrant\", \"deslumbrant\", \"deslumbrant\", \"destaqu\", \"destaqu\", \"destaqu\", \"destaqu\", \"destaqu\", \"destaqu\", \"deus\", \"deus\", \"deus\", \"deus\", \"deus\", \"deus\", \"dia\", \"dia\", \"dia\", \"dia\", \"dia\", \"dia\", \"diss\", \"diss\", \"diss\", \"diss\", \"diss\", \"diversificado\", \"diversificado\", \"diversificado\", \"diversificado\", \"diversificado\", \"diversificado\", \"divertida\", \"divertida\", \"divertida\", \"divertida\", \"divertida\", \"divertida\", \"divertido\", \"divertido\", \"divertido\", \"divertido\", \"divertido\", \"divertido\", \"divino\", \"divino\", \"divino\", \"divino\", \"divino\", \"divino\", \"dizer\", \"dizer\", \"dizer\", \"dizer\", \"dizer\", \"dizer\", \"duvida\", \"duvida\", \"duvida\", \"duvida\", \"duvida\", \"duvida\", \"educado\", \"educado\", \"educado\", \"educado\", \"educado\", \"educado\", \"encantador\", \"encantador\", \"encantador\", \"encantador\", \"encantador\", \"encantador\", \"equip\", \"equip\", \"equip\", \"equip\", \"equip\", \"equip\", \"espacosa\", \"espacosa\", \"espacosa\", \"espacosa\", \"espacosa\", \"espacosa\", \"espacoso\", \"espacoso\", \"espacoso\", \"espacoso\", \"espacoso\", \"espacoso\", \"especi\", \"especi\", \"especi\", \"especi\", \"especi\", \"especi\", \"espero\", \"espero\", \"espero\", \"espero\", \"espero\", \"espero\", \"espetacular\", \"espetacular\", \"espetacular\", \"espetacular\", \"espetacular\", \"espetacular\", \"esplendida\", \"esplendida\", \"esplendida\", \"esplendida\", \"esplendida\", \"esplendida\", \"esplendido\", \"esplendido\", \"esplendido\", \"esplendido\", \"esplendido\", \"esplendido\", \"esposa\", \"esposa\", \"esposa\", \"esposa\", \"esposa\", \"esposa\", \"estadia\", \"estadia\", \"estadia\", \"estadia\", \"estadia\", \"estadia\", \"estrela\", \"estrela\", \"estrela\", \"estrela\", \"estrela\", \"estrela\", \"estrutura\", \"estrutura\", \"estrutura\", \"estrutura\", \"estrutura\", \"estrutura\", \"estruturado\", \"estruturado\", \"estruturado\", \"estruturado\", \"estruturado\", \"estruturado\", \"evento\", \"evento\", \"evento\", \"evento\", \"evento\", \"evento\", \"excelent\", \"excelent\", \"excelent\", \"excelent\", \"excelent\", \"excelent\", \"excepcion\", \"excepcion\", \"excepcion\", \"excepcion\", \"excepcion\", \"excepcion\", \"execelent\", \"execelent\", \"execelent\", \"execelent\", \"execelent\", \"execelent\", \"exelent\", \"exelent\", \"exelent\", \"exelent\", \"exelent\", \"exelent\", \"experiencia\", \"experiencia\", \"experiencia\", \"experiencia\", \"experiencia\", \"experiencia\", \"expetacular\", \"expetacular\", \"expetacular\", \"expetacular\", \"expetacular\", \"expetacular\", \"exposicao\", \"exposicao\", \"exposicao\", \"exposicao\", \"exposicao\", \"exposicao\", \"exuberant\", \"exuberant\", \"exuberant\", \"exuberant\", \"exuberant\", \"exuberant\", \"falar\", \"falar\", \"falar\", \"falar\", \"falar\", \"falar\", \"falta\", \"falta\", \"falta\", \"falta\", \"falta\", \"falta\", \"familia\", \"familia\", \"familia\", \"familia\", \"familia\", \"familia\", \"familiar\", \"familiar\", \"familiar\", \"familiar\", \"familiar\", \"familiar\", \"fantastico\", \"fantastico\", \"fantastico\", \"fantastico\", \"fantastico\", \"fantastico\", \"farto\", \"farto\", \"farto\", \"farto\", \"farto\", \"farto\", \"feria\", \"feria\", \"feria\", \"feria\", \"feria\", \"feria\", \"fica\", \"fica\", \"fica\", \"fica\", \"fica\", \"fica\", \"ficamo\", \"ficamo\", \"ficamo\", \"ficamo\", \"ficamo\", \"ficamo\", \"ficar\", \"ficar\", \"ficar\", \"ficar\", \"ficar\", \"ficar\", \"final\", \"final\", \"final\", \"final\", \"final\", \"final\", \"fino\", \"fino\", \"fino\", \"fino\", \"fino\", \"fino\", \"fiquei\", \"fiquei\", \"fiquei\", \"fiquei\", \"fiquei\", \"fiquei\", \"fiz\", \"fiz\", \"fiz\", \"fiz\", \"fiz\", \"fiz\", \"formidavel\", \"formidavel\", \"formidavel\", \"formidavel\", \"formidavel\", \"formidavel\", \"fort\", \"fort\", \"fort\", \"fort\", \"fort\", \"fort\", \"foz\", \"foz\", \"foz\", \"foz\", \"foz\", \"foz\", \"fraco\", \"fraco\", \"fraco\", \"fraco\", \"fraco\", \"frio\", \"frio\", \"frio\", \"frio\", \"frio\", \"frio\", \"funcionario\", \"funcionario\", \"funcionario\", \"funcionario\", \"funcionario\", \"funcionario\", \"gabriel\", \"gabriel\", \"gabriel\", \"gabriel\", \"gabriel\", \"gabriel\", \"galinha\", \"galinha\", \"galinha\", \"galinha\", \"galinha\", \"galinha\", \"gerent\", \"gerent\", \"gerent\", \"gerent\", \"gerent\", \"gerent\", \"glamour\", \"glamour\", \"glamour\", \"glamour\", \"glamour\", \"glamour\", \"golf\", \"golf\", \"golf\", \"golf\", \"golf\", \"golf\", \"gramado\", \"gramado\", \"gramado\", \"gramado\", \"gramado\", \"gramado\", \"grupo\", \"grupo\", \"grupo\", \"grupo\", \"grupo\", \"grupo\", \"historico\", \"historico\", \"historico\", \"historico\", \"historico\", \"historico\", \"hoje\", \"hoje\", \"hoje\", \"hoje\", \"hoje\", \"hoje\", \"hosped\", \"hosped\", \"hosped\", \"hosped\", \"hosped\", \"hosped\", \"hotei\", \"hotei\", \"hotei\", \"hotei\", \"hotei\", \"hotei\", \"hotel\", \"hotel\", \"hotel\", \"hotel\", \"hotel\", \"hotel\", \"icon\", \"icon\", \"icon\", \"icon\", \"icon\", \"icon\", \"iguacu\", \"iguacu\", \"iguacu\", \"iguacu\", \"iguacu\", \"iguacu\", \"imbativel\", \"imbativel\", \"imbativel\", \"imbativel\", \"imbativel\", \"imbativel\", \"impecavel\", \"impecavel\", \"impecavel\", \"impecavel\", \"impecavel\", \"impecavel\", \"inclus\", \"inclus\", \"inclus\", \"inclus\", \"inclus\", \"inclus\", \"incomparavel\", \"incomparavel\", \"incomparavel\", \"incomparavel\", \"incomparavel\", \"incomparavel\", \"incrivel\", \"incrivel\", \"incrivel\", \"incrivel\", \"incrivel\", \"incrivel\", \"indico\", \"indico\", \"indico\", \"indico\", \"indico\", \"indico\", \"inesquecivel\", \"inesquecivel\", \"inesquecivel\", \"inesquecivel\", \"inesquecivel\", \"inesquecivel\", \"infraestrutura\", \"infraestrutura\", \"infraestrutura\", \"infraestrutura\", \"infraestrutura\", \"infraestrutura\", \"instalaco\", \"instalaco\", \"instalaco\", \"instalaco\", \"instalaco\", \"instalaco\", \"janeiro\", \"janeiro\", \"janeiro\", \"janeiro\", \"janeiro\", \"janeiro\", \"jeitoso\", \"jeitoso\", \"jeitoso\", \"jeitoso\", \"jeitoso\", \"jeitoso\", \"juridico\", \"juridico\", \"juridico\", \"juridico\", \"juridico\", \"juridico\", \"lazer\", \"lazer\", \"lazer\", \"lazer\", \"lazer\", \"lazer\", \"legal\", \"legal\", \"legal\", \"legal\", \"legal\", \"legal\", \"leiz\", \"leiz\", \"leiz\", \"leiz\", \"leiz\", \"leiz\", \"limpo\", \"limpo\", \"limpo\", \"limpo\", \"limpo\", \"limpo\", \"linda\", \"linda\", \"linda\", \"linda\", \"linda\", \"linda\", \"lindissimo\", \"lindissimo\", \"lindissimo\", \"lindissimo\", \"lindissimo\", \"lindissimo\", \"lindo\", \"lindo\", \"lindo\", \"lindo\", \"lindo\", \"lindo\", \"lindooo\", \"lindooo\", \"lindooo\", \"lindooo\", \"lindooo\", \"lindooo\", \"lindooooo\", \"lindooooo\", \"lindooooo\", \"lindooooo\", \"lindooooo\", \"litor\", \"litor\", \"litor\", \"litor\", \"litor\", \"local\", \"local\", \"local\", \"local\", \"local\", \"local\", \"localizacao\", \"localizacao\", \"localizacao\", \"localizacao\", \"localizacao\", \"localizacao\", \"localizado\", \"localizado\", \"localizado\", \"localizado\", \"localizado\", \"localizado\", \"logo\", \"logo\", \"logo\", \"logo\", \"logo\", \"logo\", \"long\", \"long\", \"long\", \"long\", \"long\", \"long\", \"luga\", \"luga\", \"luga\", \"luga\", \"luga\", \"luga\", \"lugar\", \"lugar\", \"lugar\", \"lugar\", \"lugar\", \"lugar\", \"luxo\", \"luxo\", \"luxo\", \"luxo\", \"luxo\", \"luxo\", \"magico\", \"magico\", \"magico\", \"magico\", \"magico\", \"magico\", \"magnifico\", \"magnifico\", \"magnifico\", \"magnifico\", \"magnifico\", \"magnifico\", \"majestoso\", \"majestoso\", \"majestoso\", \"majestoso\", \"majestoso\", \"majestoso\", \"manha\", \"manha\", \"manha\", \"manha\", \"manha\", \"manha\", \"manutencao\", \"manutencao\", \"manutencao\", \"manutencao\", \"manutencao\", \"manutencao\", \"maravilha\", \"maravilha\", \"maravilha\", \"maravilha\", \"maravilha\", \"maravilha\", \"maravilhosa\", \"maravilhosa\", \"maravilhosa\", \"maravilhosa\", \"maravilhosa\", \"maravilhosa\", \"maravilhoso\", \"maravilhoso\", \"maravilhoso\", \"maravilhoso\", \"maravilhoso\", \"maravilhoso\", \"melhor\", \"melhor\", \"melhor\", \"melhor\", \"melhor\", \"melhor\", \"melhorar\", \"melhorar\", \"melhorar\", \"melhorar\", \"melhorar\", \"melhorar\", \"mimo\", \"mimo\", \"mimo\", \"mimo\", \"mimo\", \"mimo\", \"mobiliado\", \"mobiliado\", \"mobiliado\", \"mobiliado\", \"mobiliado\", \"mobiliado\", \"momento\", \"momento\", \"momento\", \"momento\", \"momento\", \"momento\", \"muita\", \"muita\", \"muita\", \"muita\", \"muita\", \"muita\", \"mundo\", \"mundo\", \"mundo\", \"mundo\", \"mundo\", \"mundo\", \"nao\", \"nao\", \"nao\", \"nao\", \"nao\", \"nao\", \"negativo\", \"negativo\", \"negativo\", \"negativo\", \"negativo\", \"negativo\", \"ness\", \"ness\", \"ness\", \"ness\", \"ness\", \"ness\", \"nest\", \"nest\", \"nest\", \"nest\", \"nest\", \"nest\", \"nivel\", \"nivel\", \"nivel\", \"nivel\", \"nivel\", \"nivel\", \"nome\", \"nome\", \"nome\", \"nome\", \"nome\", \"nome\", \"nort\", \"nort\", \"nort\", \"nort\", \"nort\", \"nota\", \"nota\", \"nota\", \"nota\", \"nota\", \"nota\", \"novament\", \"novament\", \"novament\", \"novament\", \"novament\", \"novament\", \"nunca\", \"nunca\", \"nunca\", \"nunca\", \"nunca\", \"nunca\", \"opco\", \"opco\", \"opco\", \"opco\", \"opco\", \"opco\", \"oportunidad\", \"oportunidad\", \"oportunidad\", \"oportunidad\", \"oportunidad\", \"oportunidad\", \"organizada\", \"organizada\", \"organizada\", \"organizada\", \"organizada\", \"organizada\", \"organizado\", \"organizado\", \"organizado\", \"organizado\", \"organizado\", \"organizado\", \"otima\", \"otima\", \"otima\", \"otima\", \"otima\", \"otima\", \"otimo\", \"otimo\", \"otimo\", \"otimo\", \"otimo\", \"otimo\", \"out\", \"out\", \"out\", \"out\", \"out\", \"out\", \"palac\", \"palac\", \"palac\", \"palac\", \"palac\", \"palac\", \"palacio\", \"palacio\", \"palacio\", \"palacio\", \"palacio\", \"palacio\", \"paraben\", \"paraben\", \"paraben\", \"paraben\", \"paraben\", \"paraben\", \"paradisiaca\", \"paradisiaca\", \"paradisiaca\", \"paradisiaca\", \"paradisiaca\", \"paradisiaca\", \"paradisiaco\", \"paradisiaco\", \"paradisiaco\", \"paradisiaco\", \"paradisiaco\", \"paradisiaco\", \"paraiso\", \"paraiso\", \"paraiso\", \"paraiso\", \"paraiso\", \"paraiso\", \"parizia\", \"parizia\", \"parizia\", \"parizia\", \"parizia\", \"parizia\", \"parqu\", \"parqu\", \"parqu\", \"parqu\", \"parqu\", \"parqu\", \"participei\", \"participei\", \"participei\", \"participei\", \"participei\", \"participei\", \"passamo\", \"passamo\", \"passamo\", \"passamo\", \"passamo\", \"passamo\", \"passei\", \"passei\", \"passei\", \"passei\", \"passei\", \"passei\", \"patrimonio\", \"patrimonio\", \"patrimonio\", \"patrimonio\", \"patrimonio\", \"patrimonio\", \"pedrinho\", \"pedrinho\", \"pedrinho\", \"pedrinho\", \"pedrinho\", \"pedrinho\", \"pedro\", \"pedro\", \"pedro\", \"pedro\", \"pedro\", \"pedro\", \"pena\", \"pena\", \"pena\", \"pena\", \"pena\", \"pena\", \"pensao\", \"pensao\", \"pensao\", \"pensao\", \"pensao\", \"pensao\", \"pequena\", \"pequena\", \"pequena\", \"pequena\", \"pequena\", \"pequena\", \"perfeito\", \"perfeito\", \"perfeito\", \"perfeito\", \"perfeito\", \"perfeito\", \"pessoa\", \"pessoa\", \"pessoa\", \"pessoa\", \"pessoa\", \"pessoa\", \"pimenta\", \"pimenta\", \"pimenta\", \"pimenta\", \"pimenta\", \"pimenta\", \"piscina\", \"piscina\", \"piscina\", \"piscina\", \"piscina\", \"piscina\", \"poderiam\", \"poderiam\", \"poderiam\", \"poderiam\", \"poderiam\", \"poderiam\", \"ponto\", \"ponto\", \"ponto\", \"ponto\", \"ponto\", \"ponto\", \"porem\", \"porem\", \"porem\", \"porem\", \"porem\", \"porem\", \"porto\", \"porto\", \"porto\", \"porto\", \"porto\", \"porto\", \"posso\", \"posso\", \"posso\", \"posso\", \"posso\", \"posso\", \"pouca\", \"pouca\", \"pouca\", \"pouca\", \"pouca\", \"pouco\", \"pouco\", \"pouco\", \"pouco\", \"pouco\", \"pouco\", \"pra\", \"pra\", \"pra\", \"pra\", \"pra\", \"pra\", \"praia\", \"praia\", \"praia\", \"praia\", \"praia\", \"praia\", \"precisa\", \"precisa\", \"precisa\", \"precisa\", \"precisa\", \"precisa\", \"preco\", \"preco\", \"preco\", \"preco\", \"preco\", \"preco\", \"prestativa\", \"prestativa\", \"prestativa\", \"prestativa\", \"prestativa\", \"prestativa\", \"primoroso\", \"primoroso\", \"primoroso\", \"primoroso\", \"primoroso\", \"primoroso\", \"princip\", \"princip\", \"princip\", \"princip\", \"princip\", \"princip\", \"principalment\", \"principalment\", \"principalment\", \"principalment\", \"principalment\", \"principalment\", \"privilegiada\", \"privilegiada\", \"privilegiada\", \"privilegiada\", \"privilegiada\", \"privilegiada\", \"qualidad\", \"qualidad\", \"qualidad\", \"qualidad\", \"qualidad\", \"qualidad\", \"quarto\", \"quarto\", \"quarto\", \"quarto\", \"quarto\", \"quarto\", \"quent\", \"quent\", \"quent\", \"quent\", \"quent\", \"quent\", \"queria\", \"queria\", \"queria\", \"queria\", \"queria\", \"queria\", \"quero\", \"quero\", \"quero\", \"quero\", \"quero\", \"quero\", \"recepcao\", \"recepcao\", \"recepcao\", \"recepcao\", \"recepcao\", \"recepcao\", \"reclamar\", \"reclamar\", \"reclamar\", \"reclamar\", \"reclamar\", \"reclamar\", \"recomendado\", \"recomendado\", \"recomendado\", \"recomendado\", \"recomendado\", \"recomendado\", \"recomendo\", \"recomendo\", \"recomendo\", \"recomendo\", \"recomendo\", \"recomendo\", \"recreacao\", \"recreacao\", \"recreacao\", \"recreacao\", \"recreacao\", \"recreacao\", \"requint\", \"requint\", \"requint\", \"requint\", \"requint\", \"requint\", \"resort\", \"resort\", \"resort\", \"resort\", \"resort\", \"resort\", \"respeito\", \"respeito\", \"respeito\", \"respeito\", \"respeito\", \"respeito\", \"restaurant\", \"restaurant\", \"restaurant\", \"restaurant\", \"restaurant\", \"restaurant\", \"resto\", \"resto\", \"resto\", \"resto\", \"resto\", \"resto\", \"retornar\", \"retornar\", \"retornar\", \"retornar\", \"retornar\", \"retornar\", \"rico\", \"rico\", \"rico\", \"rico\", \"rico\", \"rico\", \"rio\", \"rio\", \"rio\", \"rio\", \"rio\", \"rio\", \"risadinha\", \"risadinha\", \"risadinha\", \"risadinha\", \"risadinha\", \"risadinha\", \"ruim\", \"ruim\", \"ruim\", \"ruim\", \"ruim\", \"sao\", \"sao\", \"sao\", \"sao\", \"sao\", \"sao\", \"segunda\", \"segunda\", \"segunda\", \"segunda\", \"segunda\", \"segunda\", \"semana\", \"semana\", \"semana\", \"semana\", \"semana\", \"semana\", \"sempr\", \"sempr\", \"sempr\", \"sempr\", \"sempr\", \"sempr\", \"sensacion\", \"sensacion\", \"sensacion\", \"sensacion\", \"sensacion\", \"sensacion\", \"sera\", \"sera\", \"sera\", \"sera\", \"sera\", \"sera\", \"servico\", \"servico\", \"servico\", \"servico\", \"servico\", \"servico\", \"show\", \"show\", \"show\", \"show\", \"show\", \"show\", \"simpatia\", \"simpatia\", \"simpatia\", \"simpatia\", \"simpatia\", \"simpatia\", \"simpatica\", \"simpatica\", \"simpatica\", \"simpatica\", \"simpatica\", \"simpatica\", \"simplesment\", \"simplesment\", \"simplesment\", \"simplesment\", \"simplesment\", \"simplesment\", \"sofisticacao\", \"sofisticacao\", \"sofisticacao\", \"sofisticacao\", \"sofisticacao\", \"sofisticacao\", \"sonho\", \"sonho\", \"sonho\", \"sonho\", \"sonho\", \"sonho\", \"suco\", \"suco\", \"suco\", \"suco\", \"suco\", \"suco\", \"sul\", \"sul\", \"sul\", \"sul\", \"sul\", \"sul\", \"super\", \"super\", \"super\", \"super\", \"super\", \"super\", \"surpresa\", \"surpresa\", \"surpresa\", \"surpresa\", \"surpresa\", \"surpresa\", \"tambem\", \"tambem\", \"tambem\", \"tambem\", \"tambem\", \"tambem\", \"tao\", \"tao\", \"tao\", \"tao\", \"tao\", \"tao\", \"the\", \"the\", \"the\", \"the\", \"the\", \"the\", \"thiago\", \"thiago\", \"thiago\", \"thiago\", \"thiago\", \"thiago\", \"tia\", \"tia\", \"tia\", \"tia\", \"tia\", \"tia\", \"tio\", \"tio\", \"tio\", \"tio\", \"tio\", \"tio\", \"toalha\", \"toalha\", \"toalha\", \"toalha\", \"toalha\", \"toalha\", \"toda\", \"toda\", \"toda\", \"toda\", \"toda\", \"toda\", \"todo\", \"todo\", \"todo\", \"todo\", \"todo\", \"todo\", \"top\", \"top\", \"top\", \"top\", \"top\", \"top\", \"topo\", \"topo\", \"topo\", \"topo\", \"topo\", \"tradicao\", \"tradicao\", \"tradicao\", \"tradicao\", \"tradicao\", \"tradicao\", \"tradicion\", \"tradicion\", \"tradicion\", \"tradicion\", \"tradicion\", \"tradicion\", \"tratado\", \"tratado\", \"tratado\", \"tratado\", \"tratado\", \"tratado\", \"tudo\", \"tudo\", \"tudo\", \"tudo\", \"tudo\", \"tudo\", \"uau\", \"uau\", \"uau\", \"uau\", \"uau\", \"uau\", \"vale\", \"vale\", \"vale\", \"vale\", \"vale\", \"vale\", \"valor\", \"valor\", \"valor\", \"valor\", \"valor\", \"valor\", \"vamo\", \"vamo\", \"vamo\", \"vamo\", \"vamo\", \"vamo\", \"variado\", \"variado\", \"variado\", \"variado\", \"variado\", \"variado\", \"veri\", \"veri\", \"veri\", \"veri\", \"veri\", \"veri\", \"vez\", \"vez\", \"vez\", \"vez\", \"vez\", \"vez\", \"veze\", \"veze\", \"veze\", \"veze\", \"veze\", \"veze\", \"viagem\", \"viagem\", \"viagem\", \"viagem\", \"viagem\", \"viagem\", \"vista\", \"vista\", \"vista\", \"vista\", \"vista\", \"vista\", \"voce\", \"voce\", \"voce\", \"voce\", \"voce\", \"voce\", \"voltar\", \"voltar\", \"voltar\", \"voltar\", \"voltar\", \"voltar\", \"voltarei\", \"voltarei\", \"voltarei\", \"voltarei\", \"voltarei\", \"voltarei\", \"vou\", \"vou\", \"vou\", \"vou\", \"vou\", \"vou\"]}, \"R\": 30, \"lambda.step\": 0.01, \"plot.opts\": {\"xlab\": \"PC1\", \"ylab\": \"PC2\"}, \"topic.order\": [3, 2, 4, 6, 5, 1]};\n",
       "\n",
       "function LDAvis_load_lib(url, callback){\n",
       "  var s = document.createElement('script');\n",
       "  s.src = url;\n",
       "  s.async = true;\n",
       "  s.onreadystatechange = s.onload = callback;\n",
       "  s.onerror = function(){console.warn(\"failed to load library \" + url);};\n",
       "  document.getElementsByTagName(\"head\")[0].appendChild(s);\n",
       "}\n",
       "\n",
       "if(typeof(LDAvis) !== \"undefined\"){\n",
       "   // already loaded: just create the visualization\n",
       "   !function(LDAvis){\n",
       "       new LDAvis(\"#\" + \"ldavis_el445623563565797283226964830\", ldavis_el445623563565797283226964830_data);\n",
       "   }(LDAvis);\n",
       "}else if(typeof define === \"function\" && define.amd){\n",
       "   // require.js is available: use it to load d3/LDAvis\n",
       "   require.config({paths: {d3: \"https://d3js.org/d3.v5\"}});\n",
       "   require([\"d3\"], function(d3){\n",
       "      window.d3 = d3;\n",
       "      LDAvis_load_lib(\"https://cdn.jsdelivr.net/gh/bmabey/pyLDAvis@3.4.0/pyLDAvis/js/ldavis.v3.0.0.js\", function(){\n",
       "        new LDAvis(\"#\" + \"ldavis_el445623563565797283226964830\", ldavis_el445623563565797283226964830_data);\n",
       "      });\n",
       "    });\n",
       "}else{\n",
       "    // require.js not available: dynamically load d3 & LDAvis\n",
       "    LDAvis_load_lib(\"https://d3js.org/d3.v5.js\", function(){\n",
       "         LDAvis_load_lib(\"https://cdn.jsdelivr.net/gh/bmabey/pyLDAvis@3.4.0/pyLDAvis/js/ldavis.v3.0.0.js\", function(){\n",
       "                 new LDAvis(\"#\" + \"ldavis_el445623563565797283226964830\", ldavis_el445623563565797283226964830_data);\n",
       "            })\n",
       "         });\n",
       "}\n",
       "</script>"
      ],
      "text/plain": [
       "<IPython.core.display.HTML object>"
      ]
     },
     "execution_count": 211,
     "metadata": {},
     "output_type": "execute_result"
    }
   ],
   "source": [
    "print(\"LDA visualization\")\n",
    "lda_visualization = gensimvis.prepare(lda_model, gensim_corpus, gensim_dictionary)\n",
    "pyLDAvis.display(lda_visualization)"
   ]
  },
  {
   "cell_type": "code",
   "execution_count": 212,
   "metadata": {},
   "outputs": [],
   "source": [
    "def print_topics_formatted(model, num_words=10):\n",
    "    topics = model.print_topics(num_words=num_words)\n",
    "    for i, topic in enumerate(topics):\n",
    "        t_str = topic[1]\n",
    "        t_str = re.sub(r\"[^a-zA-Z]\", \" \", t_str)\n",
    "        t_str = re.sub(r\"\\s+\", \" \", t_str)\n",
    "        t_str = f\"Tópico {i}: {t_str}\"\n",
    "        print(t_str)\n",
    "\n",
    "def print_topics(model, num_words=10):\n",
    "    topics = model.print_topics(num_words=num_words)\n",
    "    for topic in topics:\n",
    "        print(topic)"
   ]
  },
  {
   "cell_type": "code",
   "execution_count": 213,
   "metadata": {},
   "outputs": [
    {
     "name": "stdout",
     "output_type": "stream",
     "text": [
      "LDA topics\n",
      "Tópico 0:  melhor otimo hotel espetacular vale pena princip copacabana porto rio resort luxo brasil custo beneficio fino janeiro hotei palac cidad \n",
      "Tópico 1:  nao hotel dia todo sempr funcionario bem ate voltar quero voce tudo recepcao aqui vez hosped experiencia ano desd pessoa \n",
      "Tópico 2:  nao piscina quarto sao hotel crianca cafe restaurant comida resort manha pouco praia bem ponto muita dia tambem agua porem \n",
      "Tópico 3:  bom hotel excelent boa cafe manha otima quarto atendimento bem funcionario comida praia limpo servico estrutura tudo piscina localizacao bonito \n",
      "Tópico 4:  equip paraben tia tio top show todo amei sensacion maravilhosa restaurant especi atendimento fantastico sao estrela toda recreacao atenciosa adorei \n",
      "Tópico 5:  lugar excelent maravilhoso atendimento lindo otimo super recomendo tudo perfeito incrivel hotel comida familia funcionario agradavel nota local experiencia todo \n"
     ]
    }
   ],
   "source": [
    "# Imprimindo tópicos encontrados\n",
    "print(\"LDA topics\")\n",
    "print_topics_formatted(lda_model, num_words=20)"
   ]
  },
  {
   "cell_type": "code",
   "execution_count": 214,
   "metadata": {},
   "outputs": [],
   "source": [
    "lda_topics_chat_gpt = {\n",
    "0:\"Luxo e encanto no Rio de Janeiro: hotéis espetaculares em Copacabana e Porto\",\n",
    "1:\"Experiência inesquecível: funcionários dedicados e hospitalidade excepcional\",\n",
    "2:\"Relaxamento à beira da piscina: hotéis familiares com ótimo café da manhã e acesso à praia\",\n",
    "3:\"Conforto e qualidade: hotéis com excelente atendimento, quartos bonitos e ótima localização\",\n",
    "4:\"Entretenimento e diversão: shows especiais, atendimento estrelar e recreação fantástica\",\n",
    "5:\"Maravilhas e encantos: locais excelentes com atendimento incrível, comida deliciosa e experiência memorável\",\n",
    "}"
   ]
  },
  {
   "cell_type": "code",
   "execution_count": 140,
   "metadata": {},
   "outputs": [
    {
     "name": "stdout",
     "output_type": "stream",
     "text": [
      "HDP topics\n",
      "Tópico 0:  nao hotel quarto bem bom piscina atendimento sao excelent cafe\n",
      "Tópico 1:  bom hotel atendimento excelent nao quarto lugar otimo bem boa\n",
      "Tópico 2:  hotel bom atendimento excelent nao lugar quarto otimo bem boa\n",
      "Tópico 3:  bom hotel excelent atendimento nao lugar quarto otimo bem boa\n",
      "Tópico 4:  bom excelent atendimento hotel lugar otimo nao quarto bem boa\n",
      "Tópico 5:  bom excelent atendimento hotel lugar otimo nao quarto bem boa\n",
      "Tópico 6:  bom excelent atendimento hotel lugar otimo nao quarto bem boa\n",
      "Tópico 7:  bom excelent atendimento hotel lugar otimo nao quarto bem boa\n",
      "Tópico 8:  bom excelent atendimento hotel lugar otimo nao quarto boa bem\n",
      "Tópico 9:  bom excelent atendimento hotel lugar otimo nao quarto bem boa\n",
      "Tópico 10:  bom excelent atendimento hotel lugar otimo nao quarto boa bem\n",
      "Tópico 11:  bom excelent atendimento hotel lugar otimo nao quarto bem boa\n",
      "Tópico 12:  bom excelent atendimento hotel lugar otimo nao quarto boa bem\n",
      "Tópico 13:  bom excelent atendimento hotel lugar otimo nao quarto boa bem\n",
      "Tópico 14:  bom excelent atendimento hotel lugar otimo nao quarto maravilhoso boa\n",
      "Tópico 15:  bom excelent atendimento hotel lugar otimo nao quarto boa maravilhoso\n",
      "Tópico 16:  bom excelent atendimento hotel lugar otimo nao quarto boa maravilhoso\n",
      "Tópico 17:  bom excelent atendimento hotel lugar otimo nao quarto boa maravilhoso\n",
      "Tópico 18:  bom excelent atendimento hotel lugar otimo nao quarto maravilhoso boa\n",
      "Tópico 19:  bom excelent atendimento hotel lugar otimo quarto nao boa maravilhoso\n"
     ]
    }
   ],
   "source": [
    "# Imprimindo tópicos encontrados\n",
    "print(\"HDP topics\")\n",
    "print_topics_formatted(hdp_model)"
   ]
  },
  {
   "cell_type": "code",
   "execution_count": 215,
   "metadata": {},
   "outputs": [
    {
     "data": {
      "text/plain": [
       "lda_2                                                            0.760618\n",
       "lda_3                                                            0.205741\n",
       "lda_first_topic                                                         2\n",
       "lda_first_topic_name    Relaxamento à beira da piscina: hotéis familia...\n",
       "dtype: object"
      ]
     },
     "execution_count": 215,
     "metadata": {},
     "output_type": "execute_result"
    }
   ],
   "source": [
    "# Definindo função para atribuir topicos ao documento\n",
    "def get_topics(tokens, model=lda_model, topic_names:dict = {}, prefix=\"lda_\"):\n",
    "    doc_bow = gensim_dictionary.doc2bow(tokens)\n",
    "    doc_topics_list = model[doc_bow]\n",
    "    doc_topics = {str(topic_id):topic_prob for topic_id, topic_prob in doc_topics_list}\n",
    "    doc_topics[\"first_topic\"] = sorted(doc_topics_list, key=lambda x:x[1], reverse=1)[0][0]\n",
    "    doc_topics[\"first_topic_name\"] = topic_names.get(doc_topics[\"first_topic\"], None)\n",
    "    result = pd.Series(doc_topics)\n",
    "    result = result.add_prefix(prefix)\n",
    "    return result\n",
    "\n",
    "get_topics(text_tokens_flat.iloc[2], model=lda_model, topic_names=lda_topics_chat_gpt)"
   ]
  },
  {
   "cell_type": "code",
   "execution_count": 216,
   "metadata": {},
   "outputs": [
    {
     "name": "stderr",
     "output_type": "stream",
     "text": [
      "100%|██████████| 150774/150774 [02:49<00:00, 889.91it/s] \n"
     ]
    }
   ],
   "source": [
    "# df_prep.loc[(~df_prep[\"text_na\"]),[\"lda_0\",\"lda_1\",\"lda_2\",\"lda_3\",\"lda_4\",\"lda_5\",\"lda_first_topic\",\"lda_first_topic_name\"]] = \\\n",
    "text_topics = \\\n",
    "    df_prep.loc[(~df_prep[\"text_na\"]),[\"text_tokens_flat\"]].progress_apply(\n",
    "        lambda x: get_topics(x.text_tokens_flat, model=lda_model, topic_names=lda_topics_chat_gpt),\n",
    "        axis=1,\n",
    "        result_type=\"expand\",\n",
    "    ).fillna(0)"
   ]
  },
  {
   "cell_type": "code",
   "execution_count": 217,
   "metadata": {},
   "outputs": [],
   "source": [
    "df_prep.loc[(~df_prep[\"text_na\"]),[\"lda_0\",\"lda_1\",\"lda_2\",\"lda_3\",\"lda_4\",\"lda_5\",\"lda_first_topic\",\"lda_first_topic_name\"]] = \\\n",
    "    text_topics"
   ]
  },
  {
   "cell_type": "code",
   "execution_count": 221,
   "metadata": {},
   "outputs": [
    {
     "data": {
      "text/html": [
       "<div>\n",
       "<style scoped>\n",
       "    .dataframe tbody tr th:only-of-type {\n",
       "        vertical-align: middle;\n",
       "    }\n",
       "\n",
       "    .dataframe tbody tr th {\n",
       "        vertical-align: top;\n",
       "    }\n",
       "\n",
       "    .dataframe thead th {\n",
       "        text-align: right;\n",
       "    }\n",
       "</style>\n",
       "<table border=\"1\" class=\"dataframe\">\n",
       "  <thead>\n",
       "    <tr style=\"text-align: right;\">\n",
       "      <th></th>\n",
       "      <th>lda_0</th>\n",
       "      <th>lda_1</th>\n",
       "      <th>lda_2</th>\n",
       "      <th>lda_3</th>\n",
       "      <th>lda_4</th>\n",
       "      <th>lda_5</th>\n",
       "      <th>lda_first_topic</th>\n",
       "      <th>lda_first_topic_name</th>\n",
       "    </tr>\n",
       "  </thead>\n",
       "  <tbody>\n",
       "    <tr>\n",
       "      <th>0</th>\n",
       "      <td>0.000000</td>\n",
       "      <td>0.000000</td>\n",
       "      <td>0.655126</td>\n",
       "      <td>0.321025</td>\n",
       "      <td>0.000000</td>\n",
       "      <td>0.000000</td>\n",
       "      <td>2.0</td>\n",
       "      <td>Relaxamento à beira da piscina: hotéis familia...</td>\n",
       "    </tr>\n",
       "    <tr>\n",
       "      <th>1</th>\n",
       "      <td>0.000000</td>\n",
       "      <td>0.385357</td>\n",
       "      <td>0.509696</td>\n",
       "      <td>0.000000</td>\n",
       "      <td>0.034067</td>\n",
       "      <td>0.061580</td>\n",
       "      <td>2.0</td>\n",
       "      <td>Relaxamento à beira da piscina: hotéis familia...</td>\n",
       "    </tr>\n",
       "    <tr>\n",
       "      <th>2</th>\n",
       "      <td>0.000000</td>\n",
       "      <td>0.000000</td>\n",
       "      <td>0.760576</td>\n",
       "      <td>0.205783</td>\n",
       "      <td>0.000000</td>\n",
       "      <td>0.000000</td>\n",
       "      <td>2.0</td>\n",
       "      <td>Relaxamento à beira da piscina: hotéis familia...</td>\n",
       "    </tr>\n",
       "    <tr>\n",
       "      <th>3</th>\n",
       "      <td>0.128979</td>\n",
       "      <td>0.248065</td>\n",
       "      <td>0.558441</td>\n",
       "      <td>0.000000</td>\n",
       "      <td>0.000000</td>\n",
       "      <td>0.053553</td>\n",
       "      <td>2.0</td>\n",
       "      <td>Relaxamento à beira da piscina: hotéis familia...</td>\n",
       "    </tr>\n",
       "    <tr>\n",
       "      <th>6</th>\n",
       "      <td>0.000000</td>\n",
       "      <td>0.478672</td>\n",
       "      <td>0.334847</td>\n",
       "      <td>0.161329</td>\n",
       "      <td>0.000000</td>\n",
       "      <td>0.000000</td>\n",
       "      <td>1.0</td>\n",
       "      <td>Experiência inesquecível: funcionários dedicad...</td>\n",
       "    </tr>\n",
       "  </tbody>\n",
       "</table>\n",
       "</div>"
      ],
      "text/plain": [
       "      lda_0     lda_1     lda_2     lda_3     lda_4     lda_5  \\\n",
       "0  0.000000  0.000000  0.655126  0.321025  0.000000  0.000000   \n",
       "1  0.000000  0.385357  0.509696  0.000000  0.034067  0.061580   \n",
       "2  0.000000  0.000000  0.760576  0.205783  0.000000  0.000000   \n",
       "3  0.128979  0.248065  0.558441  0.000000  0.000000  0.053553   \n",
       "6  0.000000  0.478672  0.334847  0.161329  0.000000  0.000000   \n",
       "\n",
       "   lda_first_topic                               lda_first_topic_name  \n",
       "0              2.0  Relaxamento à beira da piscina: hotéis familia...  \n",
       "1              2.0  Relaxamento à beira da piscina: hotéis familia...  \n",
       "2              2.0  Relaxamento à beira da piscina: hotéis familia...  \n",
       "3              2.0  Relaxamento à beira da piscina: hotéis familia...  \n",
       "6              1.0  Experiência inesquecível: funcionários dedicad...  "
      ]
     },
     "execution_count": 221,
     "metadata": {},
     "output_type": "execute_result"
    }
   ],
   "source": [
    "df_prep.loc[(~df_prep[\"text_na\"]),[\"lda_0\",\"lda_1\",\"lda_2\",\"lda_3\",\"lda_4\",\"lda_5\",\"lda_first_topic\",\"lda_first_topic_name\"]].head()"
   ]
  },
  {
   "cell_type": "code",
   "execution_count": 219,
   "metadata": {},
   "outputs": [
    {
     "name": "stdout",
     "output_type": "stream",
     "text": [
      "data/processed/df_topics_2023-07-09_23-48-54_286392.pq\n"
     ]
    }
   ],
   "source": [
    "save_df(df_prep, \"data/processed\", \"df_topics\")"
   ]
  }
 ],
 "metadata": {
  "kernelspec": {
   "display_name": "Python 3.9.16 ('pgc')",
   "language": "python",
   "name": "python3"
  },
  "language_info": {
   "codemirror_mode": {
    "name": "ipython",
    "version": 3
   },
   "file_extension": ".py",
   "mimetype": "text/x-python",
   "name": "python",
   "nbconvert_exporter": "python",
   "pygments_lexer": "ipython3",
   "version": "3.9.12"
  },
  "orig_nbformat": 4,
  "vscode": {
   "interpreter": {
    "hash": "e4ff42775fae78e322dc70fb421ea3572f7be2c7bf0f4a5014dd6b6ba7793779"
   }
  }
 },
 "nbformat": 4,
 "nbformat_minor": 2
}

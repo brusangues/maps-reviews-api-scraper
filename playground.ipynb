{
 "cells": [
  {
   "cell_type": "markdown",
   "metadata": {},
   "source": [
    "# Testes de Modelos, Rag, Etc"
   ]
  },
  {
   "cell_type": "code",
   "execution_count": null,
   "metadata": {},
   "outputs": [],
   "source": [
    "from llms.models import load_model\n",
    "llm, model_name, max_new_tokens = load_model(\"gemini-2.0-pro\")"
   ]
  },
  {
   "cell_type": "code",
   "execution_count": null,
   "metadata": {},
   "outputs": [],
   "source": [
    "from llms.models import query_model\n",
    "query_model(llm, \"Quanto é 1+1?\")"
   ]
  },
  {
   "cell_type": "code",
   "execution_count": null,
   "metadata": {},
   "outputs": [],
   "source": [
    "from llms.rag import load_rag\n",
    "vector_store, rag_alias, embeddings_name = load_rag(\"google-ip\")"
   ]
  },
  {
   "cell_type": "code",
   "execution_count": null,
   "metadata": {},
   "outputs": [],
   "source": [
    "from llms.models import load_embedding\n",
    "embeddings, model_name = load_embedding(\"gemini\")\n",
    "embeddings.embed_query(\"hi man\")"
   ]
  },
  {
   "cell_type": "code",
   "execution_count": null,
   "metadata": {},
   "outputs": [
    {
     "name": "stdout",
     "output_type": "stream",
     "text": [
      "Querying index...\n",
      "Query with increasing fetch_k: i=0 fetch_k=1000\n",
      "len(results)=6/fetch_k=1000 n_responses=10\n",
      "Query with increasing fetch_k: i=1 fetch_k=10000\n",
      "len(results)=35/fetch_k=10000 n_responses=10\n",
      "Results sufficient.\n",
      " - Avaliação 1, Similaridade: 0.686\n",
      "Hotel: Ancona Center Hotel, 3 Estrelas.\n",
      "Região:SUDESTE; Estado:SÃO PAULO; Cidade:Amparo\n",
      "Tipo:Hotel; Classificação:4.2; Quantidade Avaliações:717\n",
      "Nota:3; Curtidas:0; Usuário é guia local; Nota Quartos:3; Nota Localização:5; Nota Serviço:4\n",
      "Avaliação: Bom hotel, bem localizado, acho que precisa renovar os baheiros, apenas. Café da manhã completo, muito bem servido. Atendimento simpático.\n",
      "\n",
      "\n",
      " - Avaliação 2, Similaridade: 0.687\n",
      "Hotel: Ancona Center Hotel, 3 Estrelas.\n",
      "Região:SUDESTE; Estado:SÃO PAULO; Cidade:Amparo\n",
      "Tipo:Hotel; Classificação:4.2; Quantidade Avaliações:717\n",
      "Nota:5; Curtidas:1; Usuário é guia local\n",
      "Avaliação: Atendimento  maravilhoso, limpeza,café da manhã  diversificado e  muito  gostoso. Recomendo.\n",
      "\n",
      "\n",
      " - Avaliação 3, Similaridade: 0.687\n",
      "Hotel: Ancona Center Hotel, 3 Estrelas.\n",
      "Região:SUDESTE; Estado:SÃO PAULO; Cidade:Amparo\n",
      "Tipo:Hotel; Classificação:4.2; Quantidade Avaliações:717\n",
      "Nota:3; Curtidas:0; Usuário é guia local\n",
      "Avaliação: Hotel muito bom café da manhã excelente e funcionários excelente O que atrapalha é o som alto do comércio do lado que não respeita não dá pra descansar fora a gritaria da turma\n",
      "\n",
      "\n",
      " - Avaliação 4, Similaridade: 0.687\n",
      "Hotel: Ancona Center Hotel, 3 Estrelas.\n",
      "Região:SUDESTE; Estado:SÃO PAULO; Cidade:Amparo\n",
      "Tipo:Hotel; Classificação:4.2; Quantidade Avaliações:717\n",
      "Nota:5; Curtidas:0; Usuário é guia local\n",
      "Avaliação: Acolhedor , aconchegante e um café da manhã dos deuses. Maravilhoso !\n",
      "\n",
      "\n",
      " - Avaliação 5, Similaridade: 0.688\n",
      "Hotel: Ancona Center Hotel, 3 Estrelas.\n",
      "Região:SUDESTE; Estado:SÃO PAULO; Cidade:Amparo\n",
      "Tipo:Hotel; Classificação:4.2; Quantidade Avaliações:717\n",
      "Nota:5; Curtidas:0; Usuário é guia local\n",
      "Avaliação: Otimo hotel, bem localizado, quartos super lipos, café da manhã otimo!!!\n",
      "\n",
      "\n",
      " - Avaliação 6, Similaridade: 0.688\n",
      "Hotel: Ancona Center Hotel, 3 Estrelas.\n",
      "Região:SUDESTE; Estado:SÃO PAULO; Cidade:Amparo\n",
      "Tipo:Hotel; Classificação:4.2; Quantidade Avaliações:717\n",
      "Nota:5; Curtidas:0; Usuário é guia local; Nota Quartos:5; Nota Localização:5; Nota Serviço:5\n",
      "Avaliação: Lugar aconchegante e limpo, adorei o café da manhã! Facilidade de deslocamento a pé: Fica ao lado da rodoviária , fácil acesso ao centro e ponto e pontos turísticos. Quartos : 5/5 |\n",
      "\n",
      "\n",
      " - Avaliação 7, Similaridade: 0.689\n",
      "Hotel: Ancona Center Hotel, 3 Estrelas.\n",
      "Região:SUDESTE; Estado:SÃO PAULO; Cidade:Amparo\n",
      "Tipo:Hotel; Classificação:4.2; Quantidade Avaliações:717\n",
      "Nota:4; Curtidas:1; Usuário é guia local\n",
      "Avaliação: Café da manhã muito gostoso! Quarto agradável. Alguns quartos são voltados para duas igrejas, e como não tem isolamento acústico parecia que os cultos estavam sendo dentro do quarto do hotel. O gerente é atencioso, já o moço da recepção não, além do desinteresse.\n",
      "\n",
      "\n",
      " - Avaliação 8, Similaridade: 0.689\n",
      "Hotel: Ancona Center Hotel, 3 Estrelas.\n",
      "Região:SUDESTE; Estado:SÃO PAULO; Cidade:Amparo\n",
      "Tipo:Hotel; Classificação:4.2; Quantidade Avaliações:717\n",
      "Nota:5; Curtidas:0; Usuário é guia local; Nota Quartos:5; Nota Localização:5; Nota Serviço:5\n",
      "Avaliação: Boa recepção, quarto limpo chuveiro e cama bons. O café da manhã é um presente dos Deuses kkk é muito bom. Voltaremos com certeza\n",
      "\n",
      "\n",
      " - Avaliação 9, Similaridade: 0.689\n",
      "Hotel: Ancona Center Hotel, 3 Estrelas.\n",
      "Região:SUDESTE; Estado:SÃO PAULO; Cidade:Amparo\n",
      "Tipo:Hotel; Classificação:4.2; Quantidade Avaliações:717\n",
      "Nota:4; Curtidas:0; Usuário é guia local\n",
      "Avaliação: Ótimo local para dormir.  Café da manhã 10.  Faltou um pouco de atenção na limpeza do quarto, mas do restante 10\n",
      "\n",
      "\n",
      " - Avaliação 10, Similaridade: 0.690\n",
      "Hotel: Ancona Center Hotel, 3 Estrelas.\n",
      "Região:SUDESTE; Estado:SÃO PAULO; Cidade:Amparo\n",
      "Tipo:Hotel; Classificação:4.2; Quantidade Avaliações:717\n",
      "Nota:5; Curtidas:0; Usuário é guia local\n",
      "Avaliação: Muito bom o hotel. Simples, e confortável. Bom atendimento, e café da manhã delicioso.\n",
      "\n",
      "\n",
      "query_index took: 0.9994463920593262\n"
     ]
    },
    {
     "data": {
      "text/plain": [
       "' - Avaliação 1, Similaridade: 0.686\\nHotel: Ancona Center Hotel, 3 Estrelas.\\nRegião:SUDESTE; Estado:SÃO PAULO; Cidade:Amparo\\nTipo:Hotel; Classificação:4.2; Quantidade Avaliações:717\\nNota:3; Curtidas:0; Usuário é guia local; Nota Quartos:3; Nota Localização:5; Nota Serviço:4\\nAvaliação: Bom hotel, bem localizado, acho que precisa renovar os baheiros, apenas. Café da manhã completo, muito bem servido. Atendimento simpático.\\n\\n - Avaliação 2, Similaridade: 0.687\\nHotel: Ancona Center Hotel, 3 Estrelas.\\nRegião:SUDESTE; Estado:SÃO PAULO; Cidade:Amparo\\nTipo:Hotel; Classificação:4.2; Quantidade Avaliações:717\\nNota:5; Curtidas:1; Usuário é guia local\\nAvaliação: Atendimento  maravilhoso, limpeza,café da manhã  diversificado e  muito  gostoso. Recomendo.\\n\\n - Avaliação 3, Similaridade: 0.687\\nHotel: Ancona Center Hotel, 3 Estrelas.\\nRegião:SUDESTE; Estado:SÃO PAULO; Cidade:Amparo\\nTipo:Hotel; Classificação:4.2; Quantidade Avaliações:717\\nNota:3; Curtidas:0; Usuário é guia local\\nAvaliação: Hotel muito bom café da manhã excelente e funcionários excelente O que atrapalha é o som alto do comércio do lado que não respeita não dá pra descansar fora a gritaria da turma\\n\\n - Avaliação 4, Similaridade: 0.687\\nHotel: Ancona Center Hotel, 3 Estrelas.\\nRegião:SUDESTE; Estado:SÃO PAULO; Cidade:Amparo\\nTipo:Hotel; Classificação:4.2; Quantidade Avaliações:717\\nNota:5; Curtidas:0; Usuário é guia local\\nAvaliação: Acolhedor , aconchegante e um café da manhã dos deuses. Maravilhoso !\\n\\n - Avaliação 5, Similaridade: 0.688\\nHotel: Ancona Center Hotel, 3 Estrelas.\\nRegião:SUDESTE; Estado:SÃO PAULO; Cidade:Amparo\\nTipo:Hotel; Classificação:4.2; Quantidade Avaliações:717\\nNota:5; Curtidas:0; Usuário é guia local\\nAvaliação: Otimo hotel, bem localizado, quartos super lipos, café da manhã otimo!!!\\n\\n - Avaliação 6, Similaridade: 0.688\\nHotel: Ancona Center Hotel, 3 Estrelas.\\nRegião:SUDESTE; Estado:SÃO PAULO; Cidade:Amparo\\nTipo:Hotel; Classificação:4.2; Quantidade Avaliações:717\\nNota:5; Curtidas:0; Usuário é guia local; Nota Quartos:5; Nota Localização:5; Nota Serviço:5\\nAvaliação: Lugar aconchegante e limpo, adorei o café da manhã! Facilidade de deslocamento a pé: Fica ao lado da rodoviária , fácil acesso ao centro e ponto e pontos turísticos. Quartos : 5/5 |\\n\\n - Avaliação 7, Similaridade: 0.689\\nHotel: Ancona Center Hotel, 3 Estrelas.\\nRegião:SUDESTE; Estado:SÃO PAULO; Cidade:Amparo\\nTipo:Hotel; Classificação:4.2; Quantidade Avaliações:717\\nNota:4; Curtidas:1; Usuário é guia local\\nAvaliação: Café da manhã muito gostoso! Quarto agradável. Alguns quartos são voltados para duas igrejas, e como não tem isolamento acústico parecia que os cultos estavam sendo dentro do quarto do hotel. O gerente é atencioso, já o moço da recepção não, além do desinteresse.\\n\\n - Avaliação 8, Similaridade: 0.689\\nHotel: Ancona Center Hotel, 3 Estrelas.\\nRegião:SUDESTE; Estado:SÃO PAULO; Cidade:Amparo\\nTipo:Hotel; Classificação:4.2; Quantidade Avaliações:717\\nNota:5; Curtidas:0; Usuário é guia local; Nota Quartos:5; Nota Localização:5; Nota Serviço:5\\nAvaliação: Boa recepção, quarto limpo chuveiro e cama bons. O café da manhã é um presente dos Deuses kkk é muito bom. Voltaremos com certeza\\n\\n - Avaliação 9, Similaridade: 0.689\\nHotel: Ancona Center Hotel, 3 Estrelas.\\nRegião:SUDESTE; Estado:SÃO PAULO; Cidade:Amparo\\nTipo:Hotel; Classificação:4.2; Quantidade Avaliações:717\\nNota:4; Curtidas:0; Usuário é guia local\\nAvaliação: Ótimo local para dormir.  Café da manhã 10.  Faltou um pouco de atenção na limpeza do quarto, mas do restante 10\\n\\n - Avaliação 10, Similaridade: 0.690\\nHotel: Ancona Center Hotel, 3 Estrelas.\\nRegião:SUDESTE; Estado:SÃO PAULO; Cidade:Amparo\\nTipo:Hotel; Classificação:4.2; Quantidade Avaliações:717\\nNota:5; Curtidas:0; Usuário é guia local\\nAvaliação: Muito bom o hotel. Simples, e confortável. Bom atendimento, e café da manhã delicioso.\\n\\n'"
      ]
     },
     "execution_count": 12,
     "metadata": {},
     "output_type": "execute_result"
    }
   ],
   "source": [
    "from llms.rag import query_index\n",
    "docs, context = query_index(\n",
    "    vector_store=vector_store,\n",
    "    query=\"Qual hotel tem o melhor café?\",\n",
    "    filter={\"nome\": {\"$eq\": \"Ancona Center Hotel\"}, \"nota_avaliacao\": {\"$gte\": 3}},\n",
    "    n_responses=10,\n",
    ")\n",
    "context"
   ]
  },
  {
   "cell_type": "code",
   "execution_count": 22,
   "metadata": {},
   "outputs": [],
   "source": [
    "# Test all models\n",
    "# for a in models_text:\n",
    "#     if models_text[a][0] in [\"local\",\"google\"]:\n",
    "#         continue\n",
    "#     print(a)\n",
    "#     llm, model_name, max_new_tokens = load_model(a)\n",
    "#     llmresult = llm.generate([\"hi\"])\n",
    "#     print(llmresult)\n",
    "#     response = llmresult.generations[0][0].text\n",
    "#     print(response)"
   ]
  }
 ],
 "metadata": {
  "kernelspec": {
   "display_name": "cu124",
   "language": "python",
   "name": "python3"
  },
  "language_info": {
   "codemirror_mode": {
    "name": "ipython",
    "version": 3
   },
   "file_extension": ".py",
   "mimetype": "text/x-python",
   "name": "python",
   "nbconvert_exporter": "python",
   "pygments_lexer": "ipython3",
   "version": "3.11.11"
  }
 },
 "nbformat": 4,
 "nbformat_minor": 2
}

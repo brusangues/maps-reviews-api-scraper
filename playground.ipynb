{
 "cells": [
  {
   "cell_type": "markdown",
   "metadata": {},
   "source": [
    "# Testes de Modelos, Rag, Etc"
   ]
  },
  {
   "cell_type": "code",
   "execution_count": 1,
   "metadata": {},
   "outputs": [],
   "source": [
    "%load_ext autoreload\n",
    "\n",
    "%autoreload 2"
   ]
  },
  {
   "cell_type": "code",
   "execution_count": 2,
   "metadata": {},
   "outputs": [
    {
     "data": {
      "text/plain": [
       "['models/chat-bison-001',\n",
       " 'models/text-bison-001',\n",
       " 'models/embedding-gecko-001',\n",
       " 'models/gemini-1.0-pro-vision-latest',\n",
       " 'models/gemini-pro-vision',\n",
       " 'models/gemini-1.5-pro-latest',\n",
       " 'models/gemini-1.5-pro-001',\n",
       " 'models/gemini-1.5-pro-002',\n",
       " 'models/gemini-1.5-pro',\n",
       " 'models/gemini-1.5-flash-latest',\n",
       " 'models/gemini-1.5-flash-001',\n",
       " 'models/gemini-1.5-flash-001-tuning',\n",
       " 'models/gemini-1.5-flash',\n",
       " 'models/gemini-1.5-flash-002',\n",
       " 'models/gemini-1.5-flash-8b',\n",
       " 'models/gemini-1.5-flash-8b-001',\n",
       " 'models/gemini-1.5-flash-8b-latest',\n",
       " 'models/gemini-1.5-flash-8b-exp-0827',\n",
       " 'models/gemini-1.5-flash-8b-exp-0924',\n",
       " 'models/gemini-2.0-flash-exp',\n",
       " 'models/gemini-2.0-flash',\n",
       " 'models/gemini-2.0-flash-001',\n",
       " 'models/gemini-2.0-flash-exp-image-generation',\n",
       " 'models/gemini-2.0-flash-lite-001',\n",
       " 'models/gemini-2.0-flash-lite',\n",
       " 'models/gemini-2.0-flash-lite-preview-02-05',\n",
       " 'models/gemini-2.0-flash-lite-preview',\n",
       " 'models/gemini-2.0-pro-exp',\n",
       " 'models/gemini-2.0-pro-exp-02-05',\n",
       " 'models/gemini-exp-1206',\n",
       " 'models/gemini-2.0-flash-thinking-exp-01-21',\n",
       " 'models/gemini-2.0-flash-thinking-exp',\n",
       " 'models/gemini-2.0-flash-thinking-exp-1219',\n",
       " 'models/learnlm-1.5-pro-experimental',\n",
       " 'models/gemma-3-27b-it',\n",
       " 'models/embedding-001',\n",
       " 'models/text-embedding-004',\n",
       " 'models/gemini-embedding-exp-03-07',\n",
       " 'models/gemini-embedding-exp',\n",
       " 'models/aqa',\n",
       " 'models/imagen-3.0-generate-002']"
      ]
     },
     "execution_count": 2,
     "metadata": {},
     "output_type": "execute_result"
    }
   ],
   "source": [
    "import google.generativeai as genai\n",
    "import json\n",
    "\n",
    "models = genai.list_models()\n",
    "models = [m.__dict__ for m in models]\n",
    "models\n",
    "with open(\"google_list_models.json\", \"w\") as f:\n",
    "    json.dump(models, f, indent=4)\n",
    "[m[\"name\"] for m in models]"
   ]
  },
  {
   "cell_type": "code",
   "execution_count": 10,
   "metadata": {},
   "outputs": [
    {
     "name": "stdout",
     "output_type": "stream",
     "text": [
      "load_model...\n",
      "model_alias='gemini-1.5-flash-8b' max_new_tokens=8192 model_data=('google', 'gemini-1.5-flash-8b')\n",
      "Loading ChatGoogleGenerativeAI model...\n",
      "llm=ChatGoogleGenerativeAI(model='models/gemini-1.5-flash-8b', google_api_key=SecretStr('**********'), temperature=0.0, max_output_tokens=8192, max_retries=3, timeout=60.0, client=<google.ai.generativelanguage_v1beta.services.generative_service.client.GenerativeServiceClient object at 0x000002AC4A99A350>, default_metadata=())\n",
      "llm=ChatGoogleGenerativeAI(model='models/gemini-1.5-flash-8b', google_api_key=SecretStr('**********'), temperature=0.0, max_output_tokens=8192, max_retries=3, timeout=60.0, client=<google.ai.generativelanguage_v1beta.services.generative_service.client.GenerativeServiceClient object at 0x000002AC4AA345D0>, default_metadata=())\n",
      "llm=ChatGoogleGenerativeAI(model='models/gemini-1.5-flash-8b', google_api_key=SecretStr('**********'), temperature=0.0, max_output_tokens=8192, max_retries=3, timeout=60.0, client=<google.ai.generativelanguage_v1beta.services.generative_service.client.GenerativeServiceClient object at 0x000002AC4AA1B3D0>, default_metadata=())\n",
      "hf_pipe=<llms.models.GenericHuggingFacePipeline object at 0x000002AC49D29A90>\n"
     ]
    }
   ],
   "source": [
    "from llms.models import load_model\n",
    "llm, model_name, max_new_tokens = load_model(\"gemini-1.5-flash-8b\")"
   ]
  },
  {
   "cell_type": "code",
   "execution_count": 12,
   "metadata": {},
   "outputs": [
    {
     "name": "stdout",
     "output_type": "stream",
     "text": [
      "Current model: 0 models/gemini-1.5-flash-8b XWPQ\n",
      "Next model:    1 models/gemini-1.5-flash-8b PgdM\n"
     ]
    }
   ],
   "source": [
    "llm.switch_models()"
   ]
  },
  {
   "cell_type": "code",
   "execution_count": 13,
   "metadata": {},
   "outputs": [
    {
     "name": "stdout",
     "output_type": "stream",
     "text": [
      "query_model_google...\n",
      "len(prompt)=14 model_name='models/gemini-1.5-flash-8b' key_index=1 key[-4:]='PgdM'\n",
      "len(response)=2159\n",
      "response='A vida é um conceito complexo e multifacetado, sem uma definição única e universalmente aceita.  Depende muito do contexto em que é considerada.  Podemos abordar a questão de diferentes perspectivas:\\n\\n**Do ponto de vista biológico:** A vida é geralmente definida como um sistema complexo que apresenta as seguintes características:\\n\\n* **Organização:**  Estrutura celular, com componentes interdependentes.\\n* **Metabolismo:** Capacidade de obter e utilizar energia para realizar funções vitais.\\n* **Reprodução:** Capacidade de gerar novos indivíduos.\\n* **Adaptação:** Capacidade de responder a mudanças no ambiente.\\n* **Homeostase:** Manutenção de um ambiente interno estável.\\n* **Hereditariedade:** Transmissão de características genéticas para a prole.\\n\\n**Do ponto de vista filosófico:** A vida pode ser vista como:\\n\\n* **Experiência consciente:** A capacidade de sentir, pensar, perceber e ter consciência de si mesmo.\\n* **Significado e propósito:** A busca por um sentido na existência, o que pode variar de pessoa para pessoa.\\n* **Relação com o universo:** A posição do ser humano no cosmos e sua interação com o mundo ao seu redor.\\n* **Liberdade e responsabilidade:** A capacidade de tomar decisões e assumir as consequências.\\n\\n**Do ponto de vista social:** A vida é:\\n\\n* **Interação e comunidade:** A necessidade de relacionamentos e pertencimento a grupos sociais.\\n* **Cultura e história:** A influência da cultura e da história na forma como vivemos.\\n* **Valores e crenças:** Os princípios que guiam nossas ações e decisões.\\n\\n**Do ponto de vista pessoal:** A vida é:\\n\\n* **Uma jornada única:** Cada indivíduo tem sua própria experiência e perspectiva sobre a vida.\\n* **Um presente a ser vivido:** A importância de aproveitar o momento presente e as oportunidades que surgem.\\n* **Um desafio e uma oportunidade:** A vida apresenta desafios e oportunidades para crescimento pessoal e aprendizado.\\n\\nEm resumo, a vida é um fenômeno multifacetado que pode ser compreendido de diversas maneiras, dependendo da perspectiva adotada.  Não existe uma resposta definitiva, mas sim uma série de perspectivas que nos ajudam a entender melhor esse conceito fundamental.'\n",
      "info={'input_tokens': 5, 'output_tokens': 475, 'total_tokens': 480, 'input_token_details': {'cache_read': 0}, 'prompt_feedback': {'block_reason': 0, 'safety_ratings': []}, 'finish_reason': 'STOP', 'safety_ratings': [{'category': 'HARM_CATEGORY_HATE_SPEECH', 'probability': 'NEGLIGIBLE', 'blocked': False}, {'category': 'HARM_CATEGORY_DANGEROUS_CONTENT', 'probability': 'NEGLIGIBLE', 'blocked': False}, {'category': 'HARM_CATEGORY_HARASSMENT', 'probability': 'NEGLIGIBLE', 'blocked': False}, {'category': 'HARM_CATEGORY_SEXUALLY_EXPLICIT', 'probability': 'NEGLIGIBLE', 'blocked': False}]}\n"
     ]
    },
    {
     "data": {
      "text/plain": [
       "('A vida é um conceito complexo e multifacetado, sem uma definição única e universalmente aceita.  Depende muito do contexto em que é considerada.  Podemos abordar a questão de diferentes perspectivas:\\n\\n**Do ponto de vista biológico:** A vida é geralmente definida como um sistema complexo que apresenta as seguintes características:\\n\\n* **Organização:**  Estrutura celular, com componentes interdependentes.\\n* **Metabolismo:** Capacidade de obter e utilizar energia para realizar funções vitais.\\n* **Reprodução:** Capacidade de gerar novos indivíduos.\\n* **Adaptação:** Capacidade de responder a mudanças no ambiente.\\n* **Homeostase:** Manutenção de um ambiente interno estável.\\n* **Hereditariedade:** Transmissão de características genéticas para a prole.\\n\\n**Do ponto de vista filosófico:** A vida pode ser vista como:\\n\\n* **Experiência consciente:** A capacidade de sentir, pensar, perceber e ter consciência de si mesmo.\\n* **Significado e propósito:** A busca por um sentido na existência, o que pode variar de pessoa para pessoa.\\n* **Relação com o universo:** A posição do ser humano no cosmos e sua interação com o mundo ao seu redor.\\n* **Liberdade e responsabilidade:** A capacidade de tomar decisões e assumir as consequências.\\n\\n**Do ponto de vista social:** A vida é:\\n\\n* **Interação e comunidade:** A necessidade de relacionamentos e pertencimento a grupos sociais.\\n* **Cultura e história:** A influência da cultura e da história na forma como vivemos.\\n* **Valores e crenças:** Os princípios que guiam nossas ações e decisões.\\n\\n**Do ponto de vista pessoal:** A vida é:\\n\\n* **Uma jornada única:** Cada indivíduo tem sua própria experiência e perspectiva sobre a vida.\\n* **Um presente a ser vivido:** A importância de aproveitar o momento presente e as oportunidades que surgem.\\n* **Um desafio e uma oportunidade:** A vida apresenta desafios e oportunidades para crescimento pessoal e aprendizado.\\n\\nEm resumo, a vida é um fenômeno multifacetado que pode ser compreendido de diversas maneiras, dependendo da perspectiva adotada.  Não existe uma resposta definitiva, mas sim uma série de perspectivas que nos ajudam a entender melhor esse conceito fundamental.',\n",
       " {'input_tokens': 5,\n",
       "  'output_tokens': 475,\n",
       "  'total_tokens': 480,\n",
       "  'input_token_details': {'cache_read': 0},\n",
       "  'prompt_feedback': {'block_reason': 0, 'safety_ratings': []},\n",
       "  'finish_reason': 'STOP',\n",
       "  'safety_ratings': [{'category': 'HARM_CATEGORY_HATE_SPEECH',\n",
       "    'probability': 'NEGLIGIBLE',\n",
       "    'blocked': False},\n",
       "   {'category': 'HARM_CATEGORY_DANGEROUS_CONTENT',\n",
       "    'probability': 'NEGLIGIBLE',\n",
       "    'blocked': False},\n",
       "   {'category': 'HARM_CATEGORY_HARASSMENT',\n",
       "    'probability': 'NEGLIGIBLE',\n",
       "    'blocked': False},\n",
       "   {'category': 'HARM_CATEGORY_SEXUALLY_EXPLICIT',\n",
       "    'probability': 'NEGLIGIBLE',\n",
       "    'blocked': False}]})"
      ]
     },
     "execution_count": 13,
     "metadata": {},
     "output_type": "execute_result"
    }
   ],
   "source": [
    "from llms.models import query_model\n",
    "query_model(llm, \"O que é a vida\")"
   ]
  },
  {
   "cell_type": "code",
   "execution_count": 31,
   "metadata": {},
   "outputs": [
    {
     "name": "stdout",
     "output_type": "stream",
     "text": [
      "load_rag...\n",
      "load_embedding...\n",
      "model_alias='google-4' model_data=('google', 'models/text-embedding-004') task_type='retrieval_query'\n",
      "Loading GoogleGenerativeAIEmbeddings model...\n",
      "embeddings=GoogleGenerativeAIEmbeddings(client=<google.ai.generativelanguage_v1beta.services.generative_service.client.GenerativeServiceClient object at 0x000002425765BF50>, model='models/text-embedding-004', task_type='retrieval_query', google_api_key=SecretStr('**********'), credentials=None, client_options=None, transport=None, request_options=None)\n",
      "rag_alias='google-ip' embedding_model_alias='google-4' embeddings_name='models/text-embedding-004' path_index='data/faiss_index_google_v4_ip'\n",
      "Loading index...\n"
     ]
    },
    {
     "name": "stderr",
     "output_type": "stream",
     "text": [
      "  4%|▍         | 1/23 [00:00<00:03,  7.10it/s]"
     ]
    },
    {
     "name": "stdout",
     "output_type": "stream",
     "text": [
      "i=0 vector_store.index.ntotal=10000\n",
      "i=1 vector_store.index.ntotal=20000"
     ]
    },
    {
     "name": "stderr",
     "output_type": "stream",
     "text": [
      " 13%|█▎        | 3/23 [00:00<00:03,  5.75it/s]"
     ]
    },
    {
     "name": "stdout",
     "output_type": "stream",
     "text": [
      "\n",
      "i=2 vector_store.index.ntotal=30000\n"
     ]
    },
    {
     "name": "stderr",
     "output_type": "stream",
     "text": [
      " 22%|██▏       | 5/23 [00:01<00:06,  2.78it/s]"
     ]
    },
    {
     "name": "stdout",
     "output_type": "stream",
     "text": [
      "i=3 vector_store.index.ntotal=40000\n",
      "i=4 vector_store.index.ntotal=50000\n"
     ]
    },
    {
     "name": "stderr",
     "output_type": "stream",
     "text": [
      " 30%|███       | 7/23 [00:01<00:03,  4.03it/s]"
     ]
    },
    {
     "name": "stdout",
     "output_type": "stream",
     "text": [
      "i=5 vector_store.index.ntotal=60000\n",
      "i=6 vector_store.index.ntotal=70000\n"
     ]
    },
    {
     "name": "stderr",
     "output_type": "stream",
     "text": [
      " 39%|███▉      | 9/23 [00:02<00:02,  5.79it/s]"
     ]
    },
    {
     "name": "stdout",
     "output_type": "stream",
     "text": [
      "i=7 vector_store.index.ntotal=72923\n",
      "i=8 vector_store.index.ntotal=82923\n"
     ]
    },
    {
     "name": "stderr",
     "output_type": "stream",
     "text": [
      " 43%|████▎     | 10/23 [00:02<00:02,  4.43it/s]"
     ]
    },
    {
     "name": "stdout",
     "output_type": "stream",
     "text": [
      "i=9 vector_store.index.ntotal=92923\n",
      "i=10 vector_store.index.ntotal=102923\n"
     ]
    },
    {
     "name": "stderr",
     "output_type": "stream",
     "text": [
      " 57%|█████▋    | 13/23 [00:03<00:01,  5.02it/s]"
     ]
    },
    {
     "name": "stdout",
     "output_type": "stream",
     "text": [
      "i=11 vector_store.index.ntotal=112923\n",
      "i=12 vector_store.index.ntotal=122923\n"
     ]
    },
    {
     "name": "stderr",
     "output_type": "stream",
     "text": [
      " 61%|██████    | 14/23 [00:03<00:01,  5.56it/s]"
     ]
    },
    {
     "name": "stdout",
     "output_type": "stream",
     "text": [
      "i=13 vector_store.index.ntotal=132923\n"
     ]
    },
    {
     "name": "stderr",
     "output_type": "stream",
     "text": [
      " 65%|██████▌   | 15/23 [00:03<00:02,  3.99it/s]"
     ]
    },
    {
     "name": "stdout",
     "output_type": "stream",
     "text": [
      "i=14 vector_store.index.ntotal=142923\n"
     ]
    },
    {
     "name": "stderr",
     "output_type": "stream",
     "text": [
      " 74%|███████▍  | 17/23 [00:04<00:01,  4.45it/s]"
     ]
    },
    {
     "name": "stdout",
     "output_type": "stream",
     "text": [
      "i=15 vector_store.index.ntotal=152923\n",
      "i=16 vector_store.index.ntotal=162923\n"
     ]
    },
    {
     "name": "stderr",
     "output_type": "stream",
     "text": [
      " 83%|████████▎ | 19/23 [00:04<00:00,  5.49it/s]"
     ]
    },
    {
     "name": "stdout",
     "output_type": "stream",
     "text": [
      "i=17 vector_store.index.ntotal=172923\n",
      "i=18 vector_store.index.ntotal=182923\n"
     ]
    },
    {
     "name": "stderr",
     "output_type": "stream",
     "text": [
      " 91%|█████████▏| 21/23 [00:04<00:00,  4.31it/s]"
     ]
    },
    {
     "name": "stdout",
     "output_type": "stream",
     "text": [
      "i=19 vector_store.index.ntotal=192923\n",
      "i=20 vector_store.index.ntotal=202923\n"
     ]
    },
    {
     "name": "stderr",
     "output_type": "stream",
     "text": [
      "100%|██████████| 23/23 [00:05<00:00,  4.40it/s]"
     ]
    },
    {
     "name": "stdout",
     "output_type": "stream",
     "text": [
      "i=21 vector_store.index.ntotal=212923\n",
      "i=22 vector_store.index.ntotal=222923\n",
      "Index loaded.\n",
      "load_index took: 5.24207067489624\n"
     ]
    },
    {
     "name": "stderr",
     "output_type": "stream",
     "text": [
      "\n"
     ]
    }
   ],
   "source": [
    "from llms.rag import load_rag\n",
    "vector_store, rag_alias, embeddings_name = load_rag(\"google-ip\")"
   ]
  },
  {
   "cell_type": "code",
   "execution_count": null,
   "metadata": {},
   "outputs": [
    {
     "name": "stdout",
     "output_type": "stream",
     "text": [
      "load_embedding...\n",
      "model_alias='gemini' model_data=('google', 'models/gemini-embedding-exp-03-07') task_type='retrieval_query'\n",
      "Loading GoogleGenerativeAIEmbeddings model...\n",
      "embeddings=GoogleGenerativeAIEmbeddings(client=<google.ai.generativelanguage_v1beta.services.generative_service.client.GenerativeServiceClient object at 0x0000024257649890>, model='models/gemini-embedding-exp-03-07', task_type='retrieval_query', google_api_key=SecretStr('**********'), credentials=None, client_options=None, transport=None, request_options=None)\n"
     ]
    }
   ],
   "source": [
    "from llms.models import load_embedding\n",
    "embeddings, model_name = load_embedding(\"gemini\")\n",
    "emb = embeddings.embed_query(\"hello!!\")\n",
    "emb"
   ]
  },
  {
   "cell_type": "code",
   "execution_count": 39,
   "metadata": {},
   "outputs": [
    {
     "data": {
      "text/plain": [
       "3072"
      ]
     },
     "execution_count": 39,
     "metadata": {},
     "output_type": "execute_result"
    }
   ],
   "source": [
    "len(emb)"
   ]
  },
  {
   "cell_type": "code",
   "execution_count": null,
   "metadata": {},
   "outputs": [
    {
     "data": {
      "text/plain": [
       "1.0000000125368993"
      ]
     },
     "execution_count": 36,
     "metadata": {},
     "output_type": "execute_result"
    }
   ],
   "source": [
    "# Verificando que a norma dos modelos de embedding utilizados já é 1\n",
    "import numpy as np\n",
    "np.linalg.norm(emb)"
   ]
  },
  {
   "cell_type": "code",
   "execution_count": null,
   "metadata": {},
   "outputs": [
    {
     "name": "stdout",
     "output_type": "stream",
     "text": [
      "Querying index...\n",
      "Query with increasing fetch_k: i=0 fetch_k=1000\n",
      "len(results)=6/fetch_k=1000 n_responses=10\n",
      "Query with increasing fetch_k: i=1 fetch_k=10000\n",
      "len(results)=35/fetch_k=10000 n_responses=10\n",
      "Results sufficient.\n",
      " - Avaliação 1, Similaridade: 0.686\n",
      "Hotel: Ancona Center Hotel, 3 Estrelas.\n",
      "Região:SUDESTE; Estado:SÃO PAULO; Cidade:Amparo\n",
      "Tipo:Hotel; Classificação:4.2; Quantidade Avaliações:717\n",
      "Nota:3; Curtidas:0; Usuário é guia local; Nota Quartos:3; Nota Localização:5; Nota Serviço:4\n",
      "Avaliação: Bom hotel, bem localizado, acho que precisa renovar os baheiros, apenas. Café da manhã completo, muito bem servido. Atendimento simpático.\n",
      "\n",
      "\n",
      " - Avaliação 2, Similaridade: 0.687\n",
      "Hotel: Ancona Center Hotel, 3 Estrelas.\n",
      "Região:SUDESTE; Estado:SÃO PAULO; Cidade:Amparo\n",
      "Tipo:Hotel; Classificação:4.2; Quantidade Avaliações:717\n",
      "Nota:5; Curtidas:1; Usuário é guia local\n",
      "Avaliação: Atendimento  maravilhoso, limpeza,café da manhã  diversificado e  muito  gostoso. Recomendo.\n",
      "\n",
      "\n",
      " - Avaliação 3, Similaridade: 0.687\n",
      "Hotel: Ancona Center Hotel, 3 Estrelas.\n",
      "Região:SUDESTE; Estado:SÃO PAULO; Cidade:Amparo\n",
      "Tipo:Hotel; Classificação:4.2; Quantidade Avaliações:717\n",
      "Nota:3; Curtidas:0; Usuário é guia local\n",
      "Avaliação: Hotel muito bom café da manhã excelente e funcionários excelente O que atrapalha é o som alto do comércio do lado que não respeita não dá pra descansar fora a gritaria da turma\n",
      "\n",
      "\n",
      " - Avaliação 4, Similaridade: 0.687\n",
      "Hotel: Ancona Center Hotel, 3 Estrelas.\n",
      "Região:SUDESTE; Estado:SÃO PAULO; Cidade:Amparo\n",
      "Tipo:Hotel; Classificação:4.2; Quantidade Avaliações:717\n",
      "Nota:5; Curtidas:0; Usuário é guia local\n",
      "Avaliação: Acolhedor , aconchegante e um café da manhã dos deuses. Maravilhoso !\n",
      "\n",
      "\n",
      " - Avaliação 5, Similaridade: 0.688\n",
      "Hotel: Ancona Center Hotel, 3 Estrelas.\n",
      "Região:SUDESTE; Estado:SÃO PAULO; Cidade:Amparo\n",
      "Tipo:Hotel; Classificação:4.2; Quantidade Avaliações:717\n",
      "Nota:5; Curtidas:0; Usuário é guia local\n",
      "Avaliação: Otimo hotel, bem localizado, quartos super lipos, café da manhã otimo!!!\n",
      "\n",
      "\n",
      " - Avaliação 6, Similaridade: 0.688\n",
      "Hotel: Ancona Center Hotel, 3 Estrelas.\n",
      "Região:SUDESTE; Estado:SÃO PAULO; Cidade:Amparo\n",
      "Tipo:Hotel; Classificação:4.2; Quantidade Avaliações:717\n",
      "Nota:5; Curtidas:0; Usuário é guia local; Nota Quartos:5; Nota Localização:5; Nota Serviço:5\n",
      "Avaliação: Lugar aconchegante e limpo, adorei o café da manhã! Facilidade de deslocamento a pé: Fica ao lado da rodoviária , fácil acesso ao centro e ponto e pontos turísticos. Quartos : 5/5 |\n",
      "\n",
      "\n",
      " - Avaliação 7, Similaridade: 0.689\n",
      "Hotel: Ancona Center Hotel, 3 Estrelas.\n",
      "Região:SUDESTE; Estado:SÃO PAULO; Cidade:Amparo\n",
      "Tipo:Hotel; Classificação:4.2; Quantidade Avaliações:717\n",
      "Nota:4; Curtidas:1; Usuário é guia local\n",
      "Avaliação: Café da manhã muito gostoso! Quarto agradável. Alguns quartos são voltados para duas igrejas, e como não tem isolamento acústico parecia que os cultos estavam sendo dentro do quarto do hotel. O gerente é atencioso, já o moço da recepção não, além do desinteresse.\n",
      "\n",
      "\n",
      " - Avaliação 8, Similaridade: 0.689\n",
      "Hotel: Ancona Center Hotel, 3 Estrelas.\n",
      "Região:SUDESTE; Estado:SÃO PAULO; Cidade:Amparo\n",
      "Tipo:Hotel; Classificação:4.2; Quantidade Avaliações:717\n",
      "Nota:5; Curtidas:0; Usuário é guia local; Nota Quartos:5; Nota Localização:5; Nota Serviço:5\n",
      "Avaliação: Boa recepção, quarto limpo chuveiro e cama bons. O café da manhã é um presente dos Deuses kkk é muito bom. Voltaremos com certeza\n",
      "\n",
      "\n",
      " - Avaliação 9, Similaridade: 0.689\n",
      "Hotel: Ancona Center Hotel, 3 Estrelas.\n",
      "Região:SUDESTE; Estado:SÃO PAULO; Cidade:Amparo\n",
      "Tipo:Hotel; Classificação:4.2; Quantidade Avaliações:717\n",
      "Nota:4; Curtidas:0; Usuário é guia local\n",
      "Avaliação: Ótimo local para dormir.  Café da manhã 10.  Faltou um pouco de atenção na limpeza do quarto, mas do restante 10\n",
      "\n",
      "\n",
      " - Avaliação 10, Similaridade: 0.690\n",
      "Hotel: Ancona Center Hotel, 3 Estrelas.\n",
      "Região:SUDESTE; Estado:SÃO PAULO; Cidade:Amparo\n",
      "Tipo:Hotel; Classificação:4.2; Quantidade Avaliações:717\n",
      "Nota:5; Curtidas:0; Usuário é guia local\n",
      "Avaliação: Muito bom o hotel. Simples, e confortável. Bom atendimento, e café da manhã delicioso.\n",
      "\n",
      "\n",
      "query_index took: 0.9994463920593262\n"
     ]
    },
    {
     "data": {
      "text/plain": [
       "' - Avaliação 1, Similaridade: 0.686\\nHotel: Ancona Center Hotel, 3 Estrelas.\\nRegião:SUDESTE; Estado:SÃO PAULO; Cidade:Amparo\\nTipo:Hotel; Classificação:4.2; Quantidade Avaliações:717\\nNota:3; Curtidas:0; Usuário é guia local; Nota Quartos:3; Nota Localização:5; Nota Serviço:4\\nAvaliação: Bom hotel, bem localizado, acho que precisa renovar os baheiros, apenas. Café da manhã completo, muito bem servido. Atendimento simpático.\\n\\n - Avaliação 2, Similaridade: 0.687\\nHotel: Ancona Center Hotel, 3 Estrelas.\\nRegião:SUDESTE; Estado:SÃO PAULO; Cidade:Amparo\\nTipo:Hotel; Classificação:4.2; Quantidade Avaliações:717\\nNota:5; Curtidas:1; Usuário é guia local\\nAvaliação: Atendimento  maravilhoso, limpeza,café da manhã  diversificado e  muito  gostoso. Recomendo.\\n\\n - Avaliação 3, Similaridade: 0.687\\nHotel: Ancona Center Hotel, 3 Estrelas.\\nRegião:SUDESTE; Estado:SÃO PAULO; Cidade:Amparo\\nTipo:Hotel; Classificação:4.2; Quantidade Avaliações:717\\nNota:3; Curtidas:0; Usuário é guia local\\nAvaliação: Hotel muito bom café da manhã excelente e funcionários excelente O que atrapalha é o som alto do comércio do lado que não respeita não dá pra descansar fora a gritaria da turma\\n\\n - Avaliação 4, Similaridade: 0.687\\nHotel: Ancona Center Hotel, 3 Estrelas.\\nRegião:SUDESTE; Estado:SÃO PAULO; Cidade:Amparo\\nTipo:Hotel; Classificação:4.2; Quantidade Avaliações:717\\nNota:5; Curtidas:0; Usuário é guia local\\nAvaliação: Acolhedor , aconchegante e um café da manhã dos deuses. Maravilhoso !\\n\\n - Avaliação 5, Similaridade: 0.688\\nHotel: Ancona Center Hotel, 3 Estrelas.\\nRegião:SUDESTE; Estado:SÃO PAULO; Cidade:Amparo\\nTipo:Hotel; Classificação:4.2; Quantidade Avaliações:717\\nNota:5; Curtidas:0; Usuário é guia local\\nAvaliação: Otimo hotel, bem localizado, quartos super lipos, café da manhã otimo!!!\\n\\n - Avaliação 6, Similaridade: 0.688\\nHotel: Ancona Center Hotel, 3 Estrelas.\\nRegião:SUDESTE; Estado:SÃO PAULO; Cidade:Amparo\\nTipo:Hotel; Classificação:4.2; Quantidade Avaliações:717\\nNota:5; Curtidas:0; Usuário é guia local; Nota Quartos:5; Nota Localização:5; Nota Serviço:5\\nAvaliação: Lugar aconchegante e limpo, adorei o café da manhã! Facilidade de deslocamento a pé: Fica ao lado da rodoviária , fácil acesso ao centro e ponto e pontos turísticos. Quartos : 5/5 |\\n\\n - Avaliação 7, Similaridade: 0.689\\nHotel: Ancona Center Hotel, 3 Estrelas.\\nRegião:SUDESTE; Estado:SÃO PAULO; Cidade:Amparo\\nTipo:Hotel; Classificação:4.2; Quantidade Avaliações:717\\nNota:4; Curtidas:1; Usuário é guia local\\nAvaliação: Café da manhã muito gostoso! Quarto agradável. Alguns quartos são voltados para duas igrejas, e como não tem isolamento acústico parecia que os cultos estavam sendo dentro do quarto do hotel. O gerente é atencioso, já o moço da recepção não, além do desinteresse.\\n\\n - Avaliação 8, Similaridade: 0.689\\nHotel: Ancona Center Hotel, 3 Estrelas.\\nRegião:SUDESTE; Estado:SÃO PAULO; Cidade:Amparo\\nTipo:Hotel; Classificação:4.2; Quantidade Avaliações:717\\nNota:5; Curtidas:0; Usuário é guia local; Nota Quartos:5; Nota Localização:5; Nota Serviço:5\\nAvaliação: Boa recepção, quarto limpo chuveiro e cama bons. O café da manhã é um presente dos Deuses kkk é muito bom. Voltaremos com certeza\\n\\n - Avaliação 9, Similaridade: 0.689\\nHotel: Ancona Center Hotel, 3 Estrelas.\\nRegião:SUDESTE; Estado:SÃO PAULO; Cidade:Amparo\\nTipo:Hotel; Classificação:4.2; Quantidade Avaliações:717\\nNota:4; Curtidas:0; Usuário é guia local\\nAvaliação: Ótimo local para dormir.  Café da manhã 10.  Faltou um pouco de atenção na limpeza do quarto, mas do restante 10\\n\\n - Avaliação 10, Similaridade: 0.690\\nHotel: Ancona Center Hotel, 3 Estrelas.\\nRegião:SUDESTE; Estado:SÃO PAULO; Cidade:Amparo\\nTipo:Hotel; Classificação:4.2; Quantidade Avaliações:717\\nNota:5; Curtidas:0; Usuário é guia local\\nAvaliação: Muito bom o hotel. Simples, e confortável. Bom atendimento, e café da manhã delicioso.\\n\\n'"
      ]
     },
     "execution_count": 12,
     "metadata": {},
     "output_type": "execute_result"
    }
   ],
   "source": [
    "from llms.rag import query_index\n",
    "docs, context = query_index(\n",
    "    vector_store=vector_store,\n",
    "    query=\"Qual hotel tem o melhor café?\",\n",
    "    filter={\"nome\": {\"$eq\": \"Ancona Center Hotel\"}, \"nota_avaliacao\": {\"$gte\": 3}},\n",
    "    n_responses=10,\n",
    ")\n",
    "context"
   ]
  },
  {
   "cell_type": "code",
   "execution_count": 22,
   "metadata": {},
   "outputs": [],
   "source": [
    "# Test all models\n",
    "# for a in models_text:\n",
    "#     if models_text[a][0] in [\"local\",\"google\"]:\n",
    "#         continue\n",
    "#     print(a)\n",
    "#     llm, model_name, max_new_tokens = load_model(a)\n",
    "#     llmresult = llm.generate([\"hi\"])\n",
    "#     print(llmresult)\n",
    "#     response = llmresult.generations[0][0].text\n",
    "#     print(response)"
   ]
  }
 ],
 "metadata": {
  "kernelspec": {
   "display_name": "cu124",
   "language": "python",
   "name": "python3"
  },
  "language_info": {
   "codemirror_mode": {
    "name": "ipython",
    "version": 3
   },
   "file_extension": ".py",
   "mimetype": "text/x-python",
   "name": "python",
   "nbconvert_exporter": "python",
   "pygments_lexer": "ipython3",
   "version": "3.11.11"
  }
 },
 "nbformat": 4,
 "nbformat_minor": 2
}

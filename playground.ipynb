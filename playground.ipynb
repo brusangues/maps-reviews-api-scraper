{
 "cells": [
  {
   "cell_type": "markdown",
   "metadata": {},
   "source": [
    "# Criando pequenos inputs"
   ]
  },
  {
   "cell_type": "code",
   "execution_count": null,
   "metadata": {},
   "outputs": [],
   "source": [
    "import pandas as pd\n",
    "\n",
    "df = pd.read_csv(\"scraper/input/hotels_24_merged.csv\")"
   ]
  },
  {
   "cell_type": "code",
   "execution_count": null,
   "metadata": {},
   "outputs": [],
   "source": [
    "df2 = pd.read_csv(\"scraper/input/hotels_2024.csv\")\n",
    "df2.shape"
   ]
  },
  {
   "cell_type": "code",
   "execution_count": null,
   "metadata": {},
   "outputs": [],
   "source": [
    "df2[~df2.google_id.isin(df.google_id)].shape"
   ]
  },
  {
   "cell_type": "code",
   "execution_count": null,
   "metadata": {},
   "outputs": [],
   "source": [
    "df[~df.google_id.isin(df2.google_id)]"
   ]
  },
  {
   "cell_type": "code",
   "execution_count": null,
   "metadata": {},
   "outputs": [],
   "source": [
    "df2.iloc[0]"
   ]
  },
  {
   "cell_type": "code",
   "execution_count": null,
   "metadata": {},
   "outputs": [],
   "source": [
    "df.shape"
   ]
  },
  {
   "cell_type": "code",
   "execution_count": null,
   "metadata": {},
   "outputs": [],
   "source": [
    "df[\"sort_by\"] = \"newest\""
   ]
  },
  {
   "cell_type": "code",
   "execution_count": null,
   "metadata": {},
   "outputs": [],
   "source": [
    "df[df.n_reviews_max.cumsum() < 10_000].shape"
   ]
  },
  {
   "cell_type": "code",
   "execution_count": null,
   "metadata": {},
   "outputs": [],
   "source": [
    "cumsum = df.n_reviews_max.cumsum()\n",
    "cumsum"
   ]
  },
  {
   "cell_type": "code",
   "execution_count": null,
   "metadata": {},
   "outputs": [],
   "source": [
    "df[\"batch\"] = -1"
   ]
  },
  {
   "cell_type": "code",
   "execution_count": null,
   "metadata": {},
   "outputs": [],
   "source": [
    "dfs = []\n",
    "step = 20_000\n",
    "path = \"./scraper/input/2025/\"\n",
    "for i in range(40):\n",
    "    f = (cumsum > step*i) & (cumsum <= step*(i+1))\n",
    "    df.loc[f, \"batch\"] = i\n",
    "    dfi = df.loc[f]\n",
    "    print(i, dfi.shape)\n",
    "    dfs.append(dfi)\n",
    "    dfi.to_csv(path+\"hotels_batch_\"+str(i).rjust(2,\"0\")+\".csv\", index=False)"
   ]
  },
  {
   "cell_type": "code",
   "execution_count": null,
   "metadata": {},
   "outputs": [],
   "source": [
    "df.to_csv(\"./scraper/input/hotels_2025.csv\", index=False)"
   ]
  },
  {
   "cell_type": "markdown",
   "metadata": {},
   "source": [
    "# Normalizando e transformando índices"
   ]
  },
  {
   "cell_type": "code",
   "execution_count": 1,
   "metadata": {},
   "outputs": [],
   "source": [
    "from uuid import uuid4\n",
    "import faiss\n",
    "import pandas as pd\n",
    "import numpy as np\n",
    "from langchain_huggingface import HuggingFaceEmbeddings\n",
    "from langchain_community.docstore.in_memory import InMemoryDocstore\n",
    "from langchain_community.vectorstores import FAISS\n",
    "from langchain_core.documents import Document\n",
    "from langchain_core.globals import set_debug\n",
    "import asyncio\n",
    "from langchain_huggingface import HuggingFacePipeline\n",
    "from transformers import pipeline\n",
    "import logging\n",
    "from datetime import datetime\n",
    "import time\n",
    "import json\n",
    "from tqdm import tqdm\n",
    "import os\n",
    "import re\n",
    "\n",
    "from llms.utils import timeit\n",
    "from llms.models import load_model, load_embedding, query_model, query_model_async\n",
    "\n",
    "# logging.basicConfig(level=logging.DEBUG)\n",
    "# set_debug(True)\n",
    "\n",
    "QUERY_PREFIX_E5_INSTRUCT = \"Instruct: Given a Portuguese question, retrieve relevant hotel reviews that best answer the question. \\nQuery: \"\n",
    "DOC_PREFIX = \"\"\n",
    "QUERY_PREFIX = \"\"\n",
    "\n",
    "CREATE_INDEX = True\n",
    "PATH_INDEX = \"data/faiss_index_gte_v5\"\n",
    "INDEX_BATCH_SIZE = 10_000\n",
    "N_SAMPLES = None\n",
    "N_RESPONSES = 5\n",
    "FETCH_K = 1000\n",
    "MAX_VECTOR_STORES = 1000\n",
    "# PATH_DATA = \"data/df_prep_2024-12-09_08-23-45_627733.pq\"\n",
    "PATH_DATA = \"data/df_index_2025_v1.pq\"\n",
    "EMBEDDING_MODEL = \"gte\""
   ]
  },
  {
   "cell_type": "code",
   "execution_count": 2,
   "metadata": {},
   "outputs": [],
   "source": [
    "folders = os.listdir(PATH_INDEX)\n",
    "f = folders[0]"
   ]
  },
  {
   "cell_type": "code",
   "execution_count": null,
   "metadata": {},
   "outputs": [],
   "source": [
    "embeddings, _ = load_embedding(\"gte\", task_type=\"retrieval_document\")"
   ]
  },
  {
   "cell_type": "code",
   "execution_count": null,
   "metadata": {},
   "outputs": [],
   "source": [
    "embeddings.embed_query(\"textoooooo bem quadrado bem normalizado\").__len__()"
   ]
  },
  {
   "cell_type": "code",
   "execution_count": 30,
   "metadata": {},
   "outputs": [],
   "source": [
    "vector_store_l2 = FAISS.load_local(\n",
    "    f\"{PATH_INDEX}/{f}\",\n",
    "    embeddings,\n",
    "    allow_dangerous_deserialization=True,\n",
    ")\n",
    "\n",
    "index: faiss.Index = vector_store_l2.index\n",
    "vectors = index.reconstruct_n(0, index.ntotal)"
   ]
  },
  {
   "cell_type": "code",
   "execution_count": 40,
   "metadata": {},
   "outputs": [],
   "source": [
    "index_ip = faiss.IndexFlatIP(index.d)\n",
    "index_ip.add(vectors)"
   ]
  },
  {
   "cell_type": "code",
   "execution_count": 41,
   "metadata": {},
   "outputs": [],
   "source": [
    "vector_store_ip = FAISS(\n",
    "    embedding_function=embeddings,\n",
    "    index=index_ip,\n",
    "    docstore=InMemoryDocstore(vector_store_l2.docstore._dict),\n",
    "    index_to_docstore_id=vector_store_l2.index_to_docstore_id,\n",
    ")"
   ]
  },
  {
   "cell_type": "code",
   "execution_count": null,
   "metadata": {},
   "outputs": [],
   "source": [
    "(vector_store_ip.index.reconstruct_n(0, 1)[0] == vector_store_l2.index.reconstruct_n(0, 1)[0]).all()"
   ]
  },
  {
   "cell_type": "code",
   "execution_count": 50,
   "metadata": {},
   "outputs": [],
   "source": [
    "assert vector_store_ip.index.d == vector_store_l2.index.d\n",
    "assert vector_store_ip.index.ntotal == vector_store_l2.index.ntotal\n",
    "assert vector_store_ip.docstore._dict == vector_store_l2.docstore._dict\n",
    "assert vector_store_ip.index_to_docstore_id == vector_store_l2.index_to_docstore_id\n",
    "assert (vector_store_ip.index.reconstruct_n(0, 1)[0] == vector_store_l2.index.reconstruct_n(0, 1)[0]).all()"
   ]
  },
  {
   "cell_type": "code",
   "execution_count": null,
   "metadata": {},
   "outputs": [],
   "source": [
    "np.linalg.norm(vector_store_ip.index.reconstruct_n(0, 1)[0]) == 1"
   ]
  },
  {
   "cell_type": "code",
   "execution_count": 24,
   "metadata": {},
   "outputs": [],
   "source": [
    "# get all indexes of index\n",
    "vectors = index.reconstruct_n(0, index.ntotal)"
   ]
  },
  {
   "cell_type": "code",
   "execution_count": null,
   "metadata": {},
   "outputs": [],
   "source": [
    "index_to_docstore_id = vector_store_l2.index_to_docstore_id"
   ]
  },
  {
   "cell_type": "code",
   "execution_count": 19,
   "metadata": {},
   "outputs": [],
   "source": [
    "from langchain_community.vectorstores import InMemoryVectorStore\n",
    "metadata = vector_store_l2.docstore._dict"
   ]
  },
  {
   "cell_type": "code",
   "execution_count": null,
   "metadata": {},
   "outputs": [],
   "source": [
    "metadata['3b253b8c-9ecb-4a47-a29b-597057358e77'].page_content"
   ]
  },
  {
   "cell_type": "code",
   "execution_count": null,
   "metadata": {},
   "outputs": [],
   "source": [
    "vector_store_l2.add_embeddings(vectors, )"
   ]
  },
  {
   "cell_type": "code",
   "execution_count": null,
   "metadata": {},
   "outputs": [],
   "source": [
    "pd.Series(vectors[0]).describe()\n"
   ]
  },
  {
   "cell_type": "code",
   "execution_count": null,
   "metadata": {},
   "outputs": [],
   "source": [
    "np.linalg.norm(vectors[0])"
   ]
  },
  {
   "cell_type": "code",
   "execution_count": 34,
   "metadata": {},
   "outputs": [],
   "source": [
    "def normalize(vectors):\n",
    "    return vectors / np.linalg.norm(vectors, axis=1, keepdims=True)\n",
    "vectors_normalized = normalize(vectors)"
   ]
  },
  {
   "cell_type": "code",
   "execution_count": null,
   "metadata": {},
   "outputs": [],
   "source": [
    "np.linalg.norm(vectors_normalized[0])"
   ]
  },
  {
   "cell_type": "code",
   "execution_count": null,
   "metadata": {},
   "outputs": [],
   "source": [
    "pd.Series(vectors_normalized[0]).describe()"
   ]
  },
  {
   "cell_type": "code",
   "execution_count": null,
   "metadata": {},
   "outputs": [],
   "source": [
    "def normalize(vectors):\n",
    "    return vectors / np.linalg.norm(vectors, axis=1, keepdims=True)\n",
    "\n",
    "\n",
    "    # NORMALIZE ALL EMBEDDINGS OF vector_store_l2\n",
    "    for doc in vector_store_l2.docstore.documents:\n",
    "    vector.page_content = normalize(doc.page_content)"
   ]
  },
  {
   "cell_type": "markdown",
   "metadata": {},
   "source": [
    "# Sumarização"
   ]
  },
  {
   "cell_type": "code",
   "execution_count": 8,
   "metadata": {},
   "outputs": [],
   "source": [
    "%load_ext autoreload\n",
    "\n",
    "%autoreload 2"
   ]
  },
  {
   "cell_type": "code",
   "execution_count": 9,
   "metadata": {},
   "outputs": [],
   "source": [
    "import os\n",
    "import traceback\n",
    "import json\n",
    "\n",
    "from llms.models import (\n",
    "    load_model,\n",
    "    query_model,\n",
    "    models_text,\n",
    "    models_embedding,\n",
    ")\n",
    "from llms.rag import load_rag, query_index, query_make_filter, load_data"
   ]
  },
  {
   "cell_type": "code",
   "execution_count": 10,
   "metadata": {},
   "outputs": [
    {
     "name": "stdout",
     "output_type": "stream",
     "text": [
      "Loading data...\n",
      "(222923, 22)\n",
      "(222923, 22)\n",
      "load_data took: 0.6044790744781494\n"
     ]
    }
   ],
   "source": [
    "df = load_data()"
   ]
  },
  {
   "cell_type": "code",
   "execution_count": 11,
   "metadata": {},
   "outputs": [],
   "source": [
    "from llms.summary import prep_data, make_prompt_summary_full\n",
    "\n",
    "hotels_small, hotels_big = prep_data(df)"
   ]
  },
  {
   "cell_type": "code",
   "execution_count": 12,
   "metadata": {},
   "outputs": [
    {
     "data": {
      "text/plain": [
       "Text(0.5, 1.0, 'Quantidade de hotéis com mais de 1000 avaliações')"
      ]
     },
     "execution_count": 12,
     "metadata": {},
     "output_type": "execute_result"
    },
    {
     "data": {
      "image/png": "[encoded data removed]",
      "text/plain": [
       "<Figure size 1400x600 with 2 Axes>"
      ]
     },
     "metadata": {},
     "output_type": "display_data"
    }
   ],
   "source": [
    "# Make two hist plots side by side\n",
    "from matplotlib import pyplot as plt\n",
    "\n",
    "fig, axes = plt.subplots(1, 2, figsize=(14, 6))\n",
    "\n",
    "hotels_small.hist(bins=100, ax=axes[0])\n",
    "hotels_big.hist(bins=100, ax=axes[1])\n",
    "axes[0].set_title(\"Quantidade de hotéis com menos de 1000 avaliações\")\n",
    "axes[1].set_title(\"Quantidade de hotéis com mais de 1000 avaliações\")"
   ]
  },
  {
   "cell_type": "code",
   "execution_count": 13,
   "metadata": {},
   "outputs": [
    {
     "name": "stdout",
     "output_type": "stream",
     "text": [
      "make_docs...\n",
      "len(docs)=10\n",
      "\n",
      "Você é um assistente de sumarização de hotéis em português.\n",
      "Utilize os seguintes trechos de CONTEXTO recuperado de avaliações de hotéis para escrever o RESUMO.\n",
      "Siga as INSTRUÇÕES do usuário para escrever um resumo detalhado do que se pede.\n",
      "\n",
      "CONTEXTO:\n",
      "Hotel: Chalés Pouso da Ilha, 0 Estrelas.\n",
      "Região:NORDESTE; Estado:PERNAMBUCO; Cidade:Ilha de Itamaracá\n",
      "Tipo:Hotel; Classificação:4.3; Quantidade Avaliações:145\n",
      "\n",
      " - Avaliação 1\n",
      "Nota:5; Curtidas:0; Usuário é guia local\n",
      "Avaliação: Sensacional ! Para quem aprecia uma praia bacana em um lugar super calmo e acolhedor ! Os chalés pouso da ilha é verdadeiramente tudo isso ! Ficamos hospedados esse final de semana por 3 dias e foi uma sensação sem  igual, conhecemos os proprietários Enrique e Rejane, pessoas da melhor qualidade ! Super recomendo a todos !\n",
      "\n",
      " - Avaliação 2\n",
      "Nota:5; Curtidas:0; Usuário é guia local\n",
      "Avaliação: Todas pessoas que são convidados pó min , ficam inprecionado com o local\n",
      "\n",
      " - Avaliação 3\n",
      "Nota:5; Curtidas:0; Usuário é guia local\n",
      "Avaliação: Recomendo a todos, que necessitam de um ótimo final de semana.\n",
      "\n",
      " - Avaliação 4\n",
      "Nota:5; Curtidas:0; Usuário é guia local\n",
      "Avaliação: Excelente, excelente culinária e para um final de tarde..sem igual\n",
      "\n",
      " - Avaliação 5\n",
      "Nota:5; Curtidas:1; Usuário é guia local\n",
      "Avaliação: Amei muito supre calmo o lugar as pessoas responsáveis super atencioso praticamente em frente ao mar o chalé super aconchegante\n",
      "\n",
      " - Avaliação 6\n",
      "Nota:5; Curtidas:0; Usuário é guia local\n",
      "Avaliação: Muito bom praia socegada ótima pra quem quer descança. Pousada muito boa pessoas nota 10.\n",
      "\n",
      " - Avaliação 7\n",
      "Nota:5; Curtidas:0; Usuário é guia local\n",
      "Avaliação: Amei lugar  muito tranquilo  bom para relaxa o ambiente  bem aconchegante  e organizado  para você  curti a dois ou com família. Praia  limpa com belas  piscinas  naturais .\n",
      "\n",
      " - Avaliação 8\n",
      "Nota:5; Curtidas:0; Usuário é guia local\n",
      "Avaliação: O lugar é bom tem piscina tem praia e é bom de levar crianças essa foto é das cadeiras da piscina\n",
      "\n",
      " - Avaliação 9\n",
      "Nota:3; Curtidas:0; Usuário é guia local\n",
      "Avaliação: A PRAIA DO SOSSEGO É MARAVILHOSA. PORÉM A SUJEIRA ESTÁ TOMANDO CONTA. POLUINDO VISUALMENTE E O LENÇOL FREÁTICO. OS POÇOS ESTÃO SECANDO!!! SOS SOSSEGO! !\n",
      "\n",
      " - Avaliação 10\n",
      "Nota:1; Curtidas:1; Usuário é guia local\n",
      "Avaliação: COMO EXISTE UM EMPREENDIMENTO SEM QUE SEQUER UM NUMERO DE TELEFONE FUNCIONE. O TELEFONE FIXO NÃO EXISTE NA LISTA TELEFÔNICA E O CELULAR NÃO ATENDE. É MUITA FALTA DE ORGANIZAÇÃO. É POR ISSO QUE ITAMARACÁ  ESTÁ ENTREGUE AOS RATOS E TODO TIPO DE DESCASO.INCLUSIVE DOS PRÓPRIOS  DONOS DE POUSADAS QUE NÃO DÃO VALOR AOS TURISTAS NEM AO SEU PRÓPRIO NEGÓCIO. ABSURDO É SER INCOMUNICÁVEL NOS DIAS DE HOJE COM TANTA TECNOLOGIA DISPONÍVEL.\n",
      "\n",
      "\n",
      "\n",
      "INSTRUÇÕES:\n",
      "Faça um resumo do hotel \"Chalés Pouso da Ilha\" com base nos seguintes tópicos:\n",
      "1. Infraestrutura e Acomodações – Conforto, limpeza, tecnologia, lazer, estacionamento.\n",
      "2. Atendimento e Serviço – Cordialidade, eficiência, limpeza, concierge, check-in ágil.\n",
      "3. Localização e Acessibilidade – Proximidade, transporte, segurança, acessibilidade.\n",
      "4. Alimentação e Bebidas – Café da manhã, restaurante, serviço de quarto, qualidade.\n",
      "5. Experiência e Entretenimento – Lazer, eventos, recreação, passeios, parcerias.\n",
      "6. Custo-benefício e Políticas – Preço justo, flexibilidade, transparência, fidelidade.\n",
      "Para cada tópico, escreva um parágrafo com os principais aspectos positivos e negativos do hotel com base em suas avaliações.\n",
      "\n",
      "RESUMO:\n"
     ]
    }
   ],
   "source": [
    "\n",
    "for hotel_name in hotels_small.nome.to_list()[-1:]:\n",
    "    prompt, context = make_prompt_summary_full(hotel_name, df)\n"
   ]
  },
  {
   "cell_type": "code",
   "execution_count": 14,
   "metadata": {},
   "outputs": [
    {
     "name": "stdout",
     "output_type": "stream",
     "text": [
      "load_model...\n",
      "model_alias='gemini-2.0-flash' max_new_tokens=3000 model_data=('google', 'gemini-2.0-flash')\n",
      "Loading ChatGoogleGenerativeAI model...\n",
      "llm=ChatGoogleGenerativeAI(model='models/gemini-2.0-flash', google_api_key=SecretStr('**********'), temperature=0.0, max_output_tokens=3000, max_retries=2, timeout=10.0, client=<google.ai.generativelanguage_v1beta.services.generative_service.client.GenerativeServiceClient object at 0x0000023522659790>, default_metadata=())\n",
      "hf_pipe=<llms.models.GenericHuggingFacePipeline object at 0x0000023524CDC5D0>\n"
     ]
    }
   ],
   "source": [
    "llm, _, _ = load_model(\"gemini-2.0-flash\")"
   ]
  },
  {
   "cell_type": "code",
   "execution_count": 15,
   "metadata": {},
   "outputs": [
    {
     "name": "stdout",
     "output_type": "stream",
     "text": [
      "query_model...\n",
      "len(prompt)=3438\n",
      "num_input_tokens=527\n",
      "len(response)=1926\n",
      "response='**Chalés Pouso da Ilha: Resumo Detalhado das Avaliações**\\n\\n**1. Infraestrutura e Acomodações:**\\n\\nOs chalés são descritos como super aconchegantes, proporcionando um ambiente tranquilo e organizado, ideal para relaxar a dois ou em família. A proximidade com o mar é um ponto forte. No entanto, uma avaliação aponta para a falta de um número de telefone funcional, indicando uma possível falta de organização e comunicação por parte do empreendimento.\\n\\n**2. Atendimento e Serviço:**\\n\\nOs proprietários, Enrique e Rejane, são elogiados pela cordialidade e atenção. Os responsáveis pelo local são considerados super atenciosos, proporcionando um atendimento de qualidade. Contudo, a dificuldade de comunicação, mencionada anteriormente, pode ser um ponto negativo no serviço prestado.\\n\\n**3. Localização e Acessibilidade:**\\n\\nA pousada está localizada em frente ao mar, em uma praia sossegada, ideal para quem busca descanso. A Praia do Sossego é descrita como maravilhosa, mas há uma preocupação com a sujeira e a poluição, que podem afetar a experiência dos hóspedes.\\n\\n**4. Alimentação e Bebidas:**\\n\\nA culinária do local é considerada excelente, especialmente para desfrutar de um final de tarde agradável. No entanto, não há detalhes sobre o café da manhã, serviço de quarto ou outras opções de alimentação e bebidas oferecidas.\\n\\n**5. Experiência e Entretenimento:**\\n\\nO hotel oferece opções de lazer como piscina e praia, sendo considerado um bom lugar para levar crianças. A tranquilidade do local é um ponto positivo para quem busca relaxamento. No entanto, não há informações sobre eventos, recreação ou passeios oferecidos pelo hotel.\\n\\n**6. Custo-benefício e Políticas:**\\n\\nAs avaliações não fornecem informações suficientes para avaliar o custo-benefício e as políticas do hotel. A falta de um número de telefone funcional pode ser um obstáculo para obter informações sobre preços, disponibilidade e políticas de cancelamento.'\n"
     ]
    }
   ],
   "source": [
    "from llms.models import query_model\n",
    "\n",
    "response = query_model(llm, prompt)"
   ]
  },
  {
   "cell_type": "code",
   "execution_count": 16,
   "metadata": {},
   "outputs": [
    {
     "name": "stdout",
     "output_type": "stream",
     "text": [
      "**Chalés Pouso da Ilha: Resumo Detalhado das Avaliações**\n",
      "\n",
      "**1. Infraestrutura e Acomodações:**\n",
      "\n",
      "Os chalés são descritos como super aconchegantes, proporcionando um ambiente tranquilo e organizado, ideal para relaxar a dois ou em família. A proximidade com o mar é um ponto forte. No entanto, uma avaliação aponta para a falta de um número de telefone funcional, indicando uma possível falta de organização e comunicação por parte do empreendimento.\n",
      "\n",
      "**2. Atendimento e Serviço:**\n",
      "\n",
      "Os proprietários, Enrique e Rejane, são elogiados pela cordialidade e atenção. Os responsáveis pelo local são considerados super atenciosos, proporcionando um atendimento de qualidade. Contudo, a dificuldade de comunicação, mencionada anteriormente, pode ser um ponto negativo no serviço prestado.\n",
      "\n",
      "**3. Localização e Acessibilidade:**\n",
      "\n",
      "A pousada está localizada em frente ao mar, em uma praia sossegada, ideal para quem busca descanso. A Praia do Sossego é descrita como maravilhosa, mas há uma preocupação com a sujeira e a poluição, que podem afetar a experiência dos hóspedes.\n",
      "\n",
      "**4. Alimentação e Bebidas:**\n",
      "\n",
      "A culinária do local é considerada excelente, especialmente para desfrutar de um final de tarde agradável. No entanto, não há detalhes sobre o café da manhã, serviço de quarto ou outras opções de alimentação e bebidas oferecidas.\n",
      "\n",
      "**5. Experiência e Entretenimento:**\n",
      "\n",
      "O hotel oferece opções de lazer como piscina e praia, sendo considerado um bom lugar para levar crianças. A tranquilidade do local é um ponto positivo para quem busca relaxamento. No entanto, não há informações sobre eventos, recreação ou passeios oferecidos pelo hotel.\n",
      "\n",
      "**6. Custo-benefício e Políticas:**\n",
      "\n",
      "As avaliações não fornecem informações suficientes para avaliar o custo-benefício e as políticas do hotel. A falta de um número de telefone funcional pode ser um obstáculo para obter informações sobre preços, disponibilidade e políticas de cancelamento.\n"
     ]
    }
   ],
   "source": [
    "print(response)"
   ]
  },
  {
   "cell_type": "code",
   "execution_count": 17,
   "metadata": {},
   "outputs": [],
   "source": [
    "from llms.g_eval import g_eval_scores"
   ]
  },
  {
   "cell_type": "code",
   "execution_count": 18,
   "metadata": {},
   "outputs": [
    {
     "data": {
      "text/plain": [
       "1.0"
      ]
     },
     "execution_count": 18,
     "metadata": {},
     "output_type": "execute_result"
    }
   ],
   "source": [
    "import pandas as pd\n",
    "pd.Series([1,1,1,None]).mean()"
   ]
  },
  {
   "cell_type": "code",
   "execution_count": 19,
   "metadata": {},
   "outputs": [
    {
     "name": "stdout",
     "output_type": "stream",
     "text": [
      "g_eval_scores...\n",
      "Evaluating summary 0\n",
      "metric_name='Relevância'\n",
      "response='- Relevância: 5'\n",
      "Sleeping 1 seconds...\n",
      "metric_name='Coerência'\n",
      "response='4'\n",
      "Sleeping 1 seconds...\n",
      "metric_name='Consistência'\n",
      "response='5'\n",
      "Sleeping 1 seconds...\n",
      "metric_name='Fluência'\n",
      "response='3'\n",
      "Sleeping 1 seconds...\n",
      "score_final=4.25 scores=[5, 4, 5, 3]\n"
     ]
    }
   ],
   "source": [
    "result, score_final = g_eval_scores([response], context, llm, 1)"
   ]
  },
  {
   "cell_type": "markdown",
   "metadata": {},
   "source": [
    "# Open Router"
   ]
  },
  {
   "cell_type": "code",
   "execution_count": 20,
   "metadata": {},
   "outputs": [],
   "source": [
    "from llms.models import load_model"
   ]
  },
  {
   "cell_type": "code",
   "execution_count": 21,
   "metadata": {},
   "outputs": [
    {
     "name": "stdout",
     "output_type": "stream",
     "text": [
      "load_model...\n",
      "model_alias='gemini-2.0-flash' max_new_tokens=3000 model_data=('google', 'gemini-2.0-flash')\n",
      "Loading ChatGoogleGenerativeAI model...\n",
      "llm=ChatGoogleGenerativeAI(model='models/gemini-2.0-flash', google_api_key=SecretStr('**********'), temperature=0.0, max_output_tokens=3000, max_retries=2, timeout=10.0, client=<google.ai.generativelanguage_v1beta.services.generative_service.client.GenerativeServiceClient object at 0x0000023524CD9C50>, default_metadata=())\n",
      "hf_pipe=<llms.models.GenericHuggingFacePipeline object at 0x0000023524CC1490>\n"
     ]
    }
   ],
   "source": [
    "llm, model_name, max_new_tokens = load_model(\"gemini-2.0-flash\")"
   ]
  },
  {
   "cell_type": "code",
   "execution_count": 22,
   "metadata": {},
   "outputs": [],
   "source": [
    "# Test all models\n",
    "# for a in models_text:\n",
    "#     if models_text[a][0] in [\"local\",\"google\"]:\n",
    "#         continue\n",
    "#     print(a)\n",
    "#     llm, model_name, max_new_tokens = load_model(a)\n",
    "#     llmresult = llm.generate([\"hi\"])\n",
    "#     print(llmresult)\n",
    "#     response = llmresult.generations[0][0].text\n",
    "#     print(response)"
   ]
  }
 ],
 "metadata": {
  "kernelspec": {
   "display_name": "cu124",
   "language": "python",
   "name": "python3"
  },
  "language_info": {
   "codemirror_mode": {
    "name": "ipython",
    "version": 3
   },
   "file_extension": ".py",
   "mimetype": "text/x-python",
   "name": "python",
   "nbconvert_exporter": "python",
   "pygments_lexer": "ipython3",
   "version": "3.11.11"
  }
 },
 "nbformat": 4,
 "nbformat_minor": 2
}
